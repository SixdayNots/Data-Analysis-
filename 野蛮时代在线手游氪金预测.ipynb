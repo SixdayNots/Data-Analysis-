{
 "cells": [
  {
   "cell_type": "markdown",
   "metadata": {},
   "source": [
    "### 1. 导入数据，了解数据基本信息"
   ]
  },
  {
   "cell_type": "code",
   "execution_count": 1,
   "metadata": {},
   "outputs": [],
   "source": [
    "import pandas as pd \n",
    "import numpy as np \n",
    "import matplotlib.pyplot as plt\n",
    "%matplotlib inline\n",
    "plt.rcParams['font.sans-serif'] = ['Simhei']\n",
    "plt.rcParams['axes.unicode_minus'] = False"
   ]
  },
  {
   "cell_type": "code",
   "execution_count": 2,
   "metadata": {},
   "outputs": [
    {
     "data": {
      "text/html": [
       "<div>\n",
       "<style scoped>\n",
       "    .dataframe tbody tr th:only-of-type {\n",
       "        vertical-align: middle;\n",
       "    }\n",
       "\n",
       "    .dataframe tbody tr th {\n",
       "        vertical-align: top;\n",
       "    }\n",
       "\n",
       "    .dataframe thead th {\n",
       "        text-align: right;\n",
       "    }\n",
       "</style>\n",
       "<table border=\"1\" class=\"dataframe\">\n",
       "  <thead>\n",
       "    <tr style=\"text-align: right;\">\n",
       "      <th></th>\n",
       "      <th>user_id</th>\n",
       "      <th>register_time</th>\n",
       "      <th>wood_add_value</th>\n",
       "      <th>wood_reduce_value</th>\n",
       "      <th>stone_add_value</th>\n",
       "      <th>stone_reduce_value</th>\n",
       "      <th>ivory_add_value</th>\n",
       "      <th>ivory_reduce_value</th>\n",
       "      <th>meat_add_value</th>\n",
       "      <th>meat_reduce_value</th>\n",
       "      <th>...</th>\n",
       "      <th>pvp_battle_count</th>\n",
       "      <th>pvp_lanch_count</th>\n",
       "      <th>pvp_win_count</th>\n",
       "      <th>pve_battle_count</th>\n",
       "      <th>pve_lanch_count</th>\n",
       "      <th>pve_win_count</th>\n",
       "      <th>avg_online_minutes</th>\n",
       "      <th>pay_price</th>\n",
       "      <th>pay_count</th>\n",
       "      <th>prediction_pay_price</th>\n",
       "    </tr>\n",
       "  </thead>\n",
       "  <tbody>\n",
       "    <tr>\n",
       "      <th>0</th>\n",
       "      <td>1</td>\n",
       "      <td>2018-02-02 19:47:15</td>\n",
       "      <td>20125.0</td>\n",
       "      <td>3700.0</td>\n",
       "      <td>0.0</td>\n",
       "      <td>0.0</td>\n",
       "      <td>0.0</td>\n",
       "      <td>0.0</td>\n",
       "      <td>16375.0</td>\n",
       "      <td>2000.0</td>\n",
       "      <td>...</td>\n",
       "      <td>0</td>\n",
       "      <td>0</td>\n",
       "      <td>0</td>\n",
       "      <td>0</td>\n",
       "      <td>0</td>\n",
       "      <td>0</td>\n",
       "      <td>0.333333</td>\n",
       "      <td>0.0</td>\n",
       "      <td>0</td>\n",
       "      <td>0.0</td>\n",
       "    </tr>\n",
       "    <tr>\n",
       "      <th>1</th>\n",
       "      <td>1593</td>\n",
       "      <td>2018-01-26 00:01:05</td>\n",
       "      <td>0.0</td>\n",
       "      <td>0.0</td>\n",
       "      <td>0.0</td>\n",
       "      <td>0.0</td>\n",
       "      <td>0.0</td>\n",
       "      <td>0.0</td>\n",
       "      <td>0.0</td>\n",
       "      <td>0.0</td>\n",
       "      <td>...</td>\n",
       "      <td>0</td>\n",
       "      <td>0</td>\n",
       "      <td>0</td>\n",
       "      <td>0</td>\n",
       "      <td>0</td>\n",
       "      <td>0</td>\n",
       "      <td>0.333333</td>\n",
       "      <td>0.0</td>\n",
       "      <td>0</td>\n",
       "      <td>0.0</td>\n",
       "    </tr>\n",
       "    <tr>\n",
       "      <th>2</th>\n",
       "      <td>1594</td>\n",
       "      <td>2018-01-26 00:01:58</td>\n",
       "      <td>0.0</td>\n",
       "      <td>0.0</td>\n",
       "      <td>0.0</td>\n",
       "      <td>0.0</td>\n",
       "      <td>0.0</td>\n",
       "      <td>0.0</td>\n",
       "      <td>0.0</td>\n",
       "      <td>0.0</td>\n",
       "      <td>...</td>\n",
       "      <td>0</td>\n",
       "      <td>0</td>\n",
       "      <td>0</td>\n",
       "      <td>0</td>\n",
       "      <td>0</td>\n",
       "      <td>0</td>\n",
       "      <td>1.166667</td>\n",
       "      <td>0.0</td>\n",
       "      <td>0</td>\n",
       "      <td>0.0</td>\n",
       "    </tr>\n",
       "    <tr>\n",
       "      <th>3</th>\n",
       "      <td>1595</td>\n",
       "      <td>2018-01-26 00:02:13</td>\n",
       "      <td>0.0</td>\n",
       "      <td>0.0</td>\n",
       "      <td>0.0</td>\n",
       "      <td>0.0</td>\n",
       "      <td>0.0</td>\n",
       "      <td>0.0</td>\n",
       "      <td>0.0</td>\n",
       "      <td>0.0</td>\n",
       "      <td>...</td>\n",
       "      <td>0</td>\n",
       "      <td>0</td>\n",
       "      <td>0</td>\n",
       "      <td>0</td>\n",
       "      <td>0</td>\n",
       "      <td>0</td>\n",
       "      <td>3.166667</td>\n",
       "      <td>0.0</td>\n",
       "      <td>0</td>\n",
       "      <td>0.0</td>\n",
       "    </tr>\n",
       "    <tr>\n",
       "      <th>4</th>\n",
       "      <td>1596</td>\n",
       "      <td>2018-01-26 00:02:46</td>\n",
       "      <td>0.0</td>\n",
       "      <td>0.0</td>\n",
       "      <td>0.0</td>\n",
       "      <td>0.0</td>\n",
       "      <td>0.0</td>\n",
       "      <td>0.0</td>\n",
       "      <td>0.0</td>\n",
       "      <td>0.0</td>\n",
       "      <td>...</td>\n",
       "      <td>0</td>\n",
       "      <td>0</td>\n",
       "      <td>0</td>\n",
       "      <td>0</td>\n",
       "      <td>0</td>\n",
       "      <td>0</td>\n",
       "      <td>2.333333</td>\n",
       "      <td>0.0</td>\n",
       "      <td>0</td>\n",
       "      <td>0.0</td>\n",
       "    </tr>\n",
       "    <tr>\n",
       "      <th>...</th>\n",
       "      <td>...</td>\n",
       "      <td>...</td>\n",
       "      <td>...</td>\n",
       "      <td>...</td>\n",
       "      <td>...</td>\n",
       "      <td>...</td>\n",
       "      <td>...</td>\n",
       "      <td>...</td>\n",
       "      <td>...</td>\n",
       "      <td>...</td>\n",
       "      <td>...</td>\n",
       "      <td>...</td>\n",
       "      <td>...</td>\n",
       "      <td>...</td>\n",
       "      <td>...</td>\n",
       "      <td>...</td>\n",
       "      <td>...</td>\n",
       "      <td>...</td>\n",
       "      <td>...</td>\n",
       "      <td>...</td>\n",
       "      <td>...</td>\n",
       "    </tr>\n",
       "    <tr>\n",
       "      <th>2288002</th>\n",
       "      <td>3190526</td>\n",
       "      <td>2018-02-03 14:54:10</td>\n",
       "      <td>15500.0</td>\n",
       "      <td>3700.0</td>\n",
       "      <td>0.0</td>\n",
       "      <td>0.0</td>\n",
       "      <td>0.0</td>\n",
       "      <td>0.0</td>\n",
       "      <td>13000.0</td>\n",
       "      <td>2000.0</td>\n",
       "      <td>...</td>\n",
       "      <td>0</td>\n",
       "      <td>0</td>\n",
       "      <td>0</td>\n",
       "      <td>0</td>\n",
       "      <td>0</td>\n",
       "      <td>0</td>\n",
       "      <td>0.500000</td>\n",
       "      <td>0.0</td>\n",
       "      <td>0</td>\n",
       "      <td>0.0</td>\n",
       "    </tr>\n",
       "    <tr>\n",
       "      <th>2288003</th>\n",
       "      <td>3190527</td>\n",
       "      <td>2018-02-03 14:55:21</td>\n",
       "      <td>10000.0</td>\n",
       "      <td>0.0</td>\n",
       "      <td>0.0</td>\n",
       "      <td>0.0</td>\n",
       "      <td>0.0</td>\n",
       "      <td>0.0</td>\n",
       "      <td>10000.0</td>\n",
       "      <td>0.0</td>\n",
       "      <td>...</td>\n",
       "      <td>0</td>\n",
       "      <td>0</td>\n",
       "      <td>0</td>\n",
       "      <td>0</td>\n",
       "      <td>0</td>\n",
       "      <td>0</td>\n",
       "      <td>0.833333</td>\n",
       "      <td>0.0</td>\n",
       "      <td>0</td>\n",
       "      <td>0.0</td>\n",
       "    </tr>\n",
       "    <tr>\n",
       "      <th>2288004</th>\n",
       "      <td>3190528</td>\n",
       "      <td>2018-02-03 14:56:35</td>\n",
       "      <td>131589.0</td>\n",
       "      <td>71287.0</td>\n",
       "      <td>0.0</td>\n",
       "      <td>0.0</td>\n",
       "      <td>6000.0</td>\n",
       "      <td>0.0</td>\n",
       "      <td>249356.0</td>\n",
       "      <td>39524.0</td>\n",
       "      <td>...</td>\n",
       "      <td>0</td>\n",
       "      <td>0</td>\n",
       "      <td>0</td>\n",
       "      <td>2</td>\n",
       "      <td>2</td>\n",
       "      <td>2</td>\n",
       "      <td>4.333333</td>\n",
       "      <td>0.0</td>\n",
       "      <td>0</td>\n",
       "      <td>0.0</td>\n",
       "    </tr>\n",
       "    <tr>\n",
       "      <th>2288005</th>\n",
       "      <td>3190529</td>\n",
       "      <td>2018-02-03 14:57:51</td>\n",
       "      <td>221984.0</td>\n",
       "      <td>122401.0</td>\n",
       "      <td>0.0</td>\n",
       "      <td>0.0</td>\n",
       "      <td>0.0</td>\n",
       "      <td>0.0</td>\n",
       "      <td>208184.0</td>\n",
       "      <td>74738.0</td>\n",
       "      <td>...</td>\n",
       "      <td>0</td>\n",
       "      <td>0</td>\n",
       "      <td>0</td>\n",
       "      <td>1</td>\n",
       "      <td>1</td>\n",
       "      <td>1</td>\n",
       "      <td>2.833333</td>\n",
       "      <td>0.0</td>\n",
       "      <td>0</td>\n",
       "      <td>0.0</td>\n",
       "    </tr>\n",
       "    <tr>\n",
       "      <th>2288006</th>\n",
       "      <td>3190530</td>\n",
       "      <td>2018-02-03 14:58:45</td>\n",
       "      <td>15500.0</td>\n",
       "      <td>3700.0</td>\n",
       "      <td>0.0</td>\n",
       "      <td>0.0</td>\n",
       "      <td>0.0</td>\n",
       "      <td>0.0</td>\n",
       "      <td>13000.0</td>\n",
       "      <td>2000.0</td>\n",
       "      <td>...</td>\n",
       "      <td>0</td>\n",
       "      <td>0</td>\n",
       "      <td>0</td>\n",
       "      <td>0</td>\n",
       "      <td>0</td>\n",
       "      <td>0</td>\n",
       "      <td>0.666667</td>\n",
       "      <td>0.0</td>\n",
       "      <td>0</td>\n",
       "      <td>0.0</td>\n",
       "    </tr>\n",
       "  </tbody>\n",
       "</table>\n",
       "<p>2288007 rows × 109 columns</p>\n",
       "</div>"
      ],
      "text/plain": [
       "         user_id        register_time  wood_add_value  wood_reduce_value  \\\n",
       "0              1  2018-02-02 19:47:15         20125.0             3700.0   \n",
       "1           1593  2018-01-26 00:01:05             0.0                0.0   \n",
       "2           1594  2018-01-26 00:01:58             0.0                0.0   \n",
       "3           1595  2018-01-26 00:02:13             0.0                0.0   \n",
       "4           1596  2018-01-26 00:02:46             0.0                0.0   \n",
       "...          ...                  ...             ...                ...   \n",
       "2288002  3190526  2018-02-03 14:54:10         15500.0             3700.0   \n",
       "2288003  3190527  2018-02-03 14:55:21         10000.0                0.0   \n",
       "2288004  3190528  2018-02-03 14:56:35        131589.0            71287.0   \n",
       "2288005  3190529  2018-02-03 14:57:51        221984.0           122401.0   \n",
       "2288006  3190530  2018-02-03 14:58:45         15500.0             3700.0   \n",
       "\n",
       "         stone_add_value  stone_reduce_value  ivory_add_value  \\\n",
       "0                    0.0                 0.0              0.0   \n",
       "1                    0.0                 0.0              0.0   \n",
       "2                    0.0                 0.0              0.0   \n",
       "3                    0.0                 0.0              0.0   \n",
       "4                    0.0                 0.0              0.0   \n",
       "...                  ...                 ...              ...   \n",
       "2288002              0.0                 0.0              0.0   \n",
       "2288003              0.0                 0.0              0.0   \n",
       "2288004              0.0                 0.0           6000.0   \n",
       "2288005              0.0                 0.0              0.0   \n",
       "2288006              0.0                 0.0              0.0   \n",
       "\n",
       "         ivory_reduce_value  meat_add_value  meat_reduce_value  ...  \\\n",
       "0                       0.0         16375.0             2000.0  ...   \n",
       "1                       0.0             0.0                0.0  ...   \n",
       "2                       0.0             0.0                0.0  ...   \n",
       "3                       0.0             0.0                0.0  ...   \n",
       "4                       0.0             0.0                0.0  ...   \n",
       "...                     ...             ...                ...  ...   \n",
       "2288002                 0.0         13000.0             2000.0  ...   \n",
       "2288003                 0.0         10000.0                0.0  ...   \n",
       "2288004                 0.0        249356.0            39524.0  ...   \n",
       "2288005                 0.0        208184.0            74738.0  ...   \n",
       "2288006                 0.0         13000.0             2000.0  ...   \n",
       "\n",
       "         pvp_battle_count  pvp_lanch_count  pvp_win_count  pve_battle_count  \\\n",
       "0                       0                0              0                 0   \n",
       "1                       0                0              0                 0   \n",
       "2                       0                0              0                 0   \n",
       "3                       0                0              0                 0   \n",
       "4                       0                0              0                 0   \n",
       "...                   ...              ...            ...               ...   \n",
       "2288002                 0                0              0                 0   \n",
       "2288003                 0                0              0                 0   \n",
       "2288004                 0                0              0                 2   \n",
       "2288005                 0                0              0                 1   \n",
       "2288006                 0                0              0                 0   \n",
       "\n",
       "         pve_lanch_count  pve_win_count  avg_online_minutes  pay_price  \\\n",
       "0                      0              0            0.333333        0.0   \n",
       "1                      0              0            0.333333        0.0   \n",
       "2                      0              0            1.166667        0.0   \n",
       "3                      0              0            3.166667        0.0   \n",
       "4                      0              0            2.333333        0.0   \n",
       "...                  ...            ...                 ...        ...   \n",
       "2288002                0              0            0.500000        0.0   \n",
       "2288003                0              0            0.833333        0.0   \n",
       "2288004                2              2            4.333333        0.0   \n",
       "2288005                1              1            2.833333        0.0   \n",
       "2288006                0              0            0.666667        0.0   \n",
       "\n",
       "         pay_count  prediction_pay_price  \n",
       "0                0                   0.0  \n",
       "1                0                   0.0  \n",
       "2                0                   0.0  \n",
       "3                0                   0.0  \n",
       "4                0                   0.0  \n",
       "...            ...                   ...  \n",
       "2288002          0                   0.0  \n",
       "2288003          0                   0.0  \n",
       "2288004          0                   0.0  \n",
       "2288005          0                   0.0  \n",
       "2288006          0                   0.0  \n",
       "\n",
       "[2288007 rows x 109 columns]"
      ]
     },
     "execution_count": 2,
     "metadata": {},
     "output_type": "execute_result"
    }
   ],
   "source": [
    "data = pd.read_csv(r\"数据/tap_fun_train.csv\")\n",
    "data"
   ]
  },
  {
   "cell_type": "code",
   "execution_count": 3,
   "metadata": {},
   "outputs": [
    {
     "data": {
      "text/plain": [
       "(2288007, 109)"
      ]
     },
     "execution_count": 3,
     "metadata": {},
     "output_type": "execute_result"
    }
   ],
   "source": [
    "data.shape"
   ]
  },
  {
   "cell_type": "code",
   "execution_count": 4,
   "metadata": {},
   "outputs": [
    {
     "data": {
      "text/plain": [
       "Index(['user_id', 'register_time', 'wood_add_value', 'wood_reduce_value',\n",
       "       'stone_add_value', 'stone_reduce_value', 'ivory_add_value',\n",
       "       'ivory_reduce_value', 'meat_add_value', 'meat_reduce_value',\n",
       "       ...\n",
       "       'pvp_battle_count', 'pvp_lanch_count', 'pvp_win_count',\n",
       "       'pve_battle_count', 'pve_lanch_count', 'pve_win_count',\n",
       "       'avg_online_minutes', 'pay_price', 'pay_count', 'prediction_pay_price'],\n",
       "      dtype='object', length=109)"
      ]
     },
     "execution_count": 4,
     "metadata": {},
     "output_type": "execute_result"
    }
   ],
   "source": [
    "data.columns"
   ]
  },
  {
   "cell_type": "markdown",
   "metadata": {},
   "source": [
    "思考：109个特征中，第一列为玩家ID，最后一列为target（45日付费金额）,实际可用特征为107个\n",
    "数据样本达到200+w个，在个人电脑上运行会非常的慢，后续benchmark的建立首先考虑简单快速的模型"
   ]
  },
  {
   "cell_type": "code",
   "execution_count": 5,
   "metadata": {},
   "outputs": [
    {
     "data": {
      "text/html": [
       "<div>\n",
       "<style scoped>\n",
       "    .dataframe tbody tr th:only-of-type {\n",
       "        vertical-align: middle;\n",
       "    }\n",
       "\n",
       "    .dataframe tbody tr th {\n",
       "        vertical-align: top;\n",
       "    }\n",
       "\n",
       "    .dataframe thead th {\n",
       "        text-align: right;\n",
       "    }\n",
       "</style>\n",
       "<table border=\"1\" class=\"dataframe\">\n",
       "  <thead>\n",
       "    <tr style=\"text-align: right;\">\n",
       "      <th></th>\n",
       "      <th>字段名</th>\n",
       "      <th>字段解释</th>\n",
       "      <th>数据时间</th>\n",
       "      <th>变量性质</th>\n",
       "    </tr>\n",
       "  </thead>\n",
       "  <tbody>\n",
       "    <tr>\n",
       "      <th>0</th>\n",
       "      <td>user_id</td>\n",
       "      <td>玩家唯一ID</td>\n",
       "      <td>永久</td>\n",
       "      <td>ID</td>\n",
       "    </tr>\n",
       "    <tr>\n",
       "      <th>1</th>\n",
       "      <td>register_time</td>\n",
       "      <td>玩家注册时间</td>\n",
       "      <td>永久</td>\n",
       "      <td>自变量</td>\n",
       "    </tr>\n",
       "    <tr>\n",
       "      <th>2</th>\n",
       "      <td>wood_add_value</td>\n",
       "      <td>木头获取数量</td>\n",
       "      <td>前七日</td>\n",
       "      <td>自变量</td>\n",
       "    </tr>\n",
       "    <tr>\n",
       "      <th>3</th>\n",
       "      <td>wood_reduce_value</td>\n",
       "      <td>木头消耗数量</td>\n",
       "      <td>前七日</td>\n",
       "      <td>自变量</td>\n",
       "    </tr>\n",
       "    <tr>\n",
       "      <th>4</th>\n",
       "      <td>stone_add_value</td>\n",
       "      <td>石头获取数量</td>\n",
       "      <td>前七日</td>\n",
       "      <td>自变量</td>\n",
       "    </tr>\n",
       "    <tr>\n",
       "      <th>...</th>\n",
       "      <td>...</td>\n",
       "      <td>...</td>\n",
       "      <td>...</td>\n",
       "      <td>...</td>\n",
       "    </tr>\n",
       "    <tr>\n",
       "      <th>104</th>\n",
       "      <td>pve_win_count</td>\n",
       "      <td>PVE胜利次数</td>\n",
       "      <td>前七日</td>\n",
       "      <td>自变量</td>\n",
       "    </tr>\n",
       "    <tr>\n",
       "      <th>105</th>\n",
       "      <td>avg_online_minutes</td>\n",
       "      <td>在线时长</td>\n",
       "      <td>前七日</td>\n",
       "      <td>自变量</td>\n",
       "    </tr>\n",
       "    <tr>\n",
       "      <th>106</th>\n",
       "      <td>pay_price</td>\n",
       "      <td>付费金额</td>\n",
       "      <td>前七日</td>\n",
       "      <td>自变量</td>\n",
       "    </tr>\n",
       "    <tr>\n",
       "      <th>107</th>\n",
       "      <td>pay_count</td>\n",
       "      <td>付费次数</td>\n",
       "      <td>前七日</td>\n",
       "      <td>自变量</td>\n",
       "    </tr>\n",
       "    <tr>\n",
       "      <th>108</th>\n",
       "      <td>prediction_pay_price</td>\n",
       "      <td>45日付费金额</td>\n",
       "      <td>前45日</td>\n",
       "      <td>因变量</td>\n",
       "    </tr>\n",
       "  </tbody>\n",
       "</table>\n",
       "<p>109 rows × 4 columns</p>\n",
       "</div>"
      ],
      "text/plain": [
       "                      字段名     字段解释  数据时间 变量性质\n",
       "0                 user_id   玩家唯一ID    永久   ID\n",
       "1           register_time   玩家注册时间    永久  自变量\n",
       "2          wood_add_value   木头获取数量   前七日  自变量\n",
       "3       wood_reduce_value   木头消耗数量   前七日  自变量\n",
       "4         stone_add_value   石头获取数量   前七日  自变量\n",
       "..                    ...      ...   ...  ...\n",
       "104         pve_win_count  PVE胜利次数   前七日  自变量\n",
       "105    avg_online_minutes     在线时长   前七日  自变量\n",
       "106             pay_price     付费金额   前七日  自变量\n",
       "107             pay_count     付费次数   前七日  自变量\n",
       "108  prediction_pay_price  45日付费金额  前45日  因变量\n",
       "\n",
       "[109 rows x 4 columns]"
      ]
     },
     "execution_count": 5,
     "metadata": {},
     "output_type": "execute_result"
    }
   ],
   "source": [
    "column_name = pd.read_excel(r\"数据/tap4fun数据字段解释.xlsx\")\n",
    "column_name"
   ]
  },
  {
   "cell_type": "code",
   "execution_count": 6,
   "metadata": {},
   "outputs": [
    {
     "data": {
      "text/html": [
       "<div>\n",
       "<style scoped>\n",
       "    .dataframe tbody tr th:only-of-type {\n",
       "        vertical-align: middle;\n",
       "    }\n",
       "\n",
       "    .dataframe tbody tr th {\n",
       "        vertical-align: top;\n",
       "    }\n",
       "\n",
       "    .dataframe thead th {\n",
       "        text-align: right;\n",
       "    }\n",
       "</style>\n",
       "<table border=\"1\" class=\"dataframe\">\n",
       "  <thead>\n",
       "    <tr style=\"text-align: right;\">\n",
       "      <th>字段解释</th>\n",
       "      <th>玩家唯一ID</th>\n",
       "      <th>玩家注册时间</th>\n",
       "      <th>木头获取数量</th>\n",
       "      <th>木头消耗数量</th>\n",
       "      <th>石头获取数量</th>\n",
       "      <th>石头消耗数量</th>\n",
       "      <th>象牙获取数量</th>\n",
       "      <th>象牙消耗数量</th>\n",
       "      <th>肉获取数量</th>\n",
       "      <th>肉消耗数量</th>\n",
       "      <th>...</th>\n",
       "      <th>PVP次数</th>\n",
       "      <th>主动发起PVP次数</th>\n",
       "      <th>PVP胜利次数</th>\n",
       "      <th>PVE次数</th>\n",
       "      <th>主动发起PVE次数</th>\n",
       "      <th>PVE胜利次数</th>\n",
       "      <th>在线时长</th>\n",
       "      <th>付费金额</th>\n",
       "      <th>付费次数</th>\n",
       "      <th>45日付费金额</th>\n",
       "    </tr>\n",
       "  </thead>\n",
       "  <tbody>\n",
       "    <tr>\n",
       "      <th>0</th>\n",
       "      <td>1</td>\n",
       "      <td>2018-02-02 19:47:15</td>\n",
       "      <td>20125.0</td>\n",
       "      <td>3700.0</td>\n",
       "      <td>0.0</td>\n",
       "      <td>0.0</td>\n",
       "      <td>0.0</td>\n",
       "      <td>0.0</td>\n",
       "      <td>16375.0</td>\n",
       "      <td>2000.0</td>\n",
       "      <td>...</td>\n",
       "      <td>0</td>\n",
       "      <td>0</td>\n",
       "      <td>0</td>\n",
       "      <td>0</td>\n",
       "      <td>0</td>\n",
       "      <td>0</td>\n",
       "      <td>0.333333</td>\n",
       "      <td>0.0</td>\n",
       "      <td>0</td>\n",
       "      <td>0.0</td>\n",
       "    </tr>\n",
       "    <tr>\n",
       "      <th>1</th>\n",
       "      <td>1593</td>\n",
       "      <td>2018-01-26 00:01:05</td>\n",
       "      <td>0.0</td>\n",
       "      <td>0.0</td>\n",
       "      <td>0.0</td>\n",
       "      <td>0.0</td>\n",
       "      <td>0.0</td>\n",
       "      <td>0.0</td>\n",
       "      <td>0.0</td>\n",
       "      <td>0.0</td>\n",
       "      <td>...</td>\n",
       "      <td>0</td>\n",
       "      <td>0</td>\n",
       "      <td>0</td>\n",
       "      <td>0</td>\n",
       "      <td>0</td>\n",
       "      <td>0</td>\n",
       "      <td>0.333333</td>\n",
       "      <td>0.0</td>\n",
       "      <td>0</td>\n",
       "      <td>0.0</td>\n",
       "    </tr>\n",
       "    <tr>\n",
       "      <th>2</th>\n",
       "      <td>1594</td>\n",
       "      <td>2018-01-26 00:01:58</td>\n",
       "      <td>0.0</td>\n",
       "      <td>0.0</td>\n",
       "      <td>0.0</td>\n",
       "      <td>0.0</td>\n",
       "      <td>0.0</td>\n",
       "      <td>0.0</td>\n",
       "      <td>0.0</td>\n",
       "      <td>0.0</td>\n",
       "      <td>...</td>\n",
       "      <td>0</td>\n",
       "      <td>0</td>\n",
       "      <td>0</td>\n",
       "      <td>0</td>\n",
       "      <td>0</td>\n",
       "      <td>0</td>\n",
       "      <td>1.166667</td>\n",
       "      <td>0.0</td>\n",
       "      <td>0</td>\n",
       "      <td>0.0</td>\n",
       "    </tr>\n",
       "    <tr>\n",
       "      <th>3</th>\n",
       "      <td>1595</td>\n",
       "      <td>2018-01-26 00:02:13</td>\n",
       "      <td>0.0</td>\n",
       "      <td>0.0</td>\n",
       "      <td>0.0</td>\n",
       "      <td>0.0</td>\n",
       "      <td>0.0</td>\n",
       "      <td>0.0</td>\n",
       "      <td>0.0</td>\n",
       "      <td>0.0</td>\n",
       "      <td>...</td>\n",
       "      <td>0</td>\n",
       "      <td>0</td>\n",
       "      <td>0</td>\n",
       "      <td>0</td>\n",
       "      <td>0</td>\n",
       "      <td>0</td>\n",
       "      <td>3.166667</td>\n",
       "      <td>0.0</td>\n",
       "      <td>0</td>\n",
       "      <td>0.0</td>\n",
       "    </tr>\n",
       "    <tr>\n",
       "      <th>4</th>\n",
       "      <td>1596</td>\n",
       "      <td>2018-01-26 00:02:46</td>\n",
       "      <td>0.0</td>\n",
       "      <td>0.0</td>\n",
       "      <td>0.0</td>\n",
       "      <td>0.0</td>\n",
       "      <td>0.0</td>\n",
       "      <td>0.0</td>\n",
       "      <td>0.0</td>\n",
       "      <td>0.0</td>\n",
       "      <td>...</td>\n",
       "      <td>0</td>\n",
       "      <td>0</td>\n",
       "      <td>0</td>\n",
       "      <td>0</td>\n",
       "      <td>0</td>\n",
       "      <td>0</td>\n",
       "      <td>2.333333</td>\n",
       "      <td>0.0</td>\n",
       "      <td>0</td>\n",
       "      <td>0.0</td>\n",
       "    </tr>\n",
       "    <tr>\n",
       "      <th>...</th>\n",
       "      <td>...</td>\n",
       "      <td>...</td>\n",
       "      <td>...</td>\n",
       "      <td>...</td>\n",
       "      <td>...</td>\n",
       "      <td>...</td>\n",
       "      <td>...</td>\n",
       "      <td>...</td>\n",
       "      <td>...</td>\n",
       "      <td>...</td>\n",
       "      <td>...</td>\n",
       "      <td>...</td>\n",
       "      <td>...</td>\n",
       "      <td>...</td>\n",
       "      <td>...</td>\n",
       "      <td>...</td>\n",
       "      <td>...</td>\n",
       "      <td>...</td>\n",
       "      <td>...</td>\n",
       "      <td>...</td>\n",
       "      <td>...</td>\n",
       "    </tr>\n",
       "    <tr>\n",
       "      <th>2288002</th>\n",
       "      <td>3190526</td>\n",
       "      <td>2018-02-03 14:54:10</td>\n",
       "      <td>15500.0</td>\n",
       "      <td>3700.0</td>\n",
       "      <td>0.0</td>\n",
       "      <td>0.0</td>\n",
       "      <td>0.0</td>\n",
       "      <td>0.0</td>\n",
       "      <td>13000.0</td>\n",
       "      <td>2000.0</td>\n",
       "      <td>...</td>\n",
       "      <td>0</td>\n",
       "      <td>0</td>\n",
       "      <td>0</td>\n",
       "      <td>0</td>\n",
       "      <td>0</td>\n",
       "      <td>0</td>\n",
       "      <td>0.500000</td>\n",
       "      <td>0.0</td>\n",
       "      <td>0</td>\n",
       "      <td>0.0</td>\n",
       "    </tr>\n",
       "    <tr>\n",
       "      <th>2288003</th>\n",
       "      <td>3190527</td>\n",
       "      <td>2018-02-03 14:55:21</td>\n",
       "      <td>10000.0</td>\n",
       "      <td>0.0</td>\n",
       "      <td>0.0</td>\n",
       "      <td>0.0</td>\n",
       "      <td>0.0</td>\n",
       "      <td>0.0</td>\n",
       "      <td>10000.0</td>\n",
       "      <td>0.0</td>\n",
       "      <td>...</td>\n",
       "      <td>0</td>\n",
       "      <td>0</td>\n",
       "      <td>0</td>\n",
       "      <td>0</td>\n",
       "      <td>0</td>\n",
       "      <td>0</td>\n",
       "      <td>0.833333</td>\n",
       "      <td>0.0</td>\n",
       "      <td>0</td>\n",
       "      <td>0.0</td>\n",
       "    </tr>\n",
       "    <tr>\n",
       "      <th>2288004</th>\n",
       "      <td>3190528</td>\n",
       "      <td>2018-02-03 14:56:35</td>\n",
       "      <td>131589.0</td>\n",
       "      <td>71287.0</td>\n",
       "      <td>0.0</td>\n",
       "      <td>0.0</td>\n",
       "      <td>6000.0</td>\n",
       "      <td>0.0</td>\n",
       "      <td>249356.0</td>\n",
       "      <td>39524.0</td>\n",
       "      <td>...</td>\n",
       "      <td>0</td>\n",
       "      <td>0</td>\n",
       "      <td>0</td>\n",
       "      <td>2</td>\n",
       "      <td>2</td>\n",
       "      <td>2</td>\n",
       "      <td>4.333333</td>\n",
       "      <td>0.0</td>\n",
       "      <td>0</td>\n",
       "      <td>0.0</td>\n",
       "    </tr>\n",
       "    <tr>\n",
       "      <th>2288005</th>\n",
       "      <td>3190529</td>\n",
       "      <td>2018-02-03 14:57:51</td>\n",
       "      <td>221984.0</td>\n",
       "      <td>122401.0</td>\n",
       "      <td>0.0</td>\n",
       "      <td>0.0</td>\n",
       "      <td>0.0</td>\n",
       "      <td>0.0</td>\n",
       "      <td>208184.0</td>\n",
       "      <td>74738.0</td>\n",
       "      <td>...</td>\n",
       "      <td>0</td>\n",
       "      <td>0</td>\n",
       "      <td>0</td>\n",
       "      <td>1</td>\n",
       "      <td>1</td>\n",
       "      <td>1</td>\n",
       "      <td>2.833333</td>\n",
       "      <td>0.0</td>\n",
       "      <td>0</td>\n",
       "      <td>0.0</td>\n",
       "    </tr>\n",
       "    <tr>\n",
       "      <th>2288006</th>\n",
       "      <td>3190530</td>\n",
       "      <td>2018-02-03 14:58:45</td>\n",
       "      <td>15500.0</td>\n",
       "      <td>3700.0</td>\n",
       "      <td>0.0</td>\n",
       "      <td>0.0</td>\n",
       "      <td>0.0</td>\n",
       "      <td>0.0</td>\n",
       "      <td>13000.0</td>\n",
       "      <td>2000.0</td>\n",
       "      <td>...</td>\n",
       "      <td>0</td>\n",
       "      <td>0</td>\n",
       "      <td>0</td>\n",
       "      <td>0</td>\n",
       "      <td>0</td>\n",
       "      <td>0</td>\n",
       "      <td>0.666667</td>\n",
       "      <td>0.0</td>\n",
       "      <td>0</td>\n",
       "      <td>0.0</td>\n",
       "    </tr>\n",
       "  </tbody>\n",
       "</table>\n",
       "<p>2288007 rows × 109 columns</p>\n",
       "</div>"
      ],
      "text/plain": [
       "字段解释      玩家唯一ID               玩家注册时间    木头获取数量    木头消耗数量  石头获取数量  石头消耗数量  \\\n",
       "0              1  2018-02-02 19:47:15   20125.0    3700.0     0.0     0.0   \n",
       "1           1593  2018-01-26 00:01:05       0.0       0.0     0.0     0.0   \n",
       "2           1594  2018-01-26 00:01:58       0.0       0.0     0.0     0.0   \n",
       "3           1595  2018-01-26 00:02:13       0.0       0.0     0.0     0.0   \n",
       "4           1596  2018-01-26 00:02:46       0.0       0.0     0.0     0.0   \n",
       "...          ...                  ...       ...       ...     ...     ...   \n",
       "2288002  3190526  2018-02-03 14:54:10   15500.0    3700.0     0.0     0.0   \n",
       "2288003  3190527  2018-02-03 14:55:21   10000.0       0.0     0.0     0.0   \n",
       "2288004  3190528  2018-02-03 14:56:35  131589.0   71287.0     0.0     0.0   \n",
       "2288005  3190529  2018-02-03 14:57:51  221984.0  122401.0     0.0     0.0   \n",
       "2288006  3190530  2018-02-03 14:58:45   15500.0    3700.0     0.0     0.0   \n",
       "\n",
       "字段解释     象牙获取数量  象牙消耗数量     肉获取数量    肉消耗数量  ...  PVP次数  主动发起PVP次数  PVP胜利次数  \\\n",
       "0           0.0     0.0   16375.0   2000.0  ...      0          0        0   \n",
       "1           0.0     0.0       0.0      0.0  ...      0          0        0   \n",
       "2           0.0     0.0       0.0      0.0  ...      0          0        0   \n",
       "3           0.0     0.0       0.0      0.0  ...      0          0        0   \n",
       "4           0.0     0.0       0.0      0.0  ...      0          0        0   \n",
       "...         ...     ...       ...      ...  ...    ...        ...      ...   \n",
       "2288002     0.0     0.0   13000.0   2000.0  ...      0          0        0   \n",
       "2288003     0.0     0.0   10000.0      0.0  ...      0          0        0   \n",
       "2288004  6000.0     0.0  249356.0  39524.0  ...      0          0        0   \n",
       "2288005     0.0     0.0  208184.0  74738.0  ...      0          0        0   \n",
       "2288006     0.0     0.0   13000.0   2000.0  ...      0          0        0   \n",
       "\n",
       "字段解释     PVE次数  主动发起PVE次数  PVE胜利次数      在线时长  付费金额  付费次数  45日付费金额  \n",
       "0            0          0        0  0.333333   0.0     0      0.0  \n",
       "1            0          0        0  0.333333   0.0     0      0.0  \n",
       "2            0          0        0  1.166667   0.0     0      0.0  \n",
       "3            0          0        0  3.166667   0.0     0      0.0  \n",
       "4            0          0        0  2.333333   0.0     0      0.0  \n",
       "...        ...        ...      ...       ...   ...   ...      ...  \n",
       "2288002      0          0        0  0.500000   0.0     0      0.0  \n",
       "2288003      0          0        0  0.833333   0.0     0      0.0  \n",
       "2288004      2          2        2  4.333333   0.0     0      0.0  \n",
       "2288005      1          1        1  2.833333   0.0     0      0.0  \n",
       "2288006      0          0        0  0.666667   0.0     0      0.0  \n",
       "\n",
       "[2288007 rows x 109 columns]"
      ]
     },
     "execution_count": 6,
     "metadata": {},
     "output_type": "execute_result"
    }
   ],
   "source": [
    "data.columns = column_name['字段解释']\n",
    "data"
   ]
  },
  {
   "cell_type": "markdown",
   "metadata": {},
   "source": [
    "#### 理解SLG游戏数据特征的含义\n",
    "SLG全称Stimulation Game，译为模拟经营类/策略类游戏。在这类游戏中，玩家在开局时通常会被给与一个“大地图”，这个“大地图”可能是一片大陆/一个国家/一块土地，你需要在游戏剧情的引导下，在大地图的某处构建建筑群形成自己的“内城”，以满足游戏中商业/战争/剧情或其他需求。同类型的竞品游戏包括——\n",
    "\n",
    "- 在游乐园经营游戏《过山车大亨》中，玩家被给与一片空地建立游乐园，并在这片空地上建造各类娱乐设施来提升游乐园的收入；<br>\n",
    "- 在《江南白景图》、《心悦海岛ParadiseBay》中，玩家需要建造城市、生产资源，来满足商业和发展的需求，大地图则包含多个城市。<br>\n",
    "- 在《率土之滨》、《三国志战略版》这些游戏中，玩家需要在大陆上争夺土地，建造城池和防御工事，来满足游戏中战争和扩大领域的需求。<br>\n",
    "\n",
    "（客栈经营、店铺经营也属于类似的游戏，但基本版面较小、游戏复杂度较低，同时，允许玩家创造人物、并在一个开放世界中进行探索的游戏，基本都是RPG类游戏，如《原神》）。\n",
    "\n",
    "在本案例中，我们分析的游戏《野蛮时代》正是需要争夺土地、建造城池和防御工事的类型。\n",
    "\n",
    "在这类游戏的流程中，在内城（自己的小城市），玩家需要根据所在的环境去采集资源、积攒人力，然后消耗低级的资源生产高级资源、建立起城池、守好城市，同时还需要吸引/培养各种人力资源、给人力的技能升级、给建筑的技能升级等。其中，建造建筑、升级人物技能等级行为不仅**要消耗资源**，还要需要**花费时间**，如果不想等待，就必须使用能够加速时间的道具。在外围（大地图），玩家可以抢夺其他玩家的城市、资源和土地，并不断扩大自己的土地。"
   ]
  },
  {
   "cell_type": "code",
   "execution_count": 9,
   "metadata": {},
   "outputs": [],
   "source": [
    "pd.set_option(\"display.max_rows\",120)"
   ]
  },
  {
   "cell_type": "code",
   "execution_count": 12,
   "metadata": {},
   "outputs": [
    {
     "data": {
      "text/html": [
       "<div>\n",
       "<style scoped>\n",
       "    .dataframe tbody tr th:only-of-type {\n",
       "        vertical-align: middle;\n",
       "    }\n",
       "\n",
       "    .dataframe tbody tr th {\n",
       "        vertical-align: top;\n",
       "    }\n",
       "\n",
       "    .dataframe thead th {\n",
       "        text-align: right;\n",
       "    }\n",
       "</style>\n",
       "<table border=\"1\" class=\"dataframe\">\n",
       "  <thead>\n",
       "    <tr style=\"text-align: right;\">\n",
       "      <th></th>\n",
       "      <th>字段解释</th>\n",
       "    </tr>\n",
       "  </thead>\n",
       "  <tbody>\n",
       "    <tr>\n",
       "      <th>0</th>\n",
       "      <td>玩家唯一ID</td>\n",
       "    </tr>\n",
       "    <tr>\n",
       "      <th>1</th>\n",
       "      <td>玩家注册时间</td>\n",
       "    </tr>\n",
       "    <tr>\n",
       "      <th>2</th>\n",
       "      <td>木头获取数量</td>\n",
       "    </tr>\n",
       "    <tr>\n",
       "      <th>3</th>\n",
       "      <td>木头消耗数量</td>\n",
       "    </tr>\n",
       "    <tr>\n",
       "      <th>4</th>\n",
       "      <td>石头获取数量</td>\n",
       "    </tr>\n",
       "    <tr>\n",
       "      <th>5</th>\n",
       "      <td>石头消耗数量</td>\n",
       "    </tr>\n",
       "    <tr>\n",
       "      <th>6</th>\n",
       "      <td>象牙获取数量</td>\n",
       "    </tr>\n",
       "    <tr>\n",
       "      <th>7</th>\n",
       "      <td>象牙消耗数量</td>\n",
       "    </tr>\n",
       "    <tr>\n",
       "      <th>8</th>\n",
       "      <td>肉获取数量</td>\n",
       "    </tr>\n",
       "    <tr>\n",
       "      <th>9</th>\n",
       "      <td>肉消耗数量</td>\n",
       "    </tr>\n",
       "    <tr>\n",
       "      <th>10</th>\n",
       "      <td>魔法获取数量</td>\n",
       "    </tr>\n",
       "    <tr>\n",
       "      <th>11</th>\n",
       "      <td>魔法消耗数量</td>\n",
       "    </tr>\n",
       "    <tr>\n",
       "      <th>12</th>\n",
       "      <td>勇士招募数量</td>\n",
       "    </tr>\n",
       "    <tr>\n",
       "      <th>13</th>\n",
       "      <td>勇士损失数量</td>\n",
       "    </tr>\n",
       "    <tr>\n",
       "      <th>14</th>\n",
       "      <td>驯兽师招募数量</td>\n",
       "    </tr>\n",
       "    <tr>\n",
       "      <th>15</th>\n",
       "      <td>驯兽师损失数量</td>\n",
       "    </tr>\n",
       "    <tr>\n",
       "      <th>16</th>\n",
       "      <td>萨满招募数量</td>\n",
       "    </tr>\n",
       "    <tr>\n",
       "      <th>17</th>\n",
       "      <td>萨满损失数量</td>\n",
       "    </tr>\n",
       "    <tr>\n",
       "      <th>18</th>\n",
       "      <td>勇士伤兵产生数量</td>\n",
       "    </tr>\n",
       "    <tr>\n",
       "      <th>19</th>\n",
       "      <td>勇士伤兵恢复数量</td>\n",
       "    </tr>\n",
       "    <tr>\n",
       "      <th>20</th>\n",
       "      <td>驯兽师伤兵产生数量</td>\n",
       "    </tr>\n",
       "    <tr>\n",
       "      <th>21</th>\n",
       "      <td>驯兽师伤兵恢复数量</td>\n",
       "    </tr>\n",
       "    <tr>\n",
       "      <th>22</th>\n",
       "      <td>萨满伤兵产生数量</td>\n",
       "    </tr>\n",
       "    <tr>\n",
       "      <th>23</th>\n",
       "      <td>萨满伤兵恢复数量</td>\n",
       "    </tr>\n",
       "    <tr>\n",
       "      <th>24</th>\n",
       "      <td>通用加速获取数量</td>\n",
       "    </tr>\n",
       "    <tr>\n",
       "      <th>25</th>\n",
       "      <td>通用加速使用数量</td>\n",
       "    </tr>\n",
       "    <tr>\n",
       "      <th>26</th>\n",
       "      <td>建筑加速获取数量</td>\n",
       "    </tr>\n",
       "    <tr>\n",
       "      <th>27</th>\n",
       "      <td>建筑加速使用数量</td>\n",
       "    </tr>\n",
       "    <tr>\n",
       "      <th>28</th>\n",
       "      <td>科研加速获取数量</td>\n",
       "    </tr>\n",
       "    <tr>\n",
       "      <th>29</th>\n",
       "      <td>科研加速使用数量</td>\n",
       "    </tr>\n",
       "    <tr>\n",
       "      <th>30</th>\n",
       "      <td>训练加速获取数量</td>\n",
       "    </tr>\n",
       "    <tr>\n",
       "      <th>31</th>\n",
       "      <td>训练加速使用数量</td>\n",
       "    </tr>\n",
       "    <tr>\n",
       "      <th>32</th>\n",
       "      <td>治疗加速获取数量</td>\n",
       "    </tr>\n",
       "    <tr>\n",
       "      <th>33</th>\n",
       "      <td>治疗加速使用数量</td>\n",
       "    </tr>\n",
       "    <tr>\n",
       "      <th>34</th>\n",
       "      <td>建筑：士兵小屋等级</td>\n",
       "    </tr>\n",
       "    <tr>\n",
       "      <th>35</th>\n",
       "      <td>建筑：治疗小井等级</td>\n",
       "    </tr>\n",
       "    <tr>\n",
       "      <th>36</th>\n",
       "      <td>建筑：要塞等级</td>\n",
       "    </tr>\n",
       "    <tr>\n",
       "      <th>37</th>\n",
       "      <td>建筑：据点传送门等级</td>\n",
       "    </tr>\n",
       "    <tr>\n",
       "      <th>38</th>\n",
       "      <td>建筑：兵营等级</td>\n",
       "    </tr>\n",
       "    <tr>\n",
       "      <th>39</th>\n",
       "      <td>建筑：治疗之泉等级</td>\n",
       "    </tr>\n",
       "    <tr>\n",
       "      <th>40</th>\n",
       "      <td>建筑：智慧神庙等级</td>\n",
       "    </tr>\n",
       "    <tr>\n",
       "      <th>41</th>\n",
       "      <td>建筑：联盟大厅等级</td>\n",
       "    </tr>\n",
       "    <tr>\n",
       "      <th>42</th>\n",
       "      <td>建筑：仓库等级</td>\n",
       "    </tr>\n",
       "    <tr>\n",
       "      <th>43</th>\n",
       "      <td>建筑：瞭望塔等级</td>\n",
       "    </tr>\n",
       "    <tr>\n",
       "      <th>44</th>\n",
       "      <td>建筑：魔法幸运树等级</td>\n",
       "    </tr>\n",
       "    <tr>\n",
       "      <th>45</th>\n",
       "      <td>建筑：战争大厅等级</td>\n",
       "    </tr>\n",
       "    <tr>\n",
       "      <th>46</th>\n",
       "      <td>建筑：联盟货车等级</td>\n",
       "    </tr>\n",
       "    <tr>\n",
       "      <th>47</th>\n",
       "      <td>建筑：占卜台等级</td>\n",
       "    </tr>\n",
       "    <tr>\n",
       "      <th>48</th>\n",
       "      <td>建筑：祭坛等级</td>\n",
       "    </tr>\n",
       "    <tr>\n",
       "      <th>49</th>\n",
       "      <td>建筑：冒险传送门等级</td>\n",
       "    </tr>\n",
       "    <tr>\n",
       "      <th>50</th>\n",
       "      <td>科研：侦查等级</td>\n",
       "    </tr>\n",
       "    <tr>\n",
       "      <th>51</th>\n",
       "      <td>科研：训练速度等级</td>\n",
       "    </tr>\n",
       "    <tr>\n",
       "      <th>52</th>\n",
       "      <td>科研：守护者</td>\n",
       "    </tr>\n",
       "    <tr>\n",
       "      <th>53</th>\n",
       "      <td>科研：巨兽驯兽师</td>\n",
       "    </tr>\n",
       "    <tr>\n",
       "      <th>54</th>\n",
       "      <td>科研：吟唱者</td>\n",
       "    </tr>\n",
       "    <tr>\n",
       "      <th>55</th>\n",
       "      <td>科研：勇士攻击</td>\n",
       "    </tr>\n",
       "    <tr>\n",
       "      <th>56</th>\n",
       "      <td>科研：驯兽师攻击</td>\n",
       "    </tr>\n",
       "    <tr>\n",
       "      <th>57</th>\n",
       "      <td>科研：萨满攻击</td>\n",
       "    </tr>\n",
       "    <tr>\n",
       "      <th>58</th>\n",
       "      <td>科研：战斗大师</td>\n",
       "    </tr>\n",
       "    <tr>\n",
       "      <th>59</th>\n",
       "      <td>科研：高阶巨兽骑兵</td>\n",
       "    </tr>\n",
       "    <tr>\n",
       "      <th>60</th>\n",
       "      <td>科研：图腾大师</td>\n",
       "    </tr>\n",
       "    <tr>\n",
       "      <th>61</th>\n",
       "      <td>科研：部队防御</td>\n",
       "    </tr>\n",
       "    <tr>\n",
       "      <th>62</th>\n",
       "      <td>科研：勇士防御</td>\n",
       "    </tr>\n",
       "    <tr>\n",
       "      <th>63</th>\n",
       "      <td>科研：驯兽师防御</td>\n",
       "    </tr>\n",
       "    <tr>\n",
       "      <th>64</th>\n",
       "      <td>科研：萨满防御</td>\n",
       "    </tr>\n",
       "    <tr>\n",
       "      <th>65</th>\n",
       "      <td>科研：勇士生命</td>\n",
       "    </tr>\n",
       "    <tr>\n",
       "      <th>66</th>\n",
       "      <td>科研：驯兽师生命</td>\n",
       "    </tr>\n",
       "    <tr>\n",
       "      <th>67</th>\n",
       "      <td>科研：萨满生命</td>\n",
       "    </tr>\n",
       "    <tr>\n",
       "      <th>68</th>\n",
       "      <td>科研：狂战士</td>\n",
       "    </tr>\n",
       "    <tr>\n",
       "      <th>69</th>\n",
       "      <td>科研：龙骑兵</td>\n",
       "    </tr>\n",
       "    <tr>\n",
       "      <th>70</th>\n",
       "      <td>科研：神谕者</td>\n",
       "    </tr>\n",
       "    <tr>\n",
       "      <th>71</th>\n",
       "      <td>科研：部队攻击</td>\n",
       "    </tr>\n",
       "    <tr>\n",
       "      <th>72</th>\n",
       "      <td>科研：建造速度</td>\n",
       "    </tr>\n",
       "    <tr>\n",
       "      <th>73</th>\n",
       "      <td>科研：资源保护</td>\n",
       "    </tr>\n",
       "    <tr>\n",
       "      <th>74</th>\n",
       "      <td>科研：部队消耗</td>\n",
       "    </tr>\n",
       "    <tr>\n",
       "      <th>75</th>\n",
       "      <td>科研：木材生产</td>\n",
       "    </tr>\n",
       "    <tr>\n",
       "      <th>76</th>\n",
       "      <td>科研：石头生产</td>\n",
       "    </tr>\n",
       "    <tr>\n",
       "      <th>77</th>\n",
       "      <td>科研：象牙生产</td>\n",
       "    </tr>\n",
       "    <tr>\n",
       "      <th>78</th>\n",
       "      <td>科研：肉类生产</td>\n",
       "    </tr>\n",
       "    <tr>\n",
       "      <th>79</th>\n",
       "      <td>科研：木材采集</td>\n",
       "    </tr>\n",
       "    <tr>\n",
       "      <th>80</th>\n",
       "      <td>科研：石头采集</td>\n",
       "    </tr>\n",
       "    <tr>\n",
       "      <th>81</th>\n",
       "      <td>科研：象牙采集</td>\n",
       "    </tr>\n",
       "    <tr>\n",
       "      <th>82</th>\n",
       "      <td>科研：肉类采集</td>\n",
       "    </tr>\n",
       "    <tr>\n",
       "      <th>83</th>\n",
       "      <td>科研：部队负重</td>\n",
       "    </tr>\n",
       "    <tr>\n",
       "      <th>84</th>\n",
       "      <td>科研：魔法采集</td>\n",
       "    </tr>\n",
       "    <tr>\n",
       "      <th>85</th>\n",
       "      <td>科研：魔法生产</td>\n",
       "    </tr>\n",
       "    <tr>\n",
       "      <th>86</th>\n",
       "      <td>科研：据点耐久</td>\n",
       "    </tr>\n",
       "    <tr>\n",
       "      <th>87</th>\n",
       "      <td>科研：据点二</td>\n",
       "    </tr>\n",
       "    <tr>\n",
       "      <th>88</th>\n",
       "      <td>科研：医院容量</td>\n",
       "    </tr>\n",
       "    <tr>\n",
       "      <th>89</th>\n",
       "      <td>科研：领土采集奖励</td>\n",
       "    </tr>\n",
       "    <tr>\n",
       "      <th>90</th>\n",
       "      <td>科研：治疗速度</td>\n",
       "    </tr>\n",
       "    <tr>\n",
       "      <th>91</th>\n",
       "      <td>科研：据点三</td>\n",
       "    </tr>\n",
       "    <tr>\n",
       "      <th>92</th>\n",
       "      <td>科研：联盟行军速度</td>\n",
       "    </tr>\n",
       "    <tr>\n",
       "      <th>93</th>\n",
       "      <td>科研：战斗行军速度</td>\n",
       "    </tr>\n",
       "    <tr>\n",
       "      <th>94</th>\n",
       "      <td>科研：采集行军速度</td>\n",
       "    </tr>\n",
       "    <tr>\n",
       "      <th>95</th>\n",
       "      <td>科研：据点四</td>\n",
       "    </tr>\n",
       "    <tr>\n",
       "      <th>96</th>\n",
       "      <td>科研：增援部队容量</td>\n",
       "    </tr>\n",
       "    <tr>\n",
       "      <th>97</th>\n",
       "      <td>科研：行军大小</td>\n",
       "    </tr>\n",
       "    <tr>\n",
       "      <th>98</th>\n",
       "      <td>科研：资源帮助容量</td>\n",
       "    </tr>\n",
       "    <tr>\n",
       "      <th>99</th>\n",
       "      <td>PVP次数</td>\n",
       "    </tr>\n",
       "    <tr>\n",
       "      <th>100</th>\n",
       "      <td>主动发起PVP次数</td>\n",
       "    </tr>\n",
       "    <tr>\n",
       "      <th>101</th>\n",
       "      <td>PVP胜利次数</td>\n",
       "    </tr>\n",
       "    <tr>\n",
       "      <th>102</th>\n",
       "      <td>PVE次数</td>\n",
       "    </tr>\n",
       "    <tr>\n",
       "      <th>103</th>\n",
       "      <td>主动发起PVE次数</td>\n",
       "    </tr>\n",
       "    <tr>\n",
       "      <th>104</th>\n",
       "      <td>PVE胜利次数</td>\n",
       "    </tr>\n",
       "    <tr>\n",
       "      <th>105</th>\n",
       "      <td>在线时长</td>\n",
       "    </tr>\n",
       "    <tr>\n",
       "      <th>106</th>\n",
       "      <td>付费金额</td>\n",
       "    </tr>\n",
       "    <tr>\n",
       "      <th>107</th>\n",
       "      <td>付费次数</td>\n",
       "    </tr>\n",
       "    <tr>\n",
       "      <th>108</th>\n",
       "      <td>45日付费金额</td>\n",
       "    </tr>\n",
       "  </tbody>\n",
       "</table>\n",
       "</div>"
      ],
      "text/plain": [
       "           字段解释\n",
       "0        玩家唯一ID\n",
       "1        玩家注册时间\n",
       "2        木头获取数量\n",
       "3        木头消耗数量\n",
       "4        石头获取数量\n",
       "5        石头消耗数量\n",
       "6        象牙获取数量\n",
       "7        象牙消耗数量\n",
       "8         肉获取数量\n",
       "9         肉消耗数量\n",
       "10       魔法获取数量\n",
       "11       魔法消耗数量\n",
       "12       勇士招募数量\n",
       "13       勇士损失数量\n",
       "14      驯兽师招募数量\n",
       "15      驯兽师损失数量\n",
       "16       萨满招募数量\n",
       "17       萨满损失数量\n",
       "18     勇士伤兵产生数量\n",
       "19     勇士伤兵恢复数量\n",
       "20    驯兽师伤兵产生数量\n",
       "21    驯兽师伤兵恢复数量\n",
       "22     萨满伤兵产生数量\n",
       "23     萨满伤兵恢复数量\n",
       "24     通用加速获取数量\n",
       "25     通用加速使用数量\n",
       "26     建筑加速获取数量\n",
       "27     建筑加速使用数量\n",
       "28     科研加速获取数量\n",
       "29     科研加速使用数量\n",
       "30     训练加速获取数量\n",
       "31     训练加速使用数量\n",
       "32     治疗加速获取数量\n",
       "33     治疗加速使用数量\n",
       "34    建筑：士兵小屋等级\n",
       "35    建筑：治疗小井等级\n",
       "36      建筑：要塞等级\n",
       "37   建筑：据点传送门等级\n",
       "38      建筑：兵营等级\n",
       "39    建筑：治疗之泉等级\n",
       "40    建筑：智慧神庙等级\n",
       "41    建筑：联盟大厅等级\n",
       "42      建筑：仓库等级\n",
       "43     建筑：瞭望塔等级\n",
       "44   建筑：魔法幸运树等级\n",
       "45    建筑：战争大厅等级\n",
       "46    建筑：联盟货车等级\n",
       "47     建筑：占卜台等级\n",
       "48      建筑：祭坛等级\n",
       "49   建筑：冒险传送门等级\n",
       "50      科研：侦查等级\n",
       "51    科研：训练速度等级\n",
       "52       科研：守护者\n",
       "53     科研：巨兽驯兽师\n",
       "54       科研：吟唱者\n",
       "55      科研：勇士攻击\n",
       "56     科研：驯兽师攻击\n",
       "57      科研：萨满攻击\n",
       "58      科研：战斗大师\n",
       "59    科研：高阶巨兽骑兵\n",
       "60      科研：图腾大师\n",
       "61      科研：部队防御\n",
       "62      科研：勇士防御\n",
       "63     科研：驯兽师防御\n",
       "64      科研：萨满防御\n",
       "65      科研：勇士生命\n",
       "66     科研：驯兽师生命\n",
       "67      科研：萨满生命\n",
       "68       科研：狂战士\n",
       "69       科研：龙骑兵\n",
       "70       科研：神谕者\n",
       "71      科研：部队攻击\n",
       "72      科研：建造速度\n",
       "73      科研：资源保护\n",
       "74      科研：部队消耗\n",
       "75      科研：木材生产\n",
       "76      科研：石头生产\n",
       "77      科研：象牙生产\n",
       "78      科研：肉类生产\n",
       "79      科研：木材采集\n",
       "80      科研：石头采集\n",
       "81      科研：象牙采集\n",
       "82      科研：肉类采集\n",
       "83      科研：部队负重\n",
       "84      科研：魔法采集\n",
       "85      科研：魔法生产\n",
       "86      科研：据点耐久\n",
       "87       科研：据点二\n",
       "88      科研：医院容量\n",
       "89    科研：领土采集奖励\n",
       "90      科研：治疗速度\n",
       "91       科研：据点三\n",
       "92    科研：联盟行军速度\n",
       "93    科研：战斗行军速度\n",
       "94    科研：采集行军速度\n",
       "95       科研：据点四\n",
       "96    科研：增援部队容量\n",
       "97      科研：行军大小\n",
       "98    科研：资源帮助容量\n",
       "99        PVP次数\n",
       "100   主动发起PVP次数\n",
       "101     PVP胜利次数\n",
       "102       PVE次数\n",
       "103   主动发起PVE次数\n",
       "104     PVE胜利次数\n",
       "105        在线时长\n",
       "106        付费金额\n",
       "107        付费次数\n",
       "108     45日付费金额"
      ]
     },
     "execution_count": 12,
     "metadata": {},
     "output_type": "execute_result"
    }
   ],
   "source": [
    "#查看完整的特征字段\n",
    "pd.DataFrame(data.columns)"
   ]
  },
  {
   "cell_type": "markdown",
   "metadata": {},
   "source": [
    "通过观察以上字段，我们发现数据中包括了大量游戏资源数据\n",
    "除了最后一个45日付费金额之外，所有特征都是用户在服前7日或与时间无关的数据"
   ]
  },
  {
   "cell_type": "markdown",
   "metadata": {},
   "source": [
    "#### 接下来查看数据的其他信息，诸如：索引类型，数据类型，数据大小等"
   ]
  },
  {
   "cell_type": "code",
   "execution_count": 13,
   "metadata": {},
   "outputs": [
    {
     "name": "stdout",
     "output_type": "stream",
     "text": [
      "<class 'pandas.core.frame.DataFrame'>\n",
      "RangeIndex: 2288007 entries, 0 to 2288006\n",
      "Columns: 109 entries, 玩家唯一ID to 45日付费金额\n",
      "dtypes: float64(13), int64(95), object(1)\n",
      "memory usage: 1.9+ GB\n"
     ]
    }
   ],
   "source": [
    "data.info()"
   ]
  },
  {
   "cell_type": "markdown",
   "metadata": {},
   "source": [
    "- 数据量巨大，以至于info函数都无法显示出缺失值情况<br>\n",
    "- 有95列的数据类型都为整数，这需要注意。通常来说，当一个结构化数据中的特征数据类型是整数时，我们倾向于认为该特征可能是离散型特征.但从游戏业务的独特性、以及特征含义来看，资源数量/等级/发起PVP次数等信息一般不会以浮点数表示，因此显示为整数也十分正常<br>\n",
    "- 从特征含义来看，该数据集中没有任何离散型特征<br>"
   ]
  },
  {
   "cell_type": "markdown",
   "metadata": {},
   "source": [
    "#### 检查数据集中缺失值，重复值的情况"
   ]
  },
  {
   "cell_type": "code",
   "execution_count": 16,
   "metadata": {},
   "outputs": [
    {
     "data": {
      "text/html": [
       "<div>\n",
       "<style scoped>\n",
       "    .dataframe tbody tr th:only-of-type {\n",
       "        vertical-align: middle;\n",
       "    }\n",
       "\n",
       "    .dataframe tbody tr th {\n",
       "        vertical-align: top;\n",
       "    }\n",
       "\n",
       "    .dataframe thead th {\n",
       "        text-align: right;\n",
       "    }\n",
       "</style>\n",
       "<table border=\"1\" class=\"dataframe\">\n",
       "  <thead>\n",
       "    <tr style=\"text-align: right;\">\n",
       "      <th>字段解释</th>\n",
       "      <th>玩家唯一ID</th>\n",
       "      <th>玩家注册时间</th>\n",
       "      <th>木头获取数量</th>\n",
       "      <th>木头消耗数量</th>\n",
       "      <th>石头获取数量</th>\n",
       "      <th>石头消耗数量</th>\n",
       "      <th>象牙获取数量</th>\n",
       "      <th>象牙消耗数量</th>\n",
       "      <th>肉获取数量</th>\n",
       "      <th>肉消耗数量</th>\n",
       "      <th>...</th>\n",
       "      <th>PVP次数</th>\n",
       "      <th>主动发起PVP次数</th>\n",
       "      <th>PVP胜利次数</th>\n",
       "      <th>PVE次数</th>\n",
       "      <th>主动发起PVE次数</th>\n",
       "      <th>PVE胜利次数</th>\n",
       "      <th>在线时长</th>\n",
       "      <th>付费金额</th>\n",
       "      <th>付费次数</th>\n",
       "      <th>45日付费金额</th>\n",
       "    </tr>\n",
       "  </thead>\n",
       "  <tbody>\n",
       "    <tr>\n",
       "      <th>0</th>\n",
       "      <td>False</td>\n",
       "      <td>False</td>\n",
       "      <td>False</td>\n",
       "      <td>False</td>\n",
       "      <td>False</td>\n",
       "      <td>False</td>\n",
       "      <td>False</td>\n",
       "      <td>False</td>\n",
       "      <td>False</td>\n",
       "      <td>False</td>\n",
       "      <td>...</td>\n",
       "      <td>False</td>\n",
       "      <td>False</td>\n",
       "      <td>False</td>\n",
       "      <td>False</td>\n",
       "      <td>False</td>\n",
       "      <td>False</td>\n",
       "      <td>False</td>\n",
       "      <td>False</td>\n",
       "      <td>False</td>\n",
       "      <td>False</td>\n",
       "    </tr>\n",
       "    <tr>\n",
       "      <th>1</th>\n",
       "      <td>False</td>\n",
       "      <td>False</td>\n",
       "      <td>False</td>\n",
       "      <td>False</td>\n",
       "      <td>False</td>\n",
       "      <td>False</td>\n",
       "      <td>False</td>\n",
       "      <td>False</td>\n",
       "      <td>False</td>\n",
       "      <td>False</td>\n",
       "      <td>...</td>\n",
       "      <td>False</td>\n",
       "      <td>False</td>\n",
       "      <td>False</td>\n",
       "      <td>False</td>\n",
       "      <td>False</td>\n",
       "      <td>False</td>\n",
       "      <td>False</td>\n",
       "      <td>False</td>\n",
       "      <td>False</td>\n",
       "      <td>False</td>\n",
       "    </tr>\n",
       "    <tr>\n",
       "      <th>2</th>\n",
       "      <td>False</td>\n",
       "      <td>False</td>\n",
       "      <td>False</td>\n",
       "      <td>False</td>\n",
       "      <td>False</td>\n",
       "      <td>False</td>\n",
       "      <td>False</td>\n",
       "      <td>False</td>\n",
       "      <td>False</td>\n",
       "      <td>False</td>\n",
       "      <td>...</td>\n",
       "      <td>False</td>\n",
       "      <td>False</td>\n",
       "      <td>False</td>\n",
       "      <td>False</td>\n",
       "      <td>False</td>\n",
       "      <td>False</td>\n",
       "      <td>False</td>\n",
       "      <td>False</td>\n",
       "      <td>False</td>\n",
       "      <td>False</td>\n",
       "    </tr>\n",
       "    <tr>\n",
       "      <th>3</th>\n",
       "      <td>False</td>\n",
       "      <td>False</td>\n",
       "      <td>False</td>\n",
       "      <td>False</td>\n",
       "      <td>False</td>\n",
       "      <td>False</td>\n",
       "      <td>False</td>\n",
       "      <td>False</td>\n",
       "      <td>False</td>\n",
       "      <td>False</td>\n",
       "      <td>...</td>\n",
       "      <td>False</td>\n",
       "      <td>False</td>\n",
       "      <td>False</td>\n",
       "      <td>False</td>\n",
       "      <td>False</td>\n",
       "      <td>False</td>\n",
       "      <td>False</td>\n",
       "      <td>False</td>\n",
       "      <td>False</td>\n",
       "      <td>False</td>\n",
       "    </tr>\n",
       "    <tr>\n",
       "      <th>4</th>\n",
       "      <td>False</td>\n",
       "      <td>False</td>\n",
       "      <td>False</td>\n",
       "      <td>False</td>\n",
       "      <td>False</td>\n",
       "      <td>False</td>\n",
       "      <td>False</td>\n",
       "      <td>False</td>\n",
       "      <td>False</td>\n",
       "      <td>False</td>\n",
       "      <td>...</td>\n",
       "      <td>False</td>\n",
       "      <td>False</td>\n",
       "      <td>False</td>\n",
       "      <td>False</td>\n",
       "      <td>False</td>\n",
       "      <td>False</td>\n",
       "      <td>False</td>\n",
       "      <td>False</td>\n",
       "      <td>False</td>\n",
       "      <td>False</td>\n",
       "    </tr>\n",
       "    <tr>\n",
       "      <th>...</th>\n",
       "      <td>...</td>\n",
       "      <td>...</td>\n",
       "      <td>...</td>\n",
       "      <td>...</td>\n",
       "      <td>...</td>\n",
       "      <td>...</td>\n",
       "      <td>...</td>\n",
       "      <td>...</td>\n",
       "      <td>...</td>\n",
       "      <td>...</td>\n",
       "      <td>...</td>\n",
       "      <td>...</td>\n",
       "      <td>...</td>\n",
       "      <td>...</td>\n",
       "      <td>...</td>\n",
       "      <td>...</td>\n",
       "      <td>...</td>\n",
       "      <td>...</td>\n",
       "      <td>...</td>\n",
       "      <td>...</td>\n",
       "      <td>...</td>\n",
       "    </tr>\n",
       "    <tr>\n",
       "      <th>2288002</th>\n",
       "      <td>False</td>\n",
       "      <td>False</td>\n",
       "      <td>False</td>\n",
       "      <td>False</td>\n",
       "      <td>False</td>\n",
       "      <td>False</td>\n",
       "      <td>False</td>\n",
       "      <td>False</td>\n",
       "      <td>False</td>\n",
       "      <td>False</td>\n",
       "      <td>...</td>\n",
       "      <td>False</td>\n",
       "      <td>False</td>\n",
       "      <td>False</td>\n",
       "      <td>False</td>\n",
       "      <td>False</td>\n",
       "      <td>False</td>\n",
       "      <td>False</td>\n",
       "      <td>False</td>\n",
       "      <td>False</td>\n",
       "      <td>False</td>\n",
       "    </tr>\n",
       "    <tr>\n",
       "      <th>2288003</th>\n",
       "      <td>False</td>\n",
       "      <td>False</td>\n",
       "      <td>False</td>\n",
       "      <td>False</td>\n",
       "      <td>False</td>\n",
       "      <td>False</td>\n",
       "      <td>False</td>\n",
       "      <td>False</td>\n",
       "      <td>False</td>\n",
       "      <td>False</td>\n",
       "      <td>...</td>\n",
       "      <td>False</td>\n",
       "      <td>False</td>\n",
       "      <td>False</td>\n",
       "      <td>False</td>\n",
       "      <td>False</td>\n",
       "      <td>False</td>\n",
       "      <td>False</td>\n",
       "      <td>False</td>\n",
       "      <td>False</td>\n",
       "      <td>False</td>\n",
       "    </tr>\n",
       "    <tr>\n",
       "      <th>2288004</th>\n",
       "      <td>False</td>\n",
       "      <td>False</td>\n",
       "      <td>False</td>\n",
       "      <td>False</td>\n",
       "      <td>False</td>\n",
       "      <td>False</td>\n",
       "      <td>False</td>\n",
       "      <td>False</td>\n",
       "      <td>False</td>\n",
       "      <td>False</td>\n",
       "      <td>...</td>\n",
       "      <td>False</td>\n",
       "      <td>False</td>\n",
       "      <td>False</td>\n",
       "      <td>False</td>\n",
       "      <td>False</td>\n",
       "      <td>False</td>\n",
       "      <td>False</td>\n",
       "      <td>False</td>\n",
       "      <td>False</td>\n",
       "      <td>False</td>\n",
       "    </tr>\n",
       "    <tr>\n",
       "      <th>2288005</th>\n",
       "      <td>False</td>\n",
       "      <td>False</td>\n",
       "      <td>False</td>\n",
       "      <td>False</td>\n",
       "      <td>False</td>\n",
       "      <td>False</td>\n",
       "      <td>False</td>\n",
       "      <td>False</td>\n",
       "      <td>False</td>\n",
       "      <td>False</td>\n",
       "      <td>...</td>\n",
       "      <td>False</td>\n",
       "      <td>False</td>\n",
       "      <td>False</td>\n",
       "      <td>False</td>\n",
       "      <td>False</td>\n",
       "      <td>False</td>\n",
       "      <td>False</td>\n",
       "      <td>False</td>\n",
       "      <td>False</td>\n",
       "      <td>False</td>\n",
       "    </tr>\n",
       "    <tr>\n",
       "      <th>2288006</th>\n",
       "      <td>False</td>\n",
       "      <td>False</td>\n",
       "      <td>False</td>\n",
       "      <td>False</td>\n",
       "      <td>False</td>\n",
       "      <td>False</td>\n",
       "      <td>False</td>\n",
       "      <td>False</td>\n",
       "      <td>False</td>\n",
       "      <td>False</td>\n",
       "      <td>...</td>\n",
       "      <td>False</td>\n",
       "      <td>False</td>\n",
       "      <td>False</td>\n",
       "      <td>False</td>\n",
       "      <td>False</td>\n",
       "      <td>False</td>\n",
       "      <td>False</td>\n",
       "      <td>False</td>\n",
       "      <td>False</td>\n",
       "      <td>False</td>\n",
       "    </tr>\n",
       "  </tbody>\n",
       "</table>\n",
       "<p>2288007 rows × 109 columns</p>\n",
       "</div>"
      ],
      "text/plain": [
       "字段解释     玩家唯一ID  玩家注册时间  木头获取数量  木头消耗数量  石头获取数量  石头消耗数量  象牙获取数量  象牙消耗数量  \\\n",
       "0         False   False   False   False   False   False   False   False   \n",
       "1         False   False   False   False   False   False   False   False   \n",
       "2         False   False   False   False   False   False   False   False   \n",
       "3         False   False   False   False   False   False   False   False   \n",
       "4         False   False   False   False   False   False   False   False   \n",
       "...         ...     ...     ...     ...     ...     ...     ...     ...   \n",
       "2288002   False   False   False   False   False   False   False   False   \n",
       "2288003   False   False   False   False   False   False   False   False   \n",
       "2288004   False   False   False   False   False   False   False   False   \n",
       "2288005   False   False   False   False   False   False   False   False   \n",
       "2288006   False   False   False   False   False   False   False   False   \n",
       "\n",
       "字段解释     肉获取数量  肉消耗数量  ...  PVP次数  主动发起PVP次数  PVP胜利次数  PVE次数  主动发起PVE次数  \\\n",
       "0        False  False  ...  False      False    False  False      False   \n",
       "1        False  False  ...  False      False    False  False      False   \n",
       "2        False  False  ...  False      False    False  False      False   \n",
       "3        False  False  ...  False      False    False  False      False   \n",
       "4        False  False  ...  False      False    False  False      False   \n",
       "...        ...    ...  ...    ...        ...      ...    ...        ...   \n",
       "2288002  False  False  ...  False      False    False  False      False   \n",
       "2288003  False  False  ...  False      False    False  False      False   \n",
       "2288004  False  False  ...  False      False    False  False      False   \n",
       "2288005  False  False  ...  False      False    False  False      False   \n",
       "2288006  False  False  ...  False      False    False  False      False   \n",
       "\n",
       "字段解释     PVE胜利次数   在线时长   付费金额   付费次数  45日付费金额  \n",
       "0          False  False  False  False    False  \n",
       "1          False  False  False  False    False  \n",
       "2          False  False  False  False    False  \n",
       "3          False  False  False  False    False  \n",
       "4          False  False  False  False    False  \n",
       "...          ...    ...    ...    ...      ...  \n",
       "2288002    False  False  False  False    False  \n",
       "2288003    False  False  False  False    False  \n",
       "2288004    False  False  False  False    False  \n",
       "2288005    False  False  False  False    False  \n",
       "2288006    False  False  False  False    False  \n",
       "\n",
       "[2288007 rows x 109 columns]"
      ]
     },
     "execution_count": 16,
     "metadata": {},
     "output_type": "execute_result"
    }
   ],
   "source": [
    "data.isnull()"
   ]
  },
  {
   "cell_type": "code",
   "execution_count": 17,
   "metadata": {},
   "outputs": [
    {
     "data": {
      "text/plain": [
       "字段解释\n",
       "玩家唯一ID        0\n",
       "玩家注册时间        0\n",
       "木头获取数量        0\n",
       "木头消耗数量        0\n",
       "石头获取数量        0\n",
       "石头消耗数量        0\n",
       "象牙获取数量        0\n",
       "象牙消耗数量        0\n",
       "肉获取数量         0\n",
       "肉消耗数量         0\n",
       "魔法获取数量        0\n",
       "魔法消耗数量        0\n",
       "勇士招募数量        0\n",
       "勇士损失数量        0\n",
       "驯兽师招募数量       0\n",
       "驯兽师损失数量       0\n",
       "萨满招募数量        0\n",
       "萨满损失数量        0\n",
       "勇士伤兵产生数量      0\n",
       "勇士伤兵恢复数量      0\n",
       "驯兽师伤兵产生数量     0\n",
       "驯兽师伤兵恢复数量     0\n",
       "萨满伤兵产生数量      0\n",
       "萨满伤兵恢复数量      0\n",
       "通用加速获取数量      0\n",
       "通用加速使用数量      0\n",
       "建筑加速获取数量      0\n",
       "建筑加速使用数量      0\n",
       "科研加速获取数量      0\n",
       "科研加速使用数量      0\n",
       "训练加速获取数量      0\n",
       "训练加速使用数量      0\n",
       "治疗加速获取数量      0\n",
       "治疗加速使用数量      0\n",
       "建筑：士兵小屋等级     0\n",
       "建筑：治疗小井等级     0\n",
       "建筑：要塞等级       0\n",
       "建筑：据点传送门等级    0\n",
       "建筑：兵营等级       0\n",
       "建筑：治疗之泉等级     0\n",
       "建筑：智慧神庙等级     0\n",
       "建筑：联盟大厅等级     0\n",
       "建筑：仓库等级       0\n",
       "建筑：瞭望塔等级      0\n",
       "建筑：魔法幸运树等级    0\n",
       "建筑：战争大厅等级     0\n",
       "建筑：联盟货车等级     0\n",
       "建筑：占卜台等级      0\n",
       "建筑：祭坛等级       0\n",
       "建筑：冒险传送门等级    0\n",
       "科研：侦查等级       0\n",
       "科研：训练速度等级     0\n",
       "科研：守护者        0\n",
       "科研：巨兽驯兽师      0\n",
       "科研：吟唱者        0\n",
       "科研：勇士攻击       0\n",
       "科研：驯兽师攻击      0\n",
       "科研：萨满攻击       0\n",
       "科研：战斗大师       0\n",
       "科研：高阶巨兽骑兵     0\n",
       "科研：图腾大师       0\n",
       "科研：部队防御       0\n",
       "科研：勇士防御       0\n",
       "科研：驯兽师防御      0\n",
       "科研：萨满防御       0\n",
       "科研：勇士生命       0\n",
       "科研：驯兽师生命      0\n",
       "科研：萨满生命       0\n",
       "科研：狂战士        0\n",
       "科研：龙骑兵        0\n",
       "科研：神谕者        0\n",
       "科研：部队攻击       0\n",
       "科研：建造速度       0\n",
       "科研：资源保护       0\n",
       "科研：部队消耗       0\n",
       "科研：木材生产       0\n",
       "科研：石头生产       0\n",
       "科研：象牙生产       0\n",
       "科研：肉类生产       0\n",
       "科研：木材采集       0\n",
       "科研：石头采集       0\n",
       "科研：象牙采集       0\n",
       "科研：肉类采集       0\n",
       "科研：部队负重       0\n",
       "科研：魔法采集       0\n",
       "科研：魔法生产       0\n",
       "科研：据点耐久       0\n",
       "科研：据点二        0\n",
       "科研：医院容量       0\n",
       "科研：领土采集奖励     0\n",
       "科研：治疗速度       0\n",
       "科研：据点三        0\n",
       "科研：联盟行军速度     0\n",
       "科研：战斗行军速度     0\n",
       "科研：采集行军速度     0\n",
       "科研：据点四        0\n",
       "科研：增援部队容量     0\n",
       "科研：行军大小       0\n",
       "科研：资源帮助容量     0\n",
       "PVP次数         0\n",
       "主动发起PVP次数     0\n",
       "PVP胜利次数       0\n",
       "PVE次数         0\n",
       "主动发起PVE次数     0\n",
       "PVE胜利次数       0\n",
       "在线时长          0\n",
       "付费金额          0\n",
       "付费次数          0\n",
       "45日付费金额       0\n",
       "dtype: int64"
      ]
     },
     "execution_count": 17,
     "metadata": {},
     "output_type": "execute_result"
    }
   ],
   "source": [
    "data.isnull().sum()"
   ]
  },
  {
   "cell_type": "code",
   "execution_count": 18,
   "metadata": {},
   "outputs": [
    {
     "data": {
      "text/plain": [
       "0"
      ]
     },
     "execution_count": 18,
     "metadata": {},
     "output_type": "execute_result"
    }
   ],
   "source": [
    "data.isnull().sum().sum()"
   ]
  },
  {
   "cell_type": "markdown",
   "metadata": {},
   "source": [
    "该数据集不存在缺失值（不需要考虑如何填补缺失值）"
   ]
  },
  {
   "cell_type": "code",
   "execution_count": 19,
   "metadata": {},
   "outputs": [
    {
     "data": {
      "text/plain": [
       "0          False\n",
       "1          False\n",
       "2          False\n",
       "3          False\n",
       "4          False\n",
       "           ...  \n",
       "2288002    False\n",
       "2288003    False\n",
       "2288004    False\n",
       "2288005    False\n",
       "2288006    False\n",
       "Length: 2288007, dtype: bool"
      ]
     },
     "execution_count": 19,
     "metadata": {},
     "output_type": "execute_result"
    }
   ],
   "source": [
    "data.duplicated()"
   ]
  },
  {
   "cell_type": "code",
   "execution_count": 20,
   "metadata": {},
   "outputs": [
    {
     "data": {
      "text/plain": [
       "0"
      ]
     },
     "execution_count": 20,
     "metadata": {},
     "output_type": "execute_result"
    }
   ],
   "source": [
    "data.duplicated().sum()"
   ]
  },
  {
   "cell_type": "markdown",
   "metadata": {},
   "source": [
    "不存在重复值"
   ]
  },
  {
   "cell_type": "markdown",
   "metadata": {},
   "source": [
    "查看是否有玩家ID重复记录的情况"
   ]
  },
  {
   "cell_type": "code",
   "execution_count": 22,
   "metadata": {},
   "outputs": [
    {
     "data": {
      "text/plain": [
       "0"
      ]
     },
     "execution_count": 22,
     "metadata": {},
     "output_type": "execute_result"
    }
   ],
   "source": [
    "data[\"玩家唯一ID\"].duplicated().sum() #查看是否有重复ID的两种记录"
   ]
  },
  {
   "cell_type": "markdown",
   "metadata": {},
   "source": [
    "### 通常我们会使用joyplot查看特征分布\n",
    "**但对百万级别数据joyplot运行非常缓慢**<br>\n",
    "大部分绘制分布图的函数（如joyplot, ggplot）都无法适应百万级别数据<br>\n",
    "因此我们退而求其次，使用.describe函数，这是一种极简并且方便的展示分布的方式，对大量数据响应很快"
   ]
  },
  {
   "cell_type": "code",
   "execution_count": 27,
   "metadata": {},
   "outputs": [
    {
     "data": {
      "text/html": [
       "<div>\n",
       "<style scoped>\n",
       "    .dataframe tbody tr th:only-of-type {\n",
       "        vertical-align: middle;\n",
       "    }\n",
       "\n",
       "    .dataframe tbody tr th {\n",
       "        vertical-align: top;\n",
       "    }\n",
       "\n",
       "    .dataframe thead th {\n",
       "        text-align: right;\n",
       "    }\n",
       "</style>\n",
       "<table border=\"1\" class=\"dataframe\">\n",
       "  <thead>\n",
       "    <tr style=\"text-align: right;\">\n",
       "      <th></th>\n",
       "      <th>count</th>\n",
       "      <th>mean</th>\n",
       "      <th>std</th>\n",
       "      <th>min</th>\n",
       "      <th>25%</th>\n",
       "      <th>50%</th>\n",
       "      <th>75%</th>\n",
       "      <th>max</th>\n",
       "    </tr>\n",
       "    <tr>\n",
       "      <th>字段解释</th>\n",
       "      <th></th>\n",
       "      <th></th>\n",
       "      <th></th>\n",
       "      <th></th>\n",
       "      <th></th>\n",
       "      <th></th>\n",
       "      <th></th>\n",
       "      <th></th>\n",
       "    </tr>\n",
       "  </thead>\n",
       "  <tbody>\n",
       "    <tr>\n",
       "      <th>玩家唯一ID</th>\n",
       "      <td>2288007.0</td>\n",
       "      <td>1.529543e+06</td>\n",
       "      <td>9.399393e+05</td>\n",
       "      <td>1.0</td>\n",
       "      <td>749992.5</td>\n",
       "      <td>1.419095e+06</td>\n",
       "      <td>2.299006e+06</td>\n",
       "      <td>3.190530e+06</td>\n",
       "    </tr>\n",
       "    <tr>\n",
       "      <th>木头获取数量</th>\n",
       "      <td>2288007.0</td>\n",
       "      <td>4.543069e+05</td>\n",
       "      <td>4.958667e+06</td>\n",
       "      <td>0.0</td>\n",
       "      <td>0.0</td>\n",
       "      <td>4.203800e+04</td>\n",
       "      <td>1.531180e+05</td>\n",
       "      <td>1.239962e+09</td>\n",
       "    </tr>\n",
       "    <tr>\n",
       "      <th>木头消耗数量</th>\n",
       "      <td>2288007.0</td>\n",
       "      <td>3.698433e+05</td>\n",
       "      <td>3.737720e+06</td>\n",
       "      <td>0.0</td>\n",
       "      <td>0.0</td>\n",
       "      <td>9.830000e+03</td>\n",
       "      <td>9.855700e+04</td>\n",
       "      <td>7.995875e+08</td>\n",
       "    </tr>\n",
       "    <tr>\n",
       "      <th>石头获取数量</th>\n",
       "      <td>2288007.0</td>\n",
       "      <td>1.897788e+05</td>\n",
       "      <td>4.670620e+06</td>\n",
       "      <td>0.0</td>\n",
       "      <td>0.0</td>\n",
       "      <td>0.000000e+00</td>\n",
       "      <td>0.000000e+00</td>\n",
       "      <td>1.214869e+09</td>\n",
       "    </tr>\n",
       "    <tr>\n",
       "      <th>石头消耗数量</th>\n",
       "      <td>2288007.0</td>\n",
       "      <td>1.376074e+05</td>\n",
       "      <td>3.370166e+06</td>\n",
       "      <td>0.0</td>\n",
       "      <td>0.0</td>\n",
       "      <td>0.000000e+00</td>\n",
       "      <td>0.000000e+00</td>\n",
       "      <td>7.962378e+08</td>\n",
       "    </tr>\n",
       "    <tr>\n",
       "      <th>象牙获取数量</th>\n",
       "      <td>2288007.0</td>\n",
       "      <td>8.075623e+04</td>\n",
       "      <td>2.220540e+06</td>\n",
       "      <td>0.0</td>\n",
       "      <td>0.0</td>\n",
       "      <td>0.000000e+00</td>\n",
       "      <td>0.000000e+00</td>\n",
       "      <td>5.744961e+08</td>\n",
       "    </tr>\n",
       "    <tr>\n",
       "      <th>象牙消耗数量</th>\n",
       "      <td>2288007.0</td>\n",
       "      <td>3.613170e+04</td>\n",
       "      <td>1.782499e+06</td>\n",
       "      <td>0.0</td>\n",
       "      <td>0.0</td>\n",
       "      <td>0.000000e+00</td>\n",
       "      <td>0.000000e+00</td>\n",
       "      <td>4.481972e+08</td>\n",
       "    </tr>\n",
       "    <tr>\n",
       "      <th>肉获取数量</th>\n",
       "      <td>2288007.0</td>\n",
       "      <td>5.855155e+05</td>\n",
       "      <td>5.868629e+06</td>\n",
       "      <td>0.0</td>\n",
       "      <td>0.0</td>\n",
       "      <td>3.458700e+04</td>\n",
       "      <td>1.360010e+05</td>\n",
       "      <td>1.470644e+09</td>\n",
       "    </tr>\n",
       "    <tr>\n",
       "      <th>肉消耗数量</th>\n",
       "      <td>2288007.0</td>\n",
       "      <td>3.548102e+05</td>\n",
       "      <td>3.400632e+06</td>\n",
       "      <td>0.0</td>\n",
       "      <td>0.0</td>\n",
       "      <td>6.470000e+03</td>\n",
       "      <td>6.605400e+04</td>\n",
       "      <td>8.889537e+08</td>\n",
       "    </tr>\n",
       "    <tr>\n",
       "      <th>魔法获取数量</th>\n",
       "      <td>2288007.0</td>\n",
       "      <td>7.538954e+04</td>\n",
       "      <td>9.662892e+05</td>\n",
       "      <td>0.0</td>\n",
       "      <td>0.0</td>\n",
       "      <td>0.000000e+00</td>\n",
       "      <td>0.000000e+00</td>\n",
       "      <td>2.637228e+08</td>\n",
       "    </tr>\n",
       "    <tr>\n",
       "      <th>魔法消耗数量</th>\n",
       "      <td>2288007.0</td>\n",
       "      <td>4.725399e+04</td>\n",
       "      <td>8.811223e+05</td>\n",
       "      <td>0.0</td>\n",
       "      <td>0.0</td>\n",
       "      <td>0.000000e+00</td>\n",
       "      <td>0.000000e+00</td>\n",
       "      <td>2.637229e+08</td>\n",
       "    </tr>\n",
       "    <tr>\n",
       "      <th>勇士招募数量</th>\n",
       "      <td>2288007.0</td>\n",
       "      <td>1.436104e+02</td>\n",
       "      <td>1.781468e+03</td>\n",
       "      <td>0.0</td>\n",
       "      <td>0.0</td>\n",
       "      <td>0.000000e+00</td>\n",
       "      <td>0.000000e+00</td>\n",
       "      <td>8.749180e+05</td>\n",
       "    </tr>\n",
       "    <tr>\n",
       "      <th>勇士损失数量</th>\n",
       "      <td>2288007.0</td>\n",
       "      <td>2.267821e+02</td>\n",
       "      <td>1.738488e+03</td>\n",
       "      <td>0.0</td>\n",
       "      <td>0.0</td>\n",
       "      <td>0.000000e+00</td>\n",
       "      <td>0.000000e+00</td>\n",
       "      <td>8.788830e+05</td>\n",
       "    </tr>\n",
       "    <tr>\n",
       "      <th>驯兽师招募数量</th>\n",
       "      <td>2288007.0</td>\n",
       "      <td>1.282639e+02</td>\n",
       "      <td>1.334977e+03</td>\n",
       "      <td>0.0</td>\n",
       "      <td>0.0</td>\n",
       "      <td>0.000000e+00</td>\n",
       "      <td>0.000000e+00</td>\n",
       "      <td>3.538520e+05</td>\n",
       "    </tr>\n",
       "    <tr>\n",
       "      <th>驯兽师损失数量</th>\n",
       "      <td>2288007.0</td>\n",
       "      <td>1.780055e+02</td>\n",
       "      <td>1.347096e+03</td>\n",
       "      <td>0.0</td>\n",
       "      <td>0.0</td>\n",
       "      <td>0.000000e+00</td>\n",
       "      <td>0.000000e+00</td>\n",
       "      <td>3.703750e+05</td>\n",
       "    </tr>\n",
       "    <tr>\n",
       "      <th>萨满招募数量</th>\n",
       "      <td>2288007.0</td>\n",
       "      <td>1.195425e+02</td>\n",
       "      <td>5.958519e+03</td>\n",
       "      <td>0.0</td>\n",
       "      <td>0.0</td>\n",
       "      <td>0.000000e+00</td>\n",
       "      <td>0.000000e+00</td>\n",
       "      <td>8.767537e+06</td>\n",
       "    </tr>\n",
       "    <tr>\n",
       "      <th>萨满损失数量</th>\n",
       "      <td>2288007.0</td>\n",
       "      <td>1.568530e+02</td>\n",
       "      <td>5.958508e+03</td>\n",
       "      <td>0.0</td>\n",
       "      <td>0.0</td>\n",
       "      <td>0.000000e+00</td>\n",
       "      <td>0.000000e+00</td>\n",
       "      <td>8.769162e+06</td>\n",
       "    </tr>\n",
       "    <tr>\n",
       "      <th>勇士伤兵产生数量</th>\n",
       "      <td>2288007.0</td>\n",
       "      <td>1.353035e+02</td>\n",
       "      <td>1.333236e+03</td>\n",
       "      <td>0.0</td>\n",
       "      <td>0.0</td>\n",
       "      <td>0.000000e+00</td>\n",
       "      <td>0.000000e+00</td>\n",
       "      <td>8.039960e+05</td>\n",
       "    </tr>\n",
       "    <tr>\n",
       "      <th>勇士伤兵恢复数量</th>\n",
       "      <td>2288007.0</td>\n",
       "      <td>9.198413e+01</td>\n",
       "      <td>1.287586e+03</td>\n",
       "      <td>0.0</td>\n",
       "      <td>0.0</td>\n",
       "      <td>0.000000e+00</td>\n",
       "      <td>0.000000e+00</td>\n",
       "      <td>8.039960e+05</td>\n",
       "    </tr>\n",
       "    <tr>\n",
       "      <th>驯兽师伤兵产生数量</th>\n",
       "      <td>2288007.0</td>\n",
       "      <td>1.165028e+02</td>\n",
       "      <td>1.009972e+03</td>\n",
       "      <td>0.0</td>\n",
       "      <td>0.0</td>\n",
       "      <td>0.000000e+00</td>\n",
       "      <td>0.000000e+00</td>\n",
       "      <td>3.479670e+05</td>\n",
       "    </tr>\n",
       "    <tr>\n",
       "      <th>驯兽师伤兵恢复数量</th>\n",
       "      <td>2288007.0</td>\n",
       "      <td>8.434621e+01</td>\n",
       "      <td>9.503750e+02</td>\n",
       "      <td>0.0</td>\n",
       "      <td>0.0</td>\n",
       "      <td>0.000000e+00</td>\n",
       "      <td>0.000000e+00</td>\n",
       "      <td>3.479670e+05</td>\n",
       "    </tr>\n",
       "    <tr>\n",
       "      <th>萨满伤兵产生数量</th>\n",
       "      <td>2288007.0</td>\n",
       "      <td>1.104308e+02</td>\n",
       "      <td>5.890129e+03</td>\n",
       "      <td>0.0</td>\n",
       "      <td>0.0</td>\n",
       "      <td>0.000000e+00</td>\n",
       "      <td>0.000000e+00</td>\n",
       "      <td>8.763256e+06</td>\n",
       "    </tr>\n",
       "    <tr>\n",
       "      <th>萨满伤兵恢复数量</th>\n",
       "      <td>2288007.0</td>\n",
       "      <td>8.476289e+01</td>\n",
       "      <td>5.841053e+03</td>\n",
       "      <td>0.0</td>\n",
       "      <td>0.0</td>\n",
       "      <td>0.000000e+00</td>\n",
       "      <td>0.000000e+00</td>\n",
       "      <td>8.704561e+06</td>\n",
       "    </tr>\n",
       "    <tr>\n",
       "      <th>通用加速获取数量</th>\n",
       "      <td>2288007.0</td>\n",
       "      <td>2.825446e+02</td>\n",
       "      <td>3.001938e+03</td>\n",
       "      <td>0.0</td>\n",
       "      <td>0.0</td>\n",
       "      <td>0.000000e+00</td>\n",
       "      <td>5.300000e+01</td>\n",
       "      <td>7.954840e+05</td>\n",
       "    </tr>\n",
       "    <tr>\n",
       "      <th>通用加速使用数量</th>\n",
       "      <td>2288007.0</td>\n",
       "      <td>1.920313e+02</td>\n",
       "      <td>2.619487e+03</td>\n",
       "      <td>0.0</td>\n",
       "      <td>0.0</td>\n",
       "      <td>0.000000e+00</td>\n",
       "      <td>0.000000e+00</td>\n",
       "      <td>7.646370e+05</td>\n",
       "    </tr>\n",
       "    <tr>\n",
       "      <th>建筑加速获取数量</th>\n",
       "      <td>2288007.0</td>\n",
       "      <td>2.055574e+02</td>\n",
       "      <td>1.427626e+03</td>\n",
       "      <td>0.0</td>\n",
       "      <td>0.0</td>\n",
       "      <td>0.000000e+00</td>\n",
       "      <td>2.320000e+02</td>\n",
       "      <td>4.113620e+05</td>\n",
       "    </tr>\n",
       "    <tr>\n",
       "      <th>建筑加速使用数量</th>\n",
       "      <td>2288007.0</td>\n",
       "      <td>1.427759e+02</td>\n",
       "      <td>1.283584e+03</td>\n",
       "      <td>0.0</td>\n",
       "      <td>0.0</td>\n",
       "      <td>0.000000e+00</td>\n",
       "      <td>4.600000e+01</td>\n",
       "      <td>3.065150e+05</td>\n",
       "    </tr>\n",
       "    <tr>\n",
       "      <th>科研加速获取数量</th>\n",
       "      <td>2288007.0</td>\n",
       "      <td>1.326712e+02</td>\n",
       "      <td>1.516142e+03</td>\n",
       "      <td>0.0</td>\n",
       "      <td>0.0</td>\n",
       "      <td>0.000000e+00</td>\n",
       "      <td>5.000000e+01</td>\n",
       "      <td>3.777960e+05</td>\n",
       "    </tr>\n",
       "    <tr>\n",
       "      <th>科研加速使用数量</th>\n",
       "      <td>2288007.0</td>\n",
       "      <td>7.365257e+01</td>\n",
       "      <td>1.339241e+03</td>\n",
       "      <td>0.0</td>\n",
       "      <td>0.0</td>\n",
       "      <td>0.000000e+00</td>\n",
       "      <td>0.000000e+00</td>\n",
       "      <td>3.384370e+05</td>\n",
       "    </tr>\n",
       "    <tr>\n",
       "      <th>训练加速获取数量</th>\n",
       "      <td>2288007.0</td>\n",
       "      <td>2.108085e+02</td>\n",
       "      <td>1.942369e+03</td>\n",
       "      <td>0.0</td>\n",
       "      <td>0.0</td>\n",
       "      <td>4.500000e+01</td>\n",
       "      <td>1.000000e+02</td>\n",
       "      <td>6.716070e+05</td>\n",
       "    </tr>\n",
       "    <tr>\n",
       "      <th>训练加速使用数量</th>\n",
       "      <td>2288007.0</td>\n",
       "      <td>6.502153e+01</td>\n",
       "      <td>1.554042e+03</td>\n",
       "      <td>0.0</td>\n",
       "      <td>0.0</td>\n",
       "      <td>0.000000e+00</td>\n",
       "      <td>0.000000e+00</td>\n",
       "      <td>5.295870e+05</td>\n",
       "    </tr>\n",
       "    <tr>\n",
       "      <th>治疗加速获取数量</th>\n",
       "      <td>2288007.0</td>\n",
       "      <td>1.041641e+01</td>\n",
       "      <td>4.963815e+01</td>\n",
       "      <td>0.0</td>\n",
       "      <td>0.0</td>\n",
       "      <td>0.000000e+00</td>\n",
       "      <td>0.000000e+00</td>\n",
       "      <td>1.404800e+04</td>\n",
       "    </tr>\n",
       "    <tr>\n",
       "      <th>治疗加速使用数量</th>\n",
       "      <td>2288007.0</td>\n",
       "      <td>3.699333e-01</td>\n",
       "      <td>1.372520e+01</td>\n",
       "      <td>0.0</td>\n",
       "      <td>0.0</td>\n",
       "      <td>0.000000e+00</td>\n",
       "      <td>0.000000e+00</td>\n",
       "      <td>1.464200e+04</td>\n",
       "    </tr>\n",
       "    <tr>\n",
       "      <th>建筑：士兵小屋等级</th>\n",
       "      <td>2288007.0</td>\n",
       "      <td>1.306311e+00</td>\n",
       "      <td>1.971849e+00</td>\n",
       "      <td>0.0</td>\n",
       "      <td>0.0</td>\n",
       "      <td>0.000000e+00</td>\n",
       "      <td>2.000000e+00</td>\n",
       "      <td>2.000000e+01</td>\n",
       "    </tr>\n",
       "    <tr>\n",
       "      <th>建筑：治疗小井等级</th>\n",
       "      <td>2288007.0</td>\n",
       "      <td>1.026750e+00</td>\n",
       "      <td>1.811002e+00</td>\n",
       "      <td>0.0</td>\n",
       "      <td>0.0</td>\n",
       "      <td>0.000000e+00</td>\n",
       "      <td>1.000000e+00</td>\n",
       "      <td>1.900000e+01</td>\n",
       "    </tr>\n",
       "    <tr>\n",
       "      <th>建筑：要塞等级</th>\n",
       "      <td>2288007.0</td>\n",
       "      <td>2.098073e+00</td>\n",
       "      <td>2.520964e+00</td>\n",
       "      <td>0.0</td>\n",
       "      <td>0.0</td>\n",
       "      <td>1.000000e+00</td>\n",
       "      <td>4.000000e+00</td>\n",
       "      <td>2.300000e+01</td>\n",
       "    </tr>\n",
       "    <tr>\n",
       "      <th>建筑：据点传送门等级</th>\n",
       "      <td>2288007.0</td>\n",
       "      <td>1.764193e+00</td>\n",
       "      <td>2.358619e+00</td>\n",
       "      <td>0.0</td>\n",
       "      <td>0.0</td>\n",
       "      <td>0.000000e+00</td>\n",
       "      <td>3.000000e+00</td>\n",
       "      <td>2.300000e+01</td>\n",
       "    </tr>\n",
       "    <tr>\n",
       "      <th>建筑：兵营等级</th>\n",
       "      <td>2288007.0</td>\n",
       "      <td>1.283829e+00</td>\n",
       "      <td>2.032131e+00</td>\n",
       "      <td>0.0</td>\n",
       "      <td>0.0</td>\n",
       "      <td>0.000000e+00</td>\n",
       "      <td>1.000000e+00</td>\n",
       "      <td>2.100000e+01</td>\n",
       "    </tr>\n",
       "    <tr>\n",
       "      <th>建筑：治疗之泉等级</th>\n",
       "      <td>2288007.0</td>\n",
       "      <td>9.244596e-01</td>\n",
       "      <td>1.900493e+00</td>\n",
       "      <td>0.0</td>\n",
       "      <td>0.0</td>\n",
       "      <td>0.000000e+00</td>\n",
       "      <td>1.000000e+00</td>\n",
       "      <td>2.100000e+01</td>\n",
       "    </tr>\n",
       "    <tr>\n",
       "      <th>建筑：智慧神庙等级</th>\n",
       "      <td>2288007.0</td>\n",
       "      <td>9.694551e-01</td>\n",
       "      <td>2.057987e+00</td>\n",
       "      <td>0.0</td>\n",
       "      <td>0.0</td>\n",
       "      <td>0.000000e+00</td>\n",
       "      <td>1.000000e+00</td>\n",
       "      <td>2.200000e+01</td>\n",
       "    </tr>\n",
       "    <tr>\n",
       "      <th>建筑：联盟大厅等级</th>\n",
       "      <td>2288007.0</td>\n",
       "      <td>4.408474e-01</td>\n",
       "      <td>1.622136e+00</td>\n",
       "      <td>0.0</td>\n",
       "      <td>0.0</td>\n",
       "      <td>0.000000e+00</td>\n",
       "      <td>0.000000e+00</td>\n",
       "      <td>2.000000e+01</td>\n",
       "    </tr>\n",
       "    <tr>\n",
       "      <th>建筑：仓库等级</th>\n",
       "      <td>2288007.0</td>\n",
       "      <td>9.343398e-01</td>\n",
       "      <td>1.960826e+00</td>\n",
       "      <td>0.0</td>\n",
       "      <td>0.0</td>\n",
       "      <td>0.000000e+00</td>\n",
       "      <td>1.000000e+00</td>\n",
       "      <td>2.100000e+01</td>\n",
       "    </tr>\n",
       "    <tr>\n",
       "      <th>建筑：瞭望塔等级</th>\n",
       "      <td>2288007.0</td>\n",
       "      <td>9.125252e-01</td>\n",
       "      <td>1.886617e+00</td>\n",
       "      <td>0.0</td>\n",
       "      <td>0.0</td>\n",
       "      <td>0.000000e+00</td>\n",
       "      <td>1.000000e+00</td>\n",
       "      <td>2.100000e+01</td>\n",
       "    </tr>\n",
       "    <tr>\n",
       "      <th>建筑：魔法幸运树等级</th>\n",
       "      <td>2288007.0</td>\n",
       "      <td>1.146429e+00</td>\n",
       "      <td>2.110285e+00</td>\n",
       "      <td>0.0</td>\n",
       "      <td>0.0</td>\n",
       "      <td>0.000000e+00</td>\n",
       "      <td>1.000000e+00</td>\n",
       "      <td>2.100000e+01</td>\n",
       "    </tr>\n",
       "    <tr>\n",
       "      <th>建筑：战争大厅等级</th>\n",
       "      <td>2288007.0</td>\n",
       "      <td>1.024254e-01</td>\n",
       "      <td>4.410252e-01</td>\n",
       "      <td>0.0</td>\n",
       "      <td>0.0</td>\n",
       "      <td>0.000000e+00</td>\n",
       "      <td>0.000000e+00</td>\n",
       "      <td>1.800000e+01</td>\n",
       "    </tr>\n",
       "    <tr>\n",
       "      <th>建筑：联盟货车等级</th>\n",
       "      <td>2288007.0</td>\n",
       "      <td>7.723403e-01</td>\n",
       "      <td>1.821324e+00</td>\n",
       "      <td>0.0</td>\n",
       "      <td>0.0</td>\n",
       "      <td>0.000000e+00</td>\n",
       "      <td>0.000000e+00</td>\n",
       "      <td>1.900000e+01</td>\n",
       "    </tr>\n",
       "    <tr>\n",
       "      <th>建筑：占卜台等级</th>\n",
       "      <td>2288007.0</td>\n",
       "      <td>2.011803e-01</td>\n",
       "      <td>9.732027e-01</td>\n",
       "      <td>0.0</td>\n",
       "      <td>0.0</td>\n",
       "      <td>0.000000e+00</td>\n",
       "      <td>0.000000e+00</td>\n",
       "      <td>1.900000e+01</td>\n",
       "    </tr>\n",
       "    <tr>\n",
       "      <th>建筑：祭坛等级</th>\n",
       "      <td>2288007.0</td>\n",
       "      <td>1.797560e-01</td>\n",
       "      <td>8.920109e-01</td>\n",
       "      <td>0.0</td>\n",
       "      <td>0.0</td>\n",
       "      <td>0.000000e+00</td>\n",
       "      <td>0.000000e+00</td>\n",
       "      <td>1.700000e+01</td>\n",
       "    </tr>\n",
       "    <tr>\n",
       "      <th>建筑：冒险传送门等级</th>\n",
       "      <td>2288007.0</td>\n",
       "      <td>2.919528e-01</td>\n",
       "      <td>1.304187e+00</td>\n",
       "      <td>0.0</td>\n",
       "      <td>0.0</td>\n",
       "      <td>0.000000e+00</td>\n",
       "      <td>0.000000e+00</td>\n",
       "      <td>2.100000e+01</td>\n",
       "    </tr>\n",
       "    <tr>\n",
       "      <th>科研：侦查等级</th>\n",
       "      <td>2288007.0</td>\n",
       "      <td>3.310995e-01</td>\n",
       "      <td>7.376340e-01</td>\n",
       "      <td>0.0</td>\n",
       "      <td>0.0</td>\n",
       "      <td>0.000000e+00</td>\n",
       "      <td>0.000000e+00</td>\n",
       "      <td>9.000000e+00</td>\n",
       "    </tr>\n",
       "    <tr>\n",
       "      <th>科研：训练速度等级</th>\n",
       "      <td>2288007.0</td>\n",
       "      <td>2.992207e-01</td>\n",
       "      <td>9.860072e-01</td>\n",
       "      <td>0.0</td>\n",
       "      <td>0.0</td>\n",
       "      <td>0.000000e+00</td>\n",
       "      <td>0.000000e+00</td>\n",
       "      <td>1.700000e+01</td>\n",
       "    </tr>\n",
       "    <tr>\n",
       "      <th>科研：守护者</th>\n",
       "      <td>2288007.0</td>\n",
       "      <td>2.388411e-02</td>\n",
       "      <td>1.526881e-01</td>\n",
       "      <td>0.0</td>\n",
       "      <td>0.0</td>\n",
       "      <td>0.000000e+00</td>\n",
       "      <td>0.000000e+00</td>\n",
       "      <td>1.000000e+00</td>\n",
       "    </tr>\n",
       "    <tr>\n",
       "      <th>科研：巨兽驯兽师</th>\n",
       "      <td>2288007.0</td>\n",
       "      <td>2.294705e-02</td>\n",
       "      <td>1.497347e-01</td>\n",
       "      <td>0.0</td>\n",
       "      <td>0.0</td>\n",
       "      <td>0.000000e+00</td>\n",
       "      <td>0.000000e+00</td>\n",
       "      <td>1.000000e+00</td>\n",
       "    </tr>\n",
       "    <tr>\n",
       "      <th>科研：吟唱者</th>\n",
       "      <td>2288007.0</td>\n",
       "      <td>1.969137e-02</td>\n",
       "      <td>1.389375e-01</td>\n",
       "      <td>0.0</td>\n",
       "      <td>0.0</td>\n",
       "      <td>0.000000e+00</td>\n",
       "      <td>0.000000e+00</td>\n",
       "      <td>1.000000e+00</td>\n",
       "    </tr>\n",
       "    <tr>\n",
       "      <th>科研：勇士攻击</th>\n",
       "      <td>2288007.0</td>\n",
       "      <td>2.389110e-02</td>\n",
       "      <td>2.531641e-01</td>\n",
       "      <td>0.0</td>\n",
       "      <td>0.0</td>\n",
       "      <td>0.000000e+00</td>\n",
       "      <td>0.000000e+00</td>\n",
       "      <td>1.300000e+01</td>\n",
       "    </tr>\n",
       "    <tr>\n",
       "      <th>科研：驯兽师攻击</th>\n",
       "      <td>2288007.0</td>\n",
       "      <td>2.248857e-02</td>\n",
       "      <td>2.463319e-01</td>\n",
       "      <td>0.0</td>\n",
       "      <td>0.0</td>\n",
       "      <td>0.000000e+00</td>\n",
       "      <td>0.000000e+00</td>\n",
       "      <td>1.100000e+01</td>\n",
       "    </tr>\n",
       "    <tr>\n",
       "      <th>科研：萨满攻击</th>\n",
       "      <td>2288007.0</td>\n",
       "      <td>1.851262e-02</td>\n",
       "      <td>2.248276e-01</td>\n",
       "      <td>0.0</td>\n",
       "      <td>0.0</td>\n",
       "      <td>0.000000e+00</td>\n",
       "      <td>0.000000e+00</td>\n",
       "      <td>1.000000e+01</td>\n",
       "    </tr>\n",
       "    <tr>\n",
       "      <th>科研：战斗大师</th>\n",
       "      <td>2288007.0</td>\n",
       "      <td>2.749117e-04</td>\n",
       "      <td>1.657819e-02</td>\n",
       "      <td>0.0</td>\n",
       "      <td>0.0</td>\n",
       "      <td>0.000000e+00</td>\n",
       "      <td>0.000000e+00</td>\n",
       "      <td>1.000000e+00</td>\n",
       "    </tr>\n",
       "    <tr>\n",
       "      <th>科研：高阶巨兽骑兵</th>\n",
       "      <td>2288007.0</td>\n",
       "      <td>2.609258e-04</td>\n",
       "      <td>1.615109e-02</td>\n",
       "      <td>0.0</td>\n",
       "      <td>0.0</td>\n",
       "      <td>0.000000e+00</td>\n",
       "      <td>0.000000e+00</td>\n",
       "      <td>1.000000e+00</td>\n",
       "    </tr>\n",
       "    <tr>\n",
       "      <th>科研：图腾大师</th>\n",
       "      <td>2288007.0</td>\n",
       "      <td>2.338280e-04</td>\n",
       "      <td>1.528965e-02</td>\n",
       "      <td>0.0</td>\n",
       "      <td>0.0</td>\n",
       "      <td>0.000000e+00</td>\n",
       "      <td>0.000000e+00</td>\n",
       "      <td>1.000000e+00</td>\n",
       "    </tr>\n",
       "    <tr>\n",
       "      <th>科研：部队防御</th>\n",
       "      <td>2288007.0</td>\n",
       "      <td>7.141587e-04</td>\n",
       "      <td>6.896717e-02</td>\n",
       "      <td>0.0</td>\n",
       "      <td>0.0</td>\n",
       "      <td>0.000000e+00</td>\n",
       "      <td>0.000000e+00</td>\n",
       "      <td>1.400000e+01</td>\n",
       "    </tr>\n",
       "    <tr>\n",
       "      <th>科研：勇士防御</th>\n",
       "      <td>2288007.0</td>\n",
       "      <td>4.453658e-04</td>\n",
       "      <td>5.298984e-02</td>\n",
       "      <td>0.0</td>\n",
       "      <td>0.0</td>\n",
       "      <td>0.000000e+00</td>\n",
       "      <td>0.000000e+00</td>\n",
       "      <td>1.100000e+01</td>\n",
       "    </tr>\n",
       "    <tr>\n",
       "      <th>科研：驯兽师防御</th>\n",
       "      <td>2288007.0</td>\n",
       "      <td>4.305057e-04</td>\n",
       "      <td>5.274195e-02</td>\n",
       "      <td>0.0</td>\n",
       "      <td>0.0</td>\n",
       "      <td>0.000000e+00</td>\n",
       "      <td>0.000000e+00</td>\n",
       "      <td>1.100000e+01</td>\n",
       "    </tr>\n",
       "    <tr>\n",
       "      <th>科研：萨满防御</th>\n",
       "      <td>2288007.0</td>\n",
       "      <td>4.034079e-04</td>\n",
       "      <td>5.005509e-02</td>\n",
       "      <td>0.0</td>\n",
       "      <td>0.0</td>\n",
       "      <td>0.000000e+00</td>\n",
       "      <td>0.000000e+00</td>\n",
       "      <td>1.100000e+01</td>\n",
       "    </tr>\n",
       "    <tr>\n",
       "      <th>科研：勇士生命</th>\n",
       "      <td>2288007.0</td>\n",
       "      <td>6.276205e-04</td>\n",
       "      <td>6.631231e-02</td>\n",
       "      <td>0.0</td>\n",
       "      <td>0.0</td>\n",
       "      <td>0.000000e+00</td>\n",
       "      <td>0.000000e+00</td>\n",
       "      <td>1.100000e+01</td>\n",
       "    </tr>\n",
       "    <tr>\n",
       "      <th>科研：驯兽师生命</th>\n",
       "      <td>2288007.0</td>\n",
       "      <td>5.472011e-04</td>\n",
       "      <td>6.172524e-02</td>\n",
       "      <td>0.0</td>\n",
       "      <td>0.0</td>\n",
       "      <td>0.000000e+00</td>\n",
       "      <td>0.000000e+00</td>\n",
       "      <td>1.100000e+01</td>\n",
       "    </tr>\n",
       "    <tr>\n",
       "      <th>科研：萨满生命</th>\n",
       "      <td>2288007.0</td>\n",
       "      <td>5.004355e-04</td>\n",
       "      <td>5.829155e-02</td>\n",
       "      <td>0.0</td>\n",
       "      <td>0.0</td>\n",
       "      <td>0.000000e+00</td>\n",
       "      <td>0.000000e+00</td>\n",
       "      <td>1.100000e+01</td>\n",
       "    </tr>\n",
       "    <tr>\n",
       "      <th>科研：狂战士</th>\n",
       "      <td>2288007.0</td>\n",
       "      <td>1.748246e-05</td>\n",
       "      <td>4.181168e-03</td>\n",
       "      <td>0.0</td>\n",
       "      <td>0.0</td>\n",
       "      <td>0.000000e+00</td>\n",
       "      <td>0.000000e+00</td>\n",
       "      <td>1.000000e+00</td>\n",
       "    </tr>\n",
       "    <tr>\n",
       "      <th>科研：龙骑兵</th>\n",
       "      <td>2288007.0</td>\n",
       "      <td>1.966777e-05</td>\n",
       "      <td>4.434794e-03</td>\n",
       "      <td>0.0</td>\n",
       "      <td>0.0</td>\n",
       "      <td>0.000000e+00</td>\n",
       "      <td>0.000000e+00</td>\n",
       "      <td>1.000000e+00</td>\n",
       "    </tr>\n",
       "    <tr>\n",
       "      <th>科研：神谕者</th>\n",
       "      <td>2288007.0</td>\n",
       "      <td>1.486009e-05</td>\n",
       "      <td>3.854851e-03</td>\n",
       "      <td>0.0</td>\n",
       "      <td>0.0</td>\n",
       "      <td>0.000000e+00</td>\n",
       "      <td>0.000000e+00</td>\n",
       "      <td>1.000000e+00</td>\n",
       "    </tr>\n",
       "    <tr>\n",
       "      <th>科研：部队攻击</th>\n",
       "      <td>2288007.0</td>\n",
       "      <td>2.054190e-05</td>\n",
       "      <td>1.266496e-02</td>\n",
       "      <td>0.0</td>\n",
       "      <td>0.0</td>\n",
       "      <td>0.000000e+00</td>\n",
       "      <td>0.000000e+00</td>\n",
       "      <td>1.100000e+01</td>\n",
       "    </tr>\n",
       "    <tr>\n",
       "      <th>科研：建造速度</th>\n",
       "      <td>2288007.0</td>\n",
       "      <td>1.221509e-01</td>\n",
       "      <td>5.955828e-01</td>\n",
       "      <td>0.0</td>\n",
       "      <td>0.0</td>\n",
       "      <td>0.000000e+00</td>\n",
       "      <td>0.000000e+00</td>\n",
       "      <td>1.500000e+01</td>\n",
       "    </tr>\n",
       "    <tr>\n",
       "      <th>科研：资源保护</th>\n",
       "      <td>2288007.0</td>\n",
       "      <td>3.474815e-02</td>\n",
       "      <td>2.674120e-01</td>\n",
       "      <td>0.0</td>\n",
       "      <td>0.0</td>\n",
       "      <td>0.000000e+00</td>\n",
       "      <td>0.000000e+00</td>\n",
       "      <td>1.100000e+01</td>\n",
       "    </tr>\n",
       "    <tr>\n",
       "      <th>科研：部队消耗</th>\n",
       "      <td>2288007.0</td>\n",
       "      <td>3.261528e-02</td>\n",
       "      <td>2.689738e-01</td>\n",
       "      <td>0.0</td>\n",
       "      <td>0.0</td>\n",
       "      <td>0.000000e+00</td>\n",
       "      <td>0.000000e+00</td>\n",
       "      <td>1.100000e+01</td>\n",
       "    </tr>\n",
       "    <tr>\n",
       "      <th>科研：木材生产</th>\n",
       "      <td>2288007.0</td>\n",
       "      <td>3.545531e-02</td>\n",
       "      <td>2.994074e-01</td>\n",
       "      <td>0.0</td>\n",
       "      <td>0.0</td>\n",
       "      <td>0.000000e+00</td>\n",
       "      <td>0.000000e+00</td>\n",
       "      <td>9.000000e+00</td>\n",
       "    </tr>\n",
       "    <tr>\n",
       "      <th>科研：石头生产</th>\n",
       "      <td>2288007.0</td>\n",
       "      <td>2.529713e-03</td>\n",
       "      <td>7.521916e-02</td>\n",
       "      <td>0.0</td>\n",
       "      <td>0.0</td>\n",
       "      <td>0.000000e+00</td>\n",
       "      <td>0.000000e+00</td>\n",
       "      <td>9.000000e+00</td>\n",
       "    </tr>\n",
       "    <tr>\n",
       "      <th>科研：象牙生产</th>\n",
       "      <td>2288007.0</td>\n",
       "      <td>5.773584e-04</td>\n",
       "      <td>3.492143e-02</td>\n",
       "      <td>0.0</td>\n",
       "      <td>0.0</td>\n",
       "      <td>0.000000e+00</td>\n",
       "      <td>0.000000e+00</td>\n",
       "      <td>9.000000e+00</td>\n",
       "    </tr>\n",
       "    <tr>\n",
       "      <th>科研：肉类生产</th>\n",
       "      <td>2288007.0</td>\n",
       "      <td>4.248370e-02</td>\n",
       "      <td>3.108336e-01</td>\n",
       "      <td>0.0</td>\n",
       "      <td>0.0</td>\n",
       "      <td>0.000000e+00</td>\n",
       "      <td>0.000000e+00</td>\n",
       "      <td>1.100000e+01</td>\n",
       "    </tr>\n",
       "    <tr>\n",
       "      <th>科研：木材采集</th>\n",
       "      <td>2288007.0</td>\n",
       "      <td>2.153971e-02</td>\n",
       "      <td>2.309065e-01</td>\n",
       "      <td>0.0</td>\n",
       "      <td>0.0</td>\n",
       "      <td>0.000000e+00</td>\n",
       "      <td>0.000000e+00</td>\n",
       "      <td>9.000000e+00</td>\n",
       "    </tr>\n",
       "    <tr>\n",
       "      <th>科研：石头采集</th>\n",
       "      <td>2288007.0</td>\n",
       "      <td>1.700170e-03</td>\n",
       "      <td>6.119213e-02</td>\n",
       "      <td>0.0</td>\n",
       "      <td>0.0</td>\n",
       "      <td>0.000000e+00</td>\n",
       "      <td>0.000000e+00</td>\n",
       "      <td>9.000000e+00</td>\n",
       "    </tr>\n",
       "    <tr>\n",
       "      <th>科研：象牙采集</th>\n",
       "      <td>2288007.0</td>\n",
       "      <td>4.160826e-04</td>\n",
       "      <td>2.830898e-02</td>\n",
       "      <td>0.0</td>\n",
       "      <td>0.0</td>\n",
       "      <td>0.000000e+00</td>\n",
       "      <td>0.000000e+00</td>\n",
       "      <td>7.000000e+00</td>\n",
       "    </tr>\n",
       "    <tr>\n",
       "      <th>科研：肉类采集</th>\n",
       "      <td>2288007.0</td>\n",
       "      <td>1.793876e-02</td>\n",
       "      <td>1.939576e-01</td>\n",
       "      <td>0.0</td>\n",
       "      <td>0.0</td>\n",
       "      <td>0.000000e+00</td>\n",
       "      <td>0.000000e+00</td>\n",
       "      <td>9.000000e+00</td>\n",
       "    </tr>\n",
       "    <tr>\n",
       "      <th>科研：部队负重</th>\n",
       "      <td>2288007.0</td>\n",
       "      <td>2.884388e-02</td>\n",
       "      <td>3.072257e-01</td>\n",
       "      <td>0.0</td>\n",
       "      <td>0.0</td>\n",
       "      <td>0.000000e+00</td>\n",
       "      <td>0.000000e+00</td>\n",
       "      <td>1.000000e+01</td>\n",
       "    </tr>\n",
       "    <tr>\n",
       "      <th>科研：魔法采集</th>\n",
       "      <td>2288007.0</td>\n",
       "      <td>1.925693e-03</td>\n",
       "      <td>6.361588e-02</td>\n",
       "      <td>0.0</td>\n",
       "      <td>0.0</td>\n",
       "      <td>0.000000e+00</td>\n",
       "      <td>0.000000e+00</td>\n",
       "      <td>9.000000e+00</td>\n",
       "    </tr>\n",
       "    <tr>\n",
       "      <th>科研：魔法生产</th>\n",
       "      <td>2288007.0</td>\n",
       "      <td>7.764836e-03</td>\n",
       "      <td>1.408421e-01</td>\n",
       "      <td>0.0</td>\n",
       "      <td>0.0</td>\n",
       "      <td>0.000000e+00</td>\n",
       "      <td>0.000000e+00</td>\n",
       "      <td>9.000000e+00</td>\n",
       "    </tr>\n",
       "    <tr>\n",
       "      <th>科研：据点耐久</th>\n",
       "      <td>2288007.0</td>\n",
       "      <td>1.104227e-01</td>\n",
       "      <td>4.808994e-01</td>\n",
       "      <td>0.0</td>\n",
       "      <td>0.0</td>\n",
       "      <td>0.000000e+00</td>\n",
       "      <td>0.000000e+00</td>\n",
       "      <td>1.000000e+01</td>\n",
       "    </tr>\n",
       "    <tr>\n",
       "      <th>科研：据点二</th>\n",
       "      <td>2288007.0</td>\n",
       "      <td>4.435432e-02</td>\n",
       "      <td>2.058811e-01</td>\n",
       "      <td>0.0</td>\n",
       "      <td>0.0</td>\n",
       "      <td>0.000000e+00</td>\n",
       "      <td>0.000000e+00</td>\n",
       "      <td>1.000000e+00</td>\n",
       "    </tr>\n",
       "    <tr>\n",
       "      <th>科研：医院容量</th>\n",
       "      <td>2288007.0</td>\n",
       "      <td>2.869703e-02</td>\n",
       "      <td>2.384797e-01</td>\n",
       "      <td>0.0</td>\n",
       "      <td>0.0</td>\n",
       "      <td>0.000000e+00</td>\n",
       "      <td>0.000000e+00</td>\n",
       "      <td>1.100000e+01</td>\n",
       "    </tr>\n",
       "    <tr>\n",
       "      <th>科研：领土采集奖励</th>\n",
       "      <td>2288007.0</td>\n",
       "      <td>3.393871e-02</td>\n",
       "      <td>2.508571e-01</td>\n",
       "      <td>0.0</td>\n",
       "      <td>0.0</td>\n",
       "      <td>0.000000e+00</td>\n",
       "      <td>0.000000e+00</td>\n",
       "      <td>1.000000e+01</td>\n",
       "    </tr>\n",
       "    <tr>\n",
       "      <th>科研：治疗速度</th>\n",
       "      <td>2288007.0</td>\n",
       "      <td>2.206287e-02</td>\n",
       "      <td>2.021670e-01</td>\n",
       "      <td>0.0</td>\n",
       "      <td>0.0</td>\n",
       "      <td>0.000000e+00</td>\n",
       "      <td>0.000000e+00</td>\n",
       "      <td>9.000000e+00</td>\n",
       "    </tr>\n",
       "    <tr>\n",
       "      <th>科研：据点三</th>\n",
       "      <td>2288007.0</td>\n",
       "      <td>8.789309e-04</td>\n",
       "      <td>2.963374e-02</td>\n",
       "      <td>0.0</td>\n",
       "      <td>0.0</td>\n",
       "      <td>0.000000e+00</td>\n",
       "      <td>0.000000e+00</td>\n",
       "      <td>1.000000e+00</td>\n",
       "    </tr>\n",
       "    <tr>\n",
       "      <th>科研：联盟行军速度</th>\n",
       "      <td>2288007.0</td>\n",
       "      <td>4.077785e-04</td>\n",
       "      <td>3.922663e-02</td>\n",
       "      <td>0.0</td>\n",
       "      <td>0.0</td>\n",
       "      <td>0.000000e+00</td>\n",
       "      <td>0.000000e+00</td>\n",
       "      <td>1.000000e+01</td>\n",
       "    </tr>\n",
       "    <tr>\n",
       "      <th>科研：战斗行军速度</th>\n",
       "      <td>2288007.0</td>\n",
       "      <td>6.643336e-04</td>\n",
       "      <td>5.136670e-02</td>\n",
       "      <td>0.0</td>\n",
       "      <td>0.0</td>\n",
       "      <td>0.000000e+00</td>\n",
       "      <td>0.000000e+00</td>\n",
       "      <td>1.100000e+01</td>\n",
       "    </tr>\n",
       "    <tr>\n",
       "      <th>科研：采集行军速度</th>\n",
       "      <td>2288007.0</td>\n",
       "      <td>6.070786e-04</td>\n",
       "      <td>4.809365e-02</td>\n",
       "      <td>0.0</td>\n",
       "      <td>0.0</td>\n",
       "      <td>0.000000e+00</td>\n",
       "      <td>0.000000e+00</td>\n",
       "      <td>1.000000e+01</td>\n",
       "    </tr>\n",
       "    <tr>\n",
       "      <th>科研：据点四</th>\n",
       "      <td>2288007.0</td>\n",
       "      <td>5.681801e-06</td>\n",
       "      <td>2.383647e-03</td>\n",
       "      <td>0.0</td>\n",
       "      <td>0.0</td>\n",
       "      <td>0.000000e+00</td>\n",
       "      <td>0.000000e+00</td>\n",
       "      <td>1.000000e+00</td>\n",
       "    </tr>\n",
       "    <tr>\n",
       "      <th>科研：增援部队容量</th>\n",
       "      <td>2288007.0</td>\n",
       "      <td>2.185308e-06</td>\n",
       "      <td>2.192641e-03</td>\n",
       "      <td>0.0</td>\n",
       "      <td>0.0</td>\n",
       "      <td>0.000000e+00</td>\n",
       "      <td>0.000000e+00</td>\n",
       "      <td>3.000000e+00</td>\n",
       "    </tr>\n",
       "    <tr>\n",
       "      <th>科研：行军大小</th>\n",
       "      <td>2288007.0</td>\n",
       "      <td>1.398597e-05</td>\n",
       "      <td>8.967674e-03</td>\n",
       "      <td>0.0</td>\n",
       "      <td>0.0</td>\n",
       "      <td>0.000000e+00</td>\n",
       "      <td>0.000000e+00</td>\n",
       "      <td>9.000000e+00</td>\n",
       "    </tr>\n",
       "    <tr>\n",
       "      <th>科研：资源帮助容量</th>\n",
       "      <td>2288007.0</td>\n",
       "      <td>6.118862e-06</td>\n",
       "      <td>6.271804e-03</td>\n",
       "      <td>0.0</td>\n",
       "      <td>0.0</td>\n",
       "      <td>0.000000e+00</td>\n",
       "      <td>0.000000e+00</td>\n",
       "      <td>8.000000e+00</td>\n",
       "    </tr>\n",
       "    <tr>\n",
       "      <th>PVP次数</th>\n",
       "      <td>2288007.0</td>\n",
       "      <td>2.148313e+00</td>\n",
       "      <td>1.167797e+01</td>\n",
       "      <td>0.0</td>\n",
       "      <td>0.0</td>\n",
       "      <td>0.000000e+00</td>\n",
       "      <td>1.000000e+00</td>\n",
       "      <td>2.054000e+03</td>\n",
       "    </tr>\n",
       "    <tr>\n",
       "      <th>主动发起PVP次数</th>\n",
       "      <td>2288007.0</td>\n",
       "      <td>1.059639e+00</td>\n",
       "      <td>9.074459e+00</td>\n",
       "      <td>0.0</td>\n",
       "      <td>0.0</td>\n",
       "      <td>0.000000e+00</td>\n",
       "      <td>0.000000e+00</td>\n",
       "      <td>2.051000e+03</td>\n",
       "    </tr>\n",
       "    <tr>\n",
       "      <th>PVP胜利次数</th>\n",
       "      <td>2288007.0</td>\n",
       "      <td>9.838589e-01</td>\n",
       "      <td>8.951280e+00</td>\n",
       "      <td>0.0</td>\n",
       "      <td>0.0</td>\n",
       "      <td>0.000000e+00</td>\n",
       "      <td>0.000000e+00</td>\n",
       "      <td>1.904000e+03</td>\n",
       "    </tr>\n",
       "    <tr>\n",
       "      <th>PVE次数</th>\n",
       "      <td>2288007.0</td>\n",
       "      <td>2.844738e+00</td>\n",
       "      <td>1.276245e+01</td>\n",
       "      <td>0.0</td>\n",
       "      <td>0.0</td>\n",
       "      <td>0.000000e+00</td>\n",
       "      <td>1.000000e+00</td>\n",
       "      <td>5.090000e+02</td>\n",
       "    </tr>\n",
       "    <tr>\n",
       "      <th>主动发起PVE次数</th>\n",
       "      <td>2288007.0</td>\n",
       "      <td>2.832409e+00</td>\n",
       "      <td>1.271820e+01</td>\n",
       "      <td>0.0</td>\n",
       "      <td>0.0</td>\n",
       "      <td>0.000000e+00</td>\n",
       "      <td>1.000000e+00</td>\n",
       "      <td>5.090000e+02</td>\n",
       "    </tr>\n",
       "    <tr>\n",
       "      <th>PVE胜利次数</th>\n",
       "      <td>2288007.0</td>\n",
       "      <td>2.556749e+00</td>\n",
       "      <td>1.184737e+01</td>\n",
       "      <td>0.0</td>\n",
       "      <td>0.0</td>\n",
       "      <td>0.000000e+00</td>\n",
       "      <td>1.000000e+00</td>\n",
       "      <td>4.880000e+02</td>\n",
       "    </tr>\n",
       "    <tr>\n",
       "      <th>在线时长</th>\n",
       "      <td>2288007.0</td>\n",
       "      <td>1.020749e+01</td>\n",
       "      <td>3.895946e+01</td>\n",
       "      <td>0.0</td>\n",
       "      <td>0.5</td>\n",
       "      <td>1.833333e+00</td>\n",
       "      <td>4.833333e+00</td>\n",
       "      <td>2.049667e+03</td>\n",
       "    </tr>\n",
       "    <tr>\n",
       "      <th>付费金额</th>\n",
       "      <td>2288007.0</td>\n",
       "      <td>5.346691e-01</td>\n",
       "      <td>2.263835e+01</td>\n",
       "      <td>0.0</td>\n",
       "      <td>0.0</td>\n",
       "      <td>0.000000e+00</td>\n",
       "      <td>0.000000e+00</td>\n",
       "      <td>7.457950e+03</td>\n",
       "    </tr>\n",
       "    <tr>\n",
       "      <th>付费次数</th>\n",
       "      <td>2288007.0</td>\n",
       "      <td>5.770699e-02</td>\n",
       "      <td>7.090886e-01</td>\n",
       "      <td>0.0</td>\n",
       "      <td>0.0</td>\n",
       "      <td>0.000000e+00</td>\n",
       "      <td>0.000000e+00</td>\n",
       "      <td>1.050000e+02</td>\n",
       "    </tr>\n",
       "    <tr>\n",
       "      <th>45日付费金额</th>\n",
       "      <td>2288007.0</td>\n",
       "      <td>1.793146e+00</td>\n",
       "      <td>8.846303e+01</td>\n",
       "      <td>0.0</td>\n",
       "      <td>0.0</td>\n",
       "      <td>0.000000e+00</td>\n",
       "      <td>0.000000e+00</td>\n",
       "      <td>3.297781e+04</td>\n",
       "    </tr>\n",
       "  </tbody>\n",
       "</table>\n",
       "</div>"
      ],
      "text/plain": [
       "                count          mean           std  min       25%  \\\n",
       "字段解释                                                               \n",
       "玩家唯一ID      2288007.0  1.529543e+06  9.399393e+05  1.0  749992.5   \n",
       "木头获取数量      2288007.0  4.543069e+05  4.958667e+06  0.0       0.0   \n",
       "木头消耗数量      2288007.0  3.698433e+05  3.737720e+06  0.0       0.0   \n",
       "石头获取数量      2288007.0  1.897788e+05  4.670620e+06  0.0       0.0   \n",
       "石头消耗数量      2288007.0  1.376074e+05  3.370166e+06  0.0       0.0   \n",
       "象牙获取数量      2288007.0  8.075623e+04  2.220540e+06  0.0       0.0   \n",
       "象牙消耗数量      2288007.0  3.613170e+04  1.782499e+06  0.0       0.0   \n",
       "肉获取数量       2288007.0  5.855155e+05  5.868629e+06  0.0       0.0   \n",
       "肉消耗数量       2288007.0  3.548102e+05  3.400632e+06  0.0       0.0   \n",
       "魔法获取数量      2288007.0  7.538954e+04  9.662892e+05  0.0       0.0   \n",
       "魔法消耗数量      2288007.0  4.725399e+04  8.811223e+05  0.0       0.0   \n",
       "勇士招募数量      2288007.0  1.436104e+02  1.781468e+03  0.0       0.0   \n",
       "勇士损失数量      2288007.0  2.267821e+02  1.738488e+03  0.0       0.0   \n",
       "驯兽师招募数量     2288007.0  1.282639e+02  1.334977e+03  0.0       0.0   \n",
       "驯兽师损失数量     2288007.0  1.780055e+02  1.347096e+03  0.0       0.0   \n",
       "萨满招募数量      2288007.0  1.195425e+02  5.958519e+03  0.0       0.0   \n",
       "萨满损失数量      2288007.0  1.568530e+02  5.958508e+03  0.0       0.0   \n",
       "勇士伤兵产生数量    2288007.0  1.353035e+02  1.333236e+03  0.0       0.0   \n",
       "勇士伤兵恢复数量    2288007.0  9.198413e+01  1.287586e+03  0.0       0.0   \n",
       "驯兽师伤兵产生数量   2288007.0  1.165028e+02  1.009972e+03  0.0       0.0   \n",
       "驯兽师伤兵恢复数量   2288007.0  8.434621e+01  9.503750e+02  0.0       0.0   \n",
       "萨满伤兵产生数量    2288007.0  1.104308e+02  5.890129e+03  0.0       0.0   \n",
       "萨满伤兵恢复数量    2288007.0  8.476289e+01  5.841053e+03  0.0       0.0   \n",
       "通用加速获取数量    2288007.0  2.825446e+02  3.001938e+03  0.0       0.0   \n",
       "通用加速使用数量    2288007.0  1.920313e+02  2.619487e+03  0.0       0.0   \n",
       "建筑加速获取数量    2288007.0  2.055574e+02  1.427626e+03  0.0       0.0   \n",
       "建筑加速使用数量    2288007.0  1.427759e+02  1.283584e+03  0.0       0.0   \n",
       "科研加速获取数量    2288007.0  1.326712e+02  1.516142e+03  0.0       0.0   \n",
       "科研加速使用数量    2288007.0  7.365257e+01  1.339241e+03  0.0       0.0   \n",
       "训练加速获取数量    2288007.0  2.108085e+02  1.942369e+03  0.0       0.0   \n",
       "训练加速使用数量    2288007.0  6.502153e+01  1.554042e+03  0.0       0.0   \n",
       "治疗加速获取数量    2288007.0  1.041641e+01  4.963815e+01  0.0       0.0   \n",
       "治疗加速使用数量    2288007.0  3.699333e-01  1.372520e+01  0.0       0.0   \n",
       "建筑：士兵小屋等级   2288007.0  1.306311e+00  1.971849e+00  0.0       0.0   \n",
       "建筑：治疗小井等级   2288007.0  1.026750e+00  1.811002e+00  0.0       0.0   \n",
       "建筑：要塞等级     2288007.0  2.098073e+00  2.520964e+00  0.0       0.0   \n",
       "建筑：据点传送门等级  2288007.0  1.764193e+00  2.358619e+00  0.0       0.0   \n",
       "建筑：兵营等级     2288007.0  1.283829e+00  2.032131e+00  0.0       0.0   \n",
       "建筑：治疗之泉等级   2288007.0  9.244596e-01  1.900493e+00  0.0       0.0   \n",
       "建筑：智慧神庙等级   2288007.0  9.694551e-01  2.057987e+00  0.0       0.0   \n",
       "建筑：联盟大厅等级   2288007.0  4.408474e-01  1.622136e+00  0.0       0.0   \n",
       "建筑：仓库等级     2288007.0  9.343398e-01  1.960826e+00  0.0       0.0   \n",
       "建筑：瞭望塔等级    2288007.0  9.125252e-01  1.886617e+00  0.0       0.0   \n",
       "建筑：魔法幸运树等级  2288007.0  1.146429e+00  2.110285e+00  0.0       0.0   \n",
       "建筑：战争大厅等级   2288007.0  1.024254e-01  4.410252e-01  0.0       0.0   \n",
       "建筑：联盟货车等级   2288007.0  7.723403e-01  1.821324e+00  0.0       0.0   \n",
       "建筑：占卜台等级    2288007.0  2.011803e-01  9.732027e-01  0.0       0.0   \n",
       "建筑：祭坛等级     2288007.0  1.797560e-01  8.920109e-01  0.0       0.0   \n",
       "建筑：冒险传送门等级  2288007.0  2.919528e-01  1.304187e+00  0.0       0.0   \n",
       "科研：侦查等级     2288007.0  3.310995e-01  7.376340e-01  0.0       0.0   \n",
       "科研：训练速度等级   2288007.0  2.992207e-01  9.860072e-01  0.0       0.0   \n",
       "科研：守护者      2288007.0  2.388411e-02  1.526881e-01  0.0       0.0   \n",
       "科研：巨兽驯兽师    2288007.0  2.294705e-02  1.497347e-01  0.0       0.0   \n",
       "科研：吟唱者      2288007.0  1.969137e-02  1.389375e-01  0.0       0.0   \n",
       "科研：勇士攻击     2288007.0  2.389110e-02  2.531641e-01  0.0       0.0   \n",
       "科研：驯兽师攻击    2288007.0  2.248857e-02  2.463319e-01  0.0       0.0   \n",
       "科研：萨满攻击     2288007.0  1.851262e-02  2.248276e-01  0.0       0.0   \n",
       "科研：战斗大师     2288007.0  2.749117e-04  1.657819e-02  0.0       0.0   \n",
       "科研：高阶巨兽骑兵   2288007.0  2.609258e-04  1.615109e-02  0.0       0.0   \n",
       "科研：图腾大师     2288007.0  2.338280e-04  1.528965e-02  0.0       0.0   \n",
       "科研：部队防御     2288007.0  7.141587e-04  6.896717e-02  0.0       0.0   \n",
       "科研：勇士防御     2288007.0  4.453658e-04  5.298984e-02  0.0       0.0   \n",
       "科研：驯兽师防御    2288007.0  4.305057e-04  5.274195e-02  0.0       0.0   \n",
       "科研：萨满防御     2288007.0  4.034079e-04  5.005509e-02  0.0       0.0   \n",
       "科研：勇士生命     2288007.0  6.276205e-04  6.631231e-02  0.0       0.0   \n",
       "科研：驯兽师生命    2288007.0  5.472011e-04  6.172524e-02  0.0       0.0   \n",
       "科研：萨满生命     2288007.0  5.004355e-04  5.829155e-02  0.0       0.0   \n",
       "科研：狂战士      2288007.0  1.748246e-05  4.181168e-03  0.0       0.0   \n",
       "科研：龙骑兵      2288007.0  1.966777e-05  4.434794e-03  0.0       0.0   \n",
       "科研：神谕者      2288007.0  1.486009e-05  3.854851e-03  0.0       0.0   \n",
       "科研：部队攻击     2288007.0  2.054190e-05  1.266496e-02  0.0       0.0   \n",
       "科研：建造速度     2288007.0  1.221509e-01  5.955828e-01  0.0       0.0   \n",
       "科研：资源保护     2288007.0  3.474815e-02  2.674120e-01  0.0       0.0   \n",
       "科研：部队消耗     2288007.0  3.261528e-02  2.689738e-01  0.0       0.0   \n",
       "科研：木材生产     2288007.0  3.545531e-02  2.994074e-01  0.0       0.0   \n",
       "科研：石头生产     2288007.0  2.529713e-03  7.521916e-02  0.0       0.0   \n",
       "科研：象牙生产     2288007.0  5.773584e-04  3.492143e-02  0.0       0.0   \n",
       "科研：肉类生产     2288007.0  4.248370e-02  3.108336e-01  0.0       0.0   \n",
       "科研：木材采集     2288007.0  2.153971e-02  2.309065e-01  0.0       0.0   \n",
       "科研：石头采集     2288007.0  1.700170e-03  6.119213e-02  0.0       0.0   \n",
       "科研：象牙采集     2288007.0  4.160826e-04  2.830898e-02  0.0       0.0   \n",
       "科研：肉类采集     2288007.0  1.793876e-02  1.939576e-01  0.0       0.0   \n",
       "科研：部队负重     2288007.0  2.884388e-02  3.072257e-01  0.0       0.0   \n",
       "科研：魔法采集     2288007.0  1.925693e-03  6.361588e-02  0.0       0.0   \n",
       "科研：魔法生产     2288007.0  7.764836e-03  1.408421e-01  0.0       0.0   \n",
       "科研：据点耐久     2288007.0  1.104227e-01  4.808994e-01  0.0       0.0   \n",
       "科研：据点二      2288007.0  4.435432e-02  2.058811e-01  0.0       0.0   \n",
       "科研：医院容量     2288007.0  2.869703e-02  2.384797e-01  0.0       0.0   \n",
       "科研：领土采集奖励   2288007.0  3.393871e-02  2.508571e-01  0.0       0.0   \n",
       "科研：治疗速度     2288007.0  2.206287e-02  2.021670e-01  0.0       0.0   \n",
       "科研：据点三      2288007.0  8.789309e-04  2.963374e-02  0.0       0.0   \n",
       "科研：联盟行军速度   2288007.0  4.077785e-04  3.922663e-02  0.0       0.0   \n",
       "科研：战斗行军速度   2288007.0  6.643336e-04  5.136670e-02  0.0       0.0   \n",
       "科研：采集行军速度   2288007.0  6.070786e-04  4.809365e-02  0.0       0.0   \n",
       "科研：据点四      2288007.0  5.681801e-06  2.383647e-03  0.0       0.0   \n",
       "科研：增援部队容量   2288007.0  2.185308e-06  2.192641e-03  0.0       0.0   \n",
       "科研：行军大小     2288007.0  1.398597e-05  8.967674e-03  0.0       0.0   \n",
       "科研：资源帮助容量   2288007.0  6.118862e-06  6.271804e-03  0.0       0.0   \n",
       "PVP次数       2288007.0  2.148313e+00  1.167797e+01  0.0       0.0   \n",
       "主动发起PVP次数   2288007.0  1.059639e+00  9.074459e+00  0.0       0.0   \n",
       "PVP胜利次数     2288007.0  9.838589e-01  8.951280e+00  0.0       0.0   \n",
       "PVE次数       2288007.0  2.844738e+00  1.276245e+01  0.0       0.0   \n",
       "主动发起PVE次数   2288007.0  2.832409e+00  1.271820e+01  0.0       0.0   \n",
       "PVE胜利次数     2288007.0  2.556749e+00  1.184737e+01  0.0       0.0   \n",
       "在线时长        2288007.0  1.020749e+01  3.895946e+01  0.0       0.5   \n",
       "付费金额        2288007.0  5.346691e-01  2.263835e+01  0.0       0.0   \n",
       "付费次数        2288007.0  5.770699e-02  7.090886e-01  0.0       0.0   \n",
       "45日付费金额     2288007.0  1.793146e+00  8.846303e+01  0.0       0.0   \n",
       "\n",
       "                     50%           75%           max  \n",
       "字段解释                                                  \n",
       "玩家唯一ID      1.419095e+06  2.299006e+06  3.190530e+06  \n",
       "木头获取数量      4.203800e+04  1.531180e+05  1.239962e+09  \n",
       "木头消耗数量      9.830000e+03  9.855700e+04  7.995875e+08  \n",
       "石头获取数量      0.000000e+00  0.000000e+00  1.214869e+09  \n",
       "石头消耗数量      0.000000e+00  0.000000e+00  7.962378e+08  \n",
       "象牙获取数量      0.000000e+00  0.000000e+00  5.744961e+08  \n",
       "象牙消耗数量      0.000000e+00  0.000000e+00  4.481972e+08  \n",
       "肉获取数量       3.458700e+04  1.360010e+05  1.470644e+09  \n",
       "肉消耗数量       6.470000e+03  6.605400e+04  8.889537e+08  \n",
       "魔法获取数量      0.000000e+00  0.000000e+00  2.637228e+08  \n",
       "魔法消耗数量      0.000000e+00  0.000000e+00  2.637229e+08  \n",
       "勇士招募数量      0.000000e+00  0.000000e+00  8.749180e+05  \n",
       "勇士损失数量      0.000000e+00  0.000000e+00  8.788830e+05  \n",
       "驯兽师招募数量     0.000000e+00  0.000000e+00  3.538520e+05  \n",
       "驯兽师损失数量     0.000000e+00  0.000000e+00  3.703750e+05  \n",
       "萨满招募数量      0.000000e+00  0.000000e+00  8.767537e+06  \n",
       "萨满损失数量      0.000000e+00  0.000000e+00  8.769162e+06  \n",
       "勇士伤兵产生数量    0.000000e+00  0.000000e+00  8.039960e+05  \n",
       "勇士伤兵恢复数量    0.000000e+00  0.000000e+00  8.039960e+05  \n",
       "驯兽师伤兵产生数量   0.000000e+00  0.000000e+00  3.479670e+05  \n",
       "驯兽师伤兵恢复数量   0.000000e+00  0.000000e+00  3.479670e+05  \n",
       "萨满伤兵产生数量    0.000000e+00  0.000000e+00  8.763256e+06  \n",
       "萨满伤兵恢复数量    0.000000e+00  0.000000e+00  8.704561e+06  \n",
       "通用加速获取数量    0.000000e+00  5.300000e+01  7.954840e+05  \n",
       "通用加速使用数量    0.000000e+00  0.000000e+00  7.646370e+05  \n",
       "建筑加速获取数量    0.000000e+00  2.320000e+02  4.113620e+05  \n",
       "建筑加速使用数量    0.000000e+00  4.600000e+01  3.065150e+05  \n",
       "科研加速获取数量    0.000000e+00  5.000000e+01  3.777960e+05  \n",
       "科研加速使用数量    0.000000e+00  0.000000e+00  3.384370e+05  \n",
       "训练加速获取数量    4.500000e+01  1.000000e+02  6.716070e+05  \n",
       "训练加速使用数量    0.000000e+00  0.000000e+00  5.295870e+05  \n",
       "治疗加速获取数量    0.000000e+00  0.000000e+00  1.404800e+04  \n",
       "治疗加速使用数量    0.000000e+00  0.000000e+00  1.464200e+04  \n",
       "建筑：士兵小屋等级   0.000000e+00  2.000000e+00  2.000000e+01  \n",
       "建筑：治疗小井等级   0.000000e+00  1.000000e+00  1.900000e+01  \n",
       "建筑：要塞等级     1.000000e+00  4.000000e+00  2.300000e+01  \n",
       "建筑：据点传送门等级  0.000000e+00  3.000000e+00  2.300000e+01  \n",
       "建筑：兵营等级     0.000000e+00  1.000000e+00  2.100000e+01  \n",
       "建筑：治疗之泉等级   0.000000e+00  1.000000e+00  2.100000e+01  \n",
       "建筑：智慧神庙等级   0.000000e+00  1.000000e+00  2.200000e+01  \n",
       "建筑：联盟大厅等级   0.000000e+00  0.000000e+00  2.000000e+01  \n",
       "建筑：仓库等级     0.000000e+00  1.000000e+00  2.100000e+01  \n",
       "建筑：瞭望塔等级    0.000000e+00  1.000000e+00  2.100000e+01  \n",
       "建筑：魔法幸运树等级  0.000000e+00  1.000000e+00  2.100000e+01  \n",
       "建筑：战争大厅等级   0.000000e+00  0.000000e+00  1.800000e+01  \n",
       "建筑：联盟货车等级   0.000000e+00  0.000000e+00  1.900000e+01  \n",
       "建筑：占卜台等级    0.000000e+00  0.000000e+00  1.900000e+01  \n",
       "建筑：祭坛等级     0.000000e+00  0.000000e+00  1.700000e+01  \n",
       "建筑：冒险传送门等级  0.000000e+00  0.000000e+00  2.100000e+01  \n",
       "科研：侦查等级     0.000000e+00  0.000000e+00  9.000000e+00  \n",
       "科研：训练速度等级   0.000000e+00  0.000000e+00  1.700000e+01  \n",
       "科研：守护者      0.000000e+00  0.000000e+00  1.000000e+00  \n",
       "科研：巨兽驯兽师    0.000000e+00  0.000000e+00  1.000000e+00  \n",
       "科研：吟唱者      0.000000e+00  0.000000e+00  1.000000e+00  \n",
       "科研：勇士攻击     0.000000e+00  0.000000e+00  1.300000e+01  \n",
       "科研：驯兽师攻击    0.000000e+00  0.000000e+00  1.100000e+01  \n",
       "科研：萨满攻击     0.000000e+00  0.000000e+00  1.000000e+01  \n",
       "科研：战斗大师     0.000000e+00  0.000000e+00  1.000000e+00  \n",
       "科研：高阶巨兽骑兵   0.000000e+00  0.000000e+00  1.000000e+00  \n",
       "科研：图腾大师     0.000000e+00  0.000000e+00  1.000000e+00  \n",
       "科研：部队防御     0.000000e+00  0.000000e+00  1.400000e+01  \n",
       "科研：勇士防御     0.000000e+00  0.000000e+00  1.100000e+01  \n",
       "科研：驯兽师防御    0.000000e+00  0.000000e+00  1.100000e+01  \n",
       "科研：萨满防御     0.000000e+00  0.000000e+00  1.100000e+01  \n",
       "科研：勇士生命     0.000000e+00  0.000000e+00  1.100000e+01  \n",
       "科研：驯兽师生命    0.000000e+00  0.000000e+00  1.100000e+01  \n",
       "科研：萨满生命     0.000000e+00  0.000000e+00  1.100000e+01  \n",
       "科研：狂战士      0.000000e+00  0.000000e+00  1.000000e+00  \n",
       "科研：龙骑兵      0.000000e+00  0.000000e+00  1.000000e+00  \n",
       "科研：神谕者      0.000000e+00  0.000000e+00  1.000000e+00  \n",
       "科研：部队攻击     0.000000e+00  0.000000e+00  1.100000e+01  \n",
       "科研：建造速度     0.000000e+00  0.000000e+00  1.500000e+01  \n",
       "科研：资源保护     0.000000e+00  0.000000e+00  1.100000e+01  \n",
       "科研：部队消耗     0.000000e+00  0.000000e+00  1.100000e+01  \n",
       "科研：木材生产     0.000000e+00  0.000000e+00  9.000000e+00  \n",
       "科研：石头生产     0.000000e+00  0.000000e+00  9.000000e+00  \n",
       "科研：象牙生产     0.000000e+00  0.000000e+00  9.000000e+00  \n",
       "科研：肉类生产     0.000000e+00  0.000000e+00  1.100000e+01  \n",
       "科研：木材采集     0.000000e+00  0.000000e+00  9.000000e+00  \n",
       "科研：石头采集     0.000000e+00  0.000000e+00  9.000000e+00  \n",
       "科研：象牙采集     0.000000e+00  0.000000e+00  7.000000e+00  \n",
       "科研：肉类采集     0.000000e+00  0.000000e+00  9.000000e+00  \n",
       "科研：部队负重     0.000000e+00  0.000000e+00  1.000000e+01  \n",
       "科研：魔法采集     0.000000e+00  0.000000e+00  9.000000e+00  \n",
       "科研：魔法生产     0.000000e+00  0.000000e+00  9.000000e+00  \n",
       "科研：据点耐久     0.000000e+00  0.000000e+00  1.000000e+01  \n",
       "科研：据点二      0.000000e+00  0.000000e+00  1.000000e+00  \n",
       "科研：医院容量     0.000000e+00  0.000000e+00  1.100000e+01  \n",
       "科研：领土采集奖励   0.000000e+00  0.000000e+00  1.000000e+01  \n",
       "科研：治疗速度     0.000000e+00  0.000000e+00  9.000000e+00  \n",
       "科研：据点三      0.000000e+00  0.000000e+00  1.000000e+00  \n",
       "科研：联盟行军速度   0.000000e+00  0.000000e+00  1.000000e+01  \n",
       "科研：战斗行军速度   0.000000e+00  0.000000e+00  1.100000e+01  \n",
       "科研：采集行军速度   0.000000e+00  0.000000e+00  1.000000e+01  \n",
       "科研：据点四      0.000000e+00  0.000000e+00  1.000000e+00  \n",
       "科研：增援部队容量   0.000000e+00  0.000000e+00  3.000000e+00  \n",
       "科研：行军大小     0.000000e+00  0.000000e+00  9.000000e+00  \n",
       "科研：资源帮助容量   0.000000e+00  0.000000e+00  8.000000e+00  \n",
       "PVP次数       0.000000e+00  1.000000e+00  2.054000e+03  \n",
       "主动发起PVP次数   0.000000e+00  0.000000e+00  2.051000e+03  \n",
       "PVP胜利次数     0.000000e+00  0.000000e+00  1.904000e+03  \n",
       "PVE次数       0.000000e+00  1.000000e+00  5.090000e+02  \n",
       "主动发起PVE次数   0.000000e+00  1.000000e+00  5.090000e+02  \n",
       "PVE胜利次数     0.000000e+00  1.000000e+00  4.880000e+02  \n",
       "在线时长        1.833333e+00  4.833333e+00  2.049667e+03  \n",
       "付费金额        0.000000e+00  0.000000e+00  7.457950e+03  \n",
       "付费次数        0.000000e+00  0.000000e+00  1.050000e+02  \n",
       "45日付费金额     0.000000e+00  0.000000e+00  3.297781e+04  "
      ]
     },
     "execution_count": 27,
     "metadata": {},
     "output_type": "execute_result"
    }
   ],
   "source": [
    "data.describe().T"
   ]
  },
  {
   "cell_type": "markdown",
   "metadata": {},
   "source": [
    "数据左偏严重<br>\n",
    "- 根据调查，游戏的资源数据往往都是左偏的，这是因为大于50%的新增用户会在第二天就流失掉，因此大部分用户所掌握的资源量都很少。\n",
    "- 对于“石头”这样明显是基础资源的特征来说，位于上四分位数的值依然是0，至少有75%的玩家没有坚持到开采出木头以外的资源，玩家流失情况可能比我们想象得要严重很多\n",
    "- 高度偏态的信息不利于异常值检测，可以预见大量的长尾数据会被归为异常值，因此我们需要谨慎处理异常值\n"
   ]
  },
  {
   "cell_type": "markdown",
   "metadata": {},
   "source": [
    "### 2. 标签的探索：游戏经营的重要指标与经营现状"
   ]
  },
  {
   "cell_type": "code",
   "execution_count": 30,
   "metadata": {},
   "outputs": [],
   "source": [
    "#探索7日及45日付费金额状况\n",
    "y = data.iloc[:,-1]\n",
    "SevenDayPayAmount = data.loc[:,\"付费金额\"] "
   ]
  },
  {
   "cell_type": "code",
   "execution_count": 43,
   "metadata": {},
   "outputs": [
    {
     "data": {
      "text/plain": [
       "(45988,)"
      ]
     },
     "execution_count": 43,
     "metadata": {},
     "output_type": "execute_result"
    }
   ],
   "source": [
    "y[y!=0].shape"
   ]
  },
  {
   "cell_type": "code",
   "execution_count": 41,
   "metadata": {},
   "outputs": [
    {
     "data": {
      "text/plain": [
       "(11309,)"
      ]
     },
     "execution_count": 41,
     "metadata": {},
     "output_type": "execute_result"
    }
   ],
   "source": [
    "SevenDayPayAmount[SevenDayPayAmount!=y][SevenDayPayAmount!=0].shape#[][]是两次筛选"
   ]
  },
  {
   "cell_type": "code",
   "execution_count": 40,
   "metadata": {},
   "outputs": [
    {
     "data": {
      "text/plain": [
       "count    2.288007e+06\n",
       "mean     1.793146e+00\n",
       "std      8.846303e+01\n",
       "min      0.000000e+00\n",
       "50%      0.000000e+00\n",
       "75%      0.000000e+00\n",
       "90%      0.000000e+00\n",
       "99%      3.970000e+00\n",
       "max      3.297781e+04\n",
       "Name: 45日付费金额, dtype: float64"
      ]
     },
     "execution_count": 40,
     "metadata": {},
     "output_type": "execute_result"
    }
   ],
   "source": [
    "#游戏中常有10%的付费用户养全服的情况，因此添加0.9及0.99两个选项\n",
    "y.describe([0.75,0.9,0.99])"
   ]
  },
  {
   "cell_type": "markdown",
   "metadata": {},
   "source": [
    "从以上分布来看，99%的用户都没有付费，游戏转化可能存在大问题"
   ]
  },
  {
   "cell_type": "code",
   "execution_count": 44,
   "metadata": {},
   "outputs": [],
   "source": [
    "#用于展示7日与45日氪金情况的关键指标的函数\n",
    "#RevenueSeries为Series结构\n",
    "def RevenueFocus(RevenueSeries):\n",
    "    AllUsers = len(RevenueSeries)#全部用户\n",
    "    PaidUsers = (RevenueSeries!=0).sum()#付费用户\n",
    "    TotalPayment = RevenueSeries.sum()#总付费金额\n",
    "    #打印结果：付费率，付费人数，转化总金额，ARPU，ARPPU，前500名/1000名\n",
    "    #5000名高氪用户金额占比\n",
    "    print(\"付费率:{:.3f}%\".format(100*PaidUsers/AllUsers))\n",
    "    print(\"付费人数:{:.3f}%\".format(PaidUsers))\n",
    "    print(\"转化总金额:{:.3f}%\".format(TotalPayment))\n",
    "    print(\"ARPU：{:.3f}%\".format(TotalPayment/AllUsers))\n",
    "    print(\"ARPPU：{:.3f}%\".format(TotalPayment/PaidUsers))\n",
    "    print(\"前500高氪用户金额占比：{:.3f}%\".format(100*RevenueSeries.sort_values(ascending=False)[:500].sum()/TotalPayment))\n",
    "    print(\"前1000高氪用户金额占比：{:.3f}%\".format(100*RevenueSeries.sort_values(ascending=False)[:1000].sum()/TotalPayment))\n",
    "    print(\"前5000高氪用户金额占比：{:.3f}%\".format(100*RevenueSeries.sort_values(ascending=False)[:5000].sum()/TotalPayment))\n"
   ]
  },
  {
   "cell_type": "code",
   "execution_count": 46,
   "metadata": {},
   "outputs": [
    {
     "name": "stdout",
     "output_type": "stream",
     "text": [
      "付费率:2.010%\n",
      "付费人数:45988.000%\n",
      "转化总金额:4102730.110%\n",
      "ARPU：1.793%\n",
      "ARPPU：89.213%\n",
      "前500高氪用户金额占比：51.618%\n",
      "前1000高氪用户金额占比：64.878%\n",
      "前5000高氪用户金额占比：89.375%\n"
     ]
    }
   ],
   "source": [
    "#45日转化情况\n",
    "RevenueFocus(y)"
   ]
  },
  {
   "cell_type": "code",
   "execution_count": 47,
   "metadata": {},
   "outputs": [
    {
     "name": "stdout",
     "output_type": "stream",
     "text": [
      "付费率:1.811%\n",
      "付费人数:41439.000%\n",
      "转化总金额:1223326.660%\n",
      "ARPU：0.535%\n",
      "ARPPU：29.521%\n",
      "前500高氪用户金额占比：45.211%\n",
      "前1000高氪用户金额占比：57.231%\n",
      "前5000高氪用户金额占比：83.002%\n"
     ]
    }
   ],
   "source": [
    "#7日转化情况\n",
    "RevenueFocus(SevenDayPayAmount)"
   ]
  },
  {
   "cell_type": "markdown",
   "metadata": {},
   "source": [
    "高氪用户占了付费的80%以上，越往后，越明显"
   ]
  },
  {
   "cell_type": "markdown",
   "metadata": {},
   "source": [
    "参考2016年全球（free to play）手游付费率为2.3%。野蛮时代低于该值<br>\n",
    "野蛮时代属于出名制作公司Tap4fun旗下的游戏，它有着丰富的制作经验以及大量的群众基础，但付费率很不够看<br>\n",
    "2020年，SLG手游的平均付费率在5%，顶级的在15%<br>\n",
    "400万的收入不能覆盖掉其运营游戏的流量成本和人工成本<br>"
   ]
  },
  {
   "cell_type": "code",
   "execution_count": 48,
   "metadata": {},
   "outputs": [
    {
     "data": {
      "text/plain": [
       "4549"
      ]
     },
     "execution_count": 48,
     "metadata": {},
     "output_type": "execute_result"
    }
   ],
   "source": [
    "#7日->45日新增付费用户数\n",
    "45988-41439"
   ]
  },
  {
   "cell_type": "code",
   "execution_count": 49,
   "metadata": {},
   "outputs": [
    {
     "data": {
      "text/plain": [
       "2246568"
      ]
     },
     "execution_count": 49,
     "metadata": {},
     "output_type": "execute_result"
    }
   ],
   "source": [
    "#前七日无氪金的用户\n",
    "(SevenDayPayAmount==0).sum()"
   ]
  },
  {
   "cell_type": "code",
   "execution_count": 50,
   "metadata": {},
   "outputs": [
    {
     "data": {
      "text/plain": [
       "0.2024866373953515"
      ]
     },
     "execution_count": 50,
     "metadata": {},
     "output_type": "execute_result"
    }
   ],
   "source": [
    "#7-45日新增付费用户占7日前未氪金用户的占比\n",
    "100*(45988 - 41439)/(SevenDayPayAmount == 0).sum()"
   ]
  },
  {
   "cell_type": "markdown",
   "metadata": {},
   "source": [
    "- 从数据逻辑来看，45日总付费不为0的用户一定包括前7日内付过费的用户。从7日到45日，新增付费用户仅有4549人（占不氪金用户的0.2%），即是说如果**一个新玩家在服的前七天没有氪金，那他/她在未来一个月内99.8%的可能性都不会氪金**。这可能时由于如下原因导致的：\n",
    "> 1. 所有的用户都留存到了45日之后，这说明新用户福利过去后，游戏中的转化手段非常贫瘠，转化刺激严重不足\n",
    "> 2. 大部分用户在45日之前已经流失，因此才没有继续转化为氪金用户的机会"
   ]
  },
  {
   "cell_type": "code",
   "execution_count": 54,
   "metadata": {},
   "outputs": [
    {
     "data": {
      "text/plain": [
       "30130"
      ]
     },
     "execution_count": 54,
     "metadata": {},
     "output_type": "execute_result"
    }
   ],
   "source": [
    "#7日之后再也没有付费的用户\n",
    "#即，45日时付费金额与7日付费金额相同、且7日时付过费的用户\n",
    "SevenDayPayAmount[SevenDayPayAmount == y][SevenDayPayAmount != 0].count()"
   ]
  },
  {
   "cell_type": "code",
   "execution_count": 55,
   "metadata": {},
   "outputs": [
    {
     "data": {
      "text/plain": [
       "72.70928352518159"
      ]
     },
     "execution_count": 55,
     "metadata": {},
     "output_type": "execute_result"
    }
   ],
   "source": [
    "#占前7天总付费人数的占比\n",
    "100*30130/41439"
   ]
  },
  {
   "cell_type": "markdown",
   "metadata": {},
   "source": [
    "不难发现，7日之前付过费，并且7日之后再也没有付费的用户有3万多人，占到前7天总付费用户的72%，**即一个新玩家在服前七天有氪金，但她/他在未来一个月还是有7成的概率不再继续氪金**。这可能说明（按可能性排序）：\n",
    "> 1. 对大部分用户而言，最初氪的是超低价/超实惠新手礼包，后续氪金礼包中的福利/以及价格超出了大部分用户对游戏氪金的心理预期\n",
    "> 2. 新手礼包力度过大，导致后续氪金礼包中的福利看起来不够实惠，用户再付费门槛较高\n",
    "> 3. 游戏本身粘性不足，无论用户是否氪金，大部分人都在7-45日内自然流失了（甚至在前7日就流失了大部分）\n",
    "> 4. 开局需要发育时玩家更愿意氪金解决问题（痒感充足），发育起来之后便不再具有强烈氪金需求/发育不起来直接退服了\n",
    "> 5. （可能性较小，仅针对少部分前7日巨氪但7日后却不再氪的大佬）氪金后体验一般甚至较差，例如，发现氪几百、上千元后对玩家竞争力无明显提升"
   ]
  },
  {
   "cell_type": "code",
   "execution_count": 57,
   "metadata": {},
   "outputs": [
    {
     "data": {
      "text/plain": [
       "count    30130.000000\n",
       "mean        11.407407\n",
       "std         71.134875\n",
       "min          0.990000\n",
       "25%          0.990000\n",
       "50%          1.980000\n",
       "75%          5.980000\n",
       "max       4086.520000\n",
       "Name: 付费金额, dtype: float64"
      ]
     },
     "execution_count": 57,
     "metadata": {},
     "output_type": "execute_result"
    }
   ],
   "source": [
    "#7日后再也没有付过费的用户前7日的氪金概况\n",
    "SevenDayPayAmount[SevenDayPayAmount == y][SevenDayPayAmount != 0].describe()"
   ]
  },
  {
   "cell_type": "code",
   "execution_count": 58,
   "metadata": {},
   "outputs": [
    {
     "data": {
      "text/plain": [
       "343705.17000000004"
      ]
     },
     "execution_count": 58,
     "metadata": {},
     "output_type": "execute_result"
    }
   ],
   "source": [
    "SevenDayPayAmount[SevenDayPayAmount == y][SevenDayPayAmount != 0].sum()"
   ]
  },
  {
   "cell_type": "code",
   "execution_count": 59,
   "metadata": {},
   "outputs": [
    {
     "data": {
      "text/plain": [
       "count    11309.000000\n",
       "mean        77.780661\n",
       "std        289.610458\n",
       "min          0.990000\n",
       "25%          2.980000\n",
       "50%         15.970000\n",
       "75%         45.940000\n",
       "max       7457.950000\n",
       "Name: 付费金额, dtype: float64"
      ]
     },
     "execution_count": 59,
     "metadata": {},
     "output_type": "execute_result"
    }
   ],
   "source": [
    "#7日后继续付费的用户前7日的氪金概况\n",
    "SevenDayPayAmount[SevenDayPayAmount != y][SevenDayPayAmount != 0].describe()"
   ]
  },
  {
   "cell_type": "code",
   "execution_count": 60,
   "metadata": {},
   "outputs": [
    {
     "data": {
      "text/plain": [
       "879621.4900000001"
      ]
     },
     "execution_count": 60,
     "metadata": {},
     "output_type": "execute_result"
    }
   ],
   "source": [
    "SevenDayPayAmount[SevenDayPayAmount != y][SevenDayPayAmount != 0].sum()"
   ]
  },
  {
   "cell_type": "code",
   "execution_count": 61,
   "metadata": {},
   "outputs": [
    {
     "data": {
      "text/plain": [
       "count    11309.000000\n",
       "mean       315.963475\n",
       "std       1202.828424\n",
       "min          1.980000\n",
       "25%         16.940000\n",
       "50%         48.920000\n",
       "75%        163.760000\n",
       "max      32977.810000\n",
       "Name: 45日付费金额, dtype: float64"
      ]
     },
     "execution_count": 61,
     "metadata": {},
     "output_type": "execute_result"
    }
   ],
   "source": [
    "#7日后继续付费的用户在45日时的氪金概况\n",
    "y[SevenDayPayAmount != y][SevenDayPayAmount != 0].describe()"
   ]
  },
  {
   "cell_type": "markdown",
   "metadata": {},
   "source": [
    "非常明显，7日后继续氪金的玩家在前7日会氪更多的金额，7日后不再氪金的玩家中有75%都只氪了6元以下的金额，而7日后继续氪金的玩家中有50%以上都磕了16元左右，这极大地印证了我们提出的第一条理由：大部分人氪新手礼包，而后续礼包的价格在大部分人的心理预期之外。同时，7日后不再氪金的玩家中也有不少氪过百过千的玩家，最终放弃游戏可能是因为自然流失/氪金后体验不足以满足部分用户的想象。但从7日后继续付费的用户氪金情况来看，用户是倾向于越氪越多的，因此大部分用户对于氪金后的感受应该是满意的。（后续我们会看到，结合ARPU和ARPPU的数据，可以推测氪金后的游戏体验是很不错的）。"
   ]
  },
  {
   "cell_type": "code",
   "execution_count": 62,
   "metadata": {},
   "outputs": [],
   "source": [
    "#使用箱线图来对比两类用户在前7日的氪金情况"
   ]
  },
  {
   "cell_type": "code",
   "execution_count": 63,
   "metadata": {},
   "outputs": [
    {
     "data": {
      "image/png": "[encoded data removed]",
      "text/plain": [
       "<Figure size 1080x504 with 1 Axes>"
      ]
     },
     "metadata": {
      "needs_background": "light"
     },
     "output_type": "display_data"
    }
   ],
   "source": [
    "plt.figure(figsize=(15,7))\n",
    "plt.boxplot([SevenDayPayAmount[SevenDayPayAmount != y][SevenDayPayAmount != 0],SevenDayPayAmount[SevenDayPayAmount == y][SevenDayPayAmount != 0]],labels=[\"7日后继续付费\",\"7日后不再付费\"],vert=False,showmeans=False)\n",
    "plt.xlim(-1,50)\n",
    "plt.title('前7日消费金额分布图',fontsize=20.0)\n",
    "plt.yticks(fontsize=15.0)\n",
    "plt.xticks(range(0,50,2),fontsize=15.0)\n",
    "#plt.vlines(6.0,ymin = plt.ylim()[0]+0.1,ymax = plt.ylim()[1]-0.1,colors=\"red\",linestyles=\"dotted\")\n",
    "plt.show()"
   ]
  },
  {
   "cell_type": "code",
   "execution_count": 66,
   "metadata": {},
   "outputs": [
    {
     "data": {
      "text/plain": [
       "[1, 2, 3, 4, 5, 6, 7, 8, 9, 10, 11, 12, 13, 14, 15]"
      ]
     },
     "execution_count": 66,
     "metadata": {},
     "output_type": "execute_result"
    }
   ],
   "source": [
    "[*range(1,16)]"
   ]
  },
  {
   "cell_type": "code",
   "execution_count": 70,
   "metadata": {},
   "outputs": [
    {
     "data": {
      "text/plain": [
       "['s', 'a', 'd']"
      ]
     },
     "execution_count": 70,
     "metadata": {},
     "output_type": "execute_result"
    }
   ],
   "source": [
    "a=\"sad\"\n",
    "[*a]"
   ]
  },
  {
   "cell_type": "code",
   "execution_count": 71,
   "metadata": {},
   "outputs": [
    {
     "name": "stdout",
     "output_type": "stream",
     "text": [
      "1\n",
      "37.683%\n",
      "62.317%\n",
      "-0.246%\n",
      "2\n",
      "43.720%\n",
      "56.280%\n",
      "-0.126%\n",
      "3\n",
      "45.759%\n",
      "54.241%\n",
      "-0.085%\n",
      "4\n",
      "46.532%\n",
      "53.468%\n",
      "-0.069%\n",
      "5\n",
      "48.094%\n",
      "51.906%\n",
      "-0.038%\n",
      "6\n",
      "50.778%\n",
      "49.222%\n",
      "0.016%\n",
      "当7日内付费金额大于6.00时，用户继续氪金的可能性比不再氪金的可能性更高！\n"
     ]
    }
   ],
   "source": [
    "PotentialPoints = range(1,16)\n",
    "[*PotentialPoints]\n",
    "for i in PotentialPoints:\n",
    "    #取出所有7天内付费金额超出i的付费用户\n",
    "    HigherThanPoint = SevenDayPayAmount[SevenDayPayAmount>=i] \n",
    "    #这些用户中，继续付费的用户所占的比例\n",
    "    KeepPaid = len(HigherThanPoint[SevenDayPayAmount != y])/len(HigherThanPoint) \n",
    "    #这些用户中，停止付费的用户所占的比例，其实就是1-KeepPaid\n",
    "    StopPaid = len(HigherThanPoint[SevenDayPayAmount == y])/len(HigherThanPoint)\n",
    "    print(i)\n",
    "    print(\"{:.3f}%\".format(100*KeepPaid))\n",
    "    print(\"{:.3f}%\".format(100*StopPaid))\n",
    "    print(\"{:.3f}%\".format(KeepPaid - StopPaid))\n",
    "    if KeepPaid - StopPaid > 0:\n",
    "        print(\"当7日内付费金额大于{:.2f}时，用户继续氪金的可能性比不再氪金的可能性更高！\".format(i))\n",
    "        break"
   ]
  },
  {
   "cell_type": "code",
   "execution_count": 72,
   "metadata": {},
   "outputs": [
    {
     "data": {
      "image/png": "[encoded data removed]",
      "text/plain": [
       "<Figure size 1080x504 with 1 Axes>"
      ]
     },
     "metadata": {
      "needs_background": "light"
     },
     "output_type": "display_data"
    }
   ],
   "source": [
    "KeepPaidList = []\n",
    "StopPaidList = []\n",
    "for i in PotentialPoints:\n",
    "    #取出所有7天内付费金额超出i的付费用户\n",
    "    HigherThanPoint = SevenDayPayAmount[SevenDayPayAmount>=i] \n",
    "    #这些用户中，继续付费的用户所占的比例\n",
    "    KeepPaid = len(HigherThanPoint[SevenDayPayAmount != y])/len(HigherThanPoint) \n",
    "    #这些用户中，停止付费的用户所占的比例\n",
    "    StopPaid = len(HigherThanPoint[SevenDayPayAmount == y])/len(HigherThanPoint)\n",
    "    KeepPaidList.append(100*KeepPaid)\n",
    "    StopPaidList.append(100*StopPaid)\n",
    "\n",
    "plt.figure(figsize=(15,7))\n",
    "plt.plot(PotentialPoints,KeepPaidList,label=\"7日后继续付费的概率\",color=\"red\")\n",
    "plt.plot(PotentialPoints,StopPaidList,label=\"7日后停止付费的概率\",color=\"k\")\n",
    "#plt.xlim(-1,50)\n",
    "plt.title('前7日氪金数额增加，继续付费概率/不再付费概率的变化',fontsize=20.0)\n",
    "plt.yticks(fontsize=15.0)\n",
    "plt.xticks(range(0,16,1),fontsize=15.0)\n",
    "plt.legend(fontsize = 15.0, frameon = False)\n",
    "plt.vlines(5.7,ymin = plt.ylim()[0]+0.1,ymax = plt.ylim()[1]-0.1,colors=\"red\",linestyles=\"dotted\")\n",
    "plt.show()"
   ]
  },
  {
   "cell_type": "markdown",
   "metadata": {},
   "source": [
    "在前7日内付费6元以下的用户，无论是否自然流失，未来氪金的可能性都是小于不再付费的可能性的。可以通过设置游戏体验，给与付费5元左右的用户更多的“刺激”，让他们后续继续付费。也可选择直接放弃6元以下的付费用户，体验维持现状或减少资源分配，让更多的资源/服务围绕更有可能付费的用户展开。"
   ]
  },
  {
   "cell_type": "code",
   "execution_count": 73,
   "metadata": {},
   "outputs": [
    {
     "name": "stdout",
     "output_type": "stream",
     "text": [
      "付费率:2.010%\n",
      "付费人数:45988.000%\n",
      "转化总金额:4102730.110%\n",
      "ARPU：1.793%\n",
      "ARPPU：89.213%\n",
      "前500高氪用户金额占比：51.618%\n",
      "前1000高氪用户金额占比：64.878%\n",
      "前5000高氪用户金额占比：89.375%\n"
     ]
    }
   ],
   "source": [
    "#45日转化情况\n",
    "RevenueFocus(y)"
   ]
  },
  {
   "cell_type": "code",
   "execution_count": 74,
   "metadata": {},
   "outputs": [
    {
     "data": {
      "text/plain": [
       "32977.81"
      ]
     },
     "execution_count": 74,
     "metadata": {},
     "output_type": "execute_result"
    }
   ],
   "source": [
    "y.max()"
   ]
  },
  {
   "cell_type": "code",
   "execution_count": 75,
   "metadata": {},
   "outputs": [
    {
     "name": "stdout",
     "output_type": "stream",
     "text": [
      "付费率:1.811%\n",
      "付费人数:41439.000%\n",
      "转化总金额:1223326.660%\n",
      "ARPU：0.535%\n",
      "ARPPU：29.521%\n",
      "前500高氪用户金额占比：45.211%\n",
      "前1000高氪用户金额占比：57.231%\n",
      "前5000高氪用户金额占比：83.002%\n"
     ]
    }
   ],
   "source": [
    "#7日转化情况\n",
    "RevenueFocus(SevenDayPayAmount)"
   ]
  },
  {
   "cell_type": "markdown",
   "metadata": {},
   "source": [
    "来看ARPU与ARPPU数据。ARPU是全服用户平均收入，ARPPU是全服付费用户平均收入，目前来看全服的ARPU较低，但ARPPU还不错，这说明虽然付费人数不多，但是大R（大人民币玩家）的付费能力相对较强。从前5000高氪用户金额占比来看，45日时全服氪金前5000的人(z占比小于0.22%)提供了全服89%的收入，大R们贡献巨大。这令我猜测，《野蛮时代》中的氪金行为应该与玩家竞争力有较为直接的联系，因为许多大R玩家非常偏爱强PK类游戏，付费可以直接让PVP变得异常简单，不过全服最氪玩家在一个月内的消费只有3w2，在SLG手游领域并非一个很高的数字，如果游戏体验优秀，应该还有很大的上升空间。而付费人数不多的问题还可以改善，游戏整体的经营成果还可以上一个台阶。"
   ]
  },
  {
   "cell_type": "markdown",
   "metadata": {},
   "source": [
    "### 3. 特征的探索"
   ]
  },
  {
   "cell_type": "markdown",
   "metadata": {},
   "source": [
    "#### 3.1 在线时长：用户是否以超出常规的速度流失？"
   ]
  },
  {
   "cell_type": "markdown",
   "metadata": {},
   "source": [
    "在分析收入和资源的分布状况时，我们曾推测用户可能以超出常规的速度在流失。通常来说，任意手游的次日留存率及格线应该在50%以上，7日留存应该在30%左右，一个成功的手游则需要在7日达到50%左右的留存，而《野蛮时代》可能并达不到这个次日留存50%的及格线。在特征当中，有一列“在线时长”，是前7日用户在线的时长。通过判断用户在线时长，我们可以大约估计出用户流失的速度。"
   ]
  },
  {
   "cell_type": "code",
   "execution_count": 76,
   "metadata": {},
   "outputs": [],
   "source": [
    "PlayTime = data.loc[:,\"在线时长\"]"
   ]
  },
  {
   "cell_type": "code",
   "execution_count": 77,
   "metadata": {},
   "outputs": [
    {
     "data": {
      "text/plain": [
       "2049.666667"
      ]
     },
     "execution_count": 77,
     "metadata": {},
     "output_type": "execute_result"
    }
   ],
   "source": [
    "PlayTime.max()"
   ]
  },
  {
   "cell_type": "markdown",
   "metadata": {},
   "source": [
    "原数据并未说明这个衡量时间的特征的单位，但7日为168小时，因此该特征的单位应该是分钟。前7日内游戏时长最长的玩家玩了2049分钟，即34个小时，每日玩5个小时以上，也是铁杆玩家可以达得到的数据，单位为分钟是合理的。"
   ]
  },
  {
   "cell_type": "code",
   "execution_count": 79,
   "metadata": {},
   "outputs": [
    {
     "data": {
      "text/plain": [
       "count   2288007.000\n",
       "mean         10.207\n",
       "std          38.959\n",
       "min           0.000\n",
       "25%           0.500\n",
       "50%           1.833\n",
       "75%           4.833\n",
       "max        2049.667\n",
       "Name: 在线时长, dtype: float64"
      ]
     },
     "execution_count": 79,
     "metadata": {},
     "output_type": "execute_result"
    }
   ],
   "source": [
    "pd.set_option(\"display.float_format\", lambda x: \"{:.3f}\".format(x)) #避免显示问题，设置不显示科学计数法\n",
    "PlayTime.describe()"
   ]
  },
  {
   "cell_type": "markdown",
   "metadata": {},
   "source": [
    "75%的人在前7日一共只玩了4.8分钟或以下，这是说超过75%的用户只是稍微看了一眼游戏就被劝退了。"
   ]
  },
  {
   "cell_type": "code",
   "execution_count": 80,
   "metadata": {},
   "outputs": [
    {
     "data": {
      "text/plain": [
       "count   2288007.000\n",
       "mean         10.207\n",
       "std          38.959\n",
       "min           0.000\n",
       "50%           1.833\n",
       "75%           4.833\n",
       "90%          15.000\n",
       "95%          41.333\n",
       "99%         183.657\n",
       "max        2049.667\n",
       "Name: 在线时长, dtype: float64"
      ]
     },
     "execution_count": 80,
     "metadata": {},
     "output_type": "execute_result"
    }
   ],
   "source": [
    "PlayTime.describe(percentiles=[0.75,.9,0.95,.99]) #查看一下90%以上的分布"
   ]
  },
  {
   "cell_type": "markdown",
   "metadata": {},
   "source": [
    "SLG游戏天生会充满许多任务、奖励和剧情，除非用户登录即退出，否则登入一次至少应该停留5分钟以上，新用户停留的时间应当更长（有非常多的内容需要探索、任务列表也很长）。如果一个用户在注册游戏后第二天依然被留存下来、并参与到游戏当中，那两天在线时长至少也应该有15-20分钟。75%的用户在前7日内只玩了4.8分钟，而如下所示，90%的用户在7日内只玩了15分钟以下。据推断，大约只有10~15%的用户在第二天依然留存下来，同时每天大约玩10分钟，7日后依然留存下来的用户大约少于5%。用户的确以超出常规的方式流失，在这种流失方式下，付费率也很难被拯救。"
   ]
  },
  {
   "cell_type": "code",
   "execution_count": 81,
   "metadata": {},
   "outputs": [],
   "source": [
    "#谁是这个玩了2049分钟的用户？"
   ]
  },
  {
   "cell_type": "code",
   "execution_count": 82,
   "metadata": {},
   "outputs": [
    {
     "data": {
      "text/plain": [
       "1"
      ]
     },
     "execution_count": 82,
     "metadata": {},
     "output_type": "execute_result"
    }
   ],
   "source": [
    "(data[\"在线时长\"] > 2000).sum() #可能测试人员，GameManager"
   ]
  },
  {
   "cell_type": "code",
   "execution_count": 83,
   "metadata": {},
   "outputs": [
    {
     "data": {
      "text/html": [
       "<div>\n",
       "<style scoped>\n",
       "    .dataframe tbody tr th:only-of-type {\n",
       "        vertical-align: middle;\n",
       "    }\n",
       "\n",
       "    .dataframe tbody tr th {\n",
       "        vertical-align: top;\n",
       "    }\n",
       "\n",
       "    .dataframe thead th {\n",
       "        text-align: right;\n",
       "    }\n",
       "</style>\n",
       "<table border=\"1\" class=\"dataframe\">\n",
       "  <thead>\n",
       "    <tr style=\"text-align: right;\">\n",
       "      <th>字段解释</th>\n",
       "      <th>玩家唯一ID</th>\n",
       "      <th>玩家注册时间</th>\n",
       "      <th>木头获取数量</th>\n",
       "      <th>木头消耗数量</th>\n",
       "      <th>石头获取数量</th>\n",
       "      <th>石头消耗数量</th>\n",
       "      <th>象牙获取数量</th>\n",
       "      <th>象牙消耗数量</th>\n",
       "      <th>肉获取数量</th>\n",
       "      <th>肉消耗数量</th>\n",
       "      <th>...</th>\n",
       "      <th>PVP次数</th>\n",
       "      <th>主动发起PVP次数</th>\n",
       "      <th>PVP胜利次数</th>\n",
       "      <th>PVE次数</th>\n",
       "      <th>主动发起PVE次数</th>\n",
       "      <th>PVE胜利次数</th>\n",
       "      <th>在线时长</th>\n",
       "      <th>付费金额</th>\n",
       "      <th>付费次数</th>\n",
       "      <th>45日付费金额</th>\n",
       "    </tr>\n",
       "  </thead>\n",
       "  <tbody>\n",
       "    <tr>\n",
       "      <th>488497</th>\n",
       "      <td>645487</td>\n",
       "      <td>2018-03-04 13:43:36</td>\n",
       "      <td>697852.000</td>\n",
       "      <td>300255.000</td>\n",
       "      <td>0.000</td>\n",
       "      <td>0.000</td>\n",
       "      <td>6000.000</td>\n",
       "      <td>0.000</td>\n",
       "      <td>690379.000</td>\n",
       "      <td>196602.000</td>\n",
       "      <td>...</td>\n",
       "      <td>5</td>\n",
       "      <td>0</td>\n",
       "      <td>0</td>\n",
       "      <td>2</td>\n",
       "      <td>2</td>\n",
       "      <td>2</td>\n",
       "      <td>2049.667</td>\n",
       "      <td>0.000</td>\n",
       "      <td>0</td>\n",
       "      <td>0.000</td>\n",
       "    </tr>\n",
       "  </tbody>\n",
       "</table>\n",
       "<p>1 rows × 109 columns</p>\n",
       "</div>"
      ],
      "text/plain": [
       "字段解释    玩家唯一ID               玩家注册时间     木头获取数量     木头消耗数量  石头获取数量  石头消耗数量  \\\n",
       "488497  645487  2018-03-04 13:43:36 697852.000 300255.000   0.000   0.000   \n",
       "\n",
       "字段解释     象牙获取数量  象牙消耗数量      肉获取数量      肉消耗数量  ...  PVP次数  主动发起PVP次数  PVP胜利次数  \\\n",
       "488497 6000.000   0.000 690379.000 196602.000  ...      5          0        0   \n",
       "\n",
       "字段解释    PVE次数  主动发起PVE次数  PVE胜利次数     在线时长  付费金额  付费次数  45日付费金额  \n",
       "488497      2          2        2 2049.667 0.000     0    0.000  \n",
       "\n",
       "[1 rows x 109 columns]"
      ]
     },
     "execution_count": 83,
     "metadata": {},
     "output_type": "execute_result"
    }
   ],
   "source": [
    "data.loc[data[\"在线时长\"] > 2049,:] #69木头获取，69w肉获取"
   ]
  },
  {
   "cell_type": "code",
   "execution_count": 84,
   "metadata": {},
   "outputs": [
    {
     "data": {
      "text/html": [
       "<div>\n",
       "<style scoped>\n",
       "    .dataframe tbody tr th:only-of-type {\n",
       "        vertical-align: middle;\n",
       "    }\n",
       "\n",
       "    .dataframe tbody tr th {\n",
       "        vertical-align: top;\n",
       "    }\n",
       "\n",
       "    .dataframe thead th {\n",
       "        text-align: right;\n",
       "    }\n",
       "</style>\n",
       "<table border=\"1\" class=\"dataframe\">\n",
       "  <thead>\n",
       "    <tr style=\"text-align: right;\">\n",
       "      <th>字段解释</th>\n",
       "      <th>玩家唯一ID</th>\n",
       "      <th>玩家注册时间</th>\n",
       "      <th>木头获取数量</th>\n",
       "      <th>木头消耗数量</th>\n",
       "      <th>石头获取数量</th>\n",
       "      <th>石头消耗数量</th>\n",
       "      <th>象牙获取数量</th>\n",
       "      <th>象牙消耗数量</th>\n",
       "      <th>肉获取数量</th>\n",
       "      <th>肉消耗数量</th>\n",
       "      <th>...</th>\n",
       "      <th>PVP次数</th>\n",
       "      <th>主动发起PVP次数</th>\n",
       "      <th>PVP胜利次数</th>\n",
       "      <th>PVE次数</th>\n",
       "      <th>主动发起PVE次数</th>\n",
       "      <th>PVE胜利次数</th>\n",
       "      <th>在线时长</th>\n",
       "      <th>付费金额</th>\n",
       "      <th>付费次数</th>\n",
       "      <th>45日付费金额</th>\n",
       "    </tr>\n",
       "  </thead>\n",
       "  <tbody>\n",
       "    <tr>\n",
       "      <th>488497</th>\n",
       "      <td>645487</td>\n",
       "      <td>2018-03-04 13:43:36</td>\n",
       "      <td>697852.000</td>\n",
       "      <td>300255.000</td>\n",
       "      <td>0.000</td>\n",
       "      <td>0.000</td>\n",
       "      <td>6000.000</td>\n",
       "      <td>0.000</td>\n",
       "      <td>690379.000</td>\n",
       "      <td>196602.000</td>\n",
       "      <td>...</td>\n",
       "      <td>5</td>\n",
       "      <td>0</td>\n",
       "      <td>0</td>\n",
       "      <td>2</td>\n",
       "      <td>2</td>\n",
       "      <td>2</td>\n",
       "      <td>2049.667</td>\n",
       "      <td>0.000</td>\n",
       "      <td>0</td>\n",
       "      <td>0.000</td>\n",
       "    </tr>\n",
       "    <tr>\n",
       "      <th>1263615</th>\n",
       "      <td>1579134</td>\n",
       "      <td>2018-03-05 11:04:18</td>\n",
       "      <td>15722711.000</td>\n",
       "      <td>15269965.000</td>\n",
       "      <td>8895972.000</td>\n",
       "      <td>7952637.000</td>\n",
       "      <td>4554662.000</td>\n",
       "      <td>3025143.000</td>\n",
       "      <td>23321313.000</td>\n",
       "      <td>21071538.000</td>\n",
       "      <td>...</td>\n",
       "      <td>48</td>\n",
       "      <td>25</td>\n",
       "      <td>11</td>\n",
       "      <td>100</td>\n",
       "      <td>100</td>\n",
       "      <td>86</td>\n",
       "      <td>1674.667</td>\n",
       "      <td>2.980</td>\n",
       "      <td>2</td>\n",
       "      <td>514.680</td>\n",
       "    </tr>\n",
       "  </tbody>\n",
       "</table>\n",
       "<p>2 rows × 109 columns</p>\n",
       "</div>"
      ],
      "text/plain": [
       "字段解释      玩家唯一ID               玩家注册时间       木头获取数量       木头消耗数量      石头获取数量  \\\n",
       "488497    645487  2018-03-04 13:43:36   697852.000   300255.000       0.000   \n",
       "1263615  1579134  2018-03-05 11:04:18 15722711.000 15269965.000 8895972.000   \n",
       "\n",
       "字段解释         石头消耗数量      象牙获取数量      象牙消耗数量        肉获取数量        肉消耗数量  ...  \\\n",
       "488497        0.000    6000.000       0.000   690379.000   196602.000  ...   \n",
       "1263615 7952637.000 4554662.000 3025143.000 23321313.000 21071538.000  ...   \n",
       "\n",
       "字段解释     PVP次数  主动发起PVP次数  PVP胜利次数  PVE次数  主动发起PVE次数  PVE胜利次数     在线时长  付费金额  \\\n",
       "488497       5          0        0      2          2        2 2049.667 0.000   \n",
       "1263615     48         25       11    100        100       86 1674.667 2.980   \n",
       "\n",
       "字段解释     付费次数  45日付费金额  \n",
       "488497      0    0.000  \n",
       "1263615     2  514.680  \n",
       "\n",
       "[2 rows x 109 columns]"
      ]
     },
     "execution_count": 84,
     "metadata": {},
     "output_type": "execute_result"
    }
   ],
   "source": [
    "data.loc[data[\"在线时长\"] > 1500,:] #比起时长，是否更加深度参与游戏或许才与氪金更相关"
   ]
  },
  {
   "cell_type": "code",
   "execution_count": 85,
   "metadata": {},
   "outputs": [],
   "source": [
    "#尝试查找氪金用户们前7日的游戏时间"
   ]
  },
  {
   "cell_type": "code",
   "execution_count": 86,
   "metadata": {},
   "outputs": [],
   "source": [
    "PaidPlayTime = data.loc[data[\"付费金额\"] != 0,\"在线时长\"]"
   ]
  },
  {
   "cell_type": "code",
   "execution_count": 87,
   "metadata": {},
   "outputs": [
    {
     "data": {
      "text/plain": [
       "count   41439.000\n",
       "mean      140.188\n",
       "std       149.973\n",
       "min         0.000\n",
       "25%        33.000\n",
       "50%        88.833\n",
       "75%       194.667\n",
       "max      1674.667\n",
       "Name: 在线时长, dtype: float64"
      ]
     },
     "execution_count": 87,
     "metadata": {},
     "output_type": "execute_result"
    }
   ],
   "source": [
    "PaidPlayTime.describe().T #只有25%以下的用户在线时间在半小时以下，游戏时间明显比非氪金用户多很多"
   ]
  },
  {
   "cell_type": "code",
   "execution_count": 88,
   "metadata": {},
   "outputs": [],
   "source": [
    "#在线时长甚至不足1分钟的闭眼氪玩家们，有40人氪了0.99"
   ]
  },
  {
   "cell_type": "code",
   "execution_count": 89,
   "metadata": {},
   "outputs": [
    {
     "data": {
      "text/plain": [
       "0.000     896061\n",
       "0.990         51\n",
       "9.990          4\n",
       "4.990          3\n",
       "36.960         3\n",
       "           ...  \n",
       "1.990          1\n",
       "49.990         1\n",
       "26.970         1\n",
       "6.980          1\n",
       "19.990         1\n",
       "Name: 付费金额, Length: 14, dtype: int64"
      ]
     },
     "execution_count": 89,
     "metadata": {},
     "output_type": "execute_result"
    }
   ],
   "source": [
    "data.loc[data[\"在线时长\"]<=1,\"付费金额\"].value_counts()"
   ]
  },
  {
   "cell_type": "code",
   "execution_count": 90,
   "metadata": {},
   "outputs": [],
   "source": [
    "#在线时间很长的用户也不一定就是高氪大佬\n",
    "#在线时间很短的用户也不一定就完全不氪\n",
    "#如何就在线时间这个点来进行用户价值判断呢？"
   ]
  },
  {
   "cell_type": "code",
   "execution_count": 91,
   "metadata": {},
   "outputs": [
    {
     "name": "stdout",
     "output_type": "stream",
     "text": [
      "一周在线时长不足1分钟\n",
      "\t45日平均消费额为0.022元，45日总消费额为18323.490元\n",
      "\t7日平均消费额为0.001元，7日总消费额为574.180元\n",
      "\t7日氪金占比0.047%，45日氪金占比0.447%\n",
      "一周在线时长不足5分钟\n",
      "\t45日平均消费额为0.019元，45日总消费额为32572.700元\n",
      "\t7日平均消费额为0.003元，7日总消费额为4519.280元\n",
      "\t7日氪金占比0.369%，45日氪金占比0.794%\n",
      "一周在线时长不足15分钟\n",
      "\t45日平均消费额为0.028元，45日总消费额为57753.190元\n",
      "\t7日平均消费额为0.009元，7日总消费额为18428.260元\n",
      "\t7日氪金占比1.506%，45日氪金占比1.408%\n",
      "一周在线时长不足20分钟\n",
      "\t45日平均消费额为0.038元，45日总消费额为79124.920元\n",
      "\t7日平均消费额为0.012元，7日总消费额为25904.310元\n",
      "\t7日氪金占比2.118%，45日氪金占比1.929%\n",
      "一周在线时长不足25分钟\n",
      "\t45日平均消费额为0.044元，45日总消费额为94650.110元\n",
      "\t7日平均消费额为0.016元，7日总消费额为34217.390元\n",
      "\t7日氪金占比2.797%，45日氪金占比2.307%\n",
      "一周在线时长不足30分钟\n",
      "\t45日平均消费额为0.050元，45日总消费额为107763.140元\n",
      "\t7日平均消费额为0.019元，7日总消费额为40862.200元\n",
      "\t7日氪金占比3.340%，45日氪金占比2.627%\n"
     ]
    }
   ],
   "source": [
    "#在线时长很少的玩家们贡献的氪金数额\n",
    "for playtime in [1,5,15,20,25,30]:\n",
    "    \n",
    "    MeanPay45 = data.loc[data[\"在线时长\"]<playtime,\"45日付费金额\"].mean()\n",
    "    TotalPay45 = data.loc[data[\"在线时长\"]<playtime,\"45日付费金额\"].sum()\n",
    "    MeanPay7 = data.loc[data[\"在线时长\"]<playtime,\"付费金额\"].mean()\n",
    "    TotalPay7 = data.loc[data[\"在线时长\"]<playtime,\"付费金额\"].sum()\n",
    "    \n",
    "    print(\"一周在线时长不足{}分钟\".format(playtime))\n",
    "    print(\"\\t45日平均消费额为{:.3f}元，45日总消费额为{:.3f}元\".format(MeanPay45,TotalPay45))\n",
    "    print(\"\\t7日平均消费额为{:.3f}元，7日总消费额为{:.3f}元\".format(MeanPay7,TotalPay7))\n",
    "    print(\"\\t7日氪金占比{:.3f}%，45日氪金占比{:.3f}%\".format(100*TotalPay7/(data[\"付费金额\"].sum())\n",
    "                                                  ,100*TotalPay45/(data[\"45日付费金额\"].sum())))"
   ]
  },
  {
   "cell_type": "markdown",
   "metadata": {},
   "source": [
    "不难发现，在线时长很少的玩家们贡献的氪金数额很少，在对200w人进行建模时，我们可以忽略一部分在线时间很短的用户。在这里，我们可以将一周在线时长不足15或20分钟的用户判断为低价值用户。"
   ]
  },
  {
   "cell_type": "code",
   "execution_count": 92,
   "metadata": {},
   "outputs": [
    {
     "data": {
      "text/plain": [
       "488497    2049.667\n",
       "1263615   1674.667\n",
       "882241    1482.000\n",
       "1335561   1452.333\n",
       "1558221   1452.333\n",
       "            ...   \n",
       "527722     504.500\n",
       "1257763    504.333\n",
       "2145496    504.333\n",
       "2065723    504.333\n",
       "1815137    504.333\n",
       "Name: 在线时长, Length: 2288, dtype: float64"
      ]
     },
     "execution_count": 92,
     "metadata": {},
     "output_type": "execute_result"
    }
   ],
   "source": [
    "data[\"在线时长\"].sort_values(ascending=False)[:2288] #最肝的前0.1%的用户的7日在线时长"
   ]
  },
  {
   "cell_type": "code",
   "execution_count": 93,
   "metadata": {},
   "outputs": [
    {
     "name": "stdout",
     "output_type": "stream",
     "text": [
      "一周在线时长超过500分钟\n",
      "\t45日平均消费额为377.113元，45日总消费额为885839.060元\n",
      "\t7日平均消费额为110.492元，7日总消费额为259544.740元\n",
      "\t7日氪金占比21.216%，45日氪金占比21.591%\n",
      "一周在线时长超过600分钟\n",
      "\t45日平均消费额为437.753元，45日总消费额为515673.070元\n",
      "\t7日平均消费额为130.699元，7日总消费额为153963.300元\n",
      "\t7日氪金占比12.586%，45日氪金占比12.569%\n",
      "一周在线时长超过700分钟\n",
      "\t45日平均消费额为427.776元，45日总消费额为272921.300元\n",
      "\t7日平均消费额为120.904元，7日总消费额为77136.600元\n",
      "\t7日氪金占比6.305%，45日氪金占比6.652%\n",
      "一周在线时长超过800分钟\n",
      "\t45日平均消费额为359.040元，45日总消费额为113815.780元\n",
      "\t7日平均消费额为104.344元，7日总消费额为33076.950元\n",
      "\t7日氪金占比2.704%，45日氪金占比2.774%\n",
      "一周在线时长超过900分钟\n",
      "\t45日平均消费额为218.907元，45日总消费额为36557.400元\n",
      "\t7日平均消费额为43.819元，7日总消费额为7317.770元\n",
      "\t7日氪金占比0.598%，45日氪金占比0.891%\n",
      "一周在线时长超过1000分钟\n",
      "\t45日平均消费额为139.194元，45日总消费额为12109.910元\n",
      "\t7日平均消费额为40.055元，7日总消费额为3484.820元\n",
      "\t7日氪金占比0.285%，45日氪金占比0.295%\n",
      "一周在线时长超过1200分钟\n",
      "\t45日平均消费额为25.492元，45日总消费额为637.300元\n",
      "\t7日平均消费额为2.869元，7日总消费额为71.730元\n",
      "\t7日氪金占比0.006%，45日氪金占比0.016%\n"
     ]
    }
   ],
   "source": [
    "#在线时长超长的玩家们贡献的氪金数额\n",
    "for playtime in [500,600,700,800,900,1000,1200]:\n",
    "    \n",
    "    MeanPay45 = data.loc[data[\"在线时长\"]>=playtime,\"45日付费金额\"].mean()\n",
    "    TotalPay45 = data.loc[data[\"在线时长\"]>=playtime,\"45日付费金额\"].sum()\n",
    "    MeanPay7 = data.loc[data[\"在线时长\"]>=playtime,\"付费金额\"].mean()\n",
    "    TotalPay7 = data.loc[data[\"在线时长\"]>=playtime,\"付费金额\"].sum()\n",
    "    \n",
    "    print(\"一周在线时长超过{}分钟\".format(playtime))\n",
    "    print(\"\\t45日平均消费额为{:.3f}元，45日总消费额为{:.3f}元\".format(MeanPay45,TotalPay45))\n",
    "    print(\"\\t7日平均消费额为{:.3f}元，7日总消费额为{:.3f}元\".format(MeanPay7,TotalPay7))\n",
    "    print(\"\\t7日氪金占比{:.3f}%，45日氪金占比{:.3f}%\".format(100*TotalPay7/(data[\"付费金额\"].sum())\n",
    "                                                  ,100*TotalPay45/(data[\"45日付费金额\"].sum())))"
   ]
  },
  {
   "cell_type": "markdown",
   "metadata": {},
   "source": [
    "许多用户虽然深度参与游戏，但是“好肝不好氪”，所以过于肝的用户也不是高价值用户。我们可以规定，一周在线时长超出800分钟的用户为（氪金层面）低价值用户。同样的，氪金用户一般在资源上占绝对的主导，但是资源很多的用户不一定是氪金用户。"
   ]
  },
  {
   "cell_type": "code",
   "execution_count": 94,
   "metadata": {},
   "outputs": [
    {
     "data": {
      "text/plain": [
       "count        41439.000\n",
       "mean      10712783.554\n",
       "std       34752584.812\n",
       "min              0.000\n",
       "25%        2132829.500\n",
       "50%        5267091.000\n",
       "75%       10249321.000\n",
       "max     1239962311.000\n",
       "Name: 木头获取数量, dtype: float64"
      ]
     },
     "execution_count": 94,
     "metadata": {},
     "output_type": "execute_result"
    }
   ],
   "source": [
    "data.loc[data[\"付费金额\"] != 0,\"木头获取数量\"].describe() #资源量上氪金用户站绝对的主导"
   ]
  },
  {
   "cell_type": "code",
   "execution_count": 95,
   "metadata": {},
   "outputs": [
    {
     "data": {
      "text/plain": [
       "count     2246568.000\n",
       "mean       265084.447\n",
       "std        887773.641\n",
       "min             0.000\n",
       "25%             0.000\n",
       "50%         40088.000\n",
       "75%        144657.000\n",
       "max     158249380.000\n",
       "Name: 木头获取数量, dtype: float64"
      ]
     },
     "execution_count": 95,
     "metadata": {},
     "output_type": "execute_result"
    }
   ],
   "source": [
    "data.loc[data[\"付费金额\"] == 0,\"木头获取数量\"].describe()"
   ]
  },
  {
   "cell_type": "code",
   "execution_count": 96,
   "metadata": {},
   "outputs": [
    {
     "data": {
      "text/html": [
       "<div>\n",
       "<style scoped>\n",
       "    .dataframe tbody tr th:only-of-type {\n",
       "        vertical-align: middle;\n",
       "    }\n",
       "\n",
       "    .dataframe tbody tr th {\n",
       "        vertical-align: top;\n",
       "    }\n",
       "\n",
       "    .dataframe thead th {\n",
       "        text-align: right;\n",
       "    }\n",
       "</style>\n",
       "<table border=\"1\" class=\"dataframe\">\n",
       "  <thead>\n",
       "    <tr style=\"text-align: right;\">\n",
       "      <th>字段解释</th>\n",
       "      <th>玩家唯一ID</th>\n",
       "      <th>玩家注册时间</th>\n",
       "      <th>木头获取数量</th>\n",
       "      <th>木头消耗数量</th>\n",
       "      <th>石头获取数量</th>\n",
       "      <th>石头消耗数量</th>\n",
       "      <th>象牙获取数量</th>\n",
       "      <th>象牙消耗数量</th>\n",
       "      <th>肉获取数量</th>\n",
       "      <th>肉消耗数量</th>\n",
       "      <th>...</th>\n",
       "      <th>PVP次数</th>\n",
       "      <th>主动发起PVP次数</th>\n",
       "      <th>PVP胜利次数</th>\n",
       "      <th>PVE次数</th>\n",
       "      <th>主动发起PVE次数</th>\n",
       "      <th>PVE胜利次数</th>\n",
       "      <th>在线时长</th>\n",
       "      <th>付费金额</th>\n",
       "      <th>付费次数</th>\n",
       "      <th>45日付费金额</th>\n",
       "    </tr>\n",
       "  </thead>\n",
       "  <tbody>\n",
       "    <tr>\n",
       "      <th>2046401</th>\n",
       "      <td>2907550</td>\n",
       "      <td>2018-03-04 14:41:57</td>\n",
       "      <td>158249380.000</td>\n",
       "      <td>157202081.000</td>\n",
       "      <td>129870402.000</td>\n",
       "      <td>129357887.000</td>\n",
       "      <td>3000.000</td>\n",
       "      <td>0.000</td>\n",
       "      <td>69427801.000</td>\n",
       "      <td>68360181.000</td>\n",
       "      <td>...</td>\n",
       "      <td>282</td>\n",
       "      <td>0</td>\n",
       "      <td>0</td>\n",
       "      <td>2</td>\n",
       "      <td>1</td>\n",
       "      <td>1</td>\n",
       "      <td>125.000</td>\n",
       "      <td>0.000</td>\n",
       "      <td>0</td>\n",
       "      <td>0.000</td>\n",
       "    </tr>\n",
       "  </tbody>\n",
       "</table>\n",
       "<p>1 rows × 109 columns</p>\n",
       "</div>"
      ],
      "text/plain": [
       "字段解释      玩家唯一ID               玩家注册时间        木头获取数量        木头消耗数量  \\\n",
       "2046401  2907550  2018-03-04 14:41:57 158249380.000 157202081.000   \n",
       "\n",
       "字段解释           石头获取数量        石头消耗数量   象牙获取数量  象牙消耗数量        肉获取数量  \\\n",
       "2046401 129870402.000 129357887.000 3000.000   0.000 69427801.000   \n",
       "\n",
       "字段解释           肉消耗数量  ...  PVP次数  主动发起PVP次数  PVP胜利次数  PVE次数  主动发起PVE次数  \\\n",
       "2046401 68360181.000  ...    282          0        0      2          1   \n",
       "\n",
       "字段解释     PVE胜利次数    在线时长  付费金额  付费次数  45日付费金额  \n",
       "2046401        1 125.000 0.000     0    0.000  \n",
       "\n",
       "[1 rows x 109 columns]"
      ]
     },
     "execution_count": 96,
     "metadata": {},
     "output_type": "execute_result"
    }
   ],
   "source": [
    "data[data[\"木头获取数量\"] == 158249380] #异常用户，非常牛的用户"
   ]
  },
  {
   "cell_type": "markdown",
   "metadata": {},
   "source": [
    "不难发现拥有众多资源、但在7日内却没有付费过的用户，是（氪金层面上）的低价值用户。"
   ]
  },
  {
   "cell_type": "markdown",
   "metadata": {},
   "source": [
    "#### 3.2 分布与偏度：游戏是否对新手不友好？资源获取难度设置合理吗？"
   ]
  },
  {
   "cell_type": "markdown",
   "metadata": {},
   "source": [
    "在进行简单数据探索时，我们使用.describe()探索过特征的分布情况，并且发现大量的特征都是严重左偏的（即大部分值集中在左侧，分布上的高峰偏左严重）。"
   ]
  },
  {
   "cell_type": "code",
   "execution_count": 98,
   "metadata": {},
   "outputs": [
    {
     "data": {
      "text/html": [
       "<div>\n",
       "<style scoped>\n",
       "    .dataframe tbody tr th:only-of-type {\n",
       "        vertical-align: middle;\n",
       "    }\n",
       "\n",
       "    .dataframe tbody tr th {\n",
       "        vertical-align: top;\n",
       "    }\n",
       "\n",
       "    .dataframe thead th {\n",
       "        text-align: right;\n",
       "    }\n",
       "</style>\n",
       "<table border=\"1\" class=\"dataframe\">\n",
       "  <thead>\n",
       "    <tr style=\"text-align: right;\">\n",
       "      <th></th>\n",
       "      <th>count</th>\n",
       "      <th>mean</th>\n",
       "      <th>std</th>\n",
       "      <th>min</th>\n",
       "      <th>25%</th>\n",
       "      <th>50%</th>\n",
       "      <th>75%</th>\n",
       "      <th>max</th>\n",
       "    </tr>\n",
       "    <tr>\n",
       "      <th>字段解释</th>\n",
       "      <th></th>\n",
       "      <th></th>\n",
       "      <th></th>\n",
       "      <th></th>\n",
       "      <th></th>\n",
       "      <th></th>\n",
       "      <th></th>\n",
       "      <th></th>\n",
       "    </tr>\n",
       "  </thead>\n",
       "  <tbody>\n",
       "    <tr>\n",
       "      <th>玩家唯一ID</th>\n",
       "      <td>2288007.000</td>\n",
       "      <td>1529543.498</td>\n",
       "      <td>939939.279</td>\n",
       "      <td>1.000</td>\n",
       "      <td>749992.500</td>\n",
       "      <td>1419095.000</td>\n",
       "      <td>2299006.500</td>\n",
       "      <td>3190530.000</td>\n",
       "    </tr>\n",
       "    <tr>\n",
       "      <th>木头获取数量</th>\n",
       "      <td>2288007.000</td>\n",
       "      <td>454306.859</td>\n",
       "      <td>4958667.146</td>\n",
       "      <td>0.000</td>\n",
       "      <td>0.000</td>\n",
       "      <td>42038.000</td>\n",
       "      <td>153118.000</td>\n",
       "      <td>1239962311.000</td>\n",
       "    </tr>\n",
       "    <tr>\n",
       "      <th>木头消耗数量</th>\n",
       "      <td>2288007.000</td>\n",
       "      <td>369843.252</td>\n",
       "      <td>3737720.038</td>\n",
       "      <td>0.000</td>\n",
       "      <td>0.000</td>\n",
       "      <td>9830.000</td>\n",
       "      <td>98557.000</td>\n",
       "      <td>799587506.000</td>\n",
       "    </tr>\n",
       "    <tr>\n",
       "      <th>石头获取数量</th>\n",
       "      <td>2288007.000</td>\n",
       "      <td>189778.774</td>\n",
       "      <td>4670619.517</td>\n",
       "      <td>0.000</td>\n",
       "      <td>0.000</td>\n",
       "      <td>0.000</td>\n",
       "      <td>0.000</td>\n",
       "      <td>1214869437.000</td>\n",
       "    </tr>\n",
       "    <tr>\n",
       "      <th>石头消耗数量</th>\n",
       "      <td>2288007.000</td>\n",
       "      <td>137607.363</td>\n",
       "      <td>3370166.356</td>\n",
       "      <td>0.000</td>\n",
       "      <td>0.000</td>\n",
       "      <td>0.000</td>\n",
       "      <td>0.000</td>\n",
       "      <td>796237770.000</td>\n",
       "    </tr>\n",
       "    <tr>\n",
       "      <th>...</th>\n",
       "      <td>...</td>\n",
       "      <td>...</td>\n",
       "      <td>...</td>\n",
       "      <td>...</td>\n",
       "      <td>...</td>\n",
       "      <td>...</td>\n",
       "      <td>...</td>\n",
       "      <td>...</td>\n",
       "    </tr>\n",
       "    <tr>\n",
       "      <th>PVE胜利次数</th>\n",
       "      <td>2288007.000</td>\n",
       "      <td>2.557</td>\n",
       "      <td>11.847</td>\n",
       "      <td>0.000</td>\n",
       "      <td>0.000</td>\n",
       "      <td>0.000</td>\n",
       "      <td>1.000</td>\n",
       "      <td>488.000</td>\n",
       "    </tr>\n",
       "    <tr>\n",
       "      <th>在线时长</th>\n",
       "      <td>2288007.000</td>\n",
       "      <td>10.207</td>\n",
       "      <td>38.959</td>\n",
       "      <td>0.000</td>\n",
       "      <td>0.500</td>\n",
       "      <td>1.833</td>\n",
       "      <td>4.833</td>\n",
       "      <td>2049.667</td>\n",
       "    </tr>\n",
       "    <tr>\n",
       "      <th>付费金额</th>\n",
       "      <td>2288007.000</td>\n",
       "      <td>0.535</td>\n",
       "      <td>22.638</td>\n",
       "      <td>0.000</td>\n",
       "      <td>0.000</td>\n",
       "      <td>0.000</td>\n",
       "      <td>0.000</td>\n",
       "      <td>7457.950</td>\n",
       "    </tr>\n",
       "    <tr>\n",
       "      <th>付费次数</th>\n",
       "      <td>2288007.000</td>\n",
       "      <td>0.058</td>\n",
       "      <td>0.709</td>\n",
       "      <td>0.000</td>\n",
       "      <td>0.000</td>\n",
       "      <td>0.000</td>\n",
       "      <td>0.000</td>\n",
       "      <td>105.000</td>\n",
       "    </tr>\n",
       "    <tr>\n",
       "      <th>45日付费金额</th>\n",
       "      <td>2288007.000</td>\n",
       "      <td>1.793</td>\n",
       "      <td>88.463</td>\n",
       "      <td>0.000</td>\n",
       "      <td>0.000</td>\n",
       "      <td>0.000</td>\n",
       "      <td>0.000</td>\n",
       "      <td>32977.810</td>\n",
       "    </tr>\n",
       "  </tbody>\n",
       "</table>\n",
       "<p>108 rows × 8 columns</p>\n",
       "</div>"
      ],
      "text/plain": [
       "              count        mean         std   min        25%         50%  \\\n",
       "字段解释                                                                       \n",
       "玩家唯一ID  2288007.000 1529543.498  939939.279 1.000 749992.500 1419095.000   \n",
       "木头获取数量  2288007.000  454306.859 4958667.146 0.000      0.000   42038.000   \n",
       "木头消耗数量  2288007.000  369843.252 3737720.038 0.000      0.000    9830.000   \n",
       "石头获取数量  2288007.000  189778.774 4670619.517 0.000      0.000       0.000   \n",
       "石头消耗数量  2288007.000  137607.363 3370166.356 0.000      0.000       0.000   \n",
       "...             ...         ...         ...   ...        ...         ...   \n",
       "PVE胜利次数 2288007.000       2.557      11.847 0.000      0.000       0.000   \n",
       "在线时长    2288007.000      10.207      38.959 0.000      0.500       1.833   \n",
       "付费金额    2288007.000       0.535      22.638 0.000      0.000       0.000   \n",
       "付费次数    2288007.000       0.058       0.709 0.000      0.000       0.000   \n",
       "45日付费金额 2288007.000       1.793      88.463 0.000      0.000       0.000   \n",
       "\n",
       "                75%            max  \n",
       "字段解释                                \n",
       "玩家唯一ID  2299006.500    3190530.000  \n",
       "木头获取数量   153118.000 1239962311.000  \n",
       "木头消耗数量    98557.000  799587506.000  \n",
       "石头获取数量        0.000 1214869437.000  \n",
       "石头消耗数量        0.000  796237770.000  \n",
       "...             ...            ...  \n",
       "PVE胜利次数       1.000        488.000  \n",
       "在线时长          4.833       2049.667  \n",
       "付费金额          0.000       7457.950  \n",
       "付费次数          0.000        105.000  \n",
       "45日付费金额       0.000      32977.810  \n",
       "\n",
       "[108 rows x 8 columns]"
      ]
     },
     "execution_count": 98,
     "metadata": {},
     "output_type": "execute_result"
    }
   ],
   "source": [
    "#pd.set_option(\"display.max_rows\",120) #避免显示问题，设置一下最大行数\n",
    "data.describe().T"
   ]
  },
  {
   "cell_type": "markdown",
   "metadata": {},
   "source": [
    "- **数据左偏说明游戏中拥有大量资源人较少，因为相比起中线，大部分人在资源/等级上都值离原点更近**。"
   ]
  },
  {
   "cell_type": "markdown",
   "metadata": {},
   "source": [
    "**如果所有的用户都留存到7日之后，资源数据分布应该是接近正太分布**，现在我们已经知道用户在前7天是严重流失的，资源分布会左偏也合理，但为何用户会流失如此严重呢？可能从流量端开始就有问题（比如投放到了不太合适的流量渠道）、投放的广告可能有问题（比如让用户误以为是其他类型游戏），也可能是游戏美工不足、吸引力较低等方面（在75%的用户看一眼就被劝退的前提下，有理由相信游戏美工和流畅度有较大问题）。"
   ]
  },
  {
   "cell_type": "markdown",
   "metadata": {},
   "source": [
    "除了上述理由，用户大量流失还可能是游戏对新手不太友好或者游戏平衡性严重受氪金影响导致的。如果游戏中资源获取很困难，比如大部分资源都需要较长的时间或氪金来进行积累（这可能是刺激氪金的策略：新手阶段不友好，游戏上手难度大），大部分玩家在10~15分钟内无法获得足够的刺激与获得感，那用户在半小时内流失的可能性就很高。我们可以尝试着观察几个资源层次的平均游戏时间，以此来判断游戏中的资源是否难以获得："
   ]
  },
  {
   "cell_type": "code",
   "execution_count": 99,
   "metadata": {},
   "outputs": [
    {
     "data": {
      "text/plain": [
       "count      2288007.000\n",
       "mean        454306.859\n",
       "std        4958667.146\n",
       "min              0.000\n",
       "25%              0.000\n",
       "50%          42038.000\n",
       "75%         153118.000\n",
       "max     1239962311.000\n",
       "Name: 木头获取数量, dtype: float64"
      ]
     },
     "execution_count": 99,
     "metadata": {},
     "output_type": "execute_result"
    }
   ],
   "source": [
    "data[\"木头获取数量\"].describe()"
   ]
  },
  {
   "cell_type": "code",
   "execution_count": 100,
   "metadata": {},
   "outputs": [
    {
     "data": {
      "text/plain": [
       "1423324   697.333\n",
       "Name: 在线时长, dtype: float64"
      ]
     },
     "execution_count": 100,
     "metadata": {},
     "output_type": "execute_result"
    }
   ],
   "source": [
    "data.loc[data[\"木头获取数量\"] > 1239962310,\"在线时长\"] #在线时长约10个小时，即每天玩1个多小时，一周即可获得木头资源过亿"
   ]
  },
  {
   "cell_type": "code",
   "execution_count": 101,
   "metadata": {},
   "outputs": [
    {
     "data": {
      "text/plain": [
       "3.75"
      ]
     },
     "execution_count": 101,
     "metadata": {},
     "output_type": "execute_result"
    }
   ],
   "source": [
    "data.loc[data[\"木头获取数量\"] == 153118,\"在线时长\"].mean() #平均在线约3.75分钟即可获得15w木头"
   ]
  },
  {
   "cell_type": "code",
   "execution_count": 102,
   "metadata": {},
   "outputs": [
    {
     "data": {
      "text/plain": [
       "1.2527109844413018"
      ]
     },
     "execution_count": 102,
     "metadata": {},
     "output_type": "execute_result"
    }
   ],
   "source": [
    "data.loc[data[\"木头获取数量\"] == 42038,\"在线时长\"].mean() #平均在线1分钟即可获得4w2木头"
   ]
  },
  {
   "cell_type": "markdown",
   "metadata": {},
   "source": [
    "从结果来看，至少木头资源一点也不难获得，反而来得太容易了。在手游界，可以轻松拥有百万资源、上亿资源的游戏一般都不太高级。\n",
    "\n",
    "那是否其他资源非常难以获得呢？在现有数据下，我们可以通过分析资源存量来分析游戏中资源获取难度分类的合理性。"
   ]
  },
  {
   "cell_type": "markdown",
   "metadata": {},
   "source": [
    "资源的分布本身就可以帮助进行分析。由于数据量的缘故，我们无法对所有的特征都绘制分布图，但我们可以计算所有特征的偏度与峰度。\n",
    "\n",
    "> 1. 偏度的中间值为0，正偏度则说明分布左偏，负偏度则说明分布右偏\n",
    "> 2. 偏度值越大，则说明分布偏移得越厉害。例如，偏度远远大于0时，说明大部分数据都集中在原点附近。\n",
    "> 3. 正态分布的峰度为3（和巨大峰度相比约等于0），大于3的峰度说明山峰陡峭，小于3的峰度说明山峰平缓\n",
    "> 4. 峰度值越大，则说明数据的分布越不均匀、越集中于某些值。"
   ]
  },
  {
   "cell_type": "markdown",
   "metadata": {},
   "source": [
    "对游戏数据而言，偏度与峰度衡量的内容是类似的：偏度说明分布对称的情况，峰度说明分布集中在少数点的情况，巨大的正偏态和巨大的峰度都指向“大部分玩家只能收集到很少资源/或无资源”的状态。结合单一资源的均值，我们可以进一步判断资源获取的真实情况。在这里，我们只衡量资源/技能等级，不衡量PVP次数等涉及到对战的因素。"
   ]
  },
  {
   "cell_type": "code",
   "execution_count": 103,
   "metadata": {},
   "outputs": [
    {
     "data": {
      "text/plain": [
       "Index(['玩家唯一ID', '玩家注册时间', '木头获取数量', '木头消耗数量', '石头获取数量', '石头消耗数量', '象牙获取数量',\n",
       "       '象牙消耗数量', '肉获取数量', '肉消耗数量',\n",
       "       ...\n",
       "       'PVP次数', '主动发起PVP次数', 'PVP胜利次数', 'PVE次数', '主动发起PVE次数', 'PVE胜利次数',\n",
       "       '在线时长', '付费金额', '付费次数', '45日付费金额'],\n",
       "      dtype='object', name='字段解释', length=109)"
      ]
     },
     "execution_count": 103,
     "metadata": {},
     "output_type": "execute_result"
    }
   ],
   "source": [
    "data.columns"
   ]
  },
  {
   "cell_type": "code",
   "execution_count": 104,
   "metadata": {},
   "outputs": [],
   "source": [
    "resource = data.iloc[:,2:-10]"
   ]
  },
  {
   "cell_type": "code",
   "execution_count": 105,
   "metadata": {},
   "outputs": [
    {
     "data": {
      "text/plain": [
       "Index(['木头获取数量', '木头消耗数量', '石头获取数量', '石头消耗数量', '象牙获取数量', '象牙消耗数量', '肉获取数量',\n",
       "       '肉消耗数量', '魔法获取数量', '魔法消耗数量', '勇士招募数量', '勇士损失数量', '驯兽师招募数量', '驯兽师损失数量',\n",
       "       '萨满招募数量', '萨满损失数量', '勇士伤兵产生数量', '勇士伤兵恢复数量', '驯兽师伤兵产生数量', '驯兽师伤兵恢复数量',\n",
       "       '萨满伤兵产生数量', '萨满伤兵恢复数量', '通用加速获取数量', '通用加速使用数量', '建筑加速获取数量', '建筑加速使用数量',\n",
       "       '科研加速获取数量', '科研加速使用数量', '训练加速获取数量', '训练加速使用数量', '治疗加速获取数量', '治疗加速使用数量',\n",
       "       '建筑：士兵小屋等级', '建筑：治疗小井等级', '建筑：要塞等级', '建筑：据点传送门等级', '建筑：兵营等级',\n",
       "       '建筑：治疗之泉等级', '建筑：智慧神庙等级', '建筑：联盟大厅等级', '建筑：仓库等级', '建筑：瞭望塔等级',\n",
       "       '建筑：魔法幸运树等级', '建筑：战争大厅等级', '建筑：联盟货车等级', '建筑：占卜台等级', '建筑：祭坛等级',\n",
       "       '建筑：冒险传送门等级', '科研：侦查等级', '科研：训练速度等级', '科研：守护者', '科研：巨兽驯兽师', '科研：吟唱者',\n",
       "       '科研：勇士攻击', '科研：驯兽师攻击', '科研：萨满攻击', '科研：战斗大师', '科研：高阶巨兽骑兵', '科研：图腾大师',\n",
       "       '科研：部队防御', '科研：勇士防御', '科研：驯兽师防御', '科研：萨满防御', '科研：勇士生命', '科研：驯兽师生命',\n",
       "       '科研：萨满生命', '科研：狂战士', '科研：龙骑兵', '科研：神谕者', '科研：部队攻击', '科研：建造速度',\n",
       "       '科研：资源保护', '科研：部队消耗', '科研：木材生产', '科研：石头生产', '科研：象牙生产', '科研：肉类生产',\n",
       "       '科研：木材采集', '科研：石头采集', '科研：象牙采集', '科研：肉类采集', '科研：部队负重', '科研：魔法采集',\n",
       "       '科研：魔法生产', '科研：据点耐久', '科研：据点二', '科研：医院容量', '科研：领土采集奖励', '科研：治疗速度',\n",
       "       '科研：据点三', '科研：联盟行军速度', '科研：战斗行军速度', '科研：采集行军速度', '科研：据点四', '科研：增援部队容量',\n",
       "       '科研：行军大小', '科研：资源帮助容量'],\n",
       "      dtype='object', name='字段解释')"
      ]
     },
     "execution_count": 105,
     "metadata": {},
     "output_type": "execute_result"
    }
   ],
   "source": [
    "resource.columns"
   ]
  },
  {
   "cell_type": "code",
   "execution_count": 106,
   "metadata": {},
   "outputs": [],
   "source": [
    "sak = pd.DataFrame()\n",
    "for idx,ColName in enumerate(resource.columns):\n",
    "    sak.loc[idx,\"特征\"] = ColName\n",
    "    column = data.loc[:,ColName]\n",
    "    sak.loc[idx,\"偏度\"] = column.skew() #偏度\n",
    "    sak.loc[idx,\"峰度\"] = column.kurt() #峰度\n",
    "    sak.loc[idx,\"均值\"] = column.mean() #均值"
   ]
  },
  {
   "cell_type": "code",
   "execution_count": 109,
   "metadata": {},
   "outputs": [
    {
     "data": {
      "text/html": [
       "<div>\n",
       "<style scoped>\n",
       "    .dataframe tbody tr th:only-of-type {\n",
       "        vertical-align: middle;\n",
       "    }\n",
       "\n",
       "    .dataframe tbody tr th {\n",
       "        vertical-align: top;\n",
       "    }\n",
       "\n",
       "    .dataframe thead th {\n",
       "        text-align: right;\n",
       "    }\n",
       "</style>\n",
       "<table border=\"1\" class=\"dataframe\">\n",
       "  <thead>\n",
       "    <tr style=\"text-align: right;\">\n",
       "      <th></th>\n",
       "      <th>特征</th>\n",
       "      <th>偏度</th>\n",
       "      <th>峰度</th>\n",
       "      <th>均值</th>\n",
       "    </tr>\n",
       "  </thead>\n",
       "  <tbody>\n",
       "    <tr>\n",
       "      <th>0</th>\n",
       "      <td>木头获取数量</td>\n",
       "      <td>100.635</td>\n",
       "      <td>15449.582</td>\n",
       "      <td>454306.859</td>\n",
       "    </tr>\n",
       "    <tr>\n",
       "      <th>1</th>\n",
       "      <td>木头消耗数量</td>\n",
       "      <td>86.310</td>\n",
       "      <td>11367.448</td>\n",
       "      <td>369843.252</td>\n",
       "    </tr>\n",
       "    <tr>\n",
       "      <th>2</th>\n",
       "      <td>石头获取数量</td>\n",
       "      <td>113.794</td>\n",
       "      <td>18489.107</td>\n",
       "      <td>189778.774</td>\n",
       "    </tr>\n",
       "    <tr>\n",
       "      <th>3</th>\n",
       "      <td>石头消耗数量</td>\n",
       "      <td>105.043</td>\n",
       "      <td>15515.988</td>\n",
       "      <td>137607.363</td>\n",
       "    </tr>\n",
       "    <tr>\n",
       "      <th>4</th>\n",
       "      <td>象牙获取数量</td>\n",
       "      <td>112.636</td>\n",
       "      <td>17682.030</td>\n",
       "      <td>80756.230</td>\n",
       "    </tr>\n",
       "    <tr>\n",
       "      <th>5</th>\n",
       "      <td>象牙消耗数量</td>\n",
       "      <td>113.405</td>\n",
       "      <td>16974.594</td>\n",
       "      <td>36131.699</td>\n",
       "    </tr>\n",
       "    <tr>\n",
       "      <th>6</th>\n",
       "      <td>肉获取数量</td>\n",
       "      <td>106.645</td>\n",
       "      <td>17907.029</td>\n",
       "      <td>585515.505</td>\n",
       "    </tr>\n",
       "    <tr>\n",
       "      <th>7</th>\n",
       "      <td>肉消耗数量</td>\n",
       "      <td>89.403</td>\n",
       "      <td>13600.967</td>\n",
       "      <td>354810.206</td>\n",
       "    </tr>\n",
       "    <tr>\n",
       "      <th>8</th>\n",
       "      <td>魔法获取数量</td>\n",
       "      <td>97.762</td>\n",
       "      <td>14958.235</td>\n",
       "      <td>75389.535</td>\n",
       "    </tr>\n",
       "    <tr>\n",
       "      <th>9</th>\n",
       "      <td>魔法消耗数量</td>\n",
       "      <td>109.334</td>\n",
       "      <td>18322.774</td>\n",
       "      <td>47253.994</td>\n",
       "    </tr>\n",
       "    <tr>\n",
       "      <th>10</th>\n",
       "      <td>勇士招募数量</td>\n",
       "      <td>150.291</td>\n",
       "      <td>56627.286</td>\n",
       "      <td>143.610</td>\n",
       "    </tr>\n",
       "    <tr>\n",
       "      <th>11</th>\n",
       "      <td>勇士损失数量</td>\n",
       "      <td>142.013</td>\n",
       "      <td>59680.484</td>\n",
       "      <td>226.782</td>\n",
       "    </tr>\n",
       "    <tr>\n",
       "      <th>12</th>\n",
       "      <td>驯兽师招募数量</td>\n",
       "      <td>52.394</td>\n",
       "      <td>6653.517</td>\n",
       "      <td>128.264</td>\n",
       "    </tr>\n",
       "    <tr>\n",
       "      <th>13</th>\n",
       "      <td>驯兽师损失数量</td>\n",
       "      <td>37.613</td>\n",
       "      <td>4799.376</td>\n",
       "      <td>178.006</td>\n",
       "    </tr>\n",
       "    <tr>\n",
       "      <th>14</th>\n",
       "      <td>萨满招募数量</td>\n",
       "      <td>1393.339</td>\n",
       "      <td>2048745.112</td>\n",
       "      <td>119.543</td>\n",
       "    </tr>\n",
       "    <tr>\n",
       "      <th>15</th>\n",
       "      <td>萨满损失数量</td>\n",
       "      <td>1394.118</td>\n",
       "      <td>2050265.411</td>\n",
       "      <td>156.853</td>\n",
       "    </tr>\n",
       "    <tr>\n",
       "      <th>16</th>\n",
       "      <td>勇士伤兵产生数量</td>\n",
       "      <td>201.952</td>\n",
       "      <td>96877.947</td>\n",
       "      <td>135.304</td>\n",
       "    </tr>\n",
       "    <tr>\n",
       "      <th>17</th>\n",
       "      <td>勇士伤兵恢复数量</td>\n",
       "      <td>223.474</td>\n",
       "      <td>111369.002</td>\n",
       "      <td>91.984</td>\n",
       "    </tr>\n",
       "    <tr>\n",
       "      <th>18</th>\n",
       "      <td>驯兽师伤兵产生数量</td>\n",
       "      <td>58.235</td>\n",
       "      <td>10995.135</td>\n",
       "      <td>116.503</td>\n",
       "    </tr>\n",
       "    <tr>\n",
       "      <th>19</th>\n",
       "      <td>驯兽师伤兵恢复数量</td>\n",
       "      <td>67.356</td>\n",
       "      <td>13844.793</td>\n",
       "      <td>84.346</td>\n",
       "    </tr>\n",
       "    <tr>\n",
       "      <th>20</th>\n",
       "      <td>萨满伤兵产生数量</td>\n",
       "      <td>1439.747</td>\n",
       "      <td>2141351.573</td>\n",
       "      <td>110.431</td>\n",
       "    </tr>\n",
       "    <tr>\n",
       "      <th>21</th>\n",
       "      <td>萨满伤兵恢复数量</td>\n",
       "      <td>1446.870</td>\n",
       "      <td>2155525.025</td>\n",
       "      <td>84.763</td>\n",
       "    </tr>\n",
       "    <tr>\n",
       "      <th>22</th>\n",
       "      <td>通用加速获取数量</td>\n",
       "      <td>76.190</td>\n",
       "      <td>10461.629</td>\n",
       "      <td>282.545</td>\n",
       "    </tr>\n",
       "    <tr>\n",
       "      <th>23</th>\n",
       "      <td>通用加速使用数量</td>\n",
       "      <td>78.756</td>\n",
       "      <td>10571.988</td>\n",
       "      <td>192.031</td>\n",
       "    </tr>\n",
       "    <tr>\n",
       "      <th>24</th>\n",
       "      <td>建筑加速获取数量</td>\n",
       "      <td>75.562</td>\n",
       "      <td>11468.080</td>\n",
       "      <td>205.557</td>\n",
       "    </tr>\n",
       "    <tr>\n",
       "      <th>25</th>\n",
       "      <td>建筑加速使用数量</td>\n",
       "      <td>73.617</td>\n",
       "      <td>9912.930</td>\n",
       "      <td>142.776</td>\n",
       "    </tr>\n",
       "    <tr>\n",
       "      <th>26</th>\n",
       "      <td>科研加速获取数量</td>\n",
       "      <td>75.606</td>\n",
       "      <td>10038.624</td>\n",
       "      <td>132.671</td>\n",
       "    </tr>\n",
       "    <tr>\n",
       "      <th>27</th>\n",
       "      <td>科研加速使用数量</td>\n",
       "      <td>86.781</td>\n",
       "      <td>12166.169</td>\n",
       "      <td>73.653</td>\n",
       "    </tr>\n",
       "    <tr>\n",
       "      <th>28</th>\n",
       "      <td>训练加速获取数量</td>\n",
       "      <td>99.010</td>\n",
       "      <td>17738.981</td>\n",
       "      <td>210.808</td>\n",
       "    </tr>\n",
       "    <tr>\n",
       "      <th>29</th>\n",
       "      <td>训练加速使用数量</td>\n",
       "      <td>105.763</td>\n",
       "      <td>18411.777</td>\n",
       "      <td>65.022</td>\n",
       "    </tr>\n",
       "    <tr>\n",
       "      <th>30</th>\n",
       "      <td>治疗加速获取数量</td>\n",
       "      <td>26.467</td>\n",
       "      <td>3883.361</td>\n",
       "      <td>10.416</td>\n",
       "    </tr>\n",
       "    <tr>\n",
       "      <th>31</th>\n",
       "      <td>治疗加速使用数量</td>\n",
       "      <td>551.767</td>\n",
       "      <td>567898.986</td>\n",
       "      <td>0.370</td>\n",
       "    </tr>\n",
       "    <tr>\n",
       "      <th>32</th>\n",
       "      <td>建筑：士兵小屋等级</td>\n",
       "      <td>1.878</td>\n",
       "      <td>3.314</td>\n",
       "      <td>1.306</td>\n",
       "    </tr>\n",
       "    <tr>\n",
       "      <th>33</th>\n",
       "      <td>建筑：治疗小井等级</td>\n",
       "      <td>2.183</td>\n",
       "      <td>4.567</td>\n",
       "      <td>1.027</td>\n",
       "    </tr>\n",
       "    <tr>\n",
       "      <th>34</th>\n",
       "      <td>建筑：要塞等级</td>\n",
       "      <td>1.229</td>\n",
       "      <td>0.970</td>\n",
       "      <td>2.098</td>\n",
       "    </tr>\n",
       "    <tr>\n",
       "      <th>35</th>\n",
       "      <td>建筑：据点传送门等级</td>\n",
       "      <td>1.383</td>\n",
       "      <td>1.477</td>\n",
       "      <td>1.764</td>\n",
       "    </tr>\n",
       "    <tr>\n",
       "      <th>36</th>\n",
       "      <td>建筑：兵营等级</td>\n",
       "      <td>2.114</td>\n",
       "      <td>4.327</td>\n",
       "      <td>1.284</td>\n",
       "    </tr>\n",
       "    <tr>\n",
       "      <th>37</th>\n",
       "      <td>建筑：治疗之泉等级</td>\n",
       "      <td>2.429</td>\n",
       "      <td>5.627</td>\n",
       "      <td>0.924</td>\n",
       "    </tr>\n",
       "    <tr>\n",
       "      <th>38</th>\n",
       "      <td>建筑：智慧神庙等级</td>\n",
       "      <td>2.495</td>\n",
       "      <td>5.893</td>\n",
       "      <td>0.969</td>\n",
       "    </tr>\n",
       "    <tr>\n",
       "      <th>39</th>\n",
       "      <td>建筑：联盟大厅等级</td>\n",
       "      <td>4.015</td>\n",
       "      <td>15.755</td>\n",
       "      <td>0.441</td>\n",
       "    </tr>\n",
       "    <tr>\n",
       "      <th>40</th>\n",
       "      <td>建筑：仓库等级</td>\n",
       "      <td>2.472</td>\n",
       "      <td>5.525</td>\n",
       "      <td>0.934</td>\n",
       "    </tr>\n",
       "    <tr>\n",
       "      <th>41</th>\n",
       "      <td>建筑：瞭望塔等级</td>\n",
       "      <td>2.409</td>\n",
       "      <td>5.619</td>\n",
       "      <td>0.913</td>\n",
       "    </tr>\n",
       "    <tr>\n",
       "      <th>42</th>\n",
       "      <td>建筑：魔法幸运树等级</td>\n",
       "      <td>2.050</td>\n",
       "      <td>3.388</td>\n",
       "      <td>1.146</td>\n",
       "    </tr>\n",
       "    <tr>\n",
       "      <th>43</th>\n",
       "      <td>建筑：战争大厅等级</td>\n",
       "      <td>6.427</td>\n",
       "      <td>64.375</td>\n",
       "      <td>0.102</td>\n",
       "    </tr>\n",
       "    <tr>\n",
       "      <th>44</th>\n",
       "      <td>建筑：联盟货车等级</td>\n",
       "      <td>2.727</td>\n",
       "      <td>7.144</td>\n",
       "      <td>0.772</td>\n",
       "    </tr>\n",
       "    <tr>\n",
       "      <th>45</th>\n",
       "      <td>建筑：占卜台等级</td>\n",
       "      <td>5.722</td>\n",
       "      <td>35.427</td>\n",
       "      <td>0.201</td>\n",
       "    </tr>\n",
       "    <tr>\n",
       "      <th>46</th>\n",
       "      <td>建筑：祭坛等级</td>\n",
       "      <td>6.024</td>\n",
       "      <td>40.077</td>\n",
       "      <td>0.180</td>\n",
       "    </tr>\n",
       "    <tr>\n",
       "      <th>47</th>\n",
       "      <td>建筑：冒险传送门等级</td>\n",
       "      <td>5.017</td>\n",
       "      <td>26.012</td>\n",
       "      <td>0.292</td>\n",
       "    </tr>\n",
       "    <tr>\n",
       "      <th>48</th>\n",
       "      <td>科研：侦查等级</td>\n",
       "      <td>2.923</td>\n",
       "      <td>10.701</td>\n",
       "      <td>0.331</td>\n",
       "    </tr>\n",
       "    <tr>\n",
       "      <th>49</th>\n",
       "      <td>科研：训练速度等级</td>\n",
       "      <td>3.815</td>\n",
       "      <td>14.593</td>\n",
       "      <td>0.299</td>\n",
       "    </tr>\n",
       "    <tr>\n",
       "      <th>50</th>\n",
       "      <td>科研：守护者</td>\n",
       "      <td>6.236</td>\n",
       "      <td>36.893</td>\n",
       "      <td>0.024</td>\n",
       "    </tr>\n",
       "    <tr>\n",
       "      <th>51</th>\n",
       "      <td>科研：巨兽驯兽师</td>\n",
       "      <td>6.372</td>\n",
       "      <td>38.602</td>\n",
       "      <td>0.023</td>\n",
       "    </tr>\n",
       "    <tr>\n",
       "      <th>52</th>\n",
       "      <td>科研：吟唱者</td>\n",
       "      <td>6.914</td>\n",
       "      <td>45.804</td>\n",
       "      <td>0.020</td>\n",
       "    </tr>\n",
       "    <tr>\n",
       "      <th>53</th>\n",
       "      <td>科研：勇士攻击</td>\n",
       "      <td>15.486</td>\n",
       "      <td>312.204</td>\n",
       "      <td>0.024</td>\n",
       "    </tr>\n",
       "    <tr>\n",
       "      <th>54</th>\n",
       "      <td>科研：驯兽师攻击</td>\n",
       "      <td>16.032</td>\n",
       "      <td>333.790</td>\n",
       "      <td>0.022</td>\n",
       "    </tr>\n",
       "    <tr>\n",
       "      <th>55</th>\n",
       "      <td>科研：萨满攻击</td>\n",
       "      <td>17.736</td>\n",
       "      <td>407.577</td>\n",
       "      <td>0.019</td>\n",
       "    </tr>\n",
       "    <tr>\n",
       "      <th>56</th>\n",
       "      <td>科研：战斗大师</td>\n",
       "      <td>60.287</td>\n",
       "      <td>3632.539</td>\n",
       "      <td>0.000</td>\n",
       "    </tr>\n",
       "    <tr>\n",
       "      <th>57</th>\n",
       "      <td>科研：高阶巨兽骑兵</td>\n",
       "      <td>61.883</td>\n",
       "      <td>3827.516</td>\n",
       "      <td>0.000</td>\n",
       "    </tr>\n",
       "    <tr>\n",
       "      <th>58</th>\n",
       "      <td>科研：图腾大师</td>\n",
       "      <td>65.373</td>\n",
       "      <td>4271.658</td>\n",
       "      <td>0.000</td>\n",
       "    </tr>\n",
       "    <tr>\n",
       "      <th>59</th>\n",
       "      <td>科研：部队防御</td>\n",
       "      <td>122.425</td>\n",
       "      <td>16602.243</td>\n",
       "      <td>0.001</td>\n",
       "    </tr>\n",
       "    <tr>\n",
       "      <th>60</th>\n",
       "      <td>科研：勇士防御</td>\n",
       "      <td>158.768</td>\n",
       "      <td>27877.942</td>\n",
       "      <td>0.000</td>\n",
       "    </tr>\n",
       "    <tr>\n",
       "      <th>61</th>\n",
       "      <td>科研：驯兽师防御</td>\n",
       "      <td>161.650</td>\n",
       "      <td>28807.251</td>\n",
       "      <td>0.000</td>\n",
       "    </tr>\n",
       "    <tr>\n",
       "      <th>62</th>\n",
       "      <td>科研：萨满防御</td>\n",
       "      <td>161.270</td>\n",
       "      <td>28593.152</td>\n",
       "      <td>0.000</td>\n",
       "    </tr>\n",
       "    <tr>\n",
       "      <th>63</th>\n",
       "      <td>科研：勇士生命</td>\n",
       "      <td>124.296</td>\n",
       "      <td>16848.445</td>\n",
       "      <td>0.001</td>\n",
       "    </tr>\n",
       "    <tr>\n",
       "      <th>64</th>\n",
       "      <td>科研：驯兽师生命</td>\n",
       "      <td>134.002</td>\n",
       "      <td>19641.283</td>\n",
       "      <td>0.001</td>\n",
       "    </tr>\n",
       "    <tr>\n",
       "      <th>65</th>\n",
       "      <td>科研：萨满生命</td>\n",
       "      <td>137.095</td>\n",
       "      <td>20351.197</td>\n",
       "      <td>0.001</td>\n",
       "    </tr>\n",
       "    <tr>\n",
       "      <th>66</th>\n",
       "      <td>科研：狂战士</td>\n",
       "      <td>239.159</td>\n",
       "      <td>57195.300</td>\n",
       "      <td>0.000</td>\n",
       "    </tr>\n",
       "    <tr>\n",
       "      <th>67</th>\n",
       "      <td>科研：龙骑兵</td>\n",
       "      <td>225.481</td>\n",
       "      <td>50839.711</td>\n",
       "      <td>0.000</td>\n",
       "    </tr>\n",
       "    <tr>\n",
       "      <th>68</th>\n",
       "      <td>科研：神谕者</td>\n",
       "      <td>259.406</td>\n",
       "      <td>67289.471</td>\n",
       "      <td>0.000</td>\n",
       "    </tr>\n",
       "    <tr>\n",
       "      <th>69</th>\n",
       "      <td>科研：部队攻击</td>\n",
       "      <td>720.086</td>\n",
       "      <td>552951.148</td>\n",
       "      <td>0.000</td>\n",
       "    </tr>\n",
       "    <tr>\n",
       "      <th>70</th>\n",
       "      <td>科研：建造速度</td>\n",
       "      <td>6.780</td>\n",
       "      <td>53.866</td>\n",
       "      <td>0.122</td>\n",
       "    </tr>\n",
       "    <tr>\n",
       "      <th>71</th>\n",
       "      <td>科研：资源保护</td>\n",
       "      <td>11.338</td>\n",
       "      <td>173.489</td>\n",
       "      <td>0.035</td>\n",
       "    </tr>\n",
       "    <tr>\n",
       "      <th>72</th>\n",
       "      <td>科研：部队消耗</td>\n",
       "      <td>12.375</td>\n",
       "      <td>204.846</td>\n",
       "      <td>0.033</td>\n",
       "    </tr>\n",
       "    <tr>\n",
       "      <th>73</th>\n",
       "      <td>科研：木材生产</td>\n",
       "      <td>11.439</td>\n",
       "      <td>162.607</td>\n",
       "      <td>0.035</td>\n",
       "    </tr>\n",
       "    <tr>\n",
       "      <th>74</th>\n",
       "      <td>科研：石头生产</td>\n",
       "      <td>38.649</td>\n",
       "      <td>1881.487</td>\n",
       "      <td>0.003</td>\n",
       "    </tr>\n",
       "    <tr>\n",
       "      <th>75</th>\n",
       "      <td>科研：象牙生产</td>\n",
       "      <td>98.607</td>\n",
       "      <td>14098.969</td>\n",
       "      <td>0.001</td>\n",
       "    </tr>\n",
       "    <tr>\n",
       "      <th>76</th>\n",
       "      <td>科研：肉类生产</td>\n",
       "      <td>11.180</td>\n",
       "      <td>163.219</td>\n",
       "      <td>0.042</td>\n",
       "    </tr>\n",
       "    <tr>\n",
       "      <th>77</th>\n",
       "      <td>科研：木材采集</td>\n",
       "      <td>15.330</td>\n",
       "      <td>295.240</td>\n",
       "      <td>0.022</td>\n",
       "    </tr>\n",
       "    <tr>\n",
       "      <th>78</th>\n",
       "      <td>科研：石头采集</td>\n",
       "      <td>49.888</td>\n",
       "      <td>3234.002</td>\n",
       "      <td>0.002</td>\n",
       "    </tr>\n",
       "    <tr>\n",
       "      <th>79</th>\n",
       "      <td>科研：象牙采集</td>\n",
       "      <td>103.602</td>\n",
       "      <td>15170.809</td>\n",
       "      <td>0.000</td>\n",
       "    </tr>\n",
       "    <tr>\n",
       "      <th>80</th>\n",
       "      <td>科研：肉类采集</td>\n",
       "      <td>15.750</td>\n",
       "      <td>330.005</td>\n",
       "      <td>0.018</td>\n",
       "    </tr>\n",
       "    <tr>\n",
       "      <th>81</th>\n",
       "      <td>科研：部队负重</td>\n",
       "      <td>13.202</td>\n",
       "      <td>198.280</td>\n",
       "      <td>0.029</td>\n",
       "    </tr>\n",
       "    <tr>\n",
       "      <th>82</th>\n",
       "      <td>科研：魔法采集</td>\n",
       "      <td>48.295</td>\n",
       "      <td>3245.438</td>\n",
       "      <td>0.002</td>\n",
       "    </tr>\n",
       "    <tr>\n",
       "      <th>83</th>\n",
       "      <td>科研：魔法生产</td>\n",
       "      <td>23.047</td>\n",
       "      <td>645.105</td>\n",
       "      <td>0.008</td>\n",
       "    </tr>\n",
       "    <tr>\n",
       "      <th>84</th>\n",
       "      <td>科研：据点耐久</td>\n",
       "      <td>5.959</td>\n",
       "      <td>43.095</td>\n",
       "      <td>0.110</td>\n",
       "    </tr>\n",
       "    <tr>\n",
       "      <th>85</th>\n",
       "      <td>科研：据点二</td>\n",
       "      <td>4.426</td>\n",
       "      <td>17.592</td>\n",
       "      <td>0.044</td>\n",
       "    </tr>\n",
       "    <tr>\n",
       "      <th>86</th>\n",
       "      <td>科研：医院容量</td>\n",
       "      <td>10.935</td>\n",
       "      <td>153.092</td>\n",
       "      <td>0.029</td>\n",
       "    </tr>\n",
       "    <tr>\n",
       "      <th>87</th>\n",
       "      <td>科研：领土采集奖励</td>\n",
       "      <td>9.219</td>\n",
       "      <td>101.032</td>\n",
       "      <td>0.034</td>\n",
       "    </tr>\n",
       "    <tr>\n",
       "      <th>88</th>\n",
       "      <td>科研：治疗速度</td>\n",
       "      <td>11.462</td>\n",
       "      <td>157.764</td>\n",
       "      <td>0.022</td>\n",
       "    </tr>\n",
       "    <tr>\n",
       "      <th>89</th>\n",
       "      <td>科研：据点三</td>\n",
       "      <td>33.686</td>\n",
       "      <td>1132.749</td>\n",
       "      <td>0.001</td>\n",
       "    </tr>\n",
       "    <tr>\n",
       "      <th>90</th>\n",
       "      <td>科研：联盟行军速度</td>\n",
       "      <td>138.627</td>\n",
       "      <td>23213.480</td>\n",
       "      <td>0.000</td>\n",
       "    </tr>\n",
       "    <tr>\n",
       "      <th>91</th>\n",
       "      <td>科研：战斗行军速度</td>\n",
       "      <td>109.113</td>\n",
       "      <td>14509.348</td>\n",
       "      <td>0.001</td>\n",
       "    </tr>\n",
       "    <tr>\n",
       "      <th>92</th>\n",
       "      <td>科研：采集行军速度</td>\n",
       "      <td>111.196</td>\n",
       "      <td>14976.855</td>\n",
       "      <td>0.001</td>\n",
       "    </tr>\n",
       "    <tr>\n",
       "      <th>93</th>\n",
       "      <td>科研：据点四</td>\n",
       "      <td>419.521</td>\n",
       "      <td>175995.923</td>\n",
       "      <td>0.000</td>\n",
       "    </tr>\n",
       "    <tr>\n",
       "      <th>94</th>\n",
       "      <td>科研：增援部队容量</td>\n",
       "      <td>1202.368</td>\n",
       "      <td>1569458.101</td>\n",
       "      <td>0.000</td>\n",
       "    </tr>\n",
       "    <tr>\n",
       "      <th>95</th>\n",
       "      <td>科研：行军大小</td>\n",
       "      <td>750.277</td>\n",
       "      <td>623089.356</td>\n",
       "      <td>0.000</td>\n",
       "    </tr>\n",
       "    <tr>\n",
       "      <th>96</th>\n",
       "      <td>科研：资源帮助容量</td>\n",
       "      <td>1130.278</td>\n",
       "      <td>1333821.383</td>\n",
       "      <td>0.000</td>\n",
       "    </tr>\n",
       "  </tbody>\n",
       "</table>\n",
       "</div>"
      ],
      "text/plain": [
       "            特征       偏度          峰度         均值\n",
       "0       木头获取数量  100.635   15449.582 454306.859\n",
       "1       木头消耗数量   86.310   11367.448 369843.252\n",
       "2       石头获取数量  113.794   18489.107 189778.774\n",
       "3       石头消耗数量  105.043   15515.988 137607.363\n",
       "4       象牙获取数量  112.636   17682.030  80756.230\n",
       "5       象牙消耗数量  113.405   16974.594  36131.699\n",
       "6        肉获取数量  106.645   17907.029 585515.505\n",
       "7        肉消耗数量   89.403   13600.967 354810.206\n",
       "8       魔法获取数量   97.762   14958.235  75389.535\n",
       "9       魔法消耗数量  109.334   18322.774  47253.994\n",
       "10      勇士招募数量  150.291   56627.286    143.610\n",
       "11      勇士损失数量  142.013   59680.484    226.782\n",
       "12     驯兽师招募数量   52.394    6653.517    128.264\n",
       "13     驯兽师损失数量   37.613    4799.376    178.006\n",
       "14      萨满招募数量 1393.339 2048745.112    119.543\n",
       "15      萨满损失数量 1394.118 2050265.411    156.853\n",
       "16    勇士伤兵产生数量  201.952   96877.947    135.304\n",
       "17    勇士伤兵恢复数量  223.474  111369.002     91.984\n",
       "18   驯兽师伤兵产生数量   58.235   10995.135    116.503\n",
       "19   驯兽师伤兵恢复数量   67.356   13844.793     84.346\n",
       "20    萨满伤兵产生数量 1439.747 2141351.573    110.431\n",
       "21    萨满伤兵恢复数量 1446.870 2155525.025     84.763\n",
       "22    通用加速获取数量   76.190   10461.629    282.545\n",
       "23    通用加速使用数量   78.756   10571.988    192.031\n",
       "24    建筑加速获取数量   75.562   11468.080    205.557\n",
       "25    建筑加速使用数量   73.617    9912.930    142.776\n",
       "26    科研加速获取数量   75.606   10038.624    132.671\n",
       "27    科研加速使用数量   86.781   12166.169     73.653\n",
       "28    训练加速获取数量   99.010   17738.981    210.808\n",
       "29    训练加速使用数量  105.763   18411.777     65.022\n",
       "30    治疗加速获取数量   26.467    3883.361     10.416\n",
       "31    治疗加速使用数量  551.767  567898.986      0.370\n",
       "32   建筑：士兵小屋等级    1.878       3.314      1.306\n",
       "33   建筑：治疗小井等级    2.183       4.567      1.027\n",
       "34     建筑：要塞等级    1.229       0.970      2.098\n",
       "35  建筑：据点传送门等级    1.383       1.477      1.764\n",
       "36     建筑：兵营等级    2.114       4.327      1.284\n",
       "37   建筑：治疗之泉等级    2.429       5.627      0.924\n",
       "38   建筑：智慧神庙等级    2.495       5.893      0.969\n",
       "39   建筑：联盟大厅等级    4.015      15.755      0.441\n",
       "40     建筑：仓库等级    2.472       5.525      0.934\n",
       "41    建筑：瞭望塔等级    2.409       5.619      0.913\n",
       "42  建筑：魔法幸运树等级    2.050       3.388      1.146\n",
       "43   建筑：战争大厅等级    6.427      64.375      0.102\n",
       "44   建筑：联盟货车等级    2.727       7.144      0.772\n",
       "45    建筑：占卜台等级    5.722      35.427      0.201\n",
       "46     建筑：祭坛等级    6.024      40.077      0.180\n",
       "47  建筑：冒险传送门等级    5.017      26.012      0.292\n",
       "48     科研：侦查等级    2.923      10.701      0.331\n",
       "49   科研：训练速度等级    3.815      14.593      0.299\n",
       "50      科研：守护者    6.236      36.893      0.024\n",
       "51    科研：巨兽驯兽师    6.372      38.602      0.023\n",
       "52      科研：吟唱者    6.914      45.804      0.020\n",
       "53     科研：勇士攻击   15.486     312.204      0.024\n",
       "54    科研：驯兽师攻击   16.032     333.790      0.022\n",
       "55     科研：萨满攻击   17.736     407.577      0.019\n",
       "56     科研：战斗大师   60.287    3632.539      0.000\n",
       "57   科研：高阶巨兽骑兵   61.883    3827.516      0.000\n",
       "58     科研：图腾大师   65.373    4271.658      0.000\n",
       "59     科研：部队防御  122.425   16602.243      0.001\n",
       "60     科研：勇士防御  158.768   27877.942      0.000\n",
       "61    科研：驯兽师防御  161.650   28807.251      0.000\n",
       "62     科研：萨满防御  161.270   28593.152      0.000\n",
       "63     科研：勇士生命  124.296   16848.445      0.001\n",
       "64    科研：驯兽师生命  134.002   19641.283      0.001\n",
       "65     科研：萨满生命  137.095   20351.197      0.001\n",
       "66      科研：狂战士  239.159   57195.300      0.000\n",
       "67      科研：龙骑兵  225.481   50839.711      0.000\n",
       "68      科研：神谕者  259.406   67289.471      0.000\n",
       "69     科研：部队攻击  720.086  552951.148      0.000\n",
       "70     科研：建造速度    6.780      53.866      0.122\n",
       "71     科研：资源保护   11.338     173.489      0.035\n",
       "72     科研：部队消耗   12.375     204.846      0.033\n",
       "73     科研：木材生产   11.439     162.607      0.035\n",
       "74     科研：石头生产   38.649    1881.487      0.003\n",
       "75     科研：象牙生产   98.607   14098.969      0.001\n",
       "76     科研：肉类生产   11.180     163.219      0.042\n",
       "77     科研：木材采集   15.330     295.240      0.022\n",
       "78     科研：石头采集   49.888    3234.002      0.002\n",
       "79     科研：象牙采集  103.602   15170.809      0.000\n",
       "80     科研：肉类采集   15.750     330.005      0.018\n",
       "81     科研：部队负重   13.202     198.280      0.029\n",
       "82     科研：魔法采集   48.295    3245.438      0.002\n",
       "83     科研：魔法生产   23.047     645.105      0.008\n",
       "84     科研：据点耐久    5.959      43.095      0.110\n",
       "85      科研：据点二    4.426      17.592      0.044\n",
       "86     科研：医院容量   10.935     153.092      0.029\n",
       "87   科研：领土采集奖励    9.219     101.032      0.034\n",
       "88     科研：治疗速度   11.462     157.764      0.022\n",
       "89      科研：据点三   33.686    1132.749      0.001\n",
       "90   科研：联盟行军速度  138.627   23213.480      0.000\n",
       "91   科研：战斗行军速度  109.113   14509.348      0.001\n",
       "92   科研：采集行军速度  111.196   14976.855      0.001\n",
       "93      科研：据点四  419.521  175995.923      0.000\n",
       "94   科研：增援部队容量 1202.368 1569458.101      0.000\n",
       "95     科研：行军大小  750.277  623089.356      0.000\n",
       "96   科研：资源帮助容量 1130.278 1333821.383      0.000"
      ]
     },
     "execution_count": 109,
     "metadata": {},
     "output_type": "execute_result"
    }
   ],
   "source": [
    "#pd.set_option(\"display.max_rows\",120) #避免显示问题，设置一下最大行数\n",
    "sak"
   ]
  },
  {
   "cell_type": "code",
   "execution_count": 110,
   "metadata": {},
   "outputs": [
    {
     "data": {
      "image/png": "[encoded data removed]",
      "text/plain": [
       "<Figure size 300x600 with 1 Axes>"
      ]
     },
     "metadata": {
      "needs_background": "light"
     },
     "output_type": "display_data"
    }
   ],
   "source": [
    "#峰度和偏度似乎呈现高度一致的趋势——当偏度很大时，峰度也倾向于很大，我们可以绘图来看一看\n",
    "plt.figure(figsize=(3,6),dpi=100)\n",
    "plt.scatter(\"偏度\",\"峰度\", data = sak\n",
    "           ,s = 50\n",
    "           ,c = \"red\"\n",
    "           ,edgecolors = \"k\"\n",
    "           ,linewidth = 0.3);\n",
    "plt.xlim(0, 200) #控制横纵坐标的范围\n",
    "plt.ylim(0, 30000)\n",
    "plt.show()"
   ]
  },
  {
   "cell_type": "markdown",
   "metadata": {},
   "source": [
    "因此我们可以只考虑偏度与均值，不再考虑峰度的情况了。**如果我们能够绘制横坐标为偏度，纵坐标为均值的散点图，就可以概括出偏度与均值之间的关系，并总结出不同资源/不同等级的设置类型，以此来判断游戏中的各项资源的获得难易程度是否合理**。在绘图之前，我们大致可以判断，均值与偏度应该可以以如下方式分割特征的类型："
   ]
  },
  {
   "cell_type": "markdown",
   "metadata": {},
   "source": [
    "> - A类 **均值高，偏度低**：用户拥有该资源的分布较为均匀，并且大家都拥有很多这个资源，这类资源是最容易获取的\n",
    "> - B类 **均值高，偏度也高**：用户拥有该资源的分布不均匀，少量玩家掌握巨量资源（长尾会非常非常长），拉高了均值，这类资源可能是氪金资源，也可能是爆肝才能获得的资源\n",
    "> - C类 **均值低，偏度也低**：用户拥有该资源的分布较为均匀，但大家都没有这个资源，这类资源可能是需要时间来积累才能够获得的，随着开服时间变长，这类资源应该会逐渐变成其他类型的资源\n",
    "> - D类 **均值低，偏度高**：用户拥有该资源的分布不均匀，只有少量玩家掌握该资源，但是掌握的总量也不多。这类资源天生稀缺并且无法靠氪金获得（比如必须触发特定剧情/达到特定成就才能够获得的资源），只有少数人能够拥有"
   ]
  },
  {
   "cell_type": "markdown",
   "metadata": {},
   "source": [
    "在一个健康的游戏中，A类资源应该是最多的，这类资源决定了剧本能够被推进的程度、决定了大部分玩家的游戏体验，B类资源主要用于付费，收入的主要来源，但可能严重破坏游戏平衡，D类资源主要在于增加游戏的趣味和公平性，应该是最少的。一个游戏的A类资源要足够多，才算是对新手比较友好，只要我们绘制出散点图，四类资源的分布情况就目了然了。"
   ]
  },
  {
   "cell_type": "code",
   "execution_count": 111,
   "metadata": {},
   "outputs": [
    {
     "name": "stdout",
     "output_type": "stream",
     "text": [
      "1446.870493367135\n",
      "1.229280867942684\n",
      "585515.5045294879\n",
      "2.185307999494757e-06\n"
     ]
    }
   ],
   "source": [
    "print(sak[\"偏度\"].max())\n",
    "print(sak[\"偏度\"].min())\n",
    "print(sak[\"均值\"].max())\n",
    "print(sak[\"均值\"].min())"
   ]
  },
  {
   "cell_type": "markdown",
   "metadata": {},
   "source": [
    "现在的难点在于，偏度与均值都包括部分极大异常点，因此数据极差非常高，而大部分数据点又集中在较小的值附近，这样的数据在绘图时很容易出现以下情况："
   ]
  },
  {
   "cell_type": "code",
   "execution_count": 112,
   "metadata": {},
   "outputs": [
    {
     "data": {
      "image/png": "[encoded data removed]",
      "text/plain": [
       "<Figure size 432x288 with 1 Axes>"
      ]
     },
     "metadata": {
      "needs_background": "light"
     },
     "output_type": "display_data"
    }
   ],
   "source": [
    "plt.scatter(\"偏度\",\"均值\", data = sak)\n",
    "plt.show() #所有数据点都堆在一起，看不出任何规律"
   ]
  },
  {
   "cell_type": "markdown",
   "metadata": {},
   "source": [
    "为解决这个问题，我们来绘制三个纵坐标数值不同的图像——"
   ]
  },
  {
   "cell_type": "code",
   "execution_count": 113,
   "metadata": {},
   "outputs": [
    {
     "data": {
      "image/png": "[encoded data removed]",
      "text/plain": [
       "<Figure size 1500x900 with 3 Axes>"
      ]
     },
     "metadata": {
      "needs_background": "light"
     },
     "output_type": "display_data"
    }
   ],
   "source": [
    "plt.figure(figsize=(15,9),dpi=100)\n",
    "#绘制三个坐标轴不一样的图像\n",
    "\n",
    "#上\n",
    "plt.subplot(311)\n",
    "plt.scatter(\"偏度\",\"均值\", data = sak\n",
    "           ,s = 45\n",
    "           ,c = \"red\"\n",
    "           ,edgecolors = \"k\"\n",
    "           ,linewidth = 0.3);\n",
    "plt.xlim(-15, 1500) #控制横纵坐标的范围\n",
    "plt.ylim(20000, 600000)\n",
    "plt.vlines(300, 20000, 600000,colors=\"red\",linestyles=\"dotted\")\n",
    "ax = plt.gca()\n",
    "ax.spines['top'].set_visible(False)\n",
    "ax.spines['right'].set_visible(False)\n",
    "ax.spines['bottom'].set_visible(False)\n",
    "plt.yticks(fontsize=10)\n",
    "plt.text(130,450000,s=\"A类\")\n",
    "plt.text(130,400000,s=\"均值很高，偏度较低\")\n",
    "plt.text(130,350000,s=\"容易获取的资源\")\n",
    "plt.text(130,300000,s=\"容易达到的等级\")\n",
    "plt.xticks([])\n",
    "\n",
    "#中\n",
    "plt.subplot(312)\n",
    "plt.scatter(\"偏度\",\"均值\", data = sak\n",
    "           ,s = 45\n",
    "           ,c = \"red\"\n",
    "           ,edgecolors = \"k\"\n",
    "           ,linewidth = 0.3);\n",
    "plt.xlim(-15, 1500)\n",
    "plt.ylim(40, 300)\n",
    "plt.vlines(300, 50, 300,colors=\"red\",linestyles=\"dotted\")\n",
    "plt.hlines(40,-10, 1500,colors=\"red\",linestyles=\"dotted\")\n",
    "ax = plt.gca()\n",
    "ax.spines['top'].set_visible(False)\n",
    "ax.spines['right'].set_visible(False)\n",
    "ax.spines['bottom'].set_visible(False)\n",
    "plt.yticks(fontsize=10)\n",
    "plt.ylabel(\"资源均值\", fontsize=15)\n",
    "plt.text(1200,200,s=\"B类\")\n",
    "plt.text(1200,175,s=\"均值偏高/居中，偏度很高\")\n",
    "plt.text(1200,150,s=\"有少数玩家\")\n",
    "plt.text(1200,125,s=\"把控巨量资源\")\n",
    "plt.xticks([])\n",
    "\n",
    "#下\n",
    "plt.subplot(313)\n",
    "plt.scatter(\"偏度\",\"均值\", data = sak\n",
    "           ,s = 45\n",
    "           ,c = \"red\"\n",
    "           ,edgecolors = \"k\"\n",
    "           ,linewidth = 0.3);\n",
    "plt.xlim(-15, 1500)\n",
    "plt.ylim(-0.15, 3)\n",
    "plt.vlines(300, -0.1, 5,colors=\"red\",linestyles=\"dotted\")\n",
    "ax = plt.gca()\n",
    "ax.spines['top'].set_visible(False)\n",
    "ax.spines['right'].set_visible(False)\n",
    "plt.xlabel(\"偏度\", fontsize=15)\n",
    "plt.yticks(fontsize=10)\n",
    "plt.text(70,2.8,s=\"C类资源\")\n",
    "plt.text(70,2.5,s=\"均值很低，偏度也很低\")\n",
    "plt.text(70,2.2,s=\"几乎没有玩家拥有该资源\")\n",
    "plt.text(70,1.9,s=\"可能需要时间积累\")\n",
    "plt.text(340,2.8,s=\"D类资源\")\n",
    "plt.text(340,2.5,s=\"均值很低，偏度较高或很高\")\n",
    "plt.text(340,2.2,s=\"只有少量玩家掌握该资源\")\n",
    "plt.text(340,1.9,s=\"并且资源本身也比较稀缺\")\n",
    "plt.subplots_adjust(hspace=0.05)\n",
    "plt.show()"
   ]
  },
  {
   "cell_type": "markdown",
   "metadata": {},
   "source": [
    "我们来查看一下四类资源分别有哪些，以及数量是否合理："
   ]
  },
  {
   "cell_type": "code",
   "execution_count": 114,
   "metadata": {},
   "outputs": [],
   "source": [
    "#A类\n",
    "A = sak.loc[sak[\"均值\"] > 3,:].loc[sak[\"偏度\"]<300,:]"
   ]
  },
  {
   "cell_type": "code",
   "execution_count": 115,
   "metadata": {},
   "outputs": [
    {
     "data": {
      "text/html": [
       "<div>\n",
       "<style scoped>\n",
       "    .dataframe tbody tr th:only-of-type {\n",
       "        vertical-align: middle;\n",
       "    }\n",
       "\n",
       "    .dataframe tbody tr th {\n",
       "        vertical-align: top;\n",
       "    }\n",
       "\n",
       "    .dataframe thead th {\n",
       "        text-align: right;\n",
       "    }\n",
       "</style>\n",
       "<table border=\"1\" class=\"dataframe\">\n",
       "  <thead>\n",
       "    <tr style=\"text-align: right;\">\n",
       "      <th></th>\n",
       "      <th>特征</th>\n",
       "      <th>偏度</th>\n",
       "      <th>峰度</th>\n",
       "      <th>均值</th>\n",
       "    </tr>\n",
       "  </thead>\n",
       "  <tbody>\n",
       "    <tr>\n",
       "      <th>0</th>\n",
       "      <td>木头获取数量</td>\n",
       "      <td>100.635</td>\n",
       "      <td>15449.582</td>\n",
       "      <td>454306.859</td>\n",
       "    </tr>\n",
       "    <tr>\n",
       "      <th>1</th>\n",
       "      <td>木头消耗数量</td>\n",
       "      <td>86.310</td>\n",
       "      <td>11367.448</td>\n",
       "      <td>369843.252</td>\n",
       "    </tr>\n",
       "    <tr>\n",
       "      <th>2</th>\n",
       "      <td>石头获取数量</td>\n",
       "      <td>113.794</td>\n",
       "      <td>18489.107</td>\n",
       "      <td>189778.774</td>\n",
       "    </tr>\n",
       "    <tr>\n",
       "      <th>3</th>\n",
       "      <td>石头消耗数量</td>\n",
       "      <td>105.043</td>\n",
       "      <td>15515.988</td>\n",
       "      <td>137607.363</td>\n",
       "    </tr>\n",
       "    <tr>\n",
       "      <th>4</th>\n",
       "      <td>象牙获取数量</td>\n",
       "      <td>112.636</td>\n",
       "      <td>17682.030</td>\n",
       "      <td>80756.230</td>\n",
       "    </tr>\n",
       "    <tr>\n",
       "      <th>5</th>\n",
       "      <td>象牙消耗数量</td>\n",
       "      <td>113.405</td>\n",
       "      <td>16974.594</td>\n",
       "      <td>36131.699</td>\n",
       "    </tr>\n",
       "    <tr>\n",
       "      <th>6</th>\n",
       "      <td>肉获取数量</td>\n",
       "      <td>106.645</td>\n",
       "      <td>17907.029</td>\n",
       "      <td>585515.505</td>\n",
       "    </tr>\n",
       "    <tr>\n",
       "      <th>7</th>\n",
       "      <td>肉消耗数量</td>\n",
       "      <td>89.403</td>\n",
       "      <td>13600.967</td>\n",
       "      <td>354810.206</td>\n",
       "    </tr>\n",
       "    <tr>\n",
       "      <th>8</th>\n",
       "      <td>魔法获取数量</td>\n",
       "      <td>97.762</td>\n",
       "      <td>14958.235</td>\n",
       "      <td>75389.535</td>\n",
       "    </tr>\n",
       "    <tr>\n",
       "      <th>9</th>\n",
       "      <td>魔法消耗数量</td>\n",
       "      <td>109.334</td>\n",
       "      <td>18322.774</td>\n",
       "      <td>47253.994</td>\n",
       "    </tr>\n",
       "    <tr>\n",
       "      <th>10</th>\n",
       "      <td>勇士招募数量</td>\n",
       "      <td>150.291</td>\n",
       "      <td>56627.286</td>\n",
       "      <td>143.610</td>\n",
       "    </tr>\n",
       "    <tr>\n",
       "      <th>11</th>\n",
       "      <td>勇士损失数量</td>\n",
       "      <td>142.013</td>\n",
       "      <td>59680.484</td>\n",
       "      <td>226.782</td>\n",
       "    </tr>\n",
       "    <tr>\n",
       "      <th>12</th>\n",
       "      <td>驯兽师招募数量</td>\n",
       "      <td>52.394</td>\n",
       "      <td>6653.517</td>\n",
       "      <td>128.264</td>\n",
       "    </tr>\n",
       "    <tr>\n",
       "      <th>13</th>\n",
       "      <td>驯兽师损失数量</td>\n",
       "      <td>37.613</td>\n",
       "      <td>4799.376</td>\n",
       "      <td>178.006</td>\n",
       "    </tr>\n",
       "    <tr>\n",
       "      <th>16</th>\n",
       "      <td>勇士伤兵产生数量</td>\n",
       "      <td>201.952</td>\n",
       "      <td>96877.947</td>\n",
       "      <td>135.304</td>\n",
       "    </tr>\n",
       "    <tr>\n",
       "      <th>17</th>\n",
       "      <td>勇士伤兵恢复数量</td>\n",
       "      <td>223.474</td>\n",
       "      <td>111369.002</td>\n",
       "      <td>91.984</td>\n",
       "    </tr>\n",
       "    <tr>\n",
       "      <th>18</th>\n",
       "      <td>驯兽师伤兵产生数量</td>\n",
       "      <td>58.235</td>\n",
       "      <td>10995.135</td>\n",
       "      <td>116.503</td>\n",
       "    </tr>\n",
       "    <tr>\n",
       "      <th>19</th>\n",
       "      <td>驯兽师伤兵恢复数量</td>\n",
       "      <td>67.356</td>\n",
       "      <td>13844.793</td>\n",
       "      <td>84.346</td>\n",
       "    </tr>\n",
       "    <tr>\n",
       "      <th>22</th>\n",
       "      <td>通用加速获取数量</td>\n",
       "      <td>76.190</td>\n",
       "      <td>10461.629</td>\n",
       "      <td>282.545</td>\n",
       "    </tr>\n",
       "    <tr>\n",
       "      <th>23</th>\n",
       "      <td>通用加速使用数量</td>\n",
       "      <td>78.756</td>\n",
       "      <td>10571.988</td>\n",
       "      <td>192.031</td>\n",
       "    </tr>\n",
       "    <tr>\n",
       "      <th>24</th>\n",
       "      <td>建筑加速获取数量</td>\n",
       "      <td>75.562</td>\n",
       "      <td>11468.080</td>\n",
       "      <td>205.557</td>\n",
       "    </tr>\n",
       "    <tr>\n",
       "      <th>25</th>\n",
       "      <td>建筑加速使用数量</td>\n",
       "      <td>73.617</td>\n",
       "      <td>9912.930</td>\n",
       "      <td>142.776</td>\n",
       "    </tr>\n",
       "    <tr>\n",
       "      <th>26</th>\n",
       "      <td>科研加速获取数量</td>\n",
       "      <td>75.606</td>\n",
       "      <td>10038.624</td>\n",
       "      <td>132.671</td>\n",
       "    </tr>\n",
       "    <tr>\n",
       "      <th>27</th>\n",
       "      <td>科研加速使用数量</td>\n",
       "      <td>86.781</td>\n",
       "      <td>12166.169</td>\n",
       "      <td>73.653</td>\n",
       "    </tr>\n",
       "    <tr>\n",
       "      <th>28</th>\n",
       "      <td>训练加速获取数量</td>\n",
       "      <td>99.010</td>\n",
       "      <td>17738.981</td>\n",
       "      <td>210.808</td>\n",
       "    </tr>\n",
       "    <tr>\n",
       "      <th>29</th>\n",
       "      <td>训练加速使用数量</td>\n",
       "      <td>105.763</td>\n",
       "      <td>18411.777</td>\n",
       "      <td>65.022</td>\n",
       "    </tr>\n",
       "    <tr>\n",
       "      <th>30</th>\n",
       "      <td>治疗加速获取数量</td>\n",
       "      <td>26.467</td>\n",
       "      <td>3883.361</td>\n",
       "      <td>10.416</td>\n",
       "    </tr>\n",
       "  </tbody>\n",
       "</table>\n",
       "</div>"
      ],
      "text/plain": [
       "           特征      偏度         峰度         均值\n",
       "0      木头获取数量 100.635  15449.582 454306.859\n",
       "1      木头消耗数量  86.310  11367.448 369843.252\n",
       "2      石头获取数量 113.794  18489.107 189778.774\n",
       "3      石头消耗数量 105.043  15515.988 137607.363\n",
       "4      象牙获取数量 112.636  17682.030  80756.230\n",
       "5      象牙消耗数量 113.405  16974.594  36131.699\n",
       "6       肉获取数量 106.645  17907.029 585515.505\n",
       "7       肉消耗数量  89.403  13600.967 354810.206\n",
       "8      魔法获取数量  97.762  14958.235  75389.535\n",
       "9      魔法消耗数量 109.334  18322.774  47253.994\n",
       "10     勇士招募数量 150.291  56627.286    143.610\n",
       "11     勇士损失数量 142.013  59680.484    226.782\n",
       "12    驯兽师招募数量  52.394   6653.517    128.264\n",
       "13    驯兽师损失数量  37.613   4799.376    178.006\n",
       "16   勇士伤兵产生数量 201.952  96877.947    135.304\n",
       "17   勇士伤兵恢复数量 223.474 111369.002     91.984\n",
       "18  驯兽师伤兵产生数量  58.235  10995.135    116.503\n",
       "19  驯兽师伤兵恢复数量  67.356  13844.793     84.346\n",
       "22   通用加速获取数量  76.190  10461.629    282.545\n",
       "23   通用加速使用数量  78.756  10571.988    192.031\n",
       "24   建筑加速获取数量  75.562  11468.080    205.557\n",
       "25   建筑加速使用数量  73.617   9912.930    142.776\n",
       "26   科研加速获取数量  75.606  10038.624    132.671\n",
       "27   科研加速使用数量  86.781  12166.169     73.653\n",
       "28   训练加速获取数量  99.010  17738.981    210.808\n",
       "29   训练加速使用数量 105.763  18411.777     65.022\n",
       "30   治疗加速获取数量  26.467   3883.361     10.416"
      ]
     },
     "execution_count": 115,
     "metadata": {},
     "output_type": "execute_result"
    }
   ],
   "source": [
    "A"
   ]
  },
  {
   "cell_type": "code",
   "execution_count": 116,
   "metadata": {},
   "outputs": [
    {
     "data": {
      "text/plain": [
       "(27, 4)"
      ]
     },
     "execution_count": 116,
     "metadata": {},
     "output_type": "execute_result"
    }
   ],
   "source": [
    "A.shape"
   ]
  },
  {
   "cell_type": "code",
   "execution_count": 117,
   "metadata": {},
   "outputs": [
    {
     "data": {
      "text/html": [
       "<div>\n",
       "<style scoped>\n",
       "    .dataframe tbody tr th:only-of-type {\n",
       "        vertical-align: middle;\n",
       "    }\n",
       "\n",
       "    .dataframe tbody tr th {\n",
       "        vertical-align: top;\n",
       "    }\n",
       "\n",
       "    .dataframe thead th {\n",
       "        text-align: right;\n",
       "    }\n",
       "</style>\n",
       "<table border=\"1\" class=\"dataframe\">\n",
       "  <thead>\n",
       "    <tr style=\"text-align: right;\">\n",
       "      <th></th>\n",
       "      <th>特征</th>\n",
       "      <th>偏度</th>\n",
       "      <th>峰度</th>\n",
       "      <th>均值</th>\n",
       "    </tr>\n",
       "  </thead>\n",
       "  <tbody>\n",
       "    <tr>\n",
       "      <th>14</th>\n",
       "      <td>萨满招募数量</td>\n",
       "      <td>1393.339</td>\n",
       "      <td>2048745.112</td>\n",
       "      <td>119.543</td>\n",
       "    </tr>\n",
       "    <tr>\n",
       "      <th>15</th>\n",
       "      <td>萨满损失数量</td>\n",
       "      <td>1394.118</td>\n",
       "      <td>2050265.411</td>\n",
       "      <td>156.853</td>\n",
       "    </tr>\n",
       "    <tr>\n",
       "      <th>20</th>\n",
       "      <td>萨满伤兵产生数量</td>\n",
       "      <td>1439.747</td>\n",
       "      <td>2141351.573</td>\n",
       "      <td>110.431</td>\n",
       "    </tr>\n",
       "    <tr>\n",
       "      <th>21</th>\n",
       "      <td>萨满伤兵恢复数量</td>\n",
       "      <td>1446.870</td>\n",
       "      <td>2155525.025</td>\n",
       "      <td>84.763</td>\n",
       "    </tr>\n",
       "  </tbody>\n",
       "</table>\n",
       "</div>"
      ],
      "text/plain": [
       "          特征       偏度          峰度      均值\n",
       "14    萨满招募数量 1393.339 2048745.112 119.543\n",
       "15    萨满损失数量 1394.118 2050265.411 156.853\n",
       "20  萨满伤兵产生数量 1439.747 2141351.573 110.431\n",
       "21  萨满伤兵恢复数量 1446.870 2155525.025  84.763"
      ]
     },
     "execution_count": 117,
     "metadata": {},
     "output_type": "execute_result"
    }
   ],
   "source": [
    "#B类\n",
    "sak.loc[sak[\"均值\"] > 3,:].loc[sak[\"偏度\"]>300,:]"
   ]
  },
  {
   "cell_type": "code",
   "execution_count": 118,
   "metadata": {},
   "outputs": [
    {
     "data": {
      "text/plain": [
       "60"
      ]
     },
     "execution_count": 118,
     "metadata": {},
     "output_type": "execute_result"
    }
   ],
   "source": [
    "#C类 - 大量还未开发的资源 & 大量的等级 - 比较容易获得的资源\n",
    "sak.loc[sak[\"均值\"] < 3,:].loc[sak[\"偏度\"]<300,:].shape[0]"
   ]
  },
  {
   "cell_type": "code",
   "execution_count": 119,
   "metadata": {},
   "outputs": [
    {
     "data": {
      "text/plain": [
       "6"
      ]
     },
     "execution_count": 119,
     "metadata": {},
     "output_type": "execute_result"
    }
   ],
   "source": [
    "#D类 - 极度稀缺的资源\n",
    "sak.loc[sak[\"均值\"] < 3,:].loc[sak[\"偏度\"]>300,:].shape[0]"
   ]
  },
  {
   "cell_type": "code",
   "execution_count": 120,
   "metadata": {},
   "outputs": [
    {
     "data": {
      "text/html": [
       "<div>\n",
       "<style scoped>\n",
       "    .dataframe tbody tr th:only-of-type {\n",
       "        vertical-align: middle;\n",
       "    }\n",
       "\n",
       "    .dataframe tbody tr th {\n",
       "        vertical-align: top;\n",
       "    }\n",
       "\n",
       "    .dataframe thead th {\n",
       "        text-align: right;\n",
       "    }\n",
       "</style>\n",
       "<table border=\"1\" class=\"dataframe\">\n",
       "  <thead>\n",
       "    <tr style=\"text-align: right;\">\n",
       "      <th></th>\n",
       "      <th>count</th>\n",
       "      <th>mean</th>\n",
       "      <th>std</th>\n",
       "      <th>min</th>\n",
       "      <th>25%</th>\n",
       "      <th>50%</th>\n",
       "      <th>75%</th>\n",
       "      <th>max</th>\n",
       "    </tr>\n",
       "    <tr>\n",
       "      <th>字段解释</th>\n",
       "      <th></th>\n",
       "      <th></th>\n",
       "      <th></th>\n",
       "      <th></th>\n",
       "      <th></th>\n",
       "      <th></th>\n",
       "      <th></th>\n",
       "      <th></th>\n",
       "    </tr>\n",
       "  </thead>\n",
       "  <tbody>\n",
       "    <tr>\n",
       "      <th>木头获取数量</th>\n",
       "      <td>2288007.000</td>\n",
       "      <td>454306.859</td>\n",
       "      <td>4958667.146</td>\n",
       "      <td>0.000</td>\n",
       "      <td>0.000</td>\n",
       "      <td>42038.000</td>\n",
       "      <td>153118.000</td>\n",
       "      <td>1239962311.000</td>\n",
       "    </tr>\n",
       "    <tr>\n",
       "      <th>木头消耗数量</th>\n",
       "      <td>2288007.000</td>\n",
       "      <td>369843.252</td>\n",
       "      <td>3737720.038</td>\n",
       "      <td>0.000</td>\n",
       "      <td>0.000</td>\n",
       "      <td>9830.000</td>\n",
       "      <td>98557.000</td>\n",
       "      <td>799587506.000</td>\n",
       "    </tr>\n",
       "    <tr>\n",
       "      <th>石头获取数量</th>\n",
       "      <td>2288007.000</td>\n",
       "      <td>189778.774</td>\n",
       "      <td>4670619.517</td>\n",
       "      <td>0.000</td>\n",
       "      <td>0.000</td>\n",
       "      <td>0.000</td>\n",
       "      <td>0.000</td>\n",
       "      <td>1214869437.000</td>\n",
       "    </tr>\n",
       "    <tr>\n",
       "      <th>石头消耗数量</th>\n",
       "      <td>2288007.000</td>\n",
       "      <td>137607.363</td>\n",
       "      <td>3370166.356</td>\n",
       "      <td>0.000</td>\n",
       "      <td>0.000</td>\n",
       "      <td>0.000</td>\n",
       "      <td>0.000</td>\n",
       "      <td>796237770.000</td>\n",
       "    </tr>\n",
       "    <tr>\n",
       "      <th>象牙获取数量</th>\n",
       "      <td>2288007.000</td>\n",
       "      <td>80756.230</td>\n",
       "      <td>2220540.322</td>\n",
       "      <td>0.000</td>\n",
       "      <td>0.000</td>\n",
       "      <td>0.000</td>\n",
       "      <td>0.000</td>\n",
       "      <td>574496104.000</td>\n",
       "    </tr>\n",
       "    <tr>\n",
       "      <th>象牙消耗数量</th>\n",
       "      <td>2288007.000</td>\n",
       "      <td>36131.699</td>\n",
       "      <td>1782498.688</td>\n",
       "      <td>0.000</td>\n",
       "      <td>0.000</td>\n",
       "      <td>0.000</td>\n",
       "      <td>0.000</td>\n",
       "      <td>448197157.000</td>\n",
       "    </tr>\n",
       "    <tr>\n",
       "      <th>肉获取数量</th>\n",
       "      <td>2288007.000</td>\n",
       "      <td>585515.505</td>\n",
       "      <td>5868629.397</td>\n",
       "      <td>0.000</td>\n",
       "      <td>0.000</td>\n",
       "      <td>34587.000</td>\n",
       "      <td>136001.000</td>\n",
       "      <td>1470643810.000</td>\n",
       "    </tr>\n",
       "    <tr>\n",
       "      <th>肉消耗数量</th>\n",
       "      <td>2288007.000</td>\n",
       "      <td>354810.206</td>\n",
       "      <td>3400632.455</td>\n",
       "      <td>0.000</td>\n",
       "      <td>0.000</td>\n",
       "      <td>6470.000</td>\n",
       "      <td>66054.000</td>\n",
       "      <td>888953714.000</td>\n",
       "    </tr>\n",
       "    <tr>\n",
       "      <th>魔法获取数量</th>\n",
       "      <td>2288007.000</td>\n",
       "      <td>75389.535</td>\n",
       "      <td>966289.236</td>\n",
       "      <td>0.000</td>\n",
       "      <td>0.000</td>\n",
       "      <td>0.000</td>\n",
       "      <td>0.000</td>\n",
       "      <td>263722820.000</td>\n",
       "    </tr>\n",
       "    <tr>\n",
       "      <th>魔法消耗数量</th>\n",
       "      <td>2288007.000</td>\n",
       "      <td>47253.994</td>\n",
       "      <td>881122.273</td>\n",
       "      <td>0.000</td>\n",
       "      <td>0.000</td>\n",
       "      <td>0.000</td>\n",
       "      <td>0.000</td>\n",
       "      <td>263722891.000</td>\n",
       "    </tr>\n",
       "    <tr>\n",
       "      <th>勇士招募数量</th>\n",
       "      <td>2288007.000</td>\n",
       "      <td>143.610</td>\n",
       "      <td>1781.468</td>\n",
       "      <td>0.000</td>\n",
       "      <td>0.000</td>\n",
       "      <td>0.000</td>\n",
       "      <td>0.000</td>\n",
       "      <td>874918.000</td>\n",
       "    </tr>\n",
       "    <tr>\n",
       "      <th>勇士损失数量</th>\n",
       "      <td>2288007.000</td>\n",
       "      <td>226.782</td>\n",
       "      <td>1738.488</td>\n",
       "      <td>0.000</td>\n",
       "      <td>0.000</td>\n",
       "      <td>0.000</td>\n",
       "      <td>0.000</td>\n",
       "      <td>878883.000</td>\n",
       "    </tr>\n",
       "    <tr>\n",
       "      <th>驯兽师招募数量</th>\n",
       "      <td>2288007.000</td>\n",
       "      <td>128.264</td>\n",
       "      <td>1334.977</td>\n",
       "      <td>0.000</td>\n",
       "      <td>0.000</td>\n",
       "      <td>0.000</td>\n",
       "      <td>0.000</td>\n",
       "      <td>353852.000</td>\n",
       "    </tr>\n",
       "    <tr>\n",
       "      <th>驯兽师损失数量</th>\n",
       "      <td>2288007.000</td>\n",
       "      <td>178.006</td>\n",
       "      <td>1347.096</td>\n",
       "      <td>0.000</td>\n",
       "      <td>0.000</td>\n",
       "      <td>0.000</td>\n",
       "      <td>0.000</td>\n",
       "      <td>370375.000</td>\n",
       "    </tr>\n",
       "    <tr>\n",
       "      <th>勇士伤兵产生数量</th>\n",
       "      <td>2288007.000</td>\n",
       "      <td>135.304</td>\n",
       "      <td>1333.236</td>\n",
       "      <td>0.000</td>\n",
       "      <td>0.000</td>\n",
       "      <td>0.000</td>\n",
       "      <td>0.000</td>\n",
       "      <td>803996.000</td>\n",
       "    </tr>\n",
       "    <tr>\n",
       "      <th>勇士伤兵恢复数量</th>\n",
       "      <td>2288007.000</td>\n",
       "      <td>91.984</td>\n",
       "      <td>1287.586</td>\n",
       "      <td>0.000</td>\n",
       "      <td>0.000</td>\n",
       "      <td>0.000</td>\n",
       "      <td>0.000</td>\n",
       "      <td>803996.000</td>\n",
       "    </tr>\n",
       "    <tr>\n",
       "      <th>驯兽师伤兵产生数量</th>\n",
       "      <td>2288007.000</td>\n",
       "      <td>116.503</td>\n",
       "      <td>1009.972</td>\n",
       "      <td>0.000</td>\n",
       "      <td>0.000</td>\n",
       "      <td>0.000</td>\n",
       "      <td>0.000</td>\n",
       "      <td>347967.000</td>\n",
       "    </tr>\n",
       "    <tr>\n",
       "      <th>驯兽师伤兵恢复数量</th>\n",
       "      <td>2288007.000</td>\n",
       "      <td>84.346</td>\n",
       "      <td>950.375</td>\n",
       "      <td>0.000</td>\n",
       "      <td>0.000</td>\n",
       "      <td>0.000</td>\n",
       "      <td>0.000</td>\n",
       "      <td>347967.000</td>\n",
       "    </tr>\n",
       "    <tr>\n",
       "      <th>通用加速获取数量</th>\n",
       "      <td>2288007.000</td>\n",
       "      <td>282.545</td>\n",
       "      <td>3001.938</td>\n",
       "      <td>0.000</td>\n",
       "      <td>0.000</td>\n",
       "      <td>0.000</td>\n",
       "      <td>53.000</td>\n",
       "      <td>795484.000</td>\n",
       "    </tr>\n",
       "    <tr>\n",
       "      <th>通用加速使用数量</th>\n",
       "      <td>2288007.000</td>\n",
       "      <td>192.031</td>\n",
       "      <td>2619.487</td>\n",
       "      <td>0.000</td>\n",
       "      <td>0.000</td>\n",
       "      <td>0.000</td>\n",
       "      <td>0.000</td>\n",
       "      <td>764637.000</td>\n",
       "    </tr>\n",
       "    <tr>\n",
       "      <th>建筑加速获取数量</th>\n",
       "      <td>2288007.000</td>\n",
       "      <td>205.557</td>\n",
       "      <td>1427.626</td>\n",
       "      <td>0.000</td>\n",
       "      <td>0.000</td>\n",
       "      <td>0.000</td>\n",
       "      <td>232.000</td>\n",
       "      <td>411362.000</td>\n",
       "    </tr>\n",
       "    <tr>\n",
       "      <th>建筑加速使用数量</th>\n",
       "      <td>2288007.000</td>\n",
       "      <td>142.776</td>\n",
       "      <td>1283.584</td>\n",
       "      <td>0.000</td>\n",
       "      <td>0.000</td>\n",
       "      <td>0.000</td>\n",
       "      <td>46.000</td>\n",
       "      <td>306515.000</td>\n",
       "    </tr>\n",
       "    <tr>\n",
       "      <th>科研加速获取数量</th>\n",
       "      <td>2288007.000</td>\n",
       "      <td>132.671</td>\n",
       "      <td>1516.142</td>\n",
       "      <td>0.000</td>\n",
       "      <td>0.000</td>\n",
       "      <td>0.000</td>\n",
       "      <td>50.000</td>\n",
       "      <td>377796.000</td>\n",
       "    </tr>\n",
       "    <tr>\n",
       "      <th>科研加速使用数量</th>\n",
       "      <td>2288007.000</td>\n",
       "      <td>73.653</td>\n",
       "      <td>1339.241</td>\n",
       "      <td>0.000</td>\n",
       "      <td>0.000</td>\n",
       "      <td>0.000</td>\n",
       "      <td>0.000</td>\n",
       "      <td>338437.000</td>\n",
       "    </tr>\n",
       "    <tr>\n",
       "      <th>训练加速获取数量</th>\n",
       "      <td>2288007.000</td>\n",
       "      <td>210.808</td>\n",
       "      <td>1942.369</td>\n",
       "      <td>0.000</td>\n",
       "      <td>0.000</td>\n",
       "      <td>45.000</td>\n",
       "      <td>100.000</td>\n",
       "      <td>671607.000</td>\n",
       "    </tr>\n",
       "    <tr>\n",
       "      <th>训练加速使用数量</th>\n",
       "      <td>2288007.000</td>\n",
       "      <td>65.022</td>\n",
       "      <td>1554.042</td>\n",
       "      <td>0.000</td>\n",
       "      <td>0.000</td>\n",
       "      <td>0.000</td>\n",
       "      <td>0.000</td>\n",
       "      <td>529587.000</td>\n",
       "    </tr>\n",
       "    <tr>\n",
       "      <th>治疗加速获取数量</th>\n",
       "      <td>2288007.000</td>\n",
       "      <td>10.416</td>\n",
       "      <td>49.638</td>\n",
       "      <td>0.000</td>\n",
       "      <td>0.000</td>\n",
       "      <td>0.000</td>\n",
       "      <td>0.000</td>\n",
       "      <td>14048.000</td>\n",
       "    </tr>\n",
       "  </tbody>\n",
       "</table>\n",
       "</div>"
      ],
      "text/plain": [
       "                count       mean         std   min   25%       50%        75%  \\\n",
       "字段解释                                                                            \n",
       "木头获取数量    2288007.000 454306.859 4958667.146 0.000 0.000 42038.000 153118.000   \n",
       "木头消耗数量    2288007.000 369843.252 3737720.038 0.000 0.000  9830.000  98557.000   \n",
       "石头获取数量    2288007.000 189778.774 4670619.517 0.000 0.000     0.000      0.000   \n",
       "石头消耗数量    2288007.000 137607.363 3370166.356 0.000 0.000     0.000      0.000   \n",
       "象牙获取数量    2288007.000  80756.230 2220540.322 0.000 0.000     0.000      0.000   \n",
       "象牙消耗数量    2288007.000  36131.699 1782498.688 0.000 0.000     0.000      0.000   \n",
       "肉获取数量     2288007.000 585515.505 5868629.397 0.000 0.000 34587.000 136001.000   \n",
       "肉消耗数量     2288007.000 354810.206 3400632.455 0.000 0.000  6470.000  66054.000   \n",
       "魔法获取数量    2288007.000  75389.535  966289.236 0.000 0.000     0.000      0.000   \n",
       "魔法消耗数量    2288007.000  47253.994  881122.273 0.000 0.000     0.000      0.000   \n",
       "勇士招募数量    2288007.000    143.610    1781.468 0.000 0.000     0.000      0.000   \n",
       "勇士损失数量    2288007.000    226.782    1738.488 0.000 0.000     0.000      0.000   \n",
       "驯兽师招募数量   2288007.000    128.264    1334.977 0.000 0.000     0.000      0.000   \n",
       "驯兽师损失数量   2288007.000    178.006    1347.096 0.000 0.000     0.000      0.000   \n",
       "勇士伤兵产生数量  2288007.000    135.304    1333.236 0.000 0.000     0.000      0.000   \n",
       "勇士伤兵恢复数量  2288007.000     91.984    1287.586 0.000 0.000     0.000      0.000   \n",
       "驯兽师伤兵产生数量 2288007.000    116.503    1009.972 0.000 0.000     0.000      0.000   \n",
       "驯兽师伤兵恢复数量 2288007.000     84.346     950.375 0.000 0.000     0.000      0.000   \n",
       "通用加速获取数量  2288007.000    282.545    3001.938 0.000 0.000     0.000     53.000   \n",
       "通用加速使用数量  2288007.000    192.031    2619.487 0.000 0.000     0.000      0.000   \n",
       "建筑加速获取数量  2288007.000    205.557    1427.626 0.000 0.000     0.000    232.000   \n",
       "建筑加速使用数量  2288007.000    142.776    1283.584 0.000 0.000     0.000     46.000   \n",
       "科研加速获取数量  2288007.000    132.671    1516.142 0.000 0.000     0.000     50.000   \n",
       "科研加速使用数量  2288007.000     73.653    1339.241 0.000 0.000     0.000      0.000   \n",
       "训练加速获取数量  2288007.000    210.808    1942.369 0.000 0.000    45.000    100.000   \n",
       "训练加速使用数量  2288007.000     65.022    1554.042 0.000 0.000     0.000      0.000   \n",
       "治疗加速获取数量  2288007.000     10.416      49.638 0.000 0.000     0.000      0.000   \n",
       "\n",
       "                     max  \n",
       "字段解释                      \n",
       "木头获取数量    1239962311.000  \n",
       "木头消耗数量     799587506.000  \n",
       "石头获取数量    1214869437.000  \n",
       "石头消耗数量     796237770.000  \n",
       "象牙获取数量     574496104.000  \n",
       "象牙消耗数量     448197157.000  \n",
       "肉获取数量     1470643810.000  \n",
       "肉消耗数量      888953714.000  \n",
       "魔法获取数量     263722820.000  \n",
       "魔法消耗数量     263722891.000  \n",
       "勇士招募数量        874918.000  \n",
       "勇士损失数量        878883.000  \n",
       "驯兽师招募数量       353852.000  \n",
       "驯兽师损失数量       370375.000  \n",
       "勇士伤兵产生数量      803996.000  \n",
       "勇士伤兵恢复数量      803996.000  \n",
       "驯兽师伤兵产生数量     347967.000  \n",
       "驯兽师伤兵恢复数量     347967.000  \n",
       "通用加速获取数量      795484.000  \n",
       "通用加速使用数量      764637.000  \n",
       "建筑加速获取数量      411362.000  \n",
       "建筑加速使用数量      306515.000  \n",
       "科研加速获取数量      377796.000  \n",
       "科研加速使用数量      338437.000  \n",
       "训练加速获取数量      671607.000  \n",
       "训练加速使用数量      529587.000  \n",
       "治疗加速获取数量       14048.000  "
      ]
     },
     "execution_count": 120,
     "metadata": {},
     "output_type": "execute_result"
    }
   ],
   "source": [
    "data.loc[:,A[\"特征\"]].describe().T"
   ]
  },
  {
   "cell_type": "markdown",
   "metadata": {},
   "source": [
    "从分析的结果来看，各项资源的配比数量其实还算合理。假设一款游戏只想服务氪金玩家，那B类资源会很多、大量A类资源的获取渠道也会转向氪金方向，但《野蛮时代》明显没有这样的设计，在游戏早期只有兵种萨满相关的集中资源和技能是需要氪金的，说明游戏依然在致力于为普通玩家提供较好的体验，所以大部分用户应该不是因为新手关太难、剧情无法推进才退游的。然而，各类资源的可获取量其实有很大的差异，基础资源动辄就上百万甚至上亿，可能会让用户获得感严重不足。而从A类资源的分布来看，只有木头和肉这两种最最最基础的资源是分布较为正常的，其他资源都是严重左偏，**说明“留存率低”是原因，“资源数据的异常”是结果**。最有可能的情况就是产品逻辑不顺、获得感不足、美工不足、系统BUG（比如疯狂闪退等等）、或者强烈的捞金感/不高级感让大部分用户在第一天就流失掉了。"
   ]
  },
  {
   "cell_type": "markdown",
   "metadata": {},
   "source": [
    "### 3.3平衡性影响：氪金与战斗优势"
   ]
  },
  {
   "cell_type": "markdown",
   "metadata": {},
   "source": [
    "如果游戏对于新手并非很难上手，那是否是战斗力系统的设置让非氪玩家感觉不太友好呢？过于强大的角色、过于强大的技能和道具都可能影响游戏平衡性，平衡性这个复杂的指标其实可以从很多方面来进行考虑，可惜在现有数据下，我们能够考虑的唯有胜率。我们可以分析氪金用户与不氪金用户的战力差异，来判断氪金对游戏平衡性的影响。"
   ]
  },
  {
   "cell_type": "code",
   "execution_count": 124,
   "metadata": {},
   "outputs": [
    {
     "data": {
      "text/plain": [
       "25.193802939260117"
      ]
     },
     "execution_count": 124,
     "metadata": {},
     "output_type": "execute_result"
    }
   ],
   "source": [
    "#7日氪金玩家的人均PVP次数 - 氪金玩家是否热衷于战斗\n",
    "data[data[\"付费金额\"] !=0][\"PVP次数\"].mean()"
   ]
  },
  {
   "cell_type": "code",
   "execution_count": 132,
   "metadata": {},
   "outputs": [
    {
     "data": {
      "text/plain": [
       "count   35755.000\n",
       "mean        0.533\n",
       "std         0.360\n",
       "min         0.000\n",
       "25%         0.200\n",
       "50%         0.600\n",
       "75%         0.865\n",
       "max         1.000\n",
       "dtype: float64"
      ]
     },
     "execution_count": 132,
     "metadata": {},
     "output_type": "execute_result"
    }
   ],
   "source": [
    "#7日氪金玩家PVP胜率分布\n",
    "(data[data[\"付费金额\"] !=0][\"PVP胜利次数\"]/data[data[\"付费金额\"] !=0][\"PVP次数\"]).describe()"
   ]
  },
  {
   "cell_type": "markdown",
   "metadata": {},
   "source": [
    "可以看到，人均PVP胜率是53.27%，对手游付费玩家来说是个可以接受的数字，但并不是特别大的优势。<br>\n",
    "其中count数是少于总付费玩家的人数的，说明有部分玩家的PVP次数为0，为避免除0错误因此剔除了这些玩家。不参与PVP的玩家占比为："
   ]
  },
  {
   "cell_type": "code",
   "execution_count": 164,
   "metadata": {},
   "outputs": [
    {
     "data": {
      "text/plain": [
       "0.1371654721397717"
      ]
     },
     "execution_count": 164,
     "metadata": {},
     "output_type": "execute_result"
    }
   ],
   "source": [
    "1 - 35755/data[data[\"付费金额\"] !=0].shape[0] #13%的付费玩家从不玩PVP"
   ]
  },
  {
   "cell_type": "code",
   "execution_count": 165,
   "metadata": {},
   "outputs": [
    {
     "data": {
      "text/plain": [
       "1.723228497868749"
      ]
     },
     "execution_count": 165,
     "metadata": {},
     "output_type": "execute_result"
    }
   ],
   "source": [
    "#不氪金玩家的人均PVP次数\n",
    "data[data[\"付费金额\"] == 0][\"PVP次数\"].mean()"
   ]
  },
  {
   "cell_type": "code",
   "execution_count": 166,
   "metadata": {},
   "outputs": [
    {
     "data": {
      "text/plain": [
       "count   539947.000\n",
       "mean         0.254\n",
       "std          0.355\n",
       "min          0.000\n",
       "25%          0.000\n",
       "50%          0.000\n",
       "75%          0.500\n",
       "max          1.000\n",
       "dtype: float64"
      ]
     },
     "execution_count": 166,
     "metadata": {},
     "output_type": "execute_result"
    }
   ],
   "source": [
    "#不氪金玩家PVP胜率分布\n",
    "(data[data[\"付费金额\"] == 0][\"PVP胜利次数\"]/data[data[\"付费金额\"] ==0][\"PVP次数\"]).describe()"
   ]
  },
  {
   "cell_type": "markdown",
   "metadata": {},
   "source": [
    "对非付费玩家而言，人均PVP胜率只有25%，并且75%的人的场均胜率不到50%，这个条件对非付费玩家来说的确比较苛刻。同样，不氪金玩家中也有部分玩家的PVP次数为0，即一次也没有参与。来看不氪金玩家中参与PVP的人数占比："
   ]
  },
  {
   "cell_type": "code",
   "execution_count": 167,
   "metadata": {},
   "outputs": [
    {
     "data": {
      "text/plain": [
       "0.7596569522934539"
      ]
     },
     "execution_count": 167,
     "metadata": {},
     "output_type": "execute_result"
    }
   ],
   "source": [
    "1 - 539947/data[data[\"付费金额\"] ==0].shape[0]"
   ]
  },
  {
   "cell_type": "markdown",
   "metadata": {},
   "source": [
    "这个比例奇高，当然，不氪金用户中有许多人可能是已经流失的用户，因此当然不会参与PVP对战。"
   ]
  },
  {
   "cell_type": "code",
   "execution_count": 168,
   "metadata": {},
   "outputs": [
    {
     "data": {
      "text/plain": [
       "count   35755.000\n",
       "mean        0.452\n",
       "std         0.357\n",
       "min         0.000\n",
       "25%         0.000\n",
       "50%         0.500\n",
       "75%         0.783\n",
       "max         1.000\n",
       "dtype: float64"
      ]
     },
     "execution_count": 168,
     "metadata": {},
     "output_type": "execute_result"
    }
   ],
   "source": [
    "#氪金玩家会更好战？不氪玩家更佛系？\n",
    "(data[data[\"付费金额\"] !=0][\"主动发起PVP次数\"]/data[data[\"付费金额\"] !=0][\"PVP次数\"]).describe()"
   ]
  },
  {
   "cell_type": "markdown",
   "metadata": {},
   "source": [
    "对付费玩家而言，平均有45%的PVP对战是由他们主动发起的。"
   ]
  },
  {
   "cell_type": "code",
   "execution_count": 170,
   "metadata": {},
   "outputs": [
    {
     "data": {
      "text/plain": [
       "count   539947.000\n",
       "mean         0.262\n",
       "std          0.365\n",
       "min          0.000\n",
       "25%          0.000\n",
       "50%          0.000\n",
       "75%          0.500\n",
       "max          1.000\n",
       "dtype: float64"
      ]
     },
     "execution_count": 170,
     "metadata": {},
     "output_type": "execute_result"
    }
   ],
   "source": [
    "(data[data[\"付费金额\"] ==0][\"主动发起PVP次数\"]/data[data[\"付费金额\"] ==0][\"PVP次数\"]).describe()"
   ]
  },
  {
   "cell_type": "markdown",
   "metadata": {},
   "source": [
    "不付费玩家则有26%的时候主动发起对战，不过大多数时候75%的人都不会发起对战。"
   ]
  },
  {
   "cell_type": "markdown",
   "metadata": {},
   "source": [
    "如果PVP状况下是付费玩家占绝对优势，那PVE也是相同的情况吗？"
   ]
  },
  {
   "cell_type": "code",
   "execution_count": 171,
   "metadata": {},
   "outputs": [
    {
     "data": {
      "text/plain": [
       "count   37389.000\n",
       "mean        0.885\n",
       "std         0.141\n",
       "min         0.000\n",
       "25%         0.840\n",
       "50%         0.926\n",
       "75%         0.988\n",
       "max         1.000\n",
       "dtype: float64"
      ]
     },
     "execution_count": 171,
     "metadata": {},
     "output_type": "execute_result"
    }
   ],
   "source": [
    "#氪金玩家PVE胜率分布\n",
    "(data[data[\"付费金额\"] !=0][\"PVE胜利次数\"]/data[data[\"付费金额\"] !=0][\"PVE次数\"]).describe()"
   ]
  },
  {
   "cell_type": "code",
   "execution_count": 172,
   "metadata": {},
   "outputs": [
    {
     "data": {
      "text/plain": [
       "count   703148.000\n",
       "mean         0.921\n",
       "std          0.179\n",
       "min          0.000\n",
       "25%          0.965\n",
       "50%          1.000\n",
       "75%          1.000\n",
       "max          1.000\n",
       "dtype: float64"
      ]
     },
     "execution_count": 172,
     "metadata": {},
     "output_type": "execute_result"
    }
   ],
   "source": [
    "#不氪金玩家PVE胜率分布\n",
    "(data[data[\"付费金额\"] ==0][\"PVE胜利次数\"]/data[data[\"付费金额\"] ==0][\"PVE次数\"]).describe()"
   ]
  },
  {
   "cell_type": "markdown",
   "metadata": {},
   "source": [
    "不难发现，不氪金玩家的PVE平均胜率有92%，是高于氪金玩家的品滚胜率88%的，看来环境怪兽都比较弱小，大部分玩家都能够轻松战胜。当PVP上氪金玩家有绝对优势时，不氪金玩家许多会选择在PVE环境中进行战斗，因此我们推断不氪金玩家主动发起PVE战斗的情况会更多："
   ]
  },
  {
   "cell_type": "code",
   "execution_count": 173,
   "metadata": {},
   "outputs": [
    {
     "data": {
      "text/plain": [
       "count   37389.000\n",
       "mean        0.991\n",
       "std         0.067\n",
       "min         0.000\n",
       "25%         1.000\n",
       "50%         1.000\n",
       "75%         1.000\n",
       "max         1.000\n",
       "dtype: float64"
      ]
     },
     "execution_count": 173,
     "metadata": {},
     "output_type": "execute_result"
    }
   ],
   "source": [
    "#在PVE系统中，付费玩家主动发起战斗的概率\n",
    "(data[data[\"付费金额\"] !=0][\"主动发起PVE次数\"]/data[data[\"付费金额\"] !=0][\"PVE次数\"]).describe()"
   ]
  },
  {
   "cell_type": "code",
   "execution_count": 174,
   "metadata": {},
   "outputs": [
    {
     "data": {
      "text/plain": [
       "count   703148.000\n",
       "mean         0.996\n",
       "std          0.056\n",
       "min          0.000\n",
       "25%          1.000\n",
       "50%          1.000\n",
       "75%          1.000\n",
       "max          1.000\n",
       "dtype: float64"
      ]
     },
     "execution_count": 174,
     "metadata": {},
     "output_type": "execute_result"
    }
   ],
   "source": [
    "#在PVE系统中，不付费玩家主动发起战斗的概率\n",
    "(data[data[\"付费金额\"] == 0][\"主动发起PVE次数\"]/data[data[\"付费金额\"] ==0][\"PVE次数\"]).describe()"
   ]
  },
  {
   "cell_type": "markdown",
   "metadata": {},
   "source": [
    "氪金与不氪金玩家主动放弃PVE的可能性都非常高，几乎所有人都是主动发起PVE战斗，这可能说明PVE战斗是发展城市必须的环节（比如收集资源肉类需要猎杀野猪等生物、获取魔法道具需要猎杀龙、哥布林等生物）。从分析的结果来看，氪金并不会对PVE战斗有影响，主要是影响PVP。《野蛮时代》中玩家或许可以夺取其他玩家的领地和城池，因此PVP对战的平衡性对玩家流失有重要的影响。前期留存下来，但后期逐渐流失的非氪金用户有一定的可能是因为PVP胜率太低而离开。"
   ]
  },
  {
   "cell_type": "markdown",
   "metadata": {},
   "source": [
    "#### 4. 左偏带来长尾：谁是异常玩家？"
   ]
  },
  {
   "cell_type": "markdown",
   "metadata": {},
   "source": [
    "在特征高度左偏的情况下，数据中必然含有大量的异常值，这些异常值可能代表着某些特殊的人群，但带入异常值进行建模会严重影响模型的稳定性，导致模型容易过拟合。因此在建模之前，我们需要对异常值进行简单的探索，以确定异常值的处理方法。"
   ]
  },
  {
   "cell_type": "markdown",
   "metadata": {},
   "source": [
    " - 查看业务上的异常值"
   ]
  },
  {
   "cell_type": "markdown",
   "metadata": {},
   "source": [
    "> 从游戏业务角度而言，所有的资源/人物等级/胜利次数/金额等不应该出现负数，因此首先排查负数<br>\n",
    "> 如果存在用户信息，则需要排查年龄不为负，年龄不过高或过低等状况<br>\n",
    "> 查看是否有上线时间较短，但是资源量异常丰富的账号，可能是GM，也可能有人作弊"
   ]
  },
  {
   "cell_type": "code",
   "execution_count": 176,
   "metadata": {},
   "outputs": [
    {
     "data": {
      "text/plain": [
       "Index(['木头获取数量', '木头消耗数量', '石头获取数量', '石头消耗数量', '象牙获取数量', '象牙消耗数量', '肉获取数量',\n",
       "       '肉消耗数量', '魔法获取数量', '魔法消耗数量',\n",
       "       ...\n",
       "       '科研：资源帮助容量', 'PVP次数', '主动发起PVP次数', 'PVP胜利次数', 'PVE次数', '主动发起PVE次数',\n",
       "       'PVE胜利次数', '在线时长', '付费金额', '付费次数'],\n",
       "      dtype='object', name='字段解释', length=106)"
      ]
     },
     "execution_count": 176,
     "metadata": {},
     "output_type": "execute_result"
    }
   ],
   "source": [
    "data.columns[2:-1] #不对ID，注册时间和标签（45日付费金额）计算异常值"
   ]
  },
  {
   "cell_type": "code",
   "execution_count": 177,
   "metadata": {},
   "outputs": [],
   "source": [
    "AbnormalCheck = data.iloc[:,2:-1]"
   ]
  },
  {
   "cell_type": "code",
   "execution_count": 178,
   "metadata": {},
   "outputs": [
    {
     "name": "stdout",
     "output_type": "stream",
     "text": [
      "<class 'pandas.core.frame.DataFrame'>\n",
      "RangeIndex: 2288007 entries, 0 to 2288006\n",
      "Columns: 106 entries, 木头获取数量 to 付费次数\n",
      "dtypes: float64(12), int64(94)\n",
      "memory usage: 1.8 GB\n"
     ]
    }
   ],
   "source": [
    "AbnormalCheck.info() #确认已没有任何object对象"
   ]
  },
  {
   "cell_type": "code",
   "execution_count": 179,
   "metadata": {},
   "outputs": [
    {
     "data": {
      "text/plain": [
       "0"
      ]
     },
     "execution_count": 179,
     "metadata": {},
     "output_type": "execute_result"
    }
   ],
   "source": [
    "(AbnormalCheck < 0).sum().sum() #无小于0的值"
   ]
  },
  {
   "cell_type": "code",
   "execution_count": 181,
   "metadata": {},
   "outputs": [],
   "source": [
    "#通常我们还会检查在线时间很短但却拥有很多资源的账号，可能是作弊账号\n",
    "#但以目前游戏1分钟积累4w资源、3分钟积累十几万资源的状况来看，很难去判断资源出现异常的“阈值”"
   ]
  },
  {
   "cell_type": "code",
   "execution_count": 182,
   "metadata": {},
   "outputs": [
    {
     "data": {
      "text/html": [
       "<div>\n",
       "<style scoped>\n",
       "    .dataframe tbody tr th:only-of-type {\n",
       "        vertical-align: middle;\n",
       "    }\n",
       "\n",
       "    .dataframe tbody tr th {\n",
       "        vertical-align: top;\n",
       "    }\n",
       "\n",
       "    .dataframe thead th {\n",
       "        text-align: right;\n",
       "    }\n",
       "</style>\n",
       "<table border=\"1\" class=\"dataframe\">\n",
       "  <thead>\n",
       "    <tr style=\"text-align: right;\">\n",
       "      <th>字段解释</th>\n",
       "      <th>木头获取数量</th>\n",
       "      <th>木头消耗数量</th>\n",
       "      <th>石头获取数量</th>\n",
       "      <th>石头消耗数量</th>\n",
       "      <th>象牙获取数量</th>\n",
       "      <th>象牙消耗数量</th>\n",
       "      <th>肉获取数量</th>\n",
       "      <th>肉消耗数量</th>\n",
       "      <th>魔法获取数量</th>\n",
       "      <th>魔法消耗数量</th>\n",
       "      <th>...</th>\n",
       "      <th>科研：资源帮助容量</th>\n",
       "      <th>PVP次数</th>\n",
       "      <th>主动发起PVP次数</th>\n",
       "      <th>PVP胜利次数</th>\n",
       "      <th>PVE次数</th>\n",
       "      <th>主动发起PVE次数</th>\n",
       "      <th>PVE胜利次数</th>\n",
       "      <th>在线时长</th>\n",
       "      <th>付费金额</th>\n",
       "      <th>付费次数</th>\n",
       "    </tr>\n",
       "  </thead>\n",
       "  <tbody>\n",
       "    <tr>\n",
       "      <th>0</th>\n",
       "      <td>20125.000</td>\n",
       "      <td>3700.000</td>\n",
       "      <td>0.000</td>\n",
       "      <td>0.000</td>\n",
       "      <td>0.000</td>\n",
       "      <td>0.000</td>\n",
       "      <td>16375.000</td>\n",
       "      <td>2000.000</td>\n",
       "      <td>0.000</td>\n",
       "      <td>0.000</td>\n",
       "      <td>...</td>\n",
       "      <td>0</td>\n",
       "      <td>0</td>\n",
       "      <td>0</td>\n",
       "      <td>0</td>\n",
       "      <td>0</td>\n",
       "      <td>0</td>\n",
       "      <td>0</td>\n",
       "      <td>0.333</td>\n",
       "      <td>0.000</td>\n",
       "      <td>0</td>\n",
       "    </tr>\n",
       "    <tr>\n",
       "      <th>1</th>\n",
       "      <td>0.000</td>\n",
       "      <td>0.000</td>\n",
       "      <td>0.000</td>\n",
       "      <td>0.000</td>\n",
       "      <td>0.000</td>\n",
       "      <td>0.000</td>\n",
       "      <td>0.000</td>\n",
       "      <td>0.000</td>\n",
       "      <td>0.000</td>\n",
       "      <td>0.000</td>\n",
       "      <td>...</td>\n",
       "      <td>0</td>\n",
       "      <td>0</td>\n",
       "      <td>0</td>\n",
       "      <td>0</td>\n",
       "      <td>0</td>\n",
       "      <td>0</td>\n",
       "      <td>0</td>\n",
       "      <td>0.333</td>\n",
       "      <td>0.000</td>\n",
       "      <td>0</td>\n",
       "    </tr>\n",
       "    <tr>\n",
       "      <th>2</th>\n",
       "      <td>0.000</td>\n",
       "      <td>0.000</td>\n",
       "      <td>0.000</td>\n",
       "      <td>0.000</td>\n",
       "      <td>0.000</td>\n",
       "      <td>0.000</td>\n",
       "      <td>0.000</td>\n",
       "      <td>0.000</td>\n",
       "      <td>0.000</td>\n",
       "      <td>0.000</td>\n",
       "      <td>...</td>\n",
       "      <td>0</td>\n",
       "      <td>0</td>\n",
       "      <td>0</td>\n",
       "      <td>0</td>\n",
       "      <td>0</td>\n",
       "      <td>0</td>\n",
       "      <td>0</td>\n",
       "      <td>1.167</td>\n",
       "      <td>0.000</td>\n",
       "      <td>0</td>\n",
       "    </tr>\n",
       "    <tr>\n",
       "      <th>3</th>\n",
       "      <td>0.000</td>\n",
       "      <td>0.000</td>\n",
       "      <td>0.000</td>\n",
       "      <td>0.000</td>\n",
       "      <td>0.000</td>\n",
       "      <td>0.000</td>\n",
       "      <td>0.000</td>\n",
       "      <td>0.000</td>\n",
       "      <td>0.000</td>\n",
       "      <td>0.000</td>\n",
       "      <td>...</td>\n",
       "      <td>0</td>\n",
       "      <td>0</td>\n",
       "      <td>0</td>\n",
       "      <td>0</td>\n",
       "      <td>0</td>\n",
       "      <td>0</td>\n",
       "      <td>0</td>\n",
       "      <td>3.167</td>\n",
       "      <td>0.000</td>\n",
       "      <td>0</td>\n",
       "    </tr>\n",
       "    <tr>\n",
       "      <th>4</th>\n",
       "      <td>0.000</td>\n",
       "      <td>0.000</td>\n",
       "      <td>0.000</td>\n",
       "      <td>0.000</td>\n",
       "      <td>0.000</td>\n",
       "      <td>0.000</td>\n",
       "      <td>0.000</td>\n",
       "      <td>0.000</td>\n",
       "      <td>0.000</td>\n",
       "      <td>0.000</td>\n",
       "      <td>...</td>\n",
       "      <td>0</td>\n",
       "      <td>0</td>\n",
       "      <td>0</td>\n",
       "      <td>0</td>\n",
       "      <td>0</td>\n",
       "      <td>0</td>\n",
       "      <td>0</td>\n",
       "      <td>2.333</td>\n",
       "      <td>0.000</td>\n",
       "      <td>0</td>\n",
       "    </tr>\n",
       "    <tr>\n",
       "      <th>...</th>\n",
       "      <td>...</td>\n",
       "      <td>...</td>\n",
       "      <td>...</td>\n",
       "      <td>...</td>\n",
       "      <td>...</td>\n",
       "      <td>...</td>\n",
       "      <td>...</td>\n",
       "      <td>...</td>\n",
       "      <td>...</td>\n",
       "      <td>...</td>\n",
       "      <td>...</td>\n",
       "      <td>...</td>\n",
       "      <td>...</td>\n",
       "      <td>...</td>\n",
       "      <td>...</td>\n",
       "      <td>...</td>\n",
       "      <td>...</td>\n",
       "      <td>...</td>\n",
       "      <td>...</td>\n",
       "      <td>...</td>\n",
       "      <td>...</td>\n",
       "    </tr>\n",
       "    <tr>\n",
       "      <th>2288002</th>\n",
       "      <td>15500.000</td>\n",
       "      <td>3700.000</td>\n",
       "      <td>0.000</td>\n",
       "      <td>0.000</td>\n",
       "      <td>0.000</td>\n",
       "      <td>0.000</td>\n",
       "      <td>13000.000</td>\n",
       "      <td>2000.000</td>\n",
       "      <td>0.000</td>\n",
       "      <td>0.000</td>\n",
       "      <td>...</td>\n",
       "      <td>0</td>\n",
       "      <td>0</td>\n",
       "      <td>0</td>\n",
       "      <td>0</td>\n",
       "      <td>0</td>\n",
       "      <td>0</td>\n",
       "      <td>0</td>\n",
       "      <td>0.500</td>\n",
       "      <td>0.000</td>\n",
       "      <td>0</td>\n",
       "    </tr>\n",
       "    <tr>\n",
       "      <th>2288003</th>\n",
       "      <td>10000.000</td>\n",
       "      <td>0.000</td>\n",
       "      <td>0.000</td>\n",
       "      <td>0.000</td>\n",
       "      <td>0.000</td>\n",
       "      <td>0.000</td>\n",
       "      <td>10000.000</td>\n",
       "      <td>0.000</td>\n",
       "      <td>0.000</td>\n",
       "      <td>0.000</td>\n",
       "      <td>...</td>\n",
       "      <td>0</td>\n",
       "      <td>0</td>\n",
       "      <td>0</td>\n",
       "      <td>0</td>\n",
       "      <td>0</td>\n",
       "      <td>0</td>\n",
       "      <td>0</td>\n",
       "      <td>0.833</td>\n",
       "      <td>0.000</td>\n",
       "      <td>0</td>\n",
       "    </tr>\n",
       "    <tr>\n",
       "      <th>2288004</th>\n",
       "      <td>131589.000</td>\n",
       "      <td>71287.000</td>\n",
       "      <td>0.000</td>\n",
       "      <td>0.000</td>\n",
       "      <td>6000.000</td>\n",
       "      <td>0.000</td>\n",
       "      <td>249356.000</td>\n",
       "      <td>39524.000</td>\n",
       "      <td>0.000</td>\n",
       "      <td>0.000</td>\n",
       "      <td>...</td>\n",
       "      <td>0</td>\n",
       "      <td>0</td>\n",
       "      <td>0</td>\n",
       "      <td>0</td>\n",
       "      <td>2</td>\n",
       "      <td>2</td>\n",
       "      <td>2</td>\n",
       "      <td>4.333</td>\n",
       "      <td>0.000</td>\n",
       "      <td>0</td>\n",
       "    </tr>\n",
       "    <tr>\n",
       "      <th>2288005</th>\n",
       "      <td>221984.000</td>\n",
       "      <td>122401.000</td>\n",
       "      <td>0.000</td>\n",
       "      <td>0.000</td>\n",
       "      <td>0.000</td>\n",
       "      <td>0.000</td>\n",
       "      <td>208184.000</td>\n",
       "      <td>74738.000</td>\n",
       "      <td>0.000</td>\n",
       "      <td>0.000</td>\n",
       "      <td>...</td>\n",
       "      <td>0</td>\n",
       "      <td>0</td>\n",
       "      <td>0</td>\n",
       "      <td>0</td>\n",
       "      <td>1</td>\n",
       "      <td>1</td>\n",
       "      <td>1</td>\n",
       "      <td>2.833</td>\n",
       "      <td>0.000</td>\n",
       "      <td>0</td>\n",
       "    </tr>\n",
       "    <tr>\n",
       "      <th>2288006</th>\n",
       "      <td>15500.000</td>\n",
       "      <td>3700.000</td>\n",
       "      <td>0.000</td>\n",
       "      <td>0.000</td>\n",
       "      <td>0.000</td>\n",
       "      <td>0.000</td>\n",
       "      <td>13000.000</td>\n",
       "      <td>2000.000</td>\n",
       "      <td>0.000</td>\n",
       "      <td>0.000</td>\n",
       "      <td>...</td>\n",
       "      <td>0</td>\n",
       "      <td>0</td>\n",
       "      <td>0</td>\n",
       "      <td>0</td>\n",
       "      <td>0</td>\n",
       "      <td>0</td>\n",
       "      <td>0</td>\n",
       "      <td>0.667</td>\n",
       "      <td>0.000</td>\n",
       "      <td>0</td>\n",
       "    </tr>\n",
       "  </tbody>\n",
       "</table>\n",
       "<p>2144942 rows × 106 columns</p>\n",
       "</div>"
      ],
      "text/plain": [
       "字段解释        木头获取数量     木头消耗数量  石头获取数量  石头消耗数量   象牙获取数量  象牙消耗数量      肉获取数量  \\\n",
       "0        20125.000   3700.000   0.000   0.000    0.000   0.000  16375.000   \n",
       "1            0.000      0.000   0.000   0.000    0.000   0.000      0.000   \n",
       "2            0.000      0.000   0.000   0.000    0.000   0.000      0.000   \n",
       "3            0.000      0.000   0.000   0.000    0.000   0.000      0.000   \n",
       "4            0.000      0.000   0.000   0.000    0.000   0.000      0.000   \n",
       "...            ...        ...     ...     ...      ...     ...        ...   \n",
       "2288002  15500.000   3700.000   0.000   0.000    0.000   0.000  13000.000   \n",
       "2288003  10000.000      0.000   0.000   0.000    0.000   0.000  10000.000   \n",
       "2288004 131589.000  71287.000   0.000   0.000 6000.000   0.000 249356.000   \n",
       "2288005 221984.000 122401.000   0.000   0.000    0.000   0.000 208184.000   \n",
       "2288006  15500.000   3700.000   0.000   0.000    0.000   0.000  13000.000   \n",
       "\n",
       "字段解释        肉消耗数量  魔法获取数量  魔法消耗数量  ...  科研：资源帮助容量  PVP次数  主动发起PVP次数  PVP胜利次数  \\\n",
       "0        2000.000   0.000   0.000  ...          0      0          0        0   \n",
       "1           0.000   0.000   0.000  ...          0      0          0        0   \n",
       "2           0.000   0.000   0.000  ...          0      0          0        0   \n",
       "3           0.000   0.000   0.000  ...          0      0          0        0   \n",
       "4           0.000   0.000   0.000  ...          0      0          0        0   \n",
       "...           ...     ...     ...  ...        ...    ...        ...      ...   \n",
       "2288002  2000.000   0.000   0.000  ...          0      0          0        0   \n",
       "2288003     0.000   0.000   0.000  ...          0      0          0        0   \n",
       "2288004 39524.000   0.000   0.000  ...          0      0          0        0   \n",
       "2288005 74738.000   0.000   0.000  ...          0      0          0        0   \n",
       "2288006  2000.000   0.000   0.000  ...          0      0          0        0   \n",
       "\n",
       "字段解释     PVE次数  主动发起PVE次数  PVE胜利次数  在线时长  付费金额  付费次数  \n",
       "0            0          0        0 0.333 0.000     0  \n",
       "1            0          0        0 0.333 0.000     0  \n",
       "2            0          0        0 1.167 0.000     0  \n",
       "3            0          0        0 3.167 0.000     0  \n",
       "4            0          0        0 2.333 0.000     0  \n",
       "...        ...        ...      ...   ...   ...   ...  \n",
       "2288002      0          0        0 0.500 0.000     0  \n",
       "2288003      0          0        0 0.833 0.000     0  \n",
       "2288004      2          2        2 4.333 0.000     0  \n",
       "2288005      1          1        1 2.833 0.000     0  \n",
       "2288006      0          0        0 0.667 0.000     0  \n",
       "\n",
       "[2144942 rows x 106 columns]"
      ]
     },
     "execution_count": 182,
     "metadata": {},
     "output_type": "execute_result"
    }
   ],
   "source": [
    "AbnormalCheck.loc[AbnormalCheck[\"在线时长\"] < 30,:]"
   ]
  },
  {
   "cell_type": "markdown",
   "metadata": {},
   "source": [
    "- 统计上的异常值\n",
    "> 通常我们倾向于使用箱线图来查找异常值，但与绘制分布图时的情况一致，**箱线图函数无法处理百万级别数据**<br>\n",
    "> 因此我们依然退而求其次，使用计算方式来进行评估"
   ]
  },
  {
   "cell_type": "markdown",
   "metadata": {},
   "source": [
    "- 箱线图的法则：\n",
    "> **当任意样本的特定特征值超出 [QL-1.5\\*IQR, QU+1.5*IQR]时，则认为该样本的该特征值是异常值**<br>\n",
    "> QL:下四分位数，QU：上四分位数，IQR：QU-QL<br>"
   ]
  },
  {
   "cell_type": "markdown",
   "metadata": {},
   "source": [
    "箱型图识别异常值的依据是依赖四分位数计算，四分位数是比较鲁棒的，因为超出四分位数的那25%的数据无论有多大、多异常都不会影响到四分位数本身。因此箱型图的异常值检测结果比较客观、也比较严格，在识别异常值方面有一定的优越性。但由于该规则比较严格，在极度左偏数据下可能会刷掉大量数据。"
   ]
  },
  {
   "cell_type": "markdown",
   "metadata": {},
   "source": [
    "- 3sigma法则：\n",
    "> **(当任意样本的特定特征值 - 该特征的均值) > 3*特征的标准差，则认为该样本的特征值是异常值**<br>"
   ]
  },
  {
   "cell_type": "markdown",
   "metadata": {},
   "source": [
    "在统计学上，任意数据的数据范围位于[-3sigma, 3sigma]之间的概率是99.73%，因此3sigma法则的对异常值的评价标准实际上十分宽松。不过，3sigma假设数据应该满足正太分布，这一点与我们的数据不太相符。"
   ]
  },
  {
   "cell_type": "markdown",
   "metadata": {},
   "source": [
    "- 一定会出现的情况：由于数据高度左偏，因此异常值一定是出现在高于上分位数的方向，也就是玩家资源过多/等级过高时就会被判断为异常。而资源较多、等级较高的玩家也是游戏整体参与度较高的玩家，因此这类玩家很可能就是氪金用户。"
   ]
  },
  {
   "cell_type": "markdown",
   "metadata": {},
   "source": [
    "**我们先使用箱线图的法则，看看会筛选出多少异常值。**"
   ]
  },
  {
   "cell_type": "markdown",
   "metadata": {},
   "source": [
    "[QL - 1.5IQR   ,  QU+1.5IQR]\n",
    "\n",
    "(feature < QL - 1.5IQR).astype(int) #---->布尔值 \n",
    "+\n",
    "(feature > QU + 1.5IQR).astype(int) #---->布尔值"
   ]
  },
  {
   "cell_type": "code",
   "execution_count": 184,
   "metadata": {},
   "outputs": [],
   "source": [
    "#打印异常比例，保存异常样本的索引\n",
    "NumOfSamples = data.shape[0]\n",
    "abnormal = pd.DataFrame()\n",
    "DataNoAbnormal = data.copy()\n",
    "BoxAbnormalIdx = [] #列表：用于保存我们的异常值的索引\n",
    "for idx,column in enumerate(data.columns[2:-1]):\n",
    "    feature = data.loc[:,column]\n",
    "    QL = np.quantile(feature,0.25)\n",
    "    QU = np.quantile(feature,0.75)\n",
    "    IQR = QU - QL\n",
    "    #过小或过大的都属于异常值\n",
    "    error = feature[((feature < (QL - 1.5*IQR)).astype(int) + (feature > (QU + 1.5*IQR)).astype(int)) != 0]\n",
    "    BoxAbnormalIdx.extend(error.index)\n",
    "    abnormal.loc[idx,\"特征\"] = column\n",
    "    abnormal.loc[idx,\"异常值数量\"] = error.shape[0]\n",
    "    abnormal.loc[idx,\"异常值比例\"] = \"{:.3f}%\".format(error.shape[0]*100/NumOfSamples)"
   ]
  },
  {
   "cell_type": "code",
   "execution_count": 185,
   "metadata": {},
   "outputs": [
    {
     "data": {
      "text/plain": [
       "16670991"
      ]
     },
     "execution_count": 185,
     "metadata": {},
     "output_type": "execute_result"
    }
   ],
   "source": [
    "len(BoxAbnormalIdx) #这里面是有重复值的"
   ]
  },
  {
   "cell_type": "code",
   "execution_count": 186,
   "metadata": {},
   "outputs": [],
   "source": [
    "BoxAbnormalIdx = set(BoxAbnormalIdx) #利用集合对筛选出的异常值的索引进行去重"
   ]
  },
  {
   "cell_type": "code",
   "execution_count": 187,
   "metadata": {},
   "outputs": [
    {
     "data": {
      "text/plain": [
       "1123706"
      ]
     },
     "execution_count": 187,
     "metadata": {},
     "output_type": "execute_result"
    }
   ],
   "source": [
    "len(BoxAbnormalIdx) #超过100w数据都被归为异常，数量太多无法直接删除，何况在7日内付费的用户只有4w多，很可能被这100多万数据囊括"
   ]
  },
  {
   "cell_type": "code",
   "execution_count": 188,
   "metadata": {},
   "outputs": [
    {
     "data": {
      "text/html": [
       "<div>\n",
       "<style scoped>\n",
       "    .dataframe tbody tr th:only-of-type {\n",
       "        vertical-align: middle;\n",
       "    }\n",
       "\n",
       "    .dataframe tbody tr th {\n",
       "        vertical-align: top;\n",
       "    }\n",
       "\n",
       "    .dataframe thead th {\n",
       "        text-align: right;\n",
       "    }\n",
       "</style>\n",
       "<table border=\"1\" class=\"dataframe\">\n",
       "  <thead>\n",
       "    <tr style=\"text-align: right;\">\n",
       "      <th></th>\n",
       "      <th>特征</th>\n",
       "      <th>异常值数量</th>\n",
       "      <th>异常值比例</th>\n",
       "    </tr>\n",
       "  </thead>\n",
       "  <tbody>\n",
       "    <tr>\n",
       "      <th>39</th>\n",
       "      <td>建筑：联盟大厅等级</td>\n",
       "      <td>215420.000</td>\n",
       "      <td>9.415%</td>\n",
       "    </tr>\n",
       "    <tr>\n",
       "      <th>15</th>\n",
       "      <td>萨满损失数量</td>\n",
       "      <td>207173.000</td>\n",
       "      <td>9.055%</td>\n",
       "    </tr>\n",
       "    <tr>\n",
       "      <th>26</th>\n",
       "      <td>科研加速获取数量</td>\n",
       "      <td>195901.000</td>\n",
       "      <td>8.562%</td>\n",
       "    </tr>\n",
       "    <tr>\n",
       "      <th>20</th>\n",
       "      <td>萨满伤兵产生数量</td>\n",
       "      <td>183496.000</td>\n",
       "      <td>8.020%</td>\n",
       "    </tr>\n",
       "    <tr>\n",
       "      <th>84</th>\n",
       "      <td>科研：据点耐久</td>\n",
       "      <td>162146.000</td>\n",
       "      <td>7.087%</td>\n",
       "    </tr>\n",
       "    <tr>\n",
       "      <th>43</th>\n",
       "      <td>建筑：战争大厅等级</td>\n",
       "      <td>160448.000</td>\n",
       "      <td>7.013%</td>\n",
       "    </tr>\n",
       "    <tr>\n",
       "      <th>70</th>\n",
       "      <td>科研：建造速度</td>\n",
       "      <td>147491.000</td>\n",
       "      <td>6.446%</td>\n",
       "    </tr>\n",
       "    <tr>\n",
       "      <th>14</th>\n",
       "      <td>萨满招募数量</td>\n",
       "      <td>146429.000</td>\n",
       "      <td>6.400%</td>\n",
       "    </tr>\n",
       "    <tr>\n",
       "      <th>47</th>\n",
       "      <td>建筑：冒险传送门等级</td>\n",
       "      <td>145062.000</td>\n",
       "      <td>6.340%</td>\n",
       "    </tr>\n",
       "    <tr>\n",
       "      <th>17</th>\n",
       "      <td>勇士伤兵恢复数量</td>\n",
       "      <td>131702.000</td>\n",
       "      <td>5.756%</td>\n",
       "    </tr>\n",
       "    <tr>\n",
       "      <th>45</th>\n",
       "      <td>建筑：占卜台等级</td>\n",
       "      <td>128325.000</td>\n",
       "      <td>5.609%</td>\n",
       "    </tr>\n",
       "    <tr>\n",
       "      <th>19</th>\n",
       "      <td>驯兽师伤兵恢复数量</td>\n",
       "      <td>127605.000</td>\n",
       "      <td>5.577%</td>\n",
       "    </tr>\n",
       "    <tr>\n",
       "      <th>46</th>\n",
       "      <td>建筑：祭坛等级</td>\n",
       "      <td>124997.000</td>\n",
       "      <td>5.463%</td>\n",
       "    </tr>\n",
       "    <tr>\n",
       "      <th>32</th>\n",
       "      <td>建筑：士兵小屋等级</td>\n",
       "      <td>122911.000</td>\n",
       "      <td>5.372%</td>\n",
       "    </tr>\n",
       "    <tr>\n",
       "      <th>85</th>\n",
       "      <td>科研：据点二</td>\n",
       "      <td>101483.000</td>\n",
       "      <td>4.435%</td>\n",
       "    </tr>\n",
       "    <tr>\n",
       "      <th>21</th>\n",
       "      <td>萨满伤兵恢复数量</td>\n",
       "      <td>101371.000</td>\n",
       "      <td>4.431%</td>\n",
       "    </tr>\n",
       "    <tr>\n",
       "      <th>3</th>\n",
       "      <td>石头消耗数量</td>\n",
       "      <td>99772.000</td>\n",
       "      <td>4.361%</td>\n",
       "    </tr>\n",
       "    <tr>\n",
       "      <th>24</th>\n",
       "      <td>建筑加速获取数量</td>\n",
       "      <td>84767.000</td>\n",
       "      <td>3.705%</td>\n",
       "    </tr>\n",
       "    <tr>\n",
       "      <th>35</th>\n",
       "      <td>建筑：据点传送门等级</td>\n",
       "      <td>69971.000</td>\n",
       "      <td>3.058%</td>\n",
       "    </tr>\n",
       "    <tr>\n",
       "      <th>11</th>\n",
       "      <td>勇士损失数量</td>\n",
       "      <td>561890.000</td>\n",
       "      <td>24.558%</td>\n",
       "    </tr>\n",
       "    <tr>\n",
       "      <th>23</th>\n",
       "      <td>通用加速使用数量</td>\n",
       "      <td>561811.000</td>\n",
       "      <td>24.555%</td>\n",
       "    </tr>\n",
       "    <tr>\n",
       "      <th>44</th>\n",
       "      <td>建筑：联盟货车等级</td>\n",
       "      <td>518963.000</td>\n",
       "      <td>22.682%</td>\n",
       "    </tr>\n",
       "    <tr>\n",
       "      <th>48</th>\n",
       "      <td>科研：侦查等级</td>\n",
       "      <td>507576.000</td>\n",
       "      <td>22.184%</td>\n",
       "    </tr>\n",
       "    <tr>\n",
       "      <th>8</th>\n",
       "      <td>魔法获取数量</td>\n",
       "      <td>496533.000</td>\n",
       "      <td>21.702%</td>\n",
       "    </tr>\n",
       "    <tr>\n",
       "      <th>25</th>\n",
       "      <td>建筑加速使用数量</td>\n",
       "      <td>485048.000</td>\n",
       "      <td>21.200%</td>\n",
       "    </tr>\n",
       "    <tr>\n",
       "      <th>76</th>\n",
       "      <td>科研：肉类生产</td>\n",
       "      <td>63763.000</td>\n",
       "      <td>2.787%</td>\n",
       "    </tr>\n",
       "    <tr>\n",
       "      <th>50</th>\n",
       "      <td>科研：守护者</td>\n",
       "      <td>54647.000</td>\n",
       "      <td>2.388%</td>\n",
       "    </tr>\n",
       "    <tr>\n",
       "      <th>71</th>\n",
       "      <td>科研：资源保护</td>\n",
       "      <td>53720.000</td>\n",
       "      <td>2.348%</td>\n",
       "    </tr>\n",
       "    <tr>\n",
       "      <th>51</th>\n",
       "      <td>科研：巨兽驯兽师</td>\n",
       "      <td>52503.000</td>\n",
       "      <td>2.295%</td>\n",
       "    </tr>\n",
       "    <tr>\n",
       "      <th>87</th>\n",
       "      <td>科研：领土采集奖励</td>\n",
       "      <td>52150.000</td>\n",
       "      <td>2.279%</td>\n",
       "    </tr>\n",
       "    <tr>\n",
       "      <th>72</th>\n",
       "      <td>科研：部队消耗</td>\n",
       "      <td>48535.000</td>\n",
       "      <td>2.121%</td>\n",
       "    </tr>\n",
       "    <tr>\n",
       "      <th>4</th>\n",
       "      <td>象牙获取数量</td>\n",
       "      <td>419214.000</td>\n",
       "      <td>18.322%</td>\n",
       "    </tr>\n",
       "    <tr>\n",
       "      <th>42</th>\n",
       "      <td>建筑：魔法幸运树等级</td>\n",
       "      <td>390895.000</td>\n",
       "      <td>17.085%</td>\n",
       "    </tr>\n",
       "    <tr>\n",
       "      <th>36</th>\n",
       "      <td>建筑：兵营等级</td>\n",
       "      <td>384549.000</td>\n",
       "      <td>16.807%</td>\n",
       "    </tr>\n",
       "    <tr>\n",
       "      <th>9</th>\n",
       "      <td>魔法消耗数量</td>\n",
       "      <td>376830.000</td>\n",
       "      <td>16.470%</td>\n",
       "    </tr>\n",
       "    <tr>\n",
       "      <th>22</th>\n",
       "      <td>通用加速获取数量</td>\n",
       "      <td>366411.000</td>\n",
       "      <td>16.014%</td>\n",
       "    </tr>\n",
       "    <tr>\n",
       "      <th>30</th>\n",
       "      <td>治疗加速获取数量</td>\n",
       "      <td>364864.000</td>\n",
       "      <td>15.947%</td>\n",
       "    </tr>\n",
       "    <tr>\n",
       "      <th>13</th>\n",
       "      <td>驯兽师损失数量</td>\n",
       "      <td>357644.000</td>\n",
       "      <td>15.631%</td>\n",
       "    </tr>\n",
       "    <tr>\n",
       "      <th>6</th>\n",
       "      <td>肉获取数量</td>\n",
       "      <td>352622.000</td>\n",
       "      <td>15.412%</td>\n",
       "    </tr>\n",
       "    <tr>\n",
       "      <th>28</th>\n",
       "      <td>训练加速获取数量</td>\n",
       "      <td>344160.000</td>\n",
       "      <td>15.042%</td>\n",
       "    </tr>\n",
       "    <tr>\n",
       "      <th>33</th>\n",
       "      <td>建筑：治疗小井等级</td>\n",
       "      <td>343883.000</td>\n",
       "      <td>15.030%</td>\n",
       "    </tr>\n",
       "    <tr>\n",
       "      <th>41</th>\n",
       "      <td>建筑：瞭望塔等级</td>\n",
       "      <td>330854.000</td>\n",
       "      <td>14.460%</td>\n",
       "    </tr>\n",
       "    <tr>\n",
       "      <th>7</th>\n",
       "      <td>肉消耗数量</td>\n",
       "      <td>329349.000</td>\n",
       "      <td>14.395%</td>\n",
       "    </tr>\n",
       "    <tr>\n",
       "      <th>16</th>\n",
       "      <td>勇士伤兵产生数量</td>\n",
       "      <td>322853.000</td>\n",
       "      <td>14.111%</td>\n",
       "    </tr>\n",
       "    <tr>\n",
       "      <th>97</th>\n",
       "      <td>PVP次数</td>\n",
       "      <td>321761.000</td>\n",
       "      <td>14.063%</td>\n",
       "    </tr>\n",
       "    <tr>\n",
       "      <th>37</th>\n",
       "      <td>建筑：治疗之泉等级</td>\n",
       "      <td>319003.000</td>\n",
       "      <td>13.942%</td>\n",
       "    </tr>\n",
       "    <tr>\n",
       "      <th>1</th>\n",
       "      <td>木头消耗数量</td>\n",
       "      <td>307884.000</td>\n",
       "      <td>13.456%</td>\n",
       "    </tr>\n",
       "    <tr>\n",
       "      <th>38</th>\n",
       "      <td>建筑：智慧神庙等级</td>\n",
       "      <td>306720.000</td>\n",
       "      <td>13.406%</td>\n",
       "    </tr>\n",
       "    <tr>\n",
       "      <th>0</th>\n",
       "      <td>木头获取数量</td>\n",
       "      <td>304990.000</td>\n",
       "      <td>13.330%</td>\n",
       "    </tr>\n",
       "    <tr>\n",
       "      <th>40</th>\n",
       "      <td>建筑：仓库等级</td>\n",
       "      <td>302989.000</td>\n",
       "      <td>13.242%</td>\n",
       "    </tr>\n",
       "    <tr>\n",
       "      <th>18</th>\n",
       "      <td>驯兽师伤兵产生数量</td>\n",
       "      <td>297810.000</td>\n",
       "      <td>13.016%</td>\n",
       "    </tr>\n",
       "    <tr>\n",
       "      <th>100</th>\n",
       "      <td>PVE次数</td>\n",
       "      <td>292357.000</td>\n",
       "      <td>12.778%</td>\n",
       "    </tr>\n",
       "    <tr>\n",
       "      <th>101</th>\n",
       "      <td>主动发起PVE次数</td>\n",
       "      <td>291103.000</td>\n",
       "      <td>12.723%</td>\n",
       "    </tr>\n",
       "    <tr>\n",
       "      <th>103</th>\n",
       "      <td>在线时长</td>\n",
       "      <td>289480.000</td>\n",
       "      <td>12.652%</td>\n",
       "    </tr>\n",
       "    <tr>\n",
       "      <th>49</th>\n",
       "      <td>科研：训练速度等级</td>\n",
       "      <td>275800.000</td>\n",
       "      <td>12.054%</td>\n",
       "    </tr>\n",
       "    <tr>\n",
       "      <th>10</th>\n",
       "      <td>勇士招募数量</td>\n",
       "      <td>269616.000</td>\n",
       "      <td>11.784%</td>\n",
       "    </tr>\n",
       "    <tr>\n",
       "      <th>12</th>\n",
       "      <td>驯兽师招募数量</td>\n",
       "      <td>267121.000</td>\n",
       "      <td>11.675%</td>\n",
       "    </tr>\n",
       "    <tr>\n",
       "      <th>102</th>\n",
       "      <td>PVE胜利次数</td>\n",
       "      <td>263136.000</td>\n",
       "      <td>11.501%</td>\n",
       "    </tr>\n",
       "    <tr>\n",
       "      <th>99</th>\n",
       "      <td>PVP胜利次数</td>\n",
       "      <td>262546.000</td>\n",
       "      <td>11.475%</td>\n",
       "    </tr>\n",
       "    <tr>\n",
       "      <th>98</th>\n",
       "      <td>主动发起PVP次数</td>\n",
       "      <td>256948.000</td>\n",
       "      <td>11.230%</td>\n",
       "    </tr>\n",
       "    <tr>\n",
       "      <th>29</th>\n",
       "      <td>训练加速使用数量</td>\n",
       "      <td>255293.000</td>\n",
       "      <td>11.158%</td>\n",
       "    </tr>\n",
       "    <tr>\n",
       "      <th>2</th>\n",
       "      <td>石头获取数量</td>\n",
       "      <td>254439.000</td>\n",
       "      <td>11.121%</td>\n",
       "    </tr>\n",
       "    <tr>\n",
       "      <th>27</th>\n",
       "      <td>科研加速使用数量</td>\n",
       "      <td>254043.000</td>\n",
       "      <td>11.103%</td>\n",
       "    </tr>\n",
       "    <tr>\n",
       "      <th>52</th>\n",
       "      <td>科研：吟唱者</td>\n",
       "      <td>45054.000</td>\n",
       "      <td>1.969%</td>\n",
       "    </tr>\n",
       "    <tr>\n",
       "      <th>73</th>\n",
       "      <td>科研：木材生产</td>\n",
       "      <td>44317.000</td>\n",
       "      <td>1.937%</td>\n",
       "    </tr>\n",
       "    <tr>\n",
       "      <th>86</th>\n",
       "      <td>科研：医院容量</td>\n",
       "      <td>42847.000</td>\n",
       "      <td>1.873%</td>\n",
       "    </tr>\n",
       "    <tr>\n",
       "      <th>104</th>\n",
       "      <td>付费金额</td>\n",
       "      <td>41439.000</td>\n",
       "      <td>1.811%</td>\n",
       "    </tr>\n",
       "    <tr>\n",
       "      <th>105</th>\n",
       "      <td>付费次数</td>\n",
       "      <td>41439.000</td>\n",
       "      <td>1.811%</td>\n",
       "    </tr>\n",
       "    <tr>\n",
       "      <th>88</th>\n",
       "      <td>科研：治疗速度</td>\n",
       "      <td>34083.000</td>\n",
       "      <td>1.490%</td>\n",
       "    </tr>\n",
       "    <tr>\n",
       "      <th>53</th>\n",
       "      <td>科研：勇士攻击</td>\n",
       "      <td>30290.000</td>\n",
       "      <td>1.324%</td>\n",
       "    </tr>\n",
       "    <tr>\n",
       "      <th>77</th>\n",
       "      <td>科研：木材采集</td>\n",
       "      <td>29298.000</td>\n",
       "      <td>1.281%</td>\n",
       "    </tr>\n",
       "    <tr>\n",
       "      <th>54</th>\n",
       "      <td>科研：驯兽师攻击</td>\n",
       "      <td>28455.000</td>\n",
       "      <td>1.244%</td>\n",
       "    </tr>\n",
       "    <tr>\n",
       "      <th>81</th>\n",
       "      <td>科研：部队负重</td>\n",
       "      <td>27689.000</td>\n",
       "      <td>1.210%</td>\n",
       "    </tr>\n",
       "    <tr>\n",
       "      <th>80</th>\n",
       "      <td>科研：肉类采集</td>\n",
       "      <td>27414.000</td>\n",
       "      <td>1.198%</td>\n",
       "    </tr>\n",
       "    <tr>\n",
       "      <th>55</th>\n",
       "      <td>科研：萨满攻击</td>\n",
       "      <td>23208.000</td>\n",
       "      <td>1.014%</td>\n",
       "    </tr>\n",
       "    <tr>\n",
       "      <th>5</th>\n",
       "      <td>象牙消耗数量</td>\n",
       "      <td>20691.000</td>\n",
       "      <td>0.904%</td>\n",
       "    </tr>\n",
       "    <tr>\n",
       "      <th>31</th>\n",
       "      <td>治疗加速使用数量</td>\n",
       "      <td>9512.000</td>\n",
       "      <td>0.416%</td>\n",
       "    </tr>\n",
       "    <tr>\n",
       "      <th>83</th>\n",
       "      <td>科研：魔法生产</td>\n",
       "      <td>9203.000</td>\n",
       "      <td>0.402%</td>\n",
       "    </tr>\n",
       "    <tr>\n",
       "      <th>34</th>\n",
       "      <td>建筑：要塞等级</td>\n",
       "      <td>7196.000</td>\n",
       "      <td>0.315%</td>\n",
       "    </tr>\n",
       "    <tr>\n",
       "      <th>74</th>\n",
       "      <td>科研：石头生产</td>\n",
       "      <td>3399.000</td>\n",
       "      <td>0.149%</td>\n",
       "    </tr>\n",
       "    <tr>\n",
       "      <th>82</th>\n",
       "      <td>科研：魔法采集</td>\n",
       "      <td>2915.000</td>\n",
       "      <td>0.127%</td>\n",
       "    </tr>\n",
       "    <tr>\n",
       "      <th>78</th>\n",
       "      <td>科研：石头采集</td>\n",
       "      <td>2436.000</td>\n",
       "      <td>0.106%</td>\n",
       "    </tr>\n",
       "    <tr>\n",
       "      <th>89</th>\n",
       "      <td>科研：据点三</td>\n",
       "      <td>2011.000</td>\n",
       "      <td>0.088%</td>\n",
       "    </tr>\n",
       "    <tr>\n",
       "      <th>75</th>\n",
       "      <td>科研：象牙生产</td>\n",
       "      <td>923.000</td>\n",
       "      <td>0.040%</td>\n",
       "    </tr>\n",
       "    <tr>\n",
       "      <th>79</th>\n",
       "      <td>科研：象牙采集</td>\n",
       "      <td>686.000</td>\n",
       "      <td>0.030%</td>\n",
       "    </tr>\n",
       "    <tr>\n",
       "      <th>91</th>\n",
       "      <td>科研：战斗行军速度</td>\n",
       "      <td>634.000</td>\n",
       "      <td>0.028%</td>\n",
       "    </tr>\n",
       "    <tr>\n",
       "      <th>56</th>\n",
       "      <td>科研：战斗大师</td>\n",
       "      <td>629.000</td>\n",
       "      <td>0.027%</td>\n",
       "    </tr>\n",
       "    <tr>\n",
       "      <th>57</th>\n",
       "      <td>科研：高阶巨兽骑兵</td>\n",
       "      <td>597.000</td>\n",
       "      <td>0.026%</td>\n",
       "    </tr>\n",
       "    <tr>\n",
       "      <th>92</th>\n",
       "      <td>科研：采集行军速度</td>\n",
       "      <td>600.000</td>\n",
       "      <td>0.026%</td>\n",
       "    </tr>\n",
       "    <tr>\n",
       "      <th>58</th>\n",
       "      <td>科研：图腾大师</td>\n",
       "      <td>535.000</td>\n",
       "      <td>0.023%</td>\n",
       "    </tr>\n",
       "    <tr>\n",
       "      <th>59</th>\n",
       "      <td>科研：部队防御</td>\n",
       "      <td>424.000</td>\n",
       "      <td>0.019%</td>\n",
       "    </tr>\n",
       "    <tr>\n",
       "      <th>90</th>\n",
       "      <td>科研：联盟行军速度</td>\n",
       "      <td>417.000</td>\n",
       "      <td>0.018%</td>\n",
       "    </tr>\n",
       "    <tr>\n",
       "      <th>60</th>\n",
       "      <td>科研：勇士防御</td>\n",
       "      <td>324.000</td>\n",
       "      <td>0.014%</td>\n",
       "    </tr>\n",
       "    <tr>\n",
       "      <th>61</th>\n",
       "      <td>科研：驯兽师防御</td>\n",
       "      <td>306.000</td>\n",
       "      <td>0.013%</td>\n",
       "    </tr>\n",
       "    <tr>\n",
       "      <th>63</th>\n",
       "      <td>科研：勇士生命</td>\n",
       "      <td>293.000</td>\n",
       "      <td>0.013%</td>\n",
       "    </tr>\n",
       "    <tr>\n",
       "      <th>62</th>\n",
       "      <td>科研：萨满防御</td>\n",
       "      <td>283.000</td>\n",
       "      <td>0.012%</td>\n",
       "    </tr>\n",
       "    <tr>\n",
       "      <th>64</th>\n",
       "      <td>科研：驯兽师生命</td>\n",
       "      <td>262.000</td>\n",
       "      <td>0.011%</td>\n",
       "    </tr>\n",
       "    <tr>\n",
       "      <th>65</th>\n",
       "      <td>科研：萨满生命</td>\n",
       "      <td>252.000</td>\n",
       "      <td>0.011%</td>\n",
       "    </tr>\n",
       "    <tr>\n",
       "      <th>66</th>\n",
       "      <td>科研：狂战士</td>\n",
       "      <td>40.000</td>\n",
       "      <td>0.002%</td>\n",
       "    </tr>\n",
       "    <tr>\n",
       "      <th>67</th>\n",
       "      <td>科研：龙骑兵</td>\n",
       "      <td>45.000</td>\n",
       "      <td>0.002%</td>\n",
       "    </tr>\n",
       "    <tr>\n",
       "      <th>93</th>\n",
       "      <td>科研：据点四</td>\n",
       "      <td>13.000</td>\n",
       "      <td>0.001%</td>\n",
       "    </tr>\n",
       "    <tr>\n",
       "      <th>68</th>\n",
       "      <td>科研：神谕者</td>\n",
       "      <td>34.000</td>\n",
       "      <td>0.001%</td>\n",
       "    </tr>\n",
       "    <tr>\n",
       "      <th>69</th>\n",
       "      <td>科研：部队攻击</td>\n",
       "      <td>9.000</td>\n",
       "      <td>0.000%</td>\n",
       "    </tr>\n",
       "    <tr>\n",
       "      <th>94</th>\n",
       "      <td>科研：增援部队容量</td>\n",
       "      <td>3.000</td>\n",
       "      <td>0.000%</td>\n",
       "    </tr>\n",
       "    <tr>\n",
       "      <th>95</th>\n",
       "      <td>科研：行军大小</td>\n",
       "      <td>7.000</td>\n",
       "      <td>0.000%</td>\n",
       "    </tr>\n",
       "    <tr>\n",
       "      <th>96</th>\n",
       "      <td>科研：资源帮助容量</td>\n",
       "      <td>3.000</td>\n",
       "      <td>0.000%</td>\n",
       "    </tr>\n",
       "  </tbody>\n",
       "</table>\n",
       "</div>"
      ],
      "text/plain": [
       "             特征      异常值数量    异常值比例\n",
       "39    建筑：联盟大厅等级 215420.000   9.415%\n",
       "15       萨满损失数量 207173.000   9.055%\n",
       "26     科研加速获取数量 195901.000   8.562%\n",
       "20     萨满伤兵产生数量 183496.000   8.020%\n",
       "84      科研：据点耐久 162146.000   7.087%\n",
       "43    建筑：战争大厅等级 160448.000   7.013%\n",
       "70      科研：建造速度 147491.000   6.446%\n",
       "14       萨满招募数量 146429.000   6.400%\n",
       "47   建筑：冒险传送门等级 145062.000   6.340%\n",
       "17     勇士伤兵恢复数量 131702.000   5.756%\n",
       "45     建筑：占卜台等级 128325.000   5.609%\n",
       "19    驯兽师伤兵恢复数量 127605.000   5.577%\n",
       "46      建筑：祭坛等级 124997.000   5.463%\n",
       "32    建筑：士兵小屋等级 122911.000   5.372%\n",
       "85       科研：据点二 101483.000   4.435%\n",
       "21     萨满伤兵恢复数量 101371.000   4.431%\n",
       "3        石头消耗数量  99772.000   4.361%\n",
       "24     建筑加速获取数量  84767.000   3.705%\n",
       "35   建筑：据点传送门等级  69971.000   3.058%\n",
       "11       勇士损失数量 561890.000  24.558%\n",
       "23     通用加速使用数量 561811.000  24.555%\n",
       "44    建筑：联盟货车等级 518963.000  22.682%\n",
       "48      科研：侦查等级 507576.000  22.184%\n",
       "8        魔法获取数量 496533.000  21.702%\n",
       "25     建筑加速使用数量 485048.000  21.200%\n",
       "76      科研：肉类生产  63763.000   2.787%\n",
       "50       科研：守护者  54647.000   2.388%\n",
       "71      科研：资源保护  53720.000   2.348%\n",
       "51     科研：巨兽驯兽师  52503.000   2.295%\n",
       "87    科研：领土采集奖励  52150.000   2.279%\n",
       "72      科研：部队消耗  48535.000   2.121%\n",
       "4        象牙获取数量 419214.000  18.322%\n",
       "42   建筑：魔法幸运树等级 390895.000  17.085%\n",
       "36      建筑：兵营等级 384549.000  16.807%\n",
       "9        魔法消耗数量 376830.000  16.470%\n",
       "22     通用加速获取数量 366411.000  16.014%\n",
       "30     治疗加速获取数量 364864.000  15.947%\n",
       "13      驯兽师损失数量 357644.000  15.631%\n",
       "6         肉获取数量 352622.000  15.412%\n",
       "28     训练加速获取数量 344160.000  15.042%\n",
       "33    建筑：治疗小井等级 343883.000  15.030%\n",
       "41     建筑：瞭望塔等级 330854.000  14.460%\n",
       "7         肉消耗数量 329349.000  14.395%\n",
       "16     勇士伤兵产生数量 322853.000  14.111%\n",
       "97        PVP次数 321761.000  14.063%\n",
       "37    建筑：治疗之泉等级 319003.000  13.942%\n",
       "1        木头消耗数量 307884.000  13.456%\n",
       "38    建筑：智慧神庙等级 306720.000  13.406%\n",
       "0        木头获取数量 304990.000  13.330%\n",
       "40      建筑：仓库等级 302989.000  13.242%\n",
       "18    驯兽师伤兵产生数量 297810.000  13.016%\n",
       "100       PVE次数 292357.000  12.778%\n",
       "101   主动发起PVE次数 291103.000  12.723%\n",
       "103        在线时长 289480.000  12.652%\n",
       "49    科研：训练速度等级 275800.000  12.054%\n",
       "10       勇士招募数量 269616.000  11.784%\n",
       "12      驯兽师招募数量 267121.000  11.675%\n",
       "102     PVE胜利次数 263136.000  11.501%\n",
       "99      PVP胜利次数 262546.000  11.475%\n",
       "98    主动发起PVP次数 256948.000  11.230%\n",
       "29     训练加速使用数量 255293.000  11.158%\n",
       "2        石头获取数量 254439.000  11.121%\n",
       "27     科研加速使用数量 254043.000  11.103%\n",
       "52       科研：吟唱者  45054.000   1.969%\n",
       "73      科研：木材生产  44317.000   1.937%\n",
       "86      科研：医院容量  42847.000   1.873%\n",
       "104        付费金额  41439.000   1.811%\n",
       "105        付费次数  41439.000   1.811%\n",
       "88      科研：治疗速度  34083.000   1.490%\n",
       "53      科研：勇士攻击  30290.000   1.324%\n",
       "77      科研：木材采集  29298.000   1.281%\n",
       "54     科研：驯兽师攻击  28455.000   1.244%\n",
       "81      科研：部队负重  27689.000   1.210%\n",
       "80      科研：肉类采集  27414.000   1.198%\n",
       "55      科研：萨满攻击  23208.000   1.014%\n",
       "5        象牙消耗数量  20691.000   0.904%\n",
       "31     治疗加速使用数量   9512.000   0.416%\n",
       "83      科研：魔法生产   9203.000   0.402%\n",
       "34      建筑：要塞等级   7196.000   0.315%\n",
       "74      科研：石头生产   3399.000   0.149%\n",
       "82      科研：魔法采集   2915.000   0.127%\n",
       "78      科研：石头采集   2436.000   0.106%\n",
       "89       科研：据点三   2011.000   0.088%\n",
       "75      科研：象牙生产    923.000   0.040%\n",
       "79      科研：象牙采集    686.000   0.030%\n",
       "91    科研：战斗行军速度    634.000   0.028%\n",
       "56      科研：战斗大师    629.000   0.027%\n",
       "57    科研：高阶巨兽骑兵    597.000   0.026%\n",
       "92    科研：采集行军速度    600.000   0.026%\n",
       "58      科研：图腾大师    535.000   0.023%\n",
       "59      科研：部队防御    424.000   0.019%\n",
       "90    科研：联盟行军速度    417.000   0.018%\n",
       "60      科研：勇士防御    324.000   0.014%\n",
       "61     科研：驯兽师防御    306.000   0.013%\n",
       "63      科研：勇士生命    293.000   0.013%\n",
       "62      科研：萨满防御    283.000   0.012%\n",
       "64     科研：驯兽师生命    262.000   0.011%\n",
       "65      科研：萨满生命    252.000   0.011%\n",
       "66       科研：狂战士     40.000   0.002%\n",
       "67       科研：龙骑兵     45.000   0.002%\n",
       "93       科研：据点四     13.000   0.001%\n",
       "68       科研：神谕者     34.000   0.001%\n",
       "69      科研：部队攻击      9.000   0.000%\n",
       "94    科研：增援部队容量      3.000   0.000%\n",
       "95      科研：行军大小      7.000   0.000%\n",
       "96    科研：资源帮助容量      3.000   0.000%"
      ]
     },
     "execution_count": 188,
     "metadata": {},
     "output_type": "execute_result"
    }
   ],
   "source": [
    "abnormal.sort_values(\"异常值比例\",ascending=False) #左偏比较严重的特征异常值更多"
   ]
  },
  {
   "cell_type": "markdown",
   "metadata": {},
   "source": [
    "**再使用3sigma法则试试看**"
   ]
  },
  {
   "cell_type": "code",
   "execution_count": 189,
   "metadata": {},
   "outputs": [],
   "source": [
    "#打印异常比例，保存异常样本的索引\n",
    "NumOfSamples = data.shape[0]\n",
    "abnormal = pd.DataFrame()\n",
    "DataNoAbnormal = data.copy()\n",
    "SigmaAbnormalIdx = []\n",
    "for idx,column in enumerate(data.columns[2:-1]):\n",
    "    feature = data.loc[:,column]\n",
    "    mean_ = feature.mean()\n",
    "    std_ = feature.std()\n",
    "    error = feature[feature - mean_ > 3*std_]\n",
    "    SigmaAbnormalIdx.extend(error.index)\n",
    "    abnormal.loc[idx,\"特征\"] = column\n",
    "    abnormal.loc[idx,\"异常值数量\"] = error.shape[0]\n",
    "    abnormal.loc[idx,\"异常值比例\"] = \"{:.3f}%\".format(error.shape[0]*100/NumOfSamples)"
   ]
  },
  {
   "cell_type": "code",
   "execution_count": 190,
   "metadata": {},
   "outputs": [
    {
     "data": {
      "text/plain": [
       "2580755"
      ]
     },
     "execution_count": 190,
     "metadata": {},
     "output_type": "execute_result"
    }
   ],
   "source": [
    "len(SigmaAbnormalIdx)"
   ]
  },
  {
   "cell_type": "code",
   "execution_count": 191,
   "metadata": {},
   "outputs": [],
   "source": [
    "SigmaAbnormalIdx = set(SigmaAbnormalIdx) #对异常样本索引去重"
   ]
  },
  {
   "cell_type": "code",
   "execution_count": 192,
   "metadata": {},
   "outputs": [
    {
     "data": {
      "text/plain": [
       "233350"
      ]
     },
     "execution_count": 192,
     "metadata": {},
     "output_type": "execute_result"
    }
   ],
   "source": [
    "len(SigmaAbnormalIdx) #23w样本是异常，这是一个可以接受的数字，可以直接删除，但放入模型后的效果不知道怎么样"
   ]
  },
  {
   "cell_type": "markdown",
   "metadata": {},
   "source": [
    "**在箱线图规则下，我们看看这些异常用户的游戏时间/氪金情况**"
   ]
  },
  {
   "cell_type": "code",
   "execution_count": 193,
   "metadata": {},
   "outputs": [
    {
     "data": {
      "text/plain": [
       "count   1123706.000\n",
       "mean         19.579\n",
       "std          53.996\n",
       "min           0.000\n",
       "25%           2.333\n",
       "50%           4.500\n",
       "75%          11.667\n",
       "max        2049.667\n",
       "Name: 在线时长, dtype: float64"
      ]
     },
     "execution_count": 193,
     "metadata": {},
     "output_type": "execute_result"
    }
   ],
   "source": [
    "data.loc[BoxAbnormalIdx,\"在线时长\"].describe() #在在线时长上，表现是位于氪金用户与不可尽用户之间"
   ]
  },
  {
   "cell_type": "code",
   "execution_count": 194,
   "metadata": {},
   "outputs": [
    {
     "data": {
      "text/plain": [
       "41439"
      ]
     },
     "execution_count": 194,
     "metadata": {},
     "output_type": "execute_result"
    }
   ],
   "source": [
    "(data.loc[BoxAbnormalIdx,\"付费金额\"] != 0).sum() #在异常用户中，付费用户的数量"
   ]
  },
  {
   "cell_type": "code",
   "execution_count": 195,
   "metadata": {},
   "outputs": [
    {
     "data": {
      "text/plain": [
       "41439"
      ]
     },
     "execution_count": 195,
     "metadata": {},
     "output_type": "execute_result"
    }
   ],
   "source": [
    "(data.loc[:,\"付费金额\"] != 0).sum() #所有7日付费用户数"
   ]
  },
  {
   "cell_type": "code",
   "execution_count": 196,
   "metadata": {},
   "outputs": [
    {
     "data": {
      "text/plain": [
       "45670"
      ]
     },
     "execution_count": 196,
     "metadata": {},
     "output_type": "execute_result"
    }
   ],
   "source": [
    "(data.loc[BoxAbnormalIdx,\"45日付费金额\"] != 0).sum() #在异常用户中，付费用户的数量"
   ]
  },
  {
   "cell_type": "code",
   "execution_count": 197,
   "metadata": {},
   "outputs": [
    {
     "data": {
      "text/plain": [
       "45988"
      ]
     },
     "execution_count": 197,
     "metadata": {},
     "output_type": "execute_result"
    }
   ],
   "source": [
    "(data.loc[:,\"45日付费金额\"] != 0).sum() #所有7日付费用户数"
   ]
  },
  {
   "cell_type": "markdown",
   "metadata": {},
   "source": [
    "付费用户被100%包含在了异常用户里，这说明：\n",
    "> - 付费用户的数据在现有数据的大背景下（大部分用户短时间快速流失掉）下，在统计上是完全异常的，因此建模时想要辨认出付费用户，模型需要很深入的学习，有很高的过拟合风险<br>\n",
    "> - 异常用户有100w，其中只有4w多付费，即许多与氪金用户行为高度相似的用户都没有氪金，对算法来说这部分用户是很难判断的"
   ]
  },
  {
   "cell_type": "markdown",
   "metadata": {},
   "source": [
    "在进行算法建模时，需要更加灵活的方法来处理这些异常数据。"
   ]
  },
  {
   "cell_type": "markdown",
   "metadata": {},
   "source": [
    "在进行了这么多探索之后，我们开始进入建模流程。我们将在建模流程中使用我们之前分析的众多结果来处理特征。"
   ]
  },
  {
   "cell_type": "markdown",
   "metadata": {},
   "source": [
    "## 模型构筑：从0实现用户氪金行为预测"
   ]
  },
  {
   "cell_type": "markdown",
   "metadata": {},
   "source": [
    "### 1. 导库，整合数据"
   ]
  },
  {
   "cell_type": "code",
   "execution_count": 198,
   "metadata": {},
   "outputs": [],
   "source": [
    "import pandas as pd\n",
    "import numpy as np\n",
    "import matplotlib.pyplot as plt\n",
    "import sklearn\n",
    "%matplotlib inline\n",
    "plt.rcParams['font.sans-serif']=['Simhei']\n",
    "plt.rcParams['axes.unicode_minus']=False"
   ]
  },
  {
   "cell_type": "code",
   "execution_count": 201,
   "metadata": {},
   "outputs": [],
   "source": [
    "#更改列名为中文\n",
    "data = pd.read_csv(r\"数据\\tap_fun_train.csv\")\n",
    "column_name = pd.read_excel(r\"数据\\tap4fun数据字段解释.xlsx\")\n",
    "data.columns = column_name[\"字段解释\"]"
   ]
  },
  {
   "cell_type": "code",
   "execution_count": 202,
   "metadata": {},
   "outputs": [
    {
     "data": {
      "text/html": [
       "<div>\n",
       "<style scoped>\n",
       "    .dataframe tbody tr th:only-of-type {\n",
       "        vertical-align: middle;\n",
       "    }\n",
       "\n",
       "    .dataframe tbody tr th {\n",
       "        vertical-align: top;\n",
       "    }\n",
       "\n",
       "    .dataframe thead th {\n",
       "        text-align: right;\n",
       "    }\n",
       "</style>\n",
       "<table border=\"1\" class=\"dataframe\">\n",
       "  <thead>\n",
       "    <tr style=\"text-align: right;\">\n",
       "      <th>字段解释</th>\n",
       "      <th>玩家唯一ID</th>\n",
       "      <th>玩家注册时间</th>\n",
       "      <th>木头获取数量</th>\n",
       "      <th>木头消耗数量</th>\n",
       "      <th>石头获取数量</th>\n",
       "      <th>石头消耗数量</th>\n",
       "      <th>象牙获取数量</th>\n",
       "      <th>象牙消耗数量</th>\n",
       "      <th>肉获取数量</th>\n",
       "      <th>肉消耗数量</th>\n",
       "      <th>...</th>\n",
       "      <th>PVP次数</th>\n",
       "      <th>主动发起PVP次数</th>\n",
       "      <th>PVP胜利次数</th>\n",
       "      <th>PVE次数</th>\n",
       "      <th>主动发起PVE次数</th>\n",
       "      <th>PVE胜利次数</th>\n",
       "      <th>在线时长</th>\n",
       "      <th>付费金额</th>\n",
       "      <th>付费次数</th>\n",
       "      <th>45日付费金额</th>\n",
       "    </tr>\n",
       "  </thead>\n",
       "  <tbody>\n",
       "    <tr>\n",
       "      <th>0</th>\n",
       "      <td>1</td>\n",
       "      <td>2018-02-02 19:47:15</td>\n",
       "      <td>20125.000</td>\n",
       "      <td>3700.000</td>\n",
       "      <td>0.000</td>\n",
       "      <td>0.000</td>\n",
       "      <td>0.000</td>\n",
       "      <td>0.000</td>\n",
       "      <td>16375.000</td>\n",
       "      <td>2000.000</td>\n",
       "      <td>...</td>\n",
       "      <td>0</td>\n",
       "      <td>0</td>\n",
       "      <td>0</td>\n",
       "      <td>0</td>\n",
       "      <td>0</td>\n",
       "      <td>0</td>\n",
       "      <td>0.333</td>\n",
       "      <td>0.000</td>\n",
       "      <td>0</td>\n",
       "      <td>0.000</td>\n",
       "    </tr>\n",
       "    <tr>\n",
       "      <th>1</th>\n",
       "      <td>1593</td>\n",
       "      <td>2018-01-26 00:01:05</td>\n",
       "      <td>0.000</td>\n",
       "      <td>0.000</td>\n",
       "      <td>0.000</td>\n",
       "      <td>0.000</td>\n",
       "      <td>0.000</td>\n",
       "      <td>0.000</td>\n",
       "      <td>0.000</td>\n",
       "      <td>0.000</td>\n",
       "      <td>...</td>\n",
       "      <td>0</td>\n",
       "      <td>0</td>\n",
       "      <td>0</td>\n",
       "      <td>0</td>\n",
       "      <td>0</td>\n",
       "      <td>0</td>\n",
       "      <td>0.333</td>\n",
       "      <td>0.000</td>\n",
       "      <td>0</td>\n",
       "      <td>0.000</td>\n",
       "    </tr>\n",
       "    <tr>\n",
       "      <th>2</th>\n",
       "      <td>1594</td>\n",
       "      <td>2018-01-26 00:01:58</td>\n",
       "      <td>0.000</td>\n",
       "      <td>0.000</td>\n",
       "      <td>0.000</td>\n",
       "      <td>0.000</td>\n",
       "      <td>0.000</td>\n",
       "      <td>0.000</td>\n",
       "      <td>0.000</td>\n",
       "      <td>0.000</td>\n",
       "      <td>...</td>\n",
       "      <td>0</td>\n",
       "      <td>0</td>\n",
       "      <td>0</td>\n",
       "      <td>0</td>\n",
       "      <td>0</td>\n",
       "      <td>0</td>\n",
       "      <td>1.167</td>\n",
       "      <td>0.000</td>\n",
       "      <td>0</td>\n",
       "      <td>0.000</td>\n",
       "    </tr>\n",
       "    <tr>\n",
       "      <th>3</th>\n",
       "      <td>1595</td>\n",
       "      <td>2018-01-26 00:02:13</td>\n",
       "      <td>0.000</td>\n",
       "      <td>0.000</td>\n",
       "      <td>0.000</td>\n",
       "      <td>0.000</td>\n",
       "      <td>0.000</td>\n",
       "      <td>0.000</td>\n",
       "      <td>0.000</td>\n",
       "      <td>0.000</td>\n",
       "      <td>...</td>\n",
       "      <td>0</td>\n",
       "      <td>0</td>\n",
       "      <td>0</td>\n",
       "      <td>0</td>\n",
       "      <td>0</td>\n",
       "      <td>0</td>\n",
       "      <td>3.167</td>\n",
       "      <td>0.000</td>\n",
       "      <td>0</td>\n",
       "      <td>0.000</td>\n",
       "    </tr>\n",
       "    <tr>\n",
       "      <th>4</th>\n",
       "      <td>1596</td>\n",
       "      <td>2018-01-26 00:02:46</td>\n",
       "      <td>0.000</td>\n",
       "      <td>0.000</td>\n",
       "      <td>0.000</td>\n",
       "      <td>0.000</td>\n",
       "      <td>0.000</td>\n",
       "      <td>0.000</td>\n",
       "      <td>0.000</td>\n",
       "      <td>0.000</td>\n",
       "      <td>...</td>\n",
       "      <td>0</td>\n",
       "      <td>0</td>\n",
       "      <td>0</td>\n",
       "      <td>0</td>\n",
       "      <td>0</td>\n",
       "      <td>0</td>\n",
       "      <td>2.333</td>\n",
       "      <td>0.000</td>\n",
       "      <td>0</td>\n",
       "      <td>0.000</td>\n",
       "    </tr>\n",
       "  </tbody>\n",
       "</table>\n",
       "<p>5 rows × 109 columns</p>\n",
       "</div>"
      ],
      "text/plain": [
       "字段解释  玩家唯一ID               玩家注册时间    木头获取数量   木头消耗数量  石头获取数量  石头消耗数量  象牙获取数量  \\\n",
       "0          1  2018-02-02 19:47:15 20125.000 3700.000   0.000   0.000   0.000   \n",
       "1       1593  2018-01-26 00:01:05     0.000    0.000   0.000   0.000   0.000   \n",
       "2       1594  2018-01-26 00:01:58     0.000    0.000   0.000   0.000   0.000   \n",
       "3       1595  2018-01-26 00:02:13     0.000    0.000   0.000   0.000   0.000   \n",
       "4       1596  2018-01-26 00:02:46     0.000    0.000   0.000   0.000   0.000   \n",
       "\n",
       "字段解释  象牙消耗数量     肉获取数量    肉消耗数量  ...  PVP次数  主动发起PVP次数  PVP胜利次数  PVE次数  \\\n",
       "0      0.000 16375.000 2000.000  ...      0          0        0      0   \n",
       "1      0.000     0.000    0.000  ...      0          0        0      0   \n",
       "2      0.000     0.000    0.000  ...      0          0        0      0   \n",
       "3      0.000     0.000    0.000  ...      0          0        0      0   \n",
       "4      0.000     0.000    0.000  ...      0          0        0      0   \n",
       "\n",
       "字段解释  主动发起PVE次数  PVE胜利次数  在线时长  付费金额  付费次数  45日付费金额  \n",
       "0             0        0 0.333 0.000     0    0.000  \n",
       "1             0        0 0.333 0.000     0    0.000  \n",
       "2             0        0 1.167 0.000     0    0.000  \n",
       "3             0        0 3.167 0.000     0    0.000  \n",
       "4             0        0 2.333 0.000     0    0.000  \n",
       "\n",
       "[5 rows x 109 columns]"
      ]
     },
     "execution_count": 202,
     "metadata": {},
     "output_type": "execute_result"
    }
   ],
   "source": [
    "data.head()"
   ]
  },
  {
   "cell_type": "markdown",
   "metadata": {},
   "source": [
    "### 2. 数据预处理：注册时间与氪金状况有关吗？"
   ]
  },
  {
   "cell_type": "markdown",
   "metadata": {},
   "source": [
    "从游戏世界的常识以及之前的分析结果来看，资源量的累计、在线时长等特征与用户体验的深度有较大的关联，也就与是否氪金、氪多少金额有较大的关联。但在我们的特征矩阵中，还有一类尚未分析的特征，玩家注册时间，这是全数据集中唯一一个object类型的对象。"
   ]
  },
  {
   "cell_type": "code",
   "execution_count": 203,
   "metadata": {},
   "outputs": [
    {
     "data": {
      "text/plain": [
       "0          2018-02-02 19:47:15\n",
       "1          2018-01-26 00:01:05\n",
       "2          2018-01-26 00:01:58\n",
       "3          2018-01-26 00:02:13\n",
       "4          2018-01-26 00:02:46\n",
       "                  ...         \n",
       "2288002    2018-02-03 14:54:10\n",
       "2288003    2018-02-03 14:55:21\n",
       "2288004    2018-02-03 14:56:35\n",
       "2288005    2018-02-03 14:57:51\n",
       "2288006    2018-02-03 14:58:45\n",
       "Name: 玩家注册时间, Length: 2288007, dtype: object"
      ]
     },
     "execution_count": 203,
     "metadata": {},
     "output_type": "execute_result"
    }
   ],
   "source": [
    "data.loc[:,\"玩家注册时间\"]"
   ]
  },
  {
   "cell_type": "markdown",
   "metadata": {},
   "source": [
    "从常识来看，一般注册时间与用户的氪金行为应该关系不大，在这里我们将时间分成日期和时刻来考虑，分别绘制横坐标为注册日期/注册时刻、纵坐标为该日期/该时刻注册用户氪金均值的关系图，以此来观察注册日期、时刻与氪金是否有关。"
   ]
  },
  {
   "cell_type": "code",
   "execution_count": 204,
   "metadata": {},
   "outputs": [],
   "source": [
    "import time\n",
    "import datetime"
   ]
  },
  {
   "cell_type": "code",
   "execution_count": 205,
   "metadata": {},
   "outputs": [],
   "source": [
    "#首先将玩家注册日期提取出来作为新的一列\n",
    "RegisterDate = data.loc[:,\"玩家注册时间\"].apply(lambda x: x[:10])"
   ]
  },
  {
   "cell_type": "code",
   "execution_count": 206,
   "metadata": {},
   "outputs": [
    {
     "data": {
      "text/plain": [
       "0          2018-02-02\n",
       "1          2018-01-26\n",
       "2          2018-01-26\n",
       "3          2018-01-26\n",
       "4          2018-01-26\n",
       "              ...    \n",
       "2288002    2018-02-03\n",
       "2288003    2018-02-03\n",
       "2288004    2018-02-03\n",
       "2288005    2018-02-03\n",
       "2288006    2018-02-03\n",
       "Name: 玩家注册时间, Length: 2288007, dtype: object"
      ]
     },
     "execution_count": 206,
     "metadata": {},
     "output_type": "execute_result"
    }
   ],
   "source": [
    "RegisterDate"
   ]
  },
  {
   "cell_type": "code",
   "execution_count": 207,
   "metadata": {},
   "outputs": [],
   "source": [
    "#按照玩家注册日期对付费金额进行聚合平均计算\n",
    "RegisterDateMean = data[\"付费金额\"].groupby(RegisterDate).mean()"
   ]
  },
  {
   "cell_type": "code",
   "execution_count": 208,
   "metadata": {},
   "outputs": [
    {
     "data": {
      "text/plain": [
       "玩家注册时间\n",
       "2018-01-26   0.829\n",
       "2018-01-27   0.412\n",
       "2018-01-28   0.425\n",
       "2018-01-29   0.565\n",
       "2018-01-30   0.777\n",
       "2018-01-31   0.354\n",
       "2018-02-01   0.305\n",
       "2018-02-02   0.847\n",
       "2018-02-03   0.741\n",
       "2018-02-04   0.440\n",
       "2018-02-05   0.684\n",
       "2018-02-06   0.413\n",
       "2018-02-07   0.455\n",
       "2018-02-08   0.478\n",
       "2018-02-09   0.654\n",
       "2018-02-10   0.682\n",
       "2018-02-11   0.405\n",
       "2018-02-12   0.820\n",
       "2018-02-13   0.460\n",
       "2018-02-14   0.485\n",
       "2018-02-15   0.253\n",
       "2018-02-16   0.811\n",
       "2018-02-17   0.400\n",
       "2018-02-18   0.397\n",
       "2018-02-19   0.371\n",
       "2018-02-20   0.271\n",
       "2018-02-21   0.436\n",
       "2018-02-22   0.478\n",
       "2018-02-23   1.042\n",
       "2018-02-24   0.702\n",
       "2018-02-25   0.515\n",
       "2018-02-26   0.957\n",
       "2018-02-27   0.413\n",
       "2018-02-28   0.527\n",
       "2018-03-01   0.503\n",
       "2018-03-02   0.702\n",
       "2018-03-03   0.390\n",
       "2018-03-04   0.382\n",
       "2018-03-05   0.695\n",
       "2018-03-06   0.808\n",
       "Name: 付费金额, dtype: float64"
      ]
     },
     "execution_count": 208,
     "metadata": {},
     "output_type": "execute_result"
    }
   ],
   "source": [
    "RegisterDateMean"
   ]
  },
  {
   "cell_type": "code",
   "execution_count": 209,
   "metadata": {},
   "outputs": [
    {
     "data": {
      "image/png": "[encoded data removed]",
      "text/plain": [
       "<Figure size 1500x300 with 1 Axes>"
      ]
     },
     "metadata": {
      "needs_background": "light"
     },
     "output_type": "display_data"
    }
   ],
   "source": [
    "#绘制图像\n",
    "plt.figure(figsize=(15,3),dpi=100)\n",
    "plt.title(\"不同注册日期的用户氪金均值\")\n",
    "plt.bar(RegisterDateMean.index, RegisterDateMean.values)\n",
    "plt.xticks(RegisterDateMean.index,rotation=60,ha=\"right\");"
   ]
  },
  {
   "cell_type": "markdown",
   "metadata": {},
   "source": [
    "从图上来看，几乎无法看出日期与氪金数额有所联系。看起来整体是比较随机而且杂乱的，但是每隔几天就会有一个高峰。我们可以试试看将日期转化为一星期中的七天，观察一下星期和氪金数额是否有明显的关系。"
   ]
  },
  {
   "cell_type": "code",
   "execution_count": 210,
   "metadata": {},
   "outputs": [
    {
     "data": {
      "text/plain": [
       "4"
      ]
     },
     "execution_count": 210,
     "metadata": {},
     "output_type": "execute_result"
    }
   ],
   "source": [
    "#必须要将字符串转化为python可以读取的时间格式，这样python才能够基于日期帮助我辨别，这个日期是星期几\n",
    "datetime.datetime.strptime(data.loc[0,\"玩家注册时间\"][:10],\"%Y-%m-%d\").weekday()"
   ]
  },
  {
   "cell_type": "code",
   "execution_count": 212,
   "metadata": {},
   "outputs": [],
   "source": [
    "RegisterWeekday = data.loc[:,\"玩家注册时间\"].apply(lambda x: datetime.datetime.strptime(x[:10],\"%Y-%m-%d\").weekday()+1) #1~7分别代表周一到周日"
   ]
  },
  {
   "cell_type": "code",
   "execution_count": 213,
   "metadata": {},
   "outputs": [
    {
     "data": {
      "text/plain": [
       "0          5\n",
       "1          5\n",
       "2          5\n",
       "3          5\n",
       "4          5\n",
       "          ..\n",
       "2288002    6\n",
       "2288003    6\n",
       "2288004    6\n",
       "2288005    6\n",
       "2288006    6\n",
       "Name: 玩家注册时间, Length: 2288007, dtype: int64"
      ]
     },
     "execution_count": 213,
     "metadata": {},
     "output_type": "execute_result"
    }
   ],
   "source": [
    "RegisterWeekday"
   ]
  },
  {
   "cell_type": "code",
   "execution_count": 214,
   "metadata": {},
   "outputs": [],
   "source": [
    "RegisterWeekDayMean = data[\"付费金额\"].groupby(RegisterWeekday).mean()"
   ]
  },
  {
   "cell_type": "code",
   "execution_count": 215,
   "metadata": {},
   "outputs": [
    {
     "data": {
      "text/plain": [
       "玩家注册时间\n",
       "1   0.618\n",
       "2   0.485\n",
       "3   0.448\n",
       "4   0.378\n",
       "5   0.815\n",
       "6   0.549\n",
       "7   0.426\n",
       "Name: 付费金额, dtype: float64"
      ]
     },
     "execution_count": 215,
     "metadata": {},
     "output_type": "execute_result"
    }
   ],
   "source": [
    "RegisterWeekDayMean"
   ]
  },
  {
   "cell_type": "code",
   "execution_count": 216,
   "metadata": {},
   "outputs": [
    {
     "data": {
      "image/png": "[encoded data removed]",
      "text/plain": [
       "<Figure size 400x400 with 1 Axes>"
      ]
     },
     "metadata": {
      "needs_background": "light"
     },
     "output_type": "display_data"
    }
   ],
   "source": [
    "#绘制图像\n",
    "plt.figure(figsize=(4,4),dpi=100)\n",
    "plt.title(\"不同注册日期（星期）的用户氪金均值\")\n",
    "plt.bar(RegisterWeekDayMean.index, RegisterWeekDayMean.values)\n",
    "plt.xticks(RegisterWeekDayMean.index,rotation=60,ha=\"right\");"
   ]
  },
  {
   "cell_type": "markdown",
   "metadata": {},
   "source": [
    "很明显，周五、周一注册的人有较高的氪金金额，并且在高峰之后会逐渐下降。这个趋势看起来是氪金金额与星期相关，但实际上更可能是跟游戏买量、投放的节奏和渠道有关。或许每周五、每周一都可以排到质量较高的用户所在的渠道，或者周五会吸引到大量准备过周末的玩家的注意、周一则会吸引到大量还不想投入工作的玩家的注意。周五与周一的高峰暗示这两天进入的流量可能是有规律工作、有经济收入的人。但无论真相是什么，从特征的角度来看，我们可以计算一下星期与45日付费金额的相关系数："
   ]
  },
  {
   "cell_type": "code",
   "execution_count": 217,
   "metadata": {},
   "outputs": [
    {
     "data": {
      "text/html": [
       "<div>\n",
       "<style scoped>\n",
       "    .dataframe tbody tr th:only-of-type {\n",
       "        vertical-align: middle;\n",
       "    }\n",
       "\n",
       "    .dataframe tbody tr th {\n",
       "        vertical-align: top;\n",
       "    }\n",
       "\n",
       "    .dataframe thead th {\n",
       "        text-align: right;\n",
       "    }\n",
       "</style>\n",
       "<table border=\"1\" class=\"dataframe\">\n",
       "  <thead>\n",
       "    <tr style=\"text-align: right;\">\n",
       "      <th></th>\n",
       "      <th>45日付费金额</th>\n",
       "      <th>玩家注册时间</th>\n",
       "    </tr>\n",
       "  </thead>\n",
       "  <tbody>\n",
       "    <tr>\n",
       "      <th>45日付费金额</th>\n",
       "      <td>1.000</td>\n",
       "      <td>0.000</td>\n",
       "    </tr>\n",
       "    <tr>\n",
       "      <th>玩家注册时间</th>\n",
       "      <td>0.000</td>\n",
       "      <td>1.000</td>\n",
       "    </tr>\n",
       "  </tbody>\n",
       "</table>\n",
       "</div>"
      ],
      "text/plain": [
       "         45日付费金额  玩家注册时间\n",
       "45日付费金额    1.000   0.000\n",
       "玩家注册时间     0.000   1.000"
      ]
     },
     "execution_count": 217,
     "metadata": {},
     "output_type": "execute_result"
    }
   ],
   "source": [
    "pd.concat([data[\"45日付费金额\"],RegisterWeekday],axis=1).corr()"
   ]
  },
  {
   "cell_type": "markdown",
   "metadata": {},
   "source": [
    "相关系数非常非常小，两者几乎不相关，不将星期放入特征矩阵了。"
   ]
  },
  {
   "cell_type": "code",
   "execution_count": 218,
   "metadata": {},
   "outputs": [],
   "source": [
    "#将时刻也单独列一列，提取小时数作为特征\n",
    "RegisterTime = data.loc[:,\"玩家注册时间\"].apply(lambda x: int(x[11:13]))"
   ]
  },
  {
   "cell_type": "code",
   "execution_count": 219,
   "metadata": {},
   "outputs": [
    {
     "data": {
      "text/plain": [
       "0          19\n",
       "1           0\n",
       "2           0\n",
       "3           0\n",
       "4           0\n",
       "           ..\n",
       "2288002    14\n",
       "2288003    14\n",
       "2288004    14\n",
       "2288005    14\n",
       "2288006    14\n",
       "Name: 玩家注册时间, Length: 2288007, dtype: int64"
      ]
     },
     "execution_count": 219,
     "metadata": {},
     "output_type": "execute_result"
    }
   ],
   "source": [
    "RegisterTime"
   ]
  },
  {
   "cell_type": "code",
   "execution_count": 220,
   "metadata": {},
   "outputs": [],
   "source": [
    "#按玩家注册时刻进行聚合，求均值\n",
    "RegisterTimeMean = data[\"付费金额\"].groupby(RegisterTime).mean()"
   ]
  },
  {
   "cell_type": "code",
   "execution_count": 221,
   "metadata": {},
   "outputs": [
    {
     "data": {
      "text/plain": [
       "玩家注册时间\n",
       "0    0.543\n",
       "1    0.432\n",
       "2    0.350\n",
       "3    0.400\n",
       "4    0.390\n",
       "5    0.427\n",
       "6    0.427\n",
       "7    0.363\n",
       "8    0.371\n",
       "9    0.335\n",
       "10   1.268\n",
       "11   1.028\n",
       "12   0.726\n",
       "13   0.520\n",
       "14   0.570\n",
       "15   0.640\n",
       "16   0.725\n",
       "17   0.450\n",
       "18   0.465\n",
       "19   0.383\n",
       "20   0.388\n",
       "21   0.432\n",
       "22   0.599\n",
       "23   0.571\n",
       "Name: 付费金额, dtype: float64"
      ]
     },
     "execution_count": 221,
     "metadata": {},
     "output_type": "execute_result"
    }
   ],
   "source": [
    "RegisterTimeMean"
   ]
  },
  {
   "cell_type": "code",
   "execution_count": 222,
   "metadata": {},
   "outputs": [
    {
     "data": {
      "image/png": "[encoded data removed]",
      "text/plain": [
       "<Figure size 1500x300 with 1 Axes>"
      ]
     },
     "metadata": {
      "needs_background": "light"
     },
     "output_type": "display_data"
    }
   ],
   "source": [
    "#绘制图像\n",
    "plt.figure(figsize=(15,3),dpi=100)\n",
    "plt.title(\"不同注册时刻的用户氪金均值\")\n",
    "plt.bar(RegisterTimeMean.index, RegisterTimeMean.values)\n",
    "plt.xticks(RegisterTimeMean.index,rotation=60,ha=\"right\");"
   ]
  },
  {
   "cell_type": "markdown",
   "metadata": {},
   "source": [
    "早上10点-12点之间注册的用户、以及下午4点-5点之间表现出比其他时段注册的用户更高的氪金能力，这可能是与推广渠道有关，也可能真的是注册时刻与氪金金额有关。巧合的是，上午10点与下午4点正是上班时间中摸鱼喝茶的时间，如果能够确定这个时间在推广的是哪些渠道，就能够确定相关用户的画像，来判断是否真是时间与氪金数额有关了。同时，也来看看相关系数："
   ]
  },
  {
   "cell_type": "code",
   "execution_count": 223,
   "metadata": {},
   "outputs": [
    {
     "data": {
      "text/html": [
       "<div>\n",
       "<style scoped>\n",
       "    .dataframe tbody tr th:only-of-type {\n",
       "        vertical-align: middle;\n",
       "    }\n",
       "\n",
       "    .dataframe tbody tr th {\n",
       "        vertical-align: top;\n",
       "    }\n",
       "\n",
       "    .dataframe thead th {\n",
       "        text-align: right;\n",
       "    }\n",
       "</style>\n",
       "<table border=\"1\" class=\"dataframe\">\n",
       "  <thead>\n",
       "    <tr style=\"text-align: right;\">\n",
       "      <th></th>\n",
       "      <th>45日付费金额</th>\n",
       "      <th>玩家注册时间</th>\n",
       "    </tr>\n",
       "  </thead>\n",
       "  <tbody>\n",
       "    <tr>\n",
       "      <th>45日付费金额</th>\n",
       "      <td>1.000</td>\n",
       "      <td>0.001</td>\n",
       "    </tr>\n",
       "    <tr>\n",
       "      <th>玩家注册时间</th>\n",
       "      <td>0.001</td>\n",
       "      <td>1.000</td>\n",
       "    </tr>\n",
       "  </tbody>\n",
       "</table>\n",
       "</div>"
      ],
      "text/plain": [
       "         45日付费金额  玩家注册时间\n",
       "45日付费金额    1.000   0.001\n",
       "玩家注册时间     0.001   1.000"
      ]
     },
     "execution_count": 223,
     "metadata": {},
     "output_type": "execute_result"
    }
   ],
   "source": [
    "pd.concat([data[\"45日付费金额\"],RegisterTime],axis=1).corr()"
   ]
  },
  {
   "cell_type": "markdown",
   "metadata": {},
   "source": [
    "看起来注册时刻与付费金额有一点点关系（非常微弱），可以保留注册时刻为建模用。"
   ]
  },
  {
   "cell_type": "markdown",
   "metadata": {},
   "source": [
    "增加玩家注册时刻作为特征，注意要添加到标签的前面，维持标签是最后一列"
   ]
  },
  {
   "cell_type": "code",
   "execution_count": 224,
   "metadata": {},
   "outputs": [
    {
     "data": {
      "text/plain": [
       "109"
      ]
     },
     "execution_count": 224,
     "metadata": {},
     "output_type": "execute_result"
    }
   ],
   "source": [
    "data.shape[1]"
   ]
  },
  {
   "cell_type": "code",
   "execution_count": 225,
   "metadata": {},
   "outputs": [],
   "source": [
    "data.insert(data.shape[1]-1,\"玩家注册时刻\",RegisterTime)"
   ]
  },
  {
   "cell_type": "markdown",
   "metadata": {},
   "source": [
    "现在可以删除最初的“注册时间”这个特征了，同时，也可以将玩家唯一ID删除，因为ID应当不是有助于建模的特征。"
   ]
  },
  {
   "cell_type": "code",
   "execution_count": 226,
   "metadata": {},
   "outputs": [],
   "source": [
    "data.drop(columns=[\"玩家注册时间\",\"玩家唯一ID\"],inplace=True) #删除不需要的特征"
   ]
  },
  {
   "cell_type": "code",
   "execution_count": 227,
   "metadata": {},
   "outputs": [
    {
     "data": {
      "text/plain": [
       "Index(['木头获取数量', '木头消耗数量', '石头获取数量', '石头消耗数量', '象牙获取数量', '象牙消耗数量', '肉获取数量',\n",
       "       '肉消耗数量', '魔法获取数量', '魔法消耗数量',\n",
       "       ...\n",
       "       '主动发起PVP次数', 'PVP胜利次数', 'PVE次数', '主动发起PVE次数', 'PVE胜利次数', '在线时长', '付费金额',\n",
       "       '付费次数', '玩家注册时刻', '45日付费金额'],\n",
       "      dtype='object', name='字段解释', length=108)"
      ]
     },
     "execution_count": 227,
     "metadata": {},
     "output_type": "execute_result"
    }
   ],
   "source": [
    "data.columns"
   ]
  },
  {
   "cell_type": "markdown",
   "metadata": {},
   "source": [
    "### 3. 模型选择与benchmark"
   ]
  },
  {
   "cell_type": "markdown",
   "metadata": {},
   "source": [
    "在2018年DC竞赛上，《野蛮时代》数据集上拿到冠军的团队实现了RMSE=40，前10名的RMSE值为55.444，前20名的RMSE值为57.67，我们可以以50为目标来进行调整。在建模之前，我们需要构建自己的benchmark，来对比我们的优化流程是否有效。<br>"
   ]
  },
  {
   "cell_type": "code",
   "execution_count": 228,
   "metadata": {},
   "outputs": [
    {
     "data": {
      "text/html": [
       "<div>\n",
       "<style scoped>\n",
       "    .dataframe tbody tr th:only-of-type {\n",
       "        vertical-align: middle;\n",
       "    }\n",
       "\n",
       "    .dataframe tbody tr th {\n",
       "        vertical-align: top;\n",
       "    }\n",
       "\n",
       "    .dataframe thead th {\n",
       "        text-align: right;\n",
       "    }\n",
       "</style>\n",
       "<table border=\"1\" class=\"dataframe\">\n",
       "  <thead>\n",
       "    <tr style=\"text-align: right;\">\n",
       "      <th>字段解释</th>\n",
       "      <th>木头获取数量</th>\n",
       "      <th>木头消耗数量</th>\n",
       "      <th>石头获取数量</th>\n",
       "      <th>石头消耗数量</th>\n",
       "      <th>象牙获取数量</th>\n",
       "      <th>象牙消耗数量</th>\n",
       "      <th>肉获取数量</th>\n",
       "      <th>肉消耗数量</th>\n",
       "      <th>魔法获取数量</th>\n",
       "      <th>魔法消耗数量</th>\n",
       "      <th>...</th>\n",
       "      <th>主动发起PVP次数</th>\n",
       "      <th>PVP胜利次数</th>\n",
       "      <th>PVE次数</th>\n",
       "      <th>主动发起PVE次数</th>\n",
       "      <th>PVE胜利次数</th>\n",
       "      <th>在线时长</th>\n",
       "      <th>付费金额</th>\n",
       "      <th>付费次数</th>\n",
       "      <th>玩家注册时刻</th>\n",
       "      <th>45日付费金额</th>\n",
       "    </tr>\n",
       "  </thead>\n",
       "  <tbody>\n",
       "    <tr>\n",
       "      <th>0</th>\n",
       "      <td>20125.000</td>\n",
       "      <td>3700.000</td>\n",
       "      <td>0.000</td>\n",
       "      <td>0.000</td>\n",
       "      <td>0.000</td>\n",
       "      <td>0.000</td>\n",
       "      <td>16375.000</td>\n",
       "      <td>2000.000</td>\n",
       "      <td>0.000</td>\n",
       "      <td>0.000</td>\n",
       "      <td>...</td>\n",
       "      <td>0</td>\n",
       "      <td>0</td>\n",
       "      <td>0</td>\n",
       "      <td>0</td>\n",
       "      <td>0</td>\n",
       "      <td>0.333</td>\n",
       "      <td>0.000</td>\n",
       "      <td>0</td>\n",
       "      <td>19</td>\n",
       "      <td>0.000</td>\n",
       "    </tr>\n",
       "    <tr>\n",
       "      <th>1</th>\n",
       "      <td>0.000</td>\n",
       "      <td>0.000</td>\n",
       "      <td>0.000</td>\n",
       "      <td>0.000</td>\n",
       "      <td>0.000</td>\n",
       "      <td>0.000</td>\n",
       "      <td>0.000</td>\n",
       "      <td>0.000</td>\n",
       "      <td>0.000</td>\n",
       "      <td>0.000</td>\n",
       "      <td>...</td>\n",
       "      <td>0</td>\n",
       "      <td>0</td>\n",
       "      <td>0</td>\n",
       "      <td>0</td>\n",
       "      <td>0</td>\n",
       "      <td>0.333</td>\n",
       "      <td>0.000</td>\n",
       "      <td>0</td>\n",
       "      <td>0</td>\n",
       "      <td>0.000</td>\n",
       "    </tr>\n",
       "    <tr>\n",
       "      <th>2</th>\n",
       "      <td>0.000</td>\n",
       "      <td>0.000</td>\n",
       "      <td>0.000</td>\n",
       "      <td>0.000</td>\n",
       "      <td>0.000</td>\n",
       "      <td>0.000</td>\n",
       "      <td>0.000</td>\n",
       "      <td>0.000</td>\n",
       "      <td>0.000</td>\n",
       "      <td>0.000</td>\n",
       "      <td>...</td>\n",
       "      <td>0</td>\n",
       "      <td>0</td>\n",
       "      <td>0</td>\n",
       "      <td>0</td>\n",
       "      <td>0</td>\n",
       "      <td>1.167</td>\n",
       "      <td>0.000</td>\n",
       "      <td>0</td>\n",
       "      <td>0</td>\n",
       "      <td>0.000</td>\n",
       "    </tr>\n",
       "    <tr>\n",
       "      <th>3</th>\n",
       "      <td>0.000</td>\n",
       "      <td>0.000</td>\n",
       "      <td>0.000</td>\n",
       "      <td>0.000</td>\n",
       "      <td>0.000</td>\n",
       "      <td>0.000</td>\n",
       "      <td>0.000</td>\n",
       "      <td>0.000</td>\n",
       "      <td>0.000</td>\n",
       "      <td>0.000</td>\n",
       "      <td>...</td>\n",
       "      <td>0</td>\n",
       "      <td>0</td>\n",
       "      <td>0</td>\n",
       "      <td>0</td>\n",
       "      <td>0</td>\n",
       "      <td>3.167</td>\n",
       "      <td>0.000</td>\n",
       "      <td>0</td>\n",
       "      <td>0</td>\n",
       "      <td>0.000</td>\n",
       "    </tr>\n",
       "    <tr>\n",
       "      <th>4</th>\n",
       "      <td>0.000</td>\n",
       "      <td>0.000</td>\n",
       "      <td>0.000</td>\n",
       "      <td>0.000</td>\n",
       "      <td>0.000</td>\n",
       "      <td>0.000</td>\n",
       "      <td>0.000</td>\n",
       "      <td>0.000</td>\n",
       "      <td>0.000</td>\n",
       "      <td>0.000</td>\n",
       "      <td>...</td>\n",
       "      <td>0</td>\n",
       "      <td>0</td>\n",
       "      <td>0</td>\n",
       "      <td>0</td>\n",
       "      <td>0</td>\n",
       "      <td>2.333</td>\n",
       "      <td>0.000</td>\n",
       "      <td>0</td>\n",
       "      <td>0</td>\n",
       "      <td>0.000</td>\n",
       "    </tr>\n",
       "  </tbody>\n",
       "</table>\n",
       "<p>5 rows × 108 columns</p>\n",
       "</div>"
      ],
      "text/plain": [
       "字段解释    木头获取数量   木头消耗数量  石头获取数量  石头消耗数量  象牙获取数量  象牙消耗数量     肉获取数量    肉消耗数量  \\\n",
       "0    20125.000 3700.000   0.000   0.000   0.000   0.000 16375.000 2000.000   \n",
       "1        0.000    0.000   0.000   0.000   0.000   0.000     0.000    0.000   \n",
       "2        0.000    0.000   0.000   0.000   0.000   0.000     0.000    0.000   \n",
       "3        0.000    0.000   0.000   0.000   0.000   0.000     0.000    0.000   \n",
       "4        0.000    0.000   0.000   0.000   0.000   0.000     0.000    0.000   \n",
       "\n",
       "字段解释  魔法获取数量  魔法消耗数量  ...  主动发起PVP次数  PVP胜利次数  PVE次数  主动发起PVE次数  PVE胜利次数  \\\n",
       "0      0.000   0.000  ...          0        0      0          0        0   \n",
       "1      0.000   0.000  ...          0        0      0          0        0   \n",
       "2      0.000   0.000  ...          0        0      0          0        0   \n",
       "3      0.000   0.000  ...          0        0      0          0        0   \n",
       "4      0.000   0.000  ...          0        0      0          0        0   \n",
       "\n",
       "字段解释  在线时长  付费金额  付费次数  玩家注册时刻  45日付费金额  \n",
       "0    0.333 0.000     0      19    0.000  \n",
       "1    0.333 0.000     0       0    0.000  \n",
       "2    1.167 0.000     0       0    0.000  \n",
       "3    3.167 0.000     0       0    0.000  \n",
       "4    2.333 0.000     0       0    0.000  \n",
       "\n",
       "[5 rows x 108 columns]"
      ]
     },
     "execution_count": 228,
     "metadata": {},
     "output_type": "execute_result"
    }
   ],
   "source": [
    "data.head()"
   ]
  },
  {
   "cell_type": "code",
   "execution_count": 229,
   "metadata": {},
   "outputs": [],
   "source": [
    "#将标签提取出来，分割标签与特征\n",
    "X = data.iloc[:,:-1]\n",
    "y = data.iloc[:,-1]"
   ]
  },
  {
   "cell_type": "code",
   "execution_count": 230,
   "metadata": {},
   "outputs": [
    {
     "data": {
      "text/plain": [
       "(2288007,)"
      ]
     },
     "execution_count": 230,
     "metadata": {},
     "output_type": "execute_result"
    }
   ],
   "source": [
    "y.shape"
   ]
  },
  {
   "cell_type": "code",
   "execution_count": 231,
   "metadata": {},
   "outputs": [
    {
     "data": {
      "text/plain": [
       "(2288007, 107)"
      ]
     },
     "execution_count": 231,
     "metadata": {},
     "output_type": "execute_result"
    }
   ],
   "source": [
    "X.shape"
   ]
  },
  {
   "cell_type": "code",
   "execution_count": 233,
   "metadata": {},
   "outputs": [
    {
     "data": {
      "text/plain": [
       "0   0.000\n",
       "1   0.000\n",
       "2   0.000\n",
       "3   0.000\n",
       "4   0.000\n",
       "Name: 45日付费金额, dtype: float64"
      ]
     },
     "execution_count": 233,
     "metadata": {},
     "output_type": "execute_result"
    }
   ],
   "source": [
    "y.head()"
   ]
  },
  {
   "cell_type": "markdown",
   "metadata": {},
   "source": [
    "在现有数据量的要求下，我们首先要考虑计算迅速且简单的线性模型：线性回归。经测试，200w数据集在100棵树的随机森林上跑一次大约需要半小时时间，在100棵树的XGBoost上跑一次大约需要40分钟时间，大家可以根据自己的需求更换为树模型，但课程中建议使用速度较快的线性模型，方便跑模型和讲解优化过程。"
   ]
  },
  {
   "cell_type": "markdown",
   "metadata": {},
   "source": [
    "**建立benchmark**"
   ]
  },
  {
   "cell_type": "code",
   "execution_count": 234,
   "metadata": {},
   "outputs": [],
   "source": [
    "from sklearn.linear_model import LinearRegression as LR #线性回归\n",
    "from sklearn.model_selection import train_test_split as TTS #分割训练集与测试集的类\n",
    "from sklearn.metrics import mean_squared_error as MSE #模型评估指标"
   ]
  },
  {
   "cell_type": "code",
   "execution_count": 235,
   "metadata": {},
   "outputs": [],
   "source": [
    "#数据分割\n",
    "Xtrain, Xtest, Ytrain, Ytest = TTS(X,y,test_size=0.3,random_state=1412)"
   ]
  },
  {
   "cell_type": "code",
   "execution_count": 236,
   "metadata": {},
   "outputs": [
    {
     "data": {
      "text/plain": [
       "(1601604, 107)"
      ]
     },
     "execution_count": 236,
     "metadata": {},
     "output_type": "execute_result"
    }
   ],
   "source": [
    "Xtrain.shape"
   ]
  },
  {
   "cell_type": "code",
   "execution_count": 237,
   "metadata": {},
   "outputs": [
    {
     "data": {
      "text/plain": [
       "(686403, 107)"
      ]
     },
     "execution_count": 237,
     "metadata": {},
     "output_type": "execute_result"
    }
   ],
   "source": [
    "Xtest.shape"
   ]
  },
  {
   "cell_type": "code",
   "execution_count": 238,
   "metadata": {},
   "outputs": [
    {
     "data": {
      "text/html": [
       "<div>\n",
       "<style scoped>\n",
       "    .dataframe tbody tr th:only-of-type {\n",
       "        vertical-align: middle;\n",
       "    }\n",
       "\n",
       "    .dataframe tbody tr th {\n",
       "        vertical-align: top;\n",
       "    }\n",
       "\n",
       "    .dataframe thead th {\n",
       "        text-align: right;\n",
       "    }\n",
       "</style>\n",
       "<table border=\"1\" class=\"dataframe\">\n",
       "  <thead>\n",
       "    <tr style=\"text-align: right;\">\n",
       "      <th>字段解释</th>\n",
       "      <th>木头获取数量</th>\n",
       "      <th>木头消耗数量</th>\n",
       "      <th>石头获取数量</th>\n",
       "      <th>石头消耗数量</th>\n",
       "      <th>象牙获取数量</th>\n",
       "      <th>象牙消耗数量</th>\n",
       "      <th>肉获取数量</th>\n",
       "      <th>肉消耗数量</th>\n",
       "      <th>魔法获取数量</th>\n",
       "      <th>魔法消耗数量</th>\n",
       "      <th>...</th>\n",
       "      <th>PVP次数</th>\n",
       "      <th>主动发起PVP次数</th>\n",
       "      <th>PVP胜利次数</th>\n",
       "      <th>PVE次数</th>\n",
       "      <th>主动发起PVE次数</th>\n",
       "      <th>PVE胜利次数</th>\n",
       "      <th>在线时长</th>\n",
       "      <th>付费金额</th>\n",
       "      <th>付费次数</th>\n",
       "      <th>玩家注册时刻</th>\n",
       "    </tr>\n",
       "  </thead>\n",
       "  <tbody>\n",
       "    <tr>\n",
       "      <th>243592</th>\n",
       "      <td>10000.000</td>\n",
       "      <td>600.000</td>\n",
       "      <td>0.000</td>\n",
       "      <td>0.000</td>\n",
       "      <td>0.000</td>\n",
       "      <td>0.000</td>\n",
       "      <td>10000.000</td>\n",
       "      <td>400.000</td>\n",
       "      <td>0.000</td>\n",
       "      <td>0.000</td>\n",
       "      <td>...</td>\n",
       "      <td>0</td>\n",
       "      <td>0</td>\n",
       "      <td>0</td>\n",
       "      <td>0</td>\n",
       "      <td>0</td>\n",
       "      <td>0</td>\n",
       "      <td>0.167</td>\n",
       "      <td>0.000</td>\n",
       "      <td>0</td>\n",
       "      <td>19</td>\n",
       "    </tr>\n",
       "    <tr>\n",
       "      <th>361662</th>\n",
       "      <td>39038.000</td>\n",
       "      <td>8750.000</td>\n",
       "      <td>0.000</td>\n",
       "      <td>0.000</td>\n",
       "      <td>3000.000</td>\n",
       "      <td>0.000</td>\n",
       "      <td>42434.000</td>\n",
       "      <td>6060.000</td>\n",
       "      <td>0.000</td>\n",
       "      <td>0.000</td>\n",
       "      <td>...</td>\n",
       "      <td>1</td>\n",
       "      <td>0</td>\n",
       "      <td>0</td>\n",
       "      <td>1</td>\n",
       "      <td>1</td>\n",
       "      <td>1</td>\n",
       "      <td>0.833</td>\n",
       "      <td>0.000</td>\n",
       "      <td>0</td>\n",
       "      <td>12</td>\n",
       "    </tr>\n",
       "    <tr>\n",
       "      <th>1319519</th>\n",
       "      <td>10000.000</td>\n",
       "      <td>1600.000</td>\n",
       "      <td>0.000</td>\n",
       "      <td>0.000</td>\n",
       "      <td>0.000</td>\n",
       "      <td>0.000</td>\n",
       "      <td>10000.000</td>\n",
       "      <td>900.000</td>\n",
       "      <td>0.000</td>\n",
       "      <td>0.000</td>\n",
       "      <td>...</td>\n",
       "      <td>0</td>\n",
       "      <td>0</td>\n",
       "      <td>0</td>\n",
       "      <td>0</td>\n",
       "      <td>0</td>\n",
       "      <td>0</td>\n",
       "      <td>0.167</td>\n",
       "      <td>0.000</td>\n",
       "      <td>0</td>\n",
       "      <td>15</td>\n",
       "    </tr>\n",
       "    <tr>\n",
       "      <th>276423</th>\n",
       "      <td>26625.000</td>\n",
       "      <td>6900.000</td>\n",
       "      <td>0.000</td>\n",
       "      <td>0.000</td>\n",
       "      <td>0.000</td>\n",
       "      <td>0.000</td>\n",
       "      <td>31625.000</td>\n",
       "      <td>3900.000</td>\n",
       "      <td>0.000</td>\n",
       "      <td>0.000</td>\n",
       "      <td>...</td>\n",
       "      <td>1</td>\n",
       "      <td>1</td>\n",
       "      <td>0</td>\n",
       "      <td>0</td>\n",
       "      <td>0</td>\n",
       "      <td>0</td>\n",
       "      <td>4.500</td>\n",
       "      <td>0.000</td>\n",
       "      <td>0</td>\n",
       "      <td>9</td>\n",
       "    </tr>\n",
       "    <tr>\n",
       "      <th>1060863</th>\n",
       "      <td>0.000</td>\n",
       "      <td>0.000</td>\n",
       "      <td>0.000</td>\n",
       "      <td>0.000</td>\n",
       "      <td>0.000</td>\n",
       "      <td>0.000</td>\n",
       "      <td>0.000</td>\n",
       "      <td>0.000</td>\n",
       "      <td>0.000</td>\n",
       "      <td>0.000</td>\n",
       "      <td>...</td>\n",
       "      <td>0</td>\n",
       "      <td>0</td>\n",
       "      <td>0</td>\n",
       "      <td>0</td>\n",
       "      <td>0</td>\n",
       "      <td>0</td>\n",
       "      <td>0.667</td>\n",
       "      <td>0.000</td>\n",
       "      <td>0</td>\n",
       "      <td>4</td>\n",
       "    </tr>\n",
       "  </tbody>\n",
       "</table>\n",
       "<p>5 rows × 107 columns</p>\n",
       "</div>"
      ],
      "text/plain": [
       "字段解释       木头获取数量   木头消耗数量  石头获取数量  石头消耗数量   象牙获取数量  象牙消耗数量     肉获取数量  \\\n",
       "243592  10000.000  600.000   0.000   0.000    0.000   0.000 10000.000   \n",
       "361662  39038.000 8750.000   0.000   0.000 3000.000   0.000 42434.000   \n",
       "1319519 10000.000 1600.000   0.000   0.000    0.000   0.000 10000.000   \n",
       "276423  26625.000 6900.000   0.000   0.000    0.000   0.000 31625.000   \n",
       "1060863     0.000    0.000   0.000   0.000    0.000   0.000     0.000   \n",
       "\n",
       "字段解释       肉消耗数量  魔法获取数量  魔法消耗数量  ...  PVP次数  主动发起PVP次数  PVP胜利次数  PVE次数  \\\n",
       "243592   400.000   0.000   0.000  ...      0          0        0      0   \n",
       "361662  6060.000   0.000   0.000  ...      1          0        0      1   \n",
       "1319519  900.000   0.000   0.000  ...      0          0        0      0   \n",
       "276423  3900.000   0.000   0.000  ...      1          1        0      0   \n",
       "1060863    0.000   0.000   0.000  ...      0          0        0      0   \n",
       "\n",
       "字段解释     主动发起PVE次数  PVE胜利次数  在线时长  付费金额  付费次数  玩家注册时刻  \n",
       "243592           0        0 0.167 0.000     0      19  \n",
       "361662           1        1 0.833 0.000     0      12  \n",
       "1319519          0        0 0.167 0.000     0      15  \n",
       "276423           0        0 4.500 0.000     0       9  \n",
       "1060863          0        0 0.667 0.000     0       4  \n",
       "\n",
       "[5 rows x 107 columns]"
      ]
     },
     "execution_count": 238,
     "metadata": {},
     "output_type": "execute_result"
    }
   ],
   "source": [
    "Xtrain.head()"
   ]
  },
  {
   "cell_type": "code",
   "execution_count": 239,
   "metadata": {},
   "outputs": [],
   "source": [
    "#分割完毕后需要恢复索引\n",
    "for i in [Xtrain, Xtest]:\n",
    "    i.index = range(i.shape[0])"
   ]
  },
  {
   "cell_type": "code",
   "execution_count": 240,
   "metadata": {},
   "outputs": [
    {
     "data": {
      "text/html": [
       "<div>\n",
       "<style scoped>\n",
       "    .dataframe tbody tr th:only-of-type {\n",
       "        vertical-align: middle;\n",
       "    }\n",
       "\n",
       "    .dataframe tbody tr th {\n",
       "        vertical-align: top;\n",
       "    }\n",
       "\n",
       "    .dataframe thead th {\n",
       "        text-align: right;\n",
       "    }\n",
       "</style>\n",
       "<table border=\"1\" class=\"dataframe\">\n",
       "  <thead>\n",
       "    <tr style=\"text-align: right;\">\n",
       "      <th>字段解释</th>\n",
       "      <th>木头获取数量</th>\n",
       "      <th>木头消耗数量</th>\n",
       "      <th>石头获取数量</th>\n",
       "      <th>石头消耗数量</th>\n",
       "      <th>象牙获取数量</th>\n",
       "      <th>象牙消耗数量</th>\n",
       "      <th>肉获取数量</th>\n",
       "      <th>肉消耗数量</th>\n",
       "      <th>魔法获取数量</th>\n",
       "      <th>魔法消耗数量</th>\n",
       "      <th>...</th>\n",
       "      <th>PVP次数</th>\n",
       "      <th>主动发起PVP次数</th>\n",
       "      <th>PVP胜利次数</th>\n",
       "      <th>PVE次数</th>\n",
       "      <th>主动发起PVE次数</th>\n",
       "      <th>PVE胜利次数</th>\n",
       "      <th>在线时长</th>\n",
       "      <th>付费金额</th>\n",
       "      <th>付费次数</th>\n",
       "      <th>玩家注册时刻</th>\n",
       "    </tr>\n",
       "  </thead>\n",
       "  <tbody>\n",
       "    <tr>\n",
       "      <th>0</th>\n",
       "      <td>10000.000</td>\n",
       "      <td>600.000</td>\n",
       "      <td>0.000</td>\n",
       "      <td>0.000</td>\n",
       "      <td>0.000</td>\n",
       "      <td>0.000</td>\n",
       "      <td>10000.000</td>\n",
       "      <td>400.000</td>\n",
       "      <td>0.000</td>\n",
       "      <td>0.000</td>\n",
       "      <td>...</td>\n",
       "      <td>0</td>\n",
       "      <td>0</td>\n",
       "      <td>0</td>\n",
       "      <td>0</td>\n",
       "      <td>0</td>\n",
       "      <td>0</td>\n",
       "      <td>0.167</td>\n",
       "      <td>0.000</td>\n",
       "      <td>0</td>\n",
       "      <td>19</td>\n",
       "    </tr>\n",
       "    <tr>\n",
       "      <th>1</th>\n",
       "      <td>39038.000</td>\n",
       "      <td>8750.000</td>\n",
       "      <td>0.000</td>\n",
       "      <td>0.000</td>\n",
       "      <td>3000.000</td>\n",
       "      <td>0.000</td>\n",
       "      <td>42434.000</td>\n",
       "      <td>6060.000</td>\n",
       "      <td>0.000</td>\n",
       "      <td>0.000</td>\n",
       "      <td>...</td>\n",
       "      <td>1</td>\n",
       "      <td>0</td>\n",
       "      <td>0</td>\n",
       "      <td>1</td>\n",
       "      <td>1</td>\n",
       "      <td>1</td>\n",
       "      <td>0.833</td>\n",
       "      <td>0.000</td>\n",
       "      <td>0</td>\n",
       "      <td>12</td>\n",
       "    </tr>\n",
       "    <tr>\n",
       "      <th>2</th>\n",
       "      <td>10000.000</td>\n",
       "      <td>1600.000</td>\n",
       "      <td>0.000</td>\n",
       "      <td>0.000</td>\n",
       "      <td>0.000</td>\n",
       "      <td>0.000</td>\n",
       "      <td>10000.000</td>\n",
       "      <td>900.000</td>\n",
       "      <td>0.000</td>\n",
       "      <td>0.000</td>\n",
       "      <td>...</td>\n",
       "      <td>0</td>\n",
       "      <td>0</td>\n",
       "      <td>0</td>\n",
       "      <td>0</td>\n",
       "      <td>0</td>\n",
       "      <td>0</td>\n",
       "      <td>0.167</td>\n",
       "      <td>0.000</td>\n",
       "      <td>0</td>\n",
       "      <td>15</td>\n",
       "    </tr>\n",
       "    <tr>\n",
       "      <th>3</th>\n",
       "      <td>26625.000</td>\n",
       "      <td>6900.000</td>\n",
       "      <td>0.000</td>\n",
       "      <td>0.000</td>\n",
       "      <td>0.000</td>\n",
       "      <td>0.000</td>\n",
       "      <td>31625.000</td>\n",
       "      <td>3900.000</td>\n",
       "      <td>0.000</td>\n",
       "      <td>0.000</td>\n",
       "      <td>...</td>\n",
       "      <td>1</td>\n",
       "      <td>1</td>\n",
       "      <td>0</td>\n",
       "      <td>0</td>\n",
       "      <td>0</td>\n",
       "      <td>0</td>\n",
       "      <td>4.500</td>\n",
       "      <td>0.000</td>\n",
       "      <td>0</td>\n",
       "      <td>9</td>\n",
       "    </tr>\n",
       "    <tr>\n",
       "      <th>4</th>\n",
       "      <td>0.000</td>\n",
       "      <td>0.000</td>\n",
       "      <td>0.000</td>\n",
       "      <td>0.000</td>\n",
       "      <td>0.000</td>\n",
       "      <td>0.000</td>\n",
       "      <td>0.000</td>\n",
       "      <td>0.000</td>\n",
       "      <td>0.000</td>\n",
       "      <td>0.000</td>\n",
       "      <td>...</td>\n",
       "      <td>0</td>\n",
       "      <td>0</td>\n",
       "      <td>0</td>\n",
       "      <td>0</td>\n",
       "      <td>0</td>\n",
       "      <td>0</td>\n",
       "      <td>0.667</td>\n",
       "      <td>0.000</td>\n",
       "      <td>0</td>\n",
       "      <td>4</td>\n",
       "    </tr>\n",
       "  </tbody>\n",
       "</table>\n",
       "<p>5 rows × 107 columns</p>\n",
       "</div>"
      ],
      "text/plain": [
       "字段解释    木头获取数量   木头消耗数量  石头获取数量  石头消耗数量   象牙获取数量  象牙消耗数量     肉获取数量    肉消耗数量  \\\n",
       "0    10000.000  600.000   0.000   0.000    0.000   0.000 10000.000  400.000   \n",
       "1    39038.000 8750.000   0.000   0.000 3000.000   0.000 42434.000 6060.000   \n",
       "2    10000.000 1600.000   0.000   0.000    0.000   0.000 10000.000  900.000   \n",
       "3    26625.000 6900.000   0.000   0.000    0.000   0.000 31625.000 3900.000   \n",
       "4        0.000    0.000   0.000   0.000    0.000   0.000     0.000    0.000   \n",
       "\n",
       "字段解释  魔法获取数量  魔法消耗数量  ...  PVP次数  主动发起PVP次数  PVP胜利次数  PVE次数  主动发起PVE次数  \\\n",
       "0      0.000   0.000  ...      0          0        0      0          0   \n",
       "1      0.000   0.000  ...      1          0        0      1          1   \n",
       "2      0.000   0.000  ...      0          0        0      0          0   \n",
       "3      0.000   0.000  ...      1          1        0      0          0   \n",
       "4      0.000   0.000  ...      0          0        0      0          0   \n",
       "\n",
       "字段解释  PVE胜利次数  在线时长  付费金额  付费次数  玩家注册时刻  \n",
       "0           0 0.167 0.000     0      19  \n",
       "1           1 0.833 0.000     0      12  \n",
       "2           0 0.167 0.000     0      15  \n",
       "3           0 4.500 0.000     0       9  \n",
       "4           0 0.667 0.000     0       4  \n",
       "\n",
       "[5 rows x 107 columns]"
      ]
     },
     "execution_count": 240,
     "metadata": {},
     "output_type": "execute_result"
    }
   ],
   "source": [
    "Xtrain.head()"
   ]
  },
  {
   "cell_type": "code",
   "execution_count": 241,
   "metadata": {},
   "outputs": [],
   "source": [
    "reg = LR() #实例化"
   ]
  },
  {
   "cell_type": "code",
   "execution_count": 242,
   "metadata": {},
   "outputs": [],
   "source": [
    "reg_benchmark = reg.fit(Xtrain,Ytrain) #训练"
   ]
  },
  {
   "cell_type": "code",
   "execution_count": 243,
   "metadata": {},
   "outputs": [
    {
     "data": {
      "text/plain": [
       "0.5604160157526334"
      ]
     },
     "execution_count": 243,
     "metadata": {},
     "output_type": "execute_result"
    }
   ],
   "source": [
    "reg_benchmark.score(Xtrain,Ytrain) #训练集上的分数 - R2"
   ]
  },
  {
   "cell_type": "code",
   "execution_count": 244,
   "metadata": {},
   "outputs": [
    {
     "data": {
      "text/plain": [
       "0.5581998030190559"
      ]
     },
     "execution_count": 244,
     "metadata": {},
     "output_type": "execute_result"
    }
   ],
   "source": [
    "reg_benchmark.score(Xtest,Ytest) #测试集上的分数/"
   ]
  },
  {
   "cell_type": "code",
   "execution_count": 245,
   "metadata": {},
   "outputs": [],
   "source": [
    "#模型处于欠拟合的状态 - 在训练集和在测试集上的分数都不是很高，并且两者分数比较相似\n",
    "#简单的线性模型在学习能力上略显不足"
   ]
  },
  {
   "cell_type": "code",
   "execution_count": 246,
   "metadata": {},
   "outputs": [],
   "source": [
    "y_pred = reg_benchmark.predict(Xtest) #测试集上的预测标签"
   ]
  },
  {
   "cell_type": "code",
   "execution_count": 247,
   "metadata": {},
   "outputs": [
    {
     "data": {
      "text/plain": [
       "62.001161836606805"
      ]
     },
     "execution_count": 247,
     "metadata": {},
     "output_type": "execute_result"
    }
   ],
   "source": [
    "# 根均方误差(RMSE)\n",
    "np.sqrt(MSE(Ytest,y_pred)) #benchmark就是62的RMSE，以及55.8%的r2"
   ]
  },
  {
   "cell_type": "markdown",
   "metadata": {},
   "source": [
    "试着使用其他模型进行预测。现在的数据量对于树的集成模型来说过于巨大，因此我们只能够在有限的条件下进行尝试："
   ]
  },
  {
   "cell_type": "code",
   "execution_count": 248,
   "metadata": {},
   "outputs": [],
   "source": [
    "from sklearn.ensemble import RandomForestRegressor as RFR"
   ]
  },
  {
   "cell_type": "code",
   "execution_count": 249,
   "metadata": {},
   "outputs": [],
   "source": [
    "#给出非常少的树的数量，以及限制每次分枝所使用的最大特征量"
   ]
  },
  {
   "cell_type": "code",
   "execution_count": 250,
   "metadata": {},
   "outputs": [],
   "source": [
    "reg_tree = RFR(n_estimators=10,max_features=5) #100+，max_features=5"
   ]
  },
  {
   "cell_type": "code",
   "execution_count": 251,
   "metadata": {},
   "outputs": [
    {
     "data": {
      "text/plain": [
       "RandomForestRegressor(max_features=5, n_estimators=10)"
      ]
     },
     "execution_count": 251,
     "metadata": {},
     "output_type": "execute_result"
    }
   ],
   "source": [
    "##=====【TIME WARNING：2mins】======##\n",
    "reg_tree.fit(Xtrain,Ytrain)"
   ]
  },
  {
   "cell_type": "code",
   "execution_count": 252,
   "metadata": {},
   "outputs": [
    {
     "data": {
      "text/plain": [
       "0.9077616323942109"
      ]
     },
     "execution_count": 252,
     "metadata": {},
     "output_type": "execute_result"
    }
   ],
   "source": [
    "reg_tree.score(Xtrain,Ytrain) #训练集上的R2是87%"
   ]
  },
  {
   "cell_type": "code",
   "execution_count": 253,
   "metadata": {},
   "outputs": [
    {
     "data": {
      "text/plain": [
       "0.4189023187064346"
      ]
     },
     "execution_count": 253,
     "metadata": {},
     "output_type": "execute_result"
    }
   ],
   "source": [
    "reg_tree.score(Xtest,Ytest) #测试集上的R2是41%"
   ]
  },
  {
   "cell_type": "code",
   "execution_count": 254,
   "metadata": {},
   "outputs": [],
   "source": [
    "#随机森林处于过拟合的状态 - 只要有机会，可以对随机森林进行抗过拟合的调参，来试着使用树模型"
   ]
  },
  {
   "cell_type": "code",
   "execution_count": 255,
   "metadata": {},
   "outputs": [],
   "source": [
    "y_pred = reg_tree.predict(Xtest)"
   ]
  },
  {
   "cell_type": "code",
   "execution_count": 256,
   "metadata": {},
   "outputs": [
    {
     "data": {
      "text/plain": [
       "71.10685105487454"
      ]
     },
     "execution_count": 256,
     "metadata": {},
     "output_type": "execute_result"
    }
   ],
   "source": [
    "np.sqrt(MSE(Ytest,y_pred))"
   ]
  },
  {
   "cell_type": "markdown",
   "metadata": {},
   "source": [
    "这不是一个很好的征兆。通常来说，如果一个数据在线性模型上表现较好，在树模型上表现较差，则说明该数据的分布规律接近线性规律，更适用于线性回归、贝叶斯这些模型。反之，则说明该数据的分布更接近非线性规律，更适合树模型这样的非线性模型。但如果树模型和线性模型表现出差不多的结果、并且两种结果都不高，则说明数据本身的学习难度较大。我们可以尝试着对随机森林稍微进行调整，会发现无论我们对模型做什么，模型的RMSE都非常高。"
   ]
  },
  {
   "cell_type": "code",
   "execution_count": 257,
   "metadata": {},
   "outputs": [],
   "source": [
    "##=====【TIME WARNING：10mins】======##\n",
    "reg_tree2 = RFR(n_estimators=20,max_features=5).fit(Xtrain,Ytrain) #增大树的数量"
   ]
  },
  {
   "cell_type": "code",
   "execution_count": 258,
   "metadata": {},
   "outputs": [
    {
     "data": {
      "text/plain": [
       "68.71723765546315"
      ]
     },
     "execution_count": 258,
     "metadata": {},
     "output_type": "execute_result"
    }
   ],
   "source": [
    "np.sqrt(MSE(Ytest,reg_tree2.predict(Xtest)))"
   ]
  },
  {
   "cell_type": "markdown",
   "metadata": {},
   "source": [
    "试着使用其他模型进行预测。现在的数据量对于树的集成模型来说过于巨大，因此只能够在有限的条件下进行尝试："
   ]
  },
  {
   "cell_type": "code",
   "execution_count": 259,
   "metadata": {},
   "outputs": [],
   "source": [
    "from sklearn.ensemble import RandomForestRegressor as RFR"
   ]
  },
  {
   "cell_type": "code",
   "execution_count": 260,
   "metadata": {},
   "outputs": [],
   "source": [
    "#给出非常少的树的数量，以及限制每次分枝所使用的最大特征量"
   ]
  },
  {
   "cell_type": "code",
   "execution_count": 261,
   "metadata": {},
   "outputs": [],
   "source": [
    "reg_tree = RFR(n_estimators=10,max_features=5) #100+，max_features=5"
   ]
  },
  {
   "cell_type": "code",
   "execution_count": 262,
   "metadata": {},
   "outputs": [
    {
     "data": {
      "text/plain": [
       "RandomForestRegressor(max_features=5, n_estimators=10)"
      ]
     },
     "execution_count": 262,
     "metadata": {},
     "output_type": "execute_result"
    }
   ],
   "source": [
    "##=====【TIME WARNING：2mins】======##\n",
    "reg_tree.fit(Xtrain,Ytrain)"
   ]
  },
  {
   "cell_type": "code",
   "execution_count": 263,
   "metadata": {},
   "outputs": [
    {
     "data": {
      "text/plain": [
       "0.8715764156988434"
      ]
     },
     "execution_count": 263,
     "metadata": {},
     "output_type": "execute_result"
    }
   ],
   "source": [
    "reg_tree.score(Xtrain,Ytrain) #训练集上的R2是87%"
   ]
  },
  {
   "cell_type": "code",
   "execution_count": 264,
   "metadata": {},
   "outputs": [
    {
     "data": {
      "text/plain": [
       "0.466792184340573"
      ]
     },
     "execution_count": 264,
     "metadata": {},
     "output_type": "execute_result"
    }
   ],
   "source": [
    "reg_tree.score(Xtest,Ytest) #测试集上的R2是41%"
   ]
  },
  {
   "cell_type": "code",
   "execution_count": 265,
   "metadata": {},
   "outputs": [],
   "source": [
    "#随机森林处于过拟合的状态 - 只要有机会，可以对随机森林进行抗过拟合的调参，来试着使用树模型"
   ]
  },
  {
   "cell_type": "code",
   "execution_count": 266,
   "metadata": {},
   "outputs": [],
   "source": [
    "y_pred = reg_tree.predict(Xtest)"
   ]
  },
  {
   "cell_type": "code",
   "execution_count": 267,
   "metadata": {},
   "outputs": [
    {
     "data": {
      "text/plain": [
       "68.11380293299928"
      ]
     },
     "execution_count": 267,
     "metadata": {},
     "output_type": "execute_result"
    }
   ],
   "source": [
    "np.sqrt(MSE(Ytest,y_pred))"
   ]
  },
  {
   "cell_type": "markdown",
   "metadata": {},
   "source": [
    "这不是一个很好的征兆。通常来说，如果一个数据在线性模型上表现较好，在树模型上表现较差，则说明该数据的分布规律接近线性规律，更适用于线性回归、贝叶斯这些模型。反之，则说明该数据的分布更接近非线性规律，更适合树模型这样的非线性模型。但如果树模型和线性模型表现出差不多的结果、并且两种结果都不高，则说明数据本身的学习难度较大。可以尝试着对随机森林稍微进行调整，会发现无论对模型做什么，模型的RMSE都非常高。"
   ]
  },
  {
   "cell_type": "code",
   "execution_count": 268,
   "metadata": {},
   "outputs": [],
   "source": [
    "reg_tree3 = RFR(n_estimators=20,max_depth=2,max_features=5).fit(Xtrain,Ytrain) #控制最大深度"
   ]
  },
  {
   "cell_type": "code",
   "execution_count": 269,
   "metadata": {},
   "outputs": [
    {
     "data": {
      "text/plain": [
       "68.71723765546315"
      ]
     },
     "execution_count": 269,
     "metadata": {},
     "output_type": "execute_result"
    }
   ],
   "source": [
    "np.sqrt(MSE(Ytest,reg_tree2.predict(Xtest)))"
   ]
  },
  {
   "cell_type": "code",
   "execution_count": 270,
   "metadata": {},
   "outputs": [],
   "source": [
    "reg_tree3 = RFR(n_estimators=20,max_depth=2,max_features=5).fit(Xtrain,Ytrain) #控制最大深度"
   ]
  },
  {
   "cell_type": "code",
   "execution_count": 271,
   "metadata": {},
   "outputs": [
    {
     "data": {
      "text/plain": [
       "72.01738738351675"
      ]
     },
     "execution_count": 271,
     "metadata": {},
     "output_type": "execute_result"
    }
   ],
   "source": [
    "np.sqrt(MSE(Ytest,reg_tree3.predict(Xtest)))"
   ]
  },
  {
   "cell_type": "markdown",
   "metadata": {},
   "source": [
    "**如果建立benchmark的时候发现最佳模型就是线性回归，那基本没有任何可以调整的余地了，因为线性回归几乎没有任何可以调整的参数。** 根据经验，面对这样的数据，要么花大量精力做特征工程，要么使用神经网络进行建模。但无论如何，我们先尽一切努力降低数据集上的RMSE。"
   ]
  },
  {
   "cell_type": "markdown",
   "metadata": {},
   "source": [
    "### 4. 特征工程(1)：根据业务模式新增特征"
   ]
  },
  {
   "cell_type": "markdown",
   "metadata": {},
   "source": [
    "在之前众多业务模式分析当中，我们已经对SLG游戏的业务以及游戏本身有了很多的了解。现在我们可以基于这些了解来构筑新的特征。在对算法进行建模时，我们经常使用以下方式对现有特征进行重组，来生成新特征：\n",
    "\n",
    "- 1. 特征之间**加减乘除**\n",
    "- 2. 对特征进行简单**数学运算**（绝对值，取对数）\n",
    "- 3. 对特征进行**逻辑运算**（and, or, 并集，交集，最大值，最小值）\n",
    "- 4. 对特征进行**聚合运算**（按照离散特征聚合后取中位数、均值、众数、标准差、方差、频数）\n",
    "- 5. 对特征使用**多项式**拓展方法（即特征与自身、与其他特征相乘）\n",
    "- 6. 对连续特征进行**分箱**\n",
    "- 7. 对离散特征进行**独热编码**"
   ]
  },
  {
   "cell_type": "markdown",
   "metadata": {},
   "source": [
    "基于我们对业务的理解，事实上现在的数据集中有非常多可以增加的特征，例如：\n",
    "\n",
    "> - 个人PVP胜率 = PVP胜利次数/PVP次数，无PVP的用户胜率为0\n",
    "> - 主动发起PVP的概率 = 主动发起PVP次数/PVP次数，无PVP的用户主动发起为0\n",
    "> - 玩家发育效率 = 平均资源获取数/在线时长 （该指标高的人擅长游戏）\n",
    "> - 玩家升级效率 = 技能的平均等级/在线时长\n",
    "> - 氪金发育效率 = 平均资源获取数/7日付费金额 （该指标高的人善用氪金资源）\n",
    "> - 氪金升级效率 = 技能的平均等级/7日付费金额\n",
    "\n",
    "还可以对7日付费金额、在线时长等明显对氪金有影响的特征分箱，并按分箱后的类别求资源、PVP胜率等与游戏体验深度相关的特征的聚合函数，这一点对于树模型会尤其有效。在有限的时间内，我们无法对所有可能增加的特征都进行计算，因此我们选择手动增加以上6个特征，作为一种尝试："
   ]
  },
  {
   "cell_type": "code",
   "execution_count": 272,
   "metadata": {},
   "outputs": [
    {
     "data": {
      "text/plain": [
       "['木头获取数量',\n",
       " '木头消耗数量',\n",
       " '石头获取数量',\n",
       " '石头消耗数量',\n",
       " '象牙获取数量',\n",
       " '象牙消耗数量',\n",
       " '肉获取数量',\n",
       " '肉消耗数量',\n",
       " '魔法获取数量',\n",
       " '魔法消耗数量',\n",
       " '勇士招募数量',\n",
       " '勇士损失数量',\n",
       " '驯兽师招募数量',\n",
       " '驯兽师损失数量',\n",
       " '萨满招募数量',\n",
       " '萨满损失数量',\n",
       " '勇士伤兵产生数量',\n",
       " '勇士伤兵恢复数量',\n",
       " '驯兽师伤兵产生数量',\n",
       " '驯兽师伤兵恢复数量',\n",
       " '萨满伤兵产生数量',\n",
       " '萨满伤兵恢复数量',\n",
       " '通用加速获取数量',\n",
       " '通用加速使用数量',\n",
       " '建筑加速获取数量',\n",
       " '建筑加速使用数量',\n",
       " '科研加速获取数量',\n",
       " '科研加速使用数量',\n",
       " '训练加速获取数量',\n",
       " '训练加速使用数量',\n",
       " '治疗加速获取数量',\n",
       " '治疗加速使用数量',\n",
       " '建筑：士兵小屋等级',\n",
       " '建筑：治疗小井等级',\n",
       " '建筑：要塞等级',\n",
       " '建筑：据点传送门等级',\n",
       " '建筑：兵营等级',\n",
       " '建筑：治疗之泉等级',\n",
       " '建筑：智慧神庙等级',\n",
       " '建筑：联盟大厅等级',\n",
       " '建筑：仓库等级',\n",
       " '建筑：瞭望塔等级',\n",
       " '建筑：魔法幸运树等级',\n",
       " '建筑：战争大厅等级',\n",
       " '建筑：联盟货车等级',\n",
       " '建筑：占卜台等级',\n",
       " '建筑：祭坛等级',\n",
       " '建筑：冒险传送门等级',\n",
       " '科研：侦查等级',\n",
       " '科研：训练速度等级',\n",
       " '科研：守护者',\n",
       " '科研：巨兽驯兽师',\n",
       " '科研：吟唱者',\n",
       " '科研：勇士攻击',\n",
       " '科研：驯兽师攻击',\n",
       " '科研：萨满攻击',\n",
       " '科研：战斗大师',\n",
       " '科研：高阶巨兽骑兵',\n",
       " '科研：图腾大师',\n",
       " '科研：部队防御',\n",
       " '科研：勇士防御',\n",
       " '科研：驯兽师防御',\n",
       " '科研：萨满防御',\n",
       " '科研：勇士生命',\n",
       " '科研：驯兽师生命',\n",
       " '科研：萨满生命',\n",
       " '科研：狂战士',\n",
       " '科研：龙骑兵',\n",
       " '科研：神谕者',\n",
       " '科研：部队攻击',\n",
       " '科研：建造速度',\n",
       " '科研：资源保护',\n",
       " '科研：部队消耗',\n",
       " '科研：木材生产',\n",
       " '科研：石头生产',\n",
       " '科研：象牙生产',\n",
       " '科研：肉类生产',\n",
       " '科研：木材采集',\n",
       " '科研：石头采集',\n",
       " '科研：象牙采集',\n",
       " '科研：肉类采集',\n",
       " '科研：部队负重',\n",
       " '科研：魔法采集',\n",
       " '科研：魔法生产',\n",
       " '科研：据点耐久',\n",
       " '科研：据点二',\n",
       " '科研：医院容量',\n",
       " '科研：领土采集奖励',\n",
       " '科研：治疗速度',\n",
       " '科研：据点三',\n",
       " '科研：联盟行军速度',\n",
       " '科研：战斗行军速度',\n",
       " '科研：采集行军速度',\n",
       " '科研：据点四',\n",
       " '科研：增援部队容量',\n",
       " '科研：行军大小',\n",
       " '科研：资源帮助容量',\n",
       " 'PVP次数',\n",
       " '主动发起PVP次数',\n",
       " 'PVP胜利次数',\n",
       " 'PVE次数',\n",
       " '主动发起PVE次数',\n",
       " 'PVE胜利次数',\n",
       " '在线时长',\n",
       " '付费金额',\n",
       " '付费次数',\n",
       " '玩家注册时刻']"
      ]
     },
     "execution_count": 272,
     "metadata": {},
     "output_type": "execute_result"
    }
   ],
   "source": [
    "X.columns.tolist() #能够从我自己的特征矩阵里分别出，哪些是技能，哪些是资源"
   ]
  },
  {
   "cell_type": "code",
   "execution_count": 273,
   "metadata": {},
   "outputs": [],
   "source": [
    "GrowthFeature = [] #发育 - 关于资源的部分\n",
    "for i in X.columns:\n",
    "    if \"招募\" in i:\n",
    "        GrowthFeature.append(i)\n",
    "    elif \"获取\" in i:\n",
    "        GrowthFeature.append(i)"
   ]
  },
  {
   "cell_type": "code",
   "execution_count": 274,
   "metadata": {},
   "outputs": [],
   "source": [
    "LevelUpFeature = [] #等级 - 关于技能的部分\n",
    "for i in X.columns:\n",
    "    if \"建筑\" in i:\n",
    "        LevelUpFeature.append(i)\n",
    "    elif \"科研\" in i:\n",
    "        LevelUpFeature.append(i)"
   ]
  },
  {
   "cell_type": "code",
   "execution_count": 275,
   "metadata": {},
   "outputs": [
    {
     "data": {
      "text/plain": [
       "['木头获取数量',\n",
       " '石头获取数量',\n",
       " '象牙获取数量',\n",
       " '肉获取数量',\n",
       " '魔法获取数量',\n",
       " '勇士招募数量',\n",
       " '驯兽师招募数量',\n",
       " '萨满招募数量',\n",
       " '通用加速获取数量',\n",
       " '建筑加速获取数量',\n",
       " '科研加速获取数量',\n",
       " '训练加速获取数量',\n",
       " '治疗加速获取数量']"
      ]
     },
     "execution_count": 275,
     "metadata": {},
     "output_type": "execute_result"
    }
   ],
   "source": [
    "GrowthFeature"
   ]
  },
  {
   "cell_type": "code",
   "execution_count": 276,
   "metadata": {},
   "outputs": [
    {
     "data": {
      "text/plain": [
       "['建筑加速获取数量',\n",
       " '建筑加速使用数量',\n",
       " '科研加速获取数量',\n",
       " '科研加速使用数量',\n",
       " '建筑：士兵小屋等级',\n",
       " '建筑：治疗小井等级',\n",
       " '建筑：要塞等级',\n",
       " '建筑：据点传送门等级',\n",
       " '建筑：兵营等级',\n",
       " '建筑：治疗之泉等级',\n",
       " '建筑：智慧神庙等级',\n",
       " '建筑：联盟大厅等级',\n",
       " '建筑：仓库等级',\n",
       " '建筑：瞭望塔等级',\n",
       " '建筑：魔法幸运树等级',\n",
       " '建筑：战争大厅等级',\n",
       " '建筑：联盟货车等级',\n",
       " '建筑：占卜台等级',\n",
       " '建筑：祭坛等级',\n",
       " '建筑：冒险传送门等级',\n",
       " '科研：侦查等级',\n",
       " '科研：训练速度等级',\n",
       " '科研：守护者',\n",
       " '科研：巨兽驯兽师',\n",
       " '科研：吟唱者',\n",
       " '科研：勇士攻击',\n",
       " '科研：驯兽师攻击',\n",
       " '科研：萨满攻击',\n",
       " '科研：战斗大师',\n",
       " '科研：高阶巨兽骑兵',\n",
       " '科研：图腾大师',\n",
       " '科研：部队防御',\n",
       " '科研：勇士防御',\n",
       " '科研：驯兽师防御',\n",
       " '科研：萨满防御',\n",
       " '科研：勇士生命',\n",
       " '科研：驯兽师生命',\n",
       " '科研：萨满生命',\n",
       " '科研：狂战士',\n",
       " '科研：龙骑兵',\n",
       " '科研：神谕者',\n",
       " '科研：部队攻击',\n",
       " '科研：建造速度',\n",
       " '科研：资源保护',\n",
       " '科研：部队消耗',\n",
       " '科研：木材生产',\n",
       " '科研：石头生产',\n",
       " '科研：象牙生产',\n",
       " '科研：肉类生产',\n",
       " '科研：木材采集',\n",
       " '科研：石头采集',\n",
       " '科研：象牙采集',\n",
       " '科研：肉类采集',\n",
       " '科研：部队负重',\n",
       " '科研：魔法采集',\n",
       " '科研：魔法生产',\n",
       " '科研：据点耐久',\n",
       " '科研：据点二',\n",
       " '科研：医院容量',\n",
       " '科研：领土采集奖励',\n",
       " '科研：治疗速度',\n",
       " '科研：据点三',\n",
       " '科研：联盟行军速度',\n",
       " '科研：战斗行军速度',\n",
       " '科研：采集行军速度',\n",
       " '科研：据点四',\n",
       " '科研：增援部队容量',\n",
       " '科研：行军大小',\n",
       " '科研：资源帮助容量']"
      ]
     },
     "execution_count": 276,
     "metadata": {},
     "output_type": "execute_result"
    }
   ],
   "source": [
    "LevelUpFeature"
   ]
  },
  {
   "cell_type": "code",
   "execution_count": 277,
   "metadata": {},
   "outputs": [],
   "source": [
    "X[\"PVP胜率\"] = X[\"PVP胜利次数\"]/X[\"PVP次数\"]\n",
    "X[\"主动发起PVP的概率\"] = X[\"主动发起PVP次数\"]/X[\"PVP次数\"]\n",
    "X[\"玩家发育效率\"] = X.loc[:,GrowthFeature].mean(axis=1)/X[\"在线时长\"]\n",
    "X[\"氪金发育效率\"] = X.loc[:,GrowthFeature].mean(axis=1)/X[\"付费金额\"]\n",
    "X[\"玩家升级效率\"] = X.loc[:,LevelUpFeature].mean(axis=1)/X[\"在线时长\"]\n",
    "X[\"氪金升级效率\"] = X.loc[:,LevelUpFeature].mean(axis=1)/X[\"付费金额\"]"
   ]
  },
  {
   "cell_type": "code",
   "execution_count": 278,
   "metadata": {},
   "outputs": [
    {
     "data": {
      "text/plain": [
       "1712305"
      ]
     },
     "execution_count": 278,
     "metadata": {},
     "output_type": "execute_result"
    }
   ],
   "source": [
    "#使用除法时千万记得查看除0错误与极值错误(分子特别大或者分母特别小)\n",
    "#有许多PVP次数为0的用户，他们的胜率也算是0，但在进行除法计算时，会形成空值\n",
    "#以及，当分子过大、分母过小时，会形成inf，这类用户则需要判断，究竟是分子过大还是分母过小\n",
    "\n",
    "X[\"PVP胜率\"].isnull().sum()"
   ]
  },
  {
   "cell_type": "code",
   "execution_count": 279,
   "metadata": {},
   "outputs": [
    {
     "name": "stderr",
     "output_type": "stream",
     "text": [
      "d:\\Anaconda\\lib\\site-packages\\numpy\\lib\\function_base.py:3961: RuntimeWarning: invalid value encountered in subtract\n",
      "  diff_b_a = subtract(b, a)\n"
     ]
    },
    {
     "data": {
      "text/plain": [
       "count   1665563.000\n",
       "mean            inf\n",
       "std             NaN\n",
       "min           0.000\n",
       "25%             NaN\n",
       "50%             NaN\n",
       "75%             NaN\n",
       "max             inf\n",
       "Name: 氪金发育效率, dtype: float64"
      ]
     },
     "execution_count": 279,
     "metadata": {},
     "output_type": "execute_result"
    }
   ],
   "source": [
    "X[\"氪金发育效率\"].describe()"
   ]
  },
  {
   "cell_type": "markdown",
   "metadata": {},
   "source": [
    "极限值为什么出现？虽然有些分子的确比较大，但是大部分分母其实都是个位数或者很小<br>\n",
    "氪金发育效率出现问题的根本还是因为许多氪金数额过小（分母过小），而不是因为分子过高<br>\n",
    "因此对于出现inf问题的样本，使用0覆盖"
   ]
  },
  {
   "cell_type": "code",
   "execution_count": 280,
   "metadata": {},
   "outputs": [],
   "source": [
    "#处理除0错误，处理极值错误\n",
    "for newfeature in [\"PVP胜率\",\"主动发起PVP的概率\",\"玩家发育效率\",\"玩家升级效率\",\"氪金发育效率\",\"氪金升级效率\"]:\n",
    "    X.loc[X[newfeature].isnull(),newfeature] = 0 #将所有的空值，变为0\n",
    "    X.loc[X[newfeature] == float(\"inf\"), newfeature] = 0 #分母很小的这样的情况"
   ]
  },
  {
   "cell_type": "code",
   "execution_count": 281,
   "metadata": {},
   "outputs": [
    {
     "data": {
      "text/plain": [
       "0"
      ]
     },
     "execution_count": 281,
     "metadata": {},
     "output_type": "execute_result"
    }
   ],
   "source": [
    "X[\"玩家发育效率\"].isnull().sum()"
   ]
  },
  {
   "cell_type": "code",
   "execution_count": 282,
   "metadata": {},
   "outputs": [
    {
     "data": {
      "text/plain": [
       "0"
      ]
     },
     "execution_count": 282,
     "metadata": {},
     "output_type": "execute_result"
    }
   ],
   "source": [
    "(X[\"氪金发育效率\"] == float(\"inf\")).sum()"
   ]
  },
  {
   "cell_type": "markdown",
   "metadata": {},
   "source": [
    "**可以尝试一下分箱+聚合的组合。**"
   ]
  },
  {
   "cell_type": "markdown",
   "metadata": {},
   "source": [
    "除此之外，我们在之前分析游戏的经营状况时，已经得出了一些关于用户价值的关键结论：\n",
    "> - 分析营收状况时，我们发现如果用户**7日内付费超过6元**，则他/她在7日后继续付费的概率大于不再付费的概率，是高价值用户<br><br>\n",
    "> - 分析用户在线时间时，当用户的**在线时间小于15（20）或者大于800（900）分钟**，用户对氪金金额的贡献率较小，是低价值用户<br><br>\n",
    "> - 分析游戏竞争状况与游戏平衡性时，我们发现，**主动发起PVP概率大于50%**的用户贡献了较多氪金金额，是高价值用户<br><br>\n",
    "> - 在分析资源获取难度、新手友好程度时，我们发现**初始资源（木头）获取数量为0或很低**的玩家是低价值用户<br><br>\n",
    "> - 在分析异常值时，我们发现异常用户覆盖了全部氪金用户，因为氪金用户的资源量往往都很大。然而不氪金的用户也有许多拥有大量资源，他们是肝帝，肝到一定程度就不会氪金，因此**资源量巨大（异常）但7日内没有付费**的用户是低价值用户"
   ]
  },
  {
   "cell_type": "markdown",
   "metadata": {},
   "source": [
    "基于这些发现，我们统一让低价值用户被标记为0，高价值用户被标记为1，为特征矩阵创造如下新特征：\n",
    "\n",
    "- **高价值玩家**\n",
    "> - 潜力玩家：7日内付费超过6元\n",
    "> - 好战玩家：主动发起PVP概率大于50%\n",
    "\n",
    "- **低价值玩家**\n",
    "> - 佛系玩家：主动发起PVP概率小于20%，或一次也没有参与过PVP\n",
    "> - 肝帝玩家：7日在线时间过长，或资源量巨大但7日内没有付费\n",
    "> - 菜鸡玩家：参与过PVP且个人PVP胜率小于10%\n",
    "> - 流失玩家：7日在线时间过短，或初始资源获取数量小于10000"
   ]
  },
  {
   "cell_type": "code",
   "execution_count": 283,
   "metadata": {},
   "outputs": [],
   "source": [
    "#高价值玩家，符合条件的被标注为1\n",
    "X[\"潜力玩家\"] = (X[\"付费金额\"] >= 5.98).astype(int)\n",
    "X[\"好战玩家\"] = (X[\"主动发起PVP的概率\"] >= 0.5).astype(int)\n",
    "\n",
    "#低价值玩家，符合条件的被标注为0\n",
    "X[\"肝帝玩家\"] = (X[\"在线时长\"] > 800).apply(lambda x: not x).astype(int)\n",
    "X[\"佛系玩家\"] = ((X[\"主动发起PVP的概率\"] < 0.2) | (X[\"PVP次数\"] == 0)).apply(lambda x: not x).astype(int)\n",
    "X[\"菜鸡玩家\"] = ((X[\"PVP胜率\"]< 0.1) & (X[\"PVP次数\"] != 0)).apply(lambda x: not x).astype(int)\n",
    "X[\"流失玩家\"] = ((X[\"在线时长\"] <= 15) | (X[\"木头获取数量\"] <= 10000)).apply(lambda x: not x).astype(int)"
   ]
  },
  {
   "cell_type": "code",
   "execution_count": 284,
   "metadata": {},
   "outputs": [
    {
     "data": {
      "text/plain": [
       "0"
      ]
     },
     "execution_count": 284,
     "metadata": {},
     "output_type": "execute_result"
    }
   ],
   "source": [
    "X.isnull().sum().sum()"
   ]
  },
  {
   "cell_type": "code",
   "execution_count": 285,
   "metadata": {},
   "outputs": [
    {
     "data": {
      "text/html": [
       "<div>\n",
       "<style scoped>\n",
       "    .dataframe tbody tr th:only-of-type {\n",
       "        vertical-align: middle;\n",
       "    }\n",
       "\n",
       "    .dataframe tbody tr th {\n",
       "        vertical-align: top;\n",
       "    }\n",
       "\n",
       "    .dataframe thead th {\n",
       "        text-align: right;\n",
       "    }\n",
       "</style>\n",
       "<table border=\"1\" class=\"dataframe\">\n",
       "  <thead>\n",
       "    <tr style=\"text-align: right;\">\n",
       "      <th>字段解释</th>\n",
       "      <th>木头获取数量</th>\n",
       "      <th>木头消耗数量</th>\n",
       "      <th>石头获取数量</th>\n",
       "      <th>石头消耗数量</th>\n",
       "      <th>象牙获取数量</th>\n",
       "      <th>象牙消耗数量</th>\n",
       "      <th>肉获取数量</th>\n",
       "      <th>肉消耗数量</th>\n",
       "      <th>魔法获取数量</th>\n",
       "      <th>魔法消耗数量</th>\n",
       "      <th>...</th>\n",
       "      <th>玩家发育效率</th>\n",
       "      <th>氪金发育效率</th>\n",
       "      <th>玩家升级效率</th>\n",
       "      <th>氪金升级效率</th>\n",
       "      <th>潜力玩家</th>\n",
       "      <th>好战玩家</th>\n",
       "      <th>肝帝玩家</th>\n",
       "      <th>佛系玩家</th>\n",
       "      <th>菜鸡玩家</th>\n",
       "      <th>流失玩家</th>\n",
       "    </tr>\n",
       "  </thead>\n",
       "  <tbody>\n",
       "    <tr>\n",
       "      <th>0</th>\n",
       "      <td>20125.000</td>\n",
       "      <td>3700.000</td>\n",
       "      <td>0.000</td>\n",
       "      <td>0.000</td>\n",
       "      <td>0.000</td>\n",
       "      <td>0.000</td>\n",
       "      <td>16375.000</td>\n",
       "      <td>2000.000</td>\n",
       "      <td>0.000</td>\n",
       "      <td>0.000</td>\n",
       "      <td>...</td>\n",
       "      <td>8446.162</td>\n",
       "      <td>0.000</td>\n",
       "      <td>2.261</td>\n",
       "      <td>0.000</td>\n",
       "      <td>0</td>\n",
       "      <td>0</td>\n",
       "      <td>1</td>\n",
       "      <td>0</td>\n",
       "      <td>1</td>\n",
       "      <td>0</td>\n",
       "    </tr>\n",
       "    <tr>\n",
       "      <th>1</th>\n",
       "      <td>0.000</td>\n",
       "      <td>0.000</td>\n",
       "      <td>0.000</td>\n",
       "      <td>0.000</td>\n",
       "      <td>0.000</td>\n",
       "      <td>0.000</td>\n",
       "      <td>0.000</td>\n",
       "      <td>0.000</td>\n",
       "      <td>0.000</td>\n",
       "      <td>0.000</td>\n",
       "      <td>...</td>\n",
       "      <td>0.000</td>\n",
       "      <td>0.000</td>\n",
       "      <td>0.000</td>\n",
       "      <td>0.000</td>\n",
       "      <td>0</td>\n",
       "      <td>0</td>\n",
       "      <td>1</td>\n",
       "      <td>0</td>\n",
       "      <td>1</td>\n",
       "      <td>0</td>\n",
       "    </tr>\n",
       "    <tr>\n",
       "      <th>2</th>\n",
       "      <td>0.000</td>\n",
       "      <td>0.000</td>\n",
       "      <td>0.000</td>\n",
       "      <td>0.000</td>\n",
       "      <td>0.000</td>\n",
       "      <td>0.000</td>\n",
       "      <td>0.000</td>\n",
       "      <td>0.000</td>\n",
       "      <td>0.000</td>\n",
       "      <td>0.000</td>\n",
       "      <td>...</td>\n",
       "      <td>0.000</td>\n",
       "      <td>0.000</td>\n",
       "      <td>0.000</td>\n",
       "      <td>0.000</td>\n",
       "      <td>0</td>\n",
       "      <td>0</td>\n",
       "      <td>1</td>\n",
       "      <td>0</td>\n",
       "      <td>1</td>\n",
       "      <td>0</td>\n",
       "    </tr>\n",
       "    <tr>\n",
       "      <th>3</th>\n",
       "      <td>0.000</td>\n",
       "      <td>0.000</td>\n",
       "      <td>0.000</td>\n",
       "      <td>0.000</td>\n",
       "      <td>0.000</td>\n",
       "      <td>0.000</td>\n",
       "      <td>0.000</td>\n",
       "      <td>0.000</td>\n",
       "      <td>0.000</td>\n",
       "      <td>0.000</td>\n",
       "      <td>...</td>\n",
       "      <td>0.000</td>\n",
       "      <td>0.000</td>\n",
       "      <td>0.000</td>\n",
       "      <td>0.000</td>\n",
       "      <td>0</td>\n",
       "      <td>0</td>\n",
       "      <td>1</td>\n",
       "      <td>0</td>\n",
       "      <td>1</td>\n",
       "      <td>0</td>\n",
       "    </tr>\n",
       "    <tr>\n",
       "      <th>4</th>\n",
       "      <td>0.000</td>\n",
       "      <td>0.000</td>\n",
       "      <td>0.000</td>\n",
       "      <td>0.000</td>\n",
       "      <td>0.000</td>\n",
       "      <td>0.000</td>\n",
       "      <td>0.000</td>\n",
       "      <td>0.000</td>\n",
       "      <td>0.000</td>\n",
       "      <td>0.000</td>\n",
       "      <td>...</td>\n",
       "      <td>0.000</td>\n",
       "      <td>0.000</td>\n",
       "      <td>0.000</td>\n",
       "      <td>0.000</td>\n",
       "      <td>0</td>\n",
       "      <td>0</td>\n",
       "      <td>1</td>\n",
       "      <td>0</td>\n",
       "      <td>1</td>\n",
       "      <td>0</td>\n",
       "    </tr>\n",
       "  </tbody>\n",
       "</table>\n",
       "<p>5 rows × 119 columns</p>\n",
       "</div>"
      ],
      "text/plain": [
       "字段解释    木头获取数量   木头消耗数量  石头获取数量  石头消耗数量  象牙获取数量  象牙消耗数量     肉获取数量    肉消耗数量  \\\n",
       "0    20125.000 3700.000   0.000   0.000   0.000   0.000 16375.000 2000.000   \n",
       "1        0.000    0.000   0.000   0.000   0.000   0.000     0.000    0.000   \n",
       "2        0.000    0.000   0.000   0.000   0.000   0.000     0.000    0.000   \n",
       "3        0.000    0.000   0.000   0.000   0.000   0.000     0.000    0.000   \n",
       "4        0.000    0.000   0.000   0.000   0.000   0.000     0.000    0.000   \n",
       "\n",
       "字段解释  魔法获取数量  魔法消耗数量  ...   玩家发育效率  氪金发育效率  玩家升级效率  氪金升级效率  潜力玩家  好战玩家  肝帝玩家  \\\n",
       "0      0.000   0.000  ... 8446.162   0.000   2.261   0.000     0     0     1   \n",
       "1      0.000   0.000  ...    0.000   0.000   0.000   0.000     0     0     1   \n",
       "2      0.000   0.000  ...    0.000   0.000   0.000   0.000     0     0     1   \n",
       "3      0.000   0.000  ...    0.000   0.000   0.000   0.000     0     0     1   \n",
       "4      0.000   0.000  ...    0.000   0.000   0.000   0.000     0     0     1   \n",
       "\n",
       "字段解释  佛系玩家  菜鸡玩家  流失玩家  \n",
       "0        0     1     0  \n",
       "1        0     1     0  \n",
       "2        0     1     0  \n",
       "3        0     1     0  \n",
       "4        0     1     0  \n",
       "\n",
       "[5 rows x 119 columns]"
      ]
     },
     "execution_count": 285,
     "metadata": {},
     "output_type": "execute_result"
    }
   ],
   "source": [
    "X.head()"
   ]
  },
  {
   "cell_type": "markdown",
   "metadata": {},
   "source": [
    "### 5. 特征工程(2)：达成建模所需的统计假设"
   ]
  },
  {
   "cell_type": "markdown",
   "metadata": {},
   "source": [
    "为了数据能够有效在线性回归中运行，我们希望能够避免异常值、偏左分布等因子带来的影响。因此，我们希望对训练集做出以下预处理：\n",
    "> 1. **相关性分析**：我们可以删除与标签相关性不足或为0的特征，并观察哪些特征与标签有关联\n",
    "> 2. **训练/测试比例调优**：调整训练集测试集比例，找出最佳的test_size超参数\n",
    "> 3. **异常值处理**：按照箱线图的规则，对异常值中7日内无氪金的玩家进行中位数覆盖处理，对于7日内有氪金的玩家不处理\n",
    "> 4. **数据归一化**：为排除量纲不统一问题带来的困扰，同时在大数据量情况下加速计算速度，我们需将所有特征属性归一化到[0,1]范围内\n",
    "> 5. **数据正态化**(可选)：从统计学角度来看，正态化的特征数据更有可能拟合出优秀的结果，我们可以试试box-cox正态化后数据的结果"
   ]
  },
  {
   "cell_type": "markdown",
   "metadata": {},
   "source": [
    "#### 5.1 相关性分析：筛选特征/特征重要性\n",
    "\n",
    "现在模型有100+多个特征，为了能够增加计算速度/降低计算成本/做类似于多项式的特征衍生方法，我们可以简单使用相关系数对特征进行筛选。最简单的方式就是使用皮尔逊相关系数。\n",
    "\"\n",
    "DataFrame可以直接用函数.corr()来计算相关系数，但由于我们有100多个特征，每条特征220w样本，直接使用corr()函数对所有特征进行计算不仅非常占用计算内存，并且计算会非常缓慢，因此在这里我们简化一下——只考虑特征与标签之间的相关性，不考虑特征与特征之间的相关性带来的统计学方面的问题。\n",
    "\n",
    "在传统统计学中，如果特征与特征之间的线性相关性过高，线性回归是不能够处理的，不过现在sklearn库中的线性回归是使用SVD分解方式在进行计算，可以克服传统线性回归无法处理高线性相关特征的问题，因此我们可以忽略这个问题。"
   ]
  },
  {
   "cell_type": "code",
   "execution_count": 286,
   "metadata": {},
   "outputs": [],
   "source": [
    "corr_list = pd.DataFrame() #空的DataFrame"
   ]
  },
  {
   "cell_type": "code",
   "execution_count": 287,
   "metadata": {},
   "outputs": [],
   "source": [
    "for idx, column in enumerate(X.columns):\n",
    "    corr_ = pd.concat([y,X.loc[:,column]],axis=1).corr().iloc[0,1] #每一列我计算这一列与标签的相关系数\n",
    "    corr_list.loc[idx,\"特征\"] = column\n",
    "    corr_list.loc[idx,\"相关系数\"] = corr_ "
   ]
  },
  {
   "cell_type": "code",
   "execution_count": 288,
   "metadata": {},
   "outputs": [
    {
     "data": {
      "text/html": [
       "<div>\n",
       "<style scoped>\n",
       "    .dataframe tbody tr th:only-of-type {\n",
       "        vertical-align: middle;\n",
       "    }\n",
       "\n",
       "    .dataframe tbody tr th {\n",
       "        vertical-align: top;\n",
       "    }\n",
       "\n",
       "    .dataframe thead th {\n",
       "        text-align: right;\n",
       "    }\n",
       "</style>\n",
       "<table border=\"1\" class=\"dataframe\">\n",
       "  <thead>\n",
       "    <tr style=\"text-align: right;\">\n",
       "      <th></th>\n",
       "      <th>特征</th>\n",
       "      <th>相关系数</th>\n",
       "    </tr>\n",
       "  </thead>\n",
       "  <tbody>\n",
       "    <tr>\n",
       "      <th>0</th>\n",
       "      <td>木头获取数量</td>\n",
       "      <td>0.640</td>\n",
       "    </tr>\n",
       "    <tr>\n",
       "      <th>1</th>\n",
       "      <td>木头消耗数量</td>\n",
       "      <td>0.619</td>\n",
       "    </tr>\n",
       "    <tr>\n",
       "      <th>2</th>\n",
       "      <td>石头获取数量</td>\n",
       "      <td>0.648</td>\n",
       "    </tr>\n",
       "    <tr>\n",
       "      <th>3</th>\n",
       "      <td>石头消耗数量</td>\n",
       "      <td>0.631</td>\n",
       "    </tr>\n",
       "    <tr>\n",
       "      <th>4</th>\n",
       "      <td>象牙获取数量</td>\n",
       "      <td>0.658</td>\n",
       "    </tr>\n",
       "  </tbody>\n",
       "</table>\n",
       "</div>"
      ],
      "text/plain": [
       "       特征  相关系数\n",
       "0  木头获取数量 0.640\n",
       "1  木头消耗数量 0.619\n",
       "2  石头获取数量 0.648\n",
       "3  石头消耗数量 0.631\n",
       "4  象牙获取数量 0.658"
      ]
     },
     "execution_count": 288,
     "metadata": {},
     "output_type": "execute_result"
    }
   ],
   "source": [
    "corr_list.head()"
   ]
  },
  {
   "cell_type": "code",
   "execution_count": 289,
   "metadata": {},
   "outputs": [
    {
     "data": {
      "text/html": [
       "<div>\n",
       "<style scoped>\n",
       "    .dataframe tbody tr th:only-of-type {\n",
       "        vertical-align: middle;\n",
       "    }\n",
       "\n",
       "    .dataframe tbody tr th {\n",
       "        vertical-align: top;\n",
       "    }\n",
       "\n",
       "    .dataframe thead th {\n",
       "        text-align: right;\n",
       "    }\n",
       "</style>\n",
       "<table border=\"1\" class=\"dataframe\">\n",
       "  <thead>\n",
       "    <tr style=\"text-align: right;\">\n",
       "      <th></th>\n",
       "      <th>特征</th>\n",
       "      <th>相关系数</th>\n",
       "    </tr>\n",
       "  </thead>\n",
       "  <tbody>\n",
       "    <tr>\n",
       "      <th>104</th>\n",
       "      <td>付费金额</td>\n",
       "      <td>0.735</td>\n",
       "    </tr>\n",
       "    <tr>\n",
       "      <th>4</th>\n",
       "      <td>象牙获取数量</td>\n",
       "      <td>0.658</td>\n",
       "    </tr>\n",
       "    <tr>\n",
       "      <th>2</th>\n",
       "      <td>石头获取数量</td>\n",
       "      <td>0.648</td>\n",
       "    </tr>\n",
       "    <tr>\n",
       "      <th>5</th>\n",
       "      <td>象牙消耗数量</td>\n",
       "      <td>0.641</td>\n",
       "    </tr>\n",
       "    <tr>\n",
       "      <th>0</th>\n",
       "      <td>木头获取数量</td>\n",
       "      <td>0.640</td>\n",
       "    </tr>\n",
       "    <tr>\n",
       "      <th>22</th>\n",
       "      <td>通用加速获取数量</td>\n",
       "      <td>0.633</td>\n",
       "    </tr>\n",
       "    <tr>\n",
       "      <th>3</th>\n",
       "      <td>石头消耗数量</td>\n",
       "      <td>0.631</td>\n",
       "    </tr>\n",
       "    <tr>\n",
       "      <th>28</th>\n",
       "      <td>训练加速获取数量</td>\n",
       "      <td>0.621</td>\n",
       "    </tr>\n",
       "    <tr>\n",
       "      <th>1</th>\n",
       "      <td>木头消耗数量</td>\n",
       "      <td>0.619</td>\n",
       "    </tr>\n",
       "    <tr>\n",
       "      <th>6</th>\n",
       "      <td>肉获取数量</td>\n",
       "      <td>0.608</td>\n",
       "    </tr>\n",
       "  </tbody>\n",
       "</table>\n",
       "</div>"
      ],
      "text/plain": [
       "           特征  相关系数\n",
       "104      付费金额 0.735\n",
       "4      象牙获取数量 0.658\n",
       "2      石头获取数量 0.648\n",
       "5      象牙消耗数量 0.641\n",
       "0      木头获取数量 0.640\n",
       "22   通用加速获取数量 0.633\n",
       "3      石头消耗数量 0.631\n",
       "28   训练加速获取数量 0.621\n",
       "1      木头消耗数量 0.619\n",
       "6       肉获取数量 0.608"
      ]
     },
     "execution_count": 289,
     "metadata": {},
     "output_type": "execute_result"
    }
   ],
   "source": [
    "corr_list.sort_values(\"相关系数\",ascending=False).head(10) #越深入参与游戏，氪金的可能性应该就越高"
   ]
  },
  {
   "cell_type": "code",
   "execution_count": 290,
   "metadata": {},
   "outputs": [
    {
     "data": {
      "text/html": [
       "<div>\n",
       "<style scoped>\n",
       "    .dataframe tbody tr th:only-of-type {\n",
       "        vertical-align: middle;\n",
       "    }\n",
       "\n",
       "    .dataframe tbody tr th {\n",
       "        vertical-align: top;\n",
       "    }\n",
       "\n",
       "    .dataframe thead th {\n",
       "        text-align: right;\n",
       "    }\n",
       "</style>\n",
       "<table border=\"1\" class=\"dataframe\">\n",
       "  <thead>\n",
       "    <tr style=\"text-align: right;\">\n",
       "      <th></th>\n",
       "      <th>特征</th>\n",
       "      <th>相关系数</th>\n",
       "    </tr>\n",
       "  </thead>\n",
       "  <tbody>\n",
       "    <tr>\n",
       "      <th>106</th>\n",
       "      <td>玩家注册时刻</td>\n",
       "      <td>0.001</td>\n",
       "    </tr>\n",
       "    <tr>\n",
       "      <th>117</th>\n",
       "      <td>菜鸡玩家</td>\n",
       "      <td>0.006</td>\n",
       "    </tr>\n",
       "  </tbody>\n",
       "</table>\n",
       "</div>"
      ],
      "text/plain": [
       "         特征  相关系数\n",
       "106  玩家注册时刻 0.001\n",
       "117    菜鸡玩家 0.006"
      ]
     },
     "execution_count": 290,
     "metadata": {},
     "output_type": "execute_result"
    }
   ],
   "source": [
    "corr_list[abs(corr_list[\"相关系数\"]) < 0.01]"
   ]
  },
  {
   "cell_type": "markdown",
   "metadata": {},
   "source": [
    "只有两个特征的相关系数低于0.01，我们可以考虑都统一保留这些特征。如果我们对特征的要求更严格，则可以使用阈值0.1，或0.5，毕竟皮尔逊相关系数是越接近1越相关，越接近0越不相关。"
   ]
  },
  {
   "cell_type": "markdown",
   "metadata": {},
   "source": [
    "#### 5.2 训练/测试集分割的调优"
   ]
  },
  {
   "cell_type": "markdown",
   "metadata": {},
   "source": [
    "正常在进行数据分割时，我们是按训练集7，测试集3的比例进行分割。但考虑到，我们将使用线性回归进行建模，线性回归是复杂度较低的模型，学习能力和抗过拟合能力有限，因此训练集过多或者过少都很容易导致过拟合，为此我们稍微可以尝试几组训练集测试集的分割比例，以确定最适合线性回归的训练集数量。"
   ]
  },
  {
   "cell_type": "code",
   "execution_count": 291,
   "metadata": {},
   "outputs": [
    {
     "data": {
      "text/plain": [
       "(2288007, 119)"
      ]
     },
     "execution_count": 291,
     "metadata": {},
     "output_type": "execute_result"
    }
   ],
   "source": [
    "X.shape"
   ]
  },
  {
   "cell_type": "code",
   "execution_count": 292,
   "metadata": {},
   "outputs": [],
   "source": [
    "#相当于使用学习曲线在对test_size这个参数进行调参"
   ]
  },
  {
   "cell_type": "code",
   "execution_count": 293,
   "metadata": {},
   "outputs": [
    {
     "name": "stdout",
     "output_type": "stream",
     "text": [
      "done\n",
      "done\n",
      "done\n",
      "done\n"
     ]
    }
   ],
   "source": [
    "trainr2 = [] #训练集上的R2\n",
    "testr2 = [] #测试集上的R2\n",
    "testRMSE = [] #测试集上的RMSE\n",
    "for i in [0.2,0.3,0.4,0.5]:\n",
    "    Xtrain, Xtest, Ytrain, Ytest = TTS(X,y,test_size=i,random_state=0)\n",
    "    model = LR().fit(Xtrain,Ytrain)\n",
    "    trainr2.append(model.score(Xtrain,Ytrain))\n",
    "    testr2.append(model.score(Xtest,Ytest))\n",
    "    testRMSE.append(np.sqrt(MSE(Ytest,model.predict(Xtest))))\n",
    "    print(\"done\")"
   ]
  },
  {
   "cell_type": "code",
   "execution_count": 294,
   "metadata": {},
   "outputs": [
    {
     "data": {
      "text/plain": [
       "<matplotlib.legend.Legend at 0x2334e6e79d0>"
      ]
     },
     "execution_count": 294,
     "metadata": {},
     "output_type": "execute_result"
    },
    {
     "data": {
      "image/png": "[encoded data removed]",
      "text/plain": [
       "<Figure size 432x288 with 1 Axes>"
      ]
     },
     "metadata": {
      "needs_background": "light"
     },
     "output_type": "display_data"
    }
   ],
   "source": [
    "plt.plot(trainr2,label=\"trainR2\")\n",
    "plt.plot(testr2,label=\"testR2\")\n",
    "plt.xticks(ticks=[0,1,2,3],labels=[0.2,0.3,0.4,0.5])\n",
    "plt.legend()"
   ]
  },
  {
   "cell_type": "code",
   "execution_count": 295,
   "metadata": {},
   "outputs": [
    {
     "data": {
      "image/png": "[encoded data removed]",
      "text/plain": [
       "<Figure size 432x288 with 1 Axes>"
      ]
     },
     "metadata": {
      "needs_background": "light"
     },
     "output_type": "display_data"
    }
   ],
   "source": [
    "plt.plot(testRMSE)\n",
    "plt.xticks(ticks=[0,1,2,3],labels=[0.2,0.3,0.4,0.5]);"
   ]
  },
  {
   "cell_type": "code",
   "execution_count": 296,
   "metadata": {},
   "outputs": [
    {
     "data": {
      "text/plain": [
       "[65.40795069680152, 61.251390903161195, 57.41019044981699, 72.69578370421824]"
      ]
     },
     "execution_count": 296,
     "metadata": {},
     "output_type": "execute_result"
    }
   ],
   "source": [
    "testRMSE"
   ]
  },
  {
   "cell_type": "markdown",
   "metadata": {},
   "source": [
    "从结果的角度来看，在测试集上RMSE最低的训练集数量是0.4，从R2的表现来看，测试集比例为0.4时，训练集上R2表现出过拟合的倾向，但并不严重。但考虑到现在模型的核心评估指标是RMSE，因此R2稍有问题，但RMSE明显有优势时，我们优先考虑RMSE上的表现。"
   ]
  },
  {
   "cell_type": "code",
   "execution_count": 297,
   "metadata": {},
   "outputs": [],
   "source": [
    "Xtrain, Xtest, Ytrain, Ytest = TTS(X,y,test_size=0.4,random_state=0)"
   ]
  },
  {
   "cell_type": "markdown",
   "metadata": {},
   "source": [
    "注意索引操作。通常我们我们在分割完训练集与测试集后，需要将索引规范为range(0,x)系列，但是这次我们不恢复索引，而让索引跟随Xtrain，Xtest分割后的样子（理由稍后呈现）："
   ]
  },
  {
   "cell_type": "code",
   "execution_count": 298,
   "metadata": {},
   "outputs": [],
   "source": [
    "Ytrain = pd.DataFrame(Ytrain)\n",
    "Ytest = pd.DataFrame(Ytest)\n",
    "\n",
    "Ytrain.index = Xtrain.index\n",
    "Ytest.index = Xtest.index"
   ]
  },
  {
   "cell_type": "code",
   "execution_count": 299,
   "metadata": {},
   "outputs": [
    {
     "data": {
      "text/html": [
       "<div>\n",
       "<style scoped>\n",
       "    .dataframe tbody tr th:only-of-type {\n",
       "        vertical-align: middle;\n",
       "    }\n",
       "\n",
       "    .dataframe tbody tr th {\n",
       "        vertical-align: top;\n",
       "    }\n",
       "\n",
       "    .dataframe thead th {\n",
       "        text-align: right;\n",
       "    }\n",
       "</style>\n",
       "<table border=\"1\" class=\"dataframe\">\n",
       "  <thead>\n",
       "    <tr style=\"text-align: right;\">\n",
       "      <th>字段解释</th>\n",
       "      <th>木头获取数量</th>\n",
       "      <th>木头消耗数量</th>\n",
       "      <th>石头获取数量</th>\n",
       "      <th>石头消耗数量</th>\n",
       "      <th>象牙获取数量</th>\n",
       "      <th>象牙消耗数量</th>\n",
       "      <th>肉获取数量</th>\n",
       "      <th>肉消耗数量</th>\n",
       "      <th>魔法获取数量</th>\n",
       "      <th>魔法消耗数量</th>\n",
       "      <th>...</th>\n",
       "      <th>玩家发育效率</th>\n",
       "      <th>氪金发育效率</th>\n",
       "      <th>玩家升级效率</th>\n",
       "      <th>氪金升级效率</th>\n",
       "      <th>潜力玩家</th>\n",
       "      <th>好战玩家</th>\n",
       "      <th>肝帝玩家</th>\n",
       "      <th>佛系玩家</th>\n",
       "      <th>菜鸡玩家</th>\n",
       "      <th>流失玩家</th>\n",
       "    </tr>\n",
       "  </thead>\n",
       "  <tbody>\n",
       "    <tr>\n",
       "      <th>1914412</th>\n",
       "      <td>0.000</td>\n",
       "      <td>0.000</td>\n",
       "      <td>0.000</td>\n",
       "      <td>0.000</td>\n",
       "      <td>0.000</td>\n",
       "      <td>0.000</td>\n",
       "      <td>0.000</td>\n",
       "      <td>0.000</td>\n",
       "      <td>0.000</td>\n",
       "      <td>0.000</td>\n",
       "      <td>...</td>\n",
       "      <td>0.000</td>\n",
       "      <td>0.000</td>\n",
       "      <td>0.000</td>\n",
       "      <td>0.000</td>\n",
       "      <td>0</td>\n",
       "      <td>0</td>\n",
       "      <td>1</td>\n",
       "      <td>0</td>\n",
       "      <td>1</td>\n",
       "      <td>0</td>\n",
       "    </tr>\n",
       "    <tr>\n",
       "      <th>188838</th>\n",
       "      <td>26375.000</td>\n",
       "      <td>4200.000</td>\n",
       "      <td>0.000</td>\n",
       "      <td>0.000</td>\n",
       "      <td>0.000</td>\n",
       "      <td>0.000</td>\n",
       "      <td>32000.000</td>\n",
       "      <td>2250.000</td>\n",
       "      <td>0.000</td>\n",
       "      <td>0.000</td>\n",
       "      <td>...</td>\n",
       "      <td>8996.154</td>\n",
       "      <td>0.000</td>\n",
       "      <td>1.536</td>\n",
       "      <td>0.000</td>\n",
       "      <td>0</td>\n",
       "      <td>0</td>\n",
       "      <td>1</td>\n",
       "      <td>0</td>\n",
       "      <td>1</td>\n",
       "      <td>0</td>\n",
       "    </tr>\n",
       "    <tr>\n",
       "      <th>1879427</th>\n",
       "      <td>2063.000</td>\n",
       "      <td>1350.000</td>\n",
       "      <td>0.000</td>\n",
       "      <td>0.000</td>\n",
       "      <td>0.000</td>\n",
       "      <td>0.000</td>\n",
       "      <td>1531.000</td>\n",
       "      <td>675.000</td>\n",
       "      <td>0.000</td>\n",
       "      <td>0.000</td>\n",
       "      <td>...</td>\n",
       "      <td>184.308</td>\n",
       "      <td>0.000</td>\n",
       "      <td>0.010</td>\n",
       "      <td>0.000</td>\n",
       "      <td>0</td>\n",
       "      <td>0</td>\n",
       "      <td>1</td>\n",
       "      <td>0</td>\n",
       "      <td>1</td>\n",
       "      <td>0</td>\n",
       "    </tr>\n",
       "    <tr>\n",
       "      <th>1616849</th>\n",
       "      <td>56314.000</td>\n",
       "      <td>17460.000</td>\n",
       "      <td>0.000</td>\n",
       "      <td>0.000</td>\n",
       "      <td>0.000</td>\n",
       "      <td>0.000</td>\n",
       "      <td>76717.000</td>\n",
       "      <td>10850.000</td>\n",
       "      <td>0.000</td>\n",
       "      <td>0.000</td>\n",
       "      <td>...</td>\n",
       "      <td>12294.005</td>\n",
       "      <td>0.000</td>\n",
       "      <td>1.026</td>\n",
       "      <td>0.000</td>\n",
       "      <td>0</td>\n",
       "      <td>0</td>\n",
       "      <td>1</td>\n",
       "      <td>0</td>\n",
       "      <td>1</td>\n",
       "      <td>0</td>\n",
       "    </tr>\n",
       "    <tr>\n",
       "      <th>2046255</th>\n",
       "      <td>220125.000</td>\n",
       "      <td>3700.000</td>\n",
       "      <td>200000.000</td>\n",
       "      <td>0.000</td>\n",
       "      <td>200000.000</td>\n",
       "      <td>0.000</td>\n",
       "      <td>616375.000</td>\n",
       "      <td>2000.000</td>\n",
       "      <td>60000.000</td>\n",
       "      <td>0.000</td>\n",
       "      <td>...</td>\n",
       "      <td>299367.992</td>\n",
       "      <td>0.000</td>\n",
       "      <td>2.261</td>\n",
       "      <td>0.000</td>\n",
       "      <td>0</td>\n",
       "      <td>0</td>\n",
       "      <td>1</td>\n",
       "      <td>0</td>\n",
       "      <td>1</td>\n",
       "      <td>0</td>\n",
       "    </tr>\n",
       "  </tbody>\n",
       "</table>\n",
       "<p>5 rows × 119 columns</p>\n",
       "</div>"
      ],
      "text/plain": [
       "字段解释        木头获取数量    木头消耗数量     石头获取数量  石头消耗数量     象牙获取数量  象牙消耗数量      肉获取数量  \\\n",
       "1914412      0.000     0.000      0.000   0.000      0.000   0.000      0.000   \n",
       "188838   26375.000  4200.000      0.000   0.000      0.000   0.000  32000.000   \n",
       "1879427   2063.000  1350.000      0.000   0.000      0.000   0.000   1531.000   \n",
       "1616849  56314.000 17460.000      0.000   0.000      0.000   0.000  76717.000   \n",
       "2046255 220125.000  3700.000 200000.000   0.000 200000.000   0.000 616375.000   \n",
       "\n",
       "字段解释        肉消耗数量    魔法获取数量  魔法消耗数量  ...     玩家发育效率  氪金发育效率  玩家升级效率  氪金升级效率  \\\n",
       "1914412     0.000     0.000   0.000  ...      0.000   0.000   0.000   0.000   \n",
       "188838   2250.000     0.000   0.000  ...   8996.154   0.000   1.536   0.000   \n",
       "1879427   675.000     0.000   0.000  ...    184.308   0.000   0.010   0.000   \n",
       "1616849 10850.000     0.000   0.000  ...  12294.005   0.000   1.026   0.000   \n",
       "2046255  2000.000 60000.000   0.000  ... 299367.992   0.000   2.261   0.000   \n",
       "\n",
       "字段解释     潜力玩家  好战玩家  肝帝玩家  佛系玩家  菜鸡玩家  流失玩家  \n",
       "1914412     0     0     1     0     1     0  \n",
       "188838      0     0     1     0     1     0  \n",
       "1879427     0     0     1     0     1     0  \n",
       "1616849     0     0     1     0     1     0  \n",
       "2046255     0     0     1     0     1     0  \n",
       "\n",
       "[5 rows x 119 columns]"
      ]
     },
     "execution_count": 299,
     "metadata": {},
     "output_type": "execute_result"
    }
   ],
   "source": [
    "Xtrain.head()"
   ]
  },
  {
   "cell_type": "markdown",
   "metadata": {},
   "source": [
    "#### 5.3 异常值处理"
   ]
  },
  {
   "cell_type": "markdown",
   "metadata": {},
   "source": [
    "在处理异常值时，我们发现所有的氪金玩家都被归类到了异常数据里，这与氪金玩家往往都是深入参与到游戏的玩家有很大的关系。由于玩家都被包括在异常数据中，我们不能对异常数据进行简单的删除，并且由于数据左偏严重，异常值数量众多（超出100w），删掉50%的数据也不可取。因此在这里，我们对异常值进行类似于盖帽的特殊处理。按照箱线图的规则进行异常检测，并对异常值中7日内无氪金的玩家进行中位数覆盖（如果效果不够好，可以试着使用0覆盖），对于7日内有氪金的玩家则不处理，尽量放大氪金玩家与非氪金玩家特征上的区别，为建模提供更好的保障。\n",
    "\n",
    "注意：异常值处理必须在训练集测试集被分割的情况下进行，因为测试集上的异常值处理是必须依赖对训练集进行异常值处理所产生的中间变量的"
   ]
  },
  {
   "cell_type": "code",
   "execution_count": 300,
   "metadata": {},
   "outputs": [],
   "source": [
    "import warnings #消除警告的代码\n",
    "warnings.filterwarnings('ignore')\n",
    "warnings.simplefilter('ignore')"
   ]
  },
  {
   "cell_type": "code",
   "execution_count": 301,
   "metadata": {},
   "outputs": [],
   "source": [
    "def AbnormalReplace(Xtrain,Xtest):\n",
    "    #先对所有特征进行异常检测\n",
    "    #对7日内付过费的用户，不处理\n",
    "    #对7日内没付过费的用户，替换所有异常值为当前特征的中位数或者0\n",
    "    \n",
    "    Xtrain_ = Xtrain.copy()\n",
    "    Xtest_ = Xtest.copy()\n",
    "    for column in Xtrain_.columns:\n",
    "        #提取当前要检测的列\n",
    "        f_train = Xtrain_.loc[:,column]\n",
    "        f_test = Xtest_.loc[:,column]\n",
    "\n",
    "        #从训练集中计算出QL、QU、IQR、中位数\n",
    "        QL = np.quantile(f_train,0.25)\n",
    "        QU = np.quantile(f_train,0.75)\n",
    "        IQR = QU - QL\n",
    "        medium_ = f_train.median()\n",
    "        \n",
    "        #对训练集和测试集同时进行检测，得到True/False列表\n",
    "        errortrain = ((f_train < (QL - 1.5*IQR)).astype(int) + (f_train > (QU + 1.5*IQR)).astype(int)) != 0\n",
    "        errortest = ((f_test < (QL - 1.5*IQR)).astype(int) + (f_test > (QU + 1.5*IQR)).astype(int)) != 0\n",
    "\n",
    "        #将原矩阵中的异常值替换为中位数，主题排除7日付费用户\n",
    "        #如果效果不够强烈，试试看替换为0\n",
    "        Xtrain_.loc[((Xtrain_[\"付费金额\"]==0).values & errortrain.values),column] = 0 #medium_\n",
    "        Xtest_.loc[((Xtest_[\"付费金额\"]==0).values & errortest.values),column] = 0 #medium_\n",
    "        \n",
    "    return Xtrain_, Xtest_"
   ]
  },
  {
   "cell_type": "code",
   "execution_count": 302,
   "metadata": {},
   "outputs": [
    {
     "data": {
      "text/plain": [
       "count      1372804.000\n",
       "mean        459707.645\n",
       "std        5253011.374\n",
       "min              0.000\n",
       "25%              0.000\n",
       "50%          41934.000\n",
       "75%         153061.750\n",
       "max     1239962311.000\n",
       "Name: 木头获取数量, dtype: float64"
      ]
     },
     "execution_count": 302,
     "metadata": {},
     "output_type": "execute_result"
    }
   ],
   "source": [
    "Xtrain[\"木头获取数量\"].describe()"
   ]
  },
  {
   "cell_type": "code",
   "execution_count": 303,
   "metadata": {},
   "outputs": [],
   "source": [
    "xtrain, xtest = AbnormalReplace(Xtrain,Xtest) #为了保留原始的Xtrain和Xtest，新生成的值我们写作小写"
   ]
  },
  {
   "cell_type": "code",
   "execution_count": 304,
   "metadata": {},
   "outputs": [
    {
     "data": {
      "text/plain": [
       "count      1372804.000\n",
       "mean        253442.438\n",
       "std        5186103.010\n",
       "min              0.000\n",
       "25%              0.000\n",
       "50%          10000.000\n",
       "75%          96271.250\n",
       "max     1239962311.000\n",
       "Name: 木头获取数量, dtype: float64"
      ]
     },
     "execution_count": 304,
     "metadata": {},
     "output_type": "execute_result"
    }
   ],
   "source": [
    "xtrain[\"木头获取数量\"].describe() #查看处理数据确认数据变化"
   ]
  },
  {
   "cell_type": "markdown",
   "metadata": {},
   "source": [
    "#### 5.4 归一化处理"
   ]
  },
  {
   "cell_type": "code",
   "execution_count": 305,
   "metadata": {},
   "outputs": [],
   "source": [
    "#加速运算，各个特征量纲统一 - 使用线性回归的时候就可以查看系数来决定特征的重要性"
   ]
  },
  {
   "cell_type": "code",
   "execution_count": 306,
   "metadata": {},
   "outputs": [],
   "source": [
    "from sklearn.preprocessing import MinMaxScaler #[0,1]最常使用的基本方式，x - x.min() / x.max() - x.min()"
   ]
  },
  {
   "cell_type": "code",
   "execution_count": 307,
   "metadata": {},
   "outputs": [],
   "source": [
    "mm = MinMaxScaler(feature_range = [0,1]) #实例化，[0,1]"
   ]
  },
  {
   "cell_type": "code",
   "execution_count": 308,
   "metadata": {},
   "outputs": [],
   "source": [
    "mm = mm.fit(xtrain) #训练 - 生成了训练集上的最小值和最大值"
   ]
  },
  {
   "cell_type": "code",
   "execution_count": 310,
   "metadata": {},
   "outputs": [],
   "source": [
    "xtrain = mm.transform(xtrain) #使用训练集上的最小值和最大值对训练集/测试集同时进行归一化\n",
    "xtest = mm.transform(xtest)"
   ]
  },
  {
   "cell_type": "code",
   "execution_count": 311,
   "metadata": {},
   "outputs": [
    {
     "data": {
      "text/plain": [
       "0.0"
      ]
     },
     "execution_count": 311,
     "metadata": {},
     "output_type": "execute_result"
    }
   ],
   "source": [
    "xtrain.min()"
   ]
  },
  {
   "cell_type": "code",
   "execution_count": 312,
   "metadata": {},
   "outputs": [
    {
     "data": {
      "text/plain": [
       "1.0"
      ]
     },
     "execution_count": 312,
     "metadata": {},
     "output_type": "execute_result"
    }
   ],
   "source": [
    "xtrain.max()"
   ]
  },
  {
   "cell_type": "code",
   "execution_count": 314,
   "metadata": {},
   "outputs": [
    {
     "data": {
      "text/plain": [
       "0.0"
      ]
     },
     "execution_count": 314,
     "metadata": {},
     "output_type": "execute_result"
    }
   ],
   "source": [
    "xtest.min()"
   ]
  },
  {
   "cell_type": "code",
   "execution_count": 315,
   "metadata": {},
   "outputs": [
    {
     "data": {
      "text/plain": [
       "1.3636363636363638"
      ]
     },
     "execution_count": 315,
     "metadata": {},
     "output_type": "execute_result"
    }
   ],
   "source": [
    "xtest.max()"
   ]
  },
  {
   "cell_type": "markdown",
   "metadata": {},
   "source": [
    "#### 5.5 正态化处理 "
   ]
  },
  {
   "cell_type": "markdown",
   "metadata": {},
   "source": [
    "理论上来说，正态化处理是有利于线性回归建模的，但是在多次尝试中，发现现在的数据在经过正态化处理会出现严重不稳定的情况，可能直接将RMSE拉高几十甚至上千，因此在本案例中不采取正态化处理。"
   ]
  },
  {
   "cell_type": "markdown",
   "metadata": {},
   "source": [
    "from sklearn.preprocessing import PowerTransformer\n",
    "\n",
    "pt = PowerTransformer(method='box-cox') #只能适用于正数\n",
    "\n",
    "pt = pt.fit(xtrain)\n",
    "\n",
    "xtrain = pt.transform(xtrain)\n",
    "xtest = pt.transform(xtest)"
   ]
  },
  {
   "cell_type": "markdown",
   "metadata": {},
   "source": [
    "### 6. 模型融合：处理极度偏态的数据带来的问题"
   ]
  },
  {
   "cell_type": "markdown",
   "metadata": {},
   "source": [
    "在进行异常值处理时，我们发现所有的氪金用户都被包括在了异常用户中，这说明有大量未氪金的用户表现在游戏资源积累、游戏参与深度上的行为与氪金用户极为相似。同时，氪金用户与不氪金用户的用户组成都相对复杂。\n",
    "\n",
    "在氪金用户中，有进入游戏1分钟就闭眼氪0.99的羊毛玩家，也有在游戏中7日都未氪、7日后不知为何突然磕了一点点的玩家。在不氪金用户中，有深度参与游戏但一分钱不氪肝帝，又有玩得很糟但一直不退游的玩家。因此在预测前其实就可以想象到，模型在用户辨别、金额预测上的效果恐怕不会太好。\n",
    "\n",
    "在之前的特征处理中，我们已经对异常值进行过“盖帽”处理，并在特征中增加我们认为可以让氪金和非氪金用户区别变大的特征，但直接让单一模型对氪金用户的氪金数额进行预测是非常困难的。因此，我们可以使用2个模型进行融合预测，第一个模型是分类模型逻辑回归，我们让逻辑回归先对用户进行“氪与不氪”的预测，然后将逻辑回归认为会氪的用户放入线性回归，再让线性回归直接对“本来就很可能会氪金”的用户进行氪金金额预测。我们认为这样的方式经过适当调整后，应该能够提升模型表现。"
   ]
  },
  {
   "cell_type": "markdown",
   "metadata": {},
   "source": [
    "- 创造逻辑回归使用的y"
   ]
  },
  {
   "cell_type": "code",
   "execution_count": 317,
   "metadata": {},
   "outputs": [],
   "source": [
    "#逻辑回归的标签：氪金(1)与不氪金(0)，1类远远少于0类"
   ]
  },
  {
   "cell_type": "code",
   "execution_count": 318,
   "metadata": {},
   "outputs": [],
   "source": [
    "y2 = (y != 0).astype(int) #所有氪金用户转化为1，不氪金用户转化为0"
   ]
  },
  {
   "cell_type": "code",
   "execution_count": 319,
   "metadata": {},
   "outputs": [
    {
     "data": {
      "text/plain": [
       "0    0\n",
       "1    0\n",
       "2    0\n",
       "3    0\n",
       "4    0\n",
       "Name: 45日付费金额, dtype: int32"
      ]
     },
     "execution_count": 319,
     "metadata": {},
     "output_type": "execute_result"
    }
   ],
   "source": [
    "y2.head()"
   ]
  },
  {
   "cell_type": "code",
   "execution_count": 320,
   "metadata": {},
   "outputs": [
    {
     "data": {
      "text/plain": [
       "0    2242019\n",
       "1      45988\n",
       "Name: 45日付费金额, dtype: int64"
      ]
     },
     "execution_count": 320,
     "metadata": {},
     "output_type": "execute_result"
    }
   ],
   "source": [
    "y2.value_counts() #45988 - 45天的时候有氪金金额的用户"
   ]
  },
  {
   "cell_type": "code",
   "execution_count": 321,
   "metadata": {},
   "outputs": [
    {
     "data": {
      "text/plain": [
       "0.9799004111438471"
      ]
     },
     "execution_count": 321,
     "metadata": {},
     "output_type": "execute_result"
    }
   ],
   "source": [
    "1 - 45988/y2.shape[0]"
   ]
  },
  {
   "cell_type": "code",
   "execution_count": 322,
   "metadata": {},
   "outputs": [],
   "source": [
    "#Xtrain,Xtest,线性回归用的Ytrain, Ytest，我有逻辑回归的y2 --> 变成可以和Xtrain、Xtest相匹配的y2train, y2test"
   ]
  },
  {
   "cell_type": "markdown",
   "metadata": {},
   "source": [
    "注意此时的y2的索引与分割之前的y一致，但我们将用来训练的xtrain的索引是经过分割之后的，因此我们需要按分割后的Xtrain和Xtest的索引来分割y2，这也是为什么之前我们没有将Xtrain，Xtest的索引修改为range(0,x)的原因。一旦修改，我们将失去分割后的组合与原始X,y之间的联系，也就无法构筑新标签y2的测试部分和训练部分了。"
   ]
  },
  {
   "cell_type": "code",
   "execution_count": 323,
   "metadata": {},
   "outputs": [
    {
     "data": {
      "text/html": [
       "<div>\n",
       "<style scoped>\n",
       "    .dataframe tbody tr th:only-of-type {\n",
       "        vertical-align: middle;\n",
       "    }\n",
       "\n",
       "    .dataframe tbody tr th {\n",
       "        vertical-align: top;\n",
       "    }\n",
       "\n",
       "    .dataframe thead th {\n",
       "        text-align: right;\n",
       "    }\n",
       "</style>\n",
       "<table border=\"1\" class=\"dataframe\">\n",
       "  <thead>\n",
       "    <tr style=\"text-align: right;\">\n",
       "      <th>字段解释</th>\n",
       "      <th>木头获取数量</th>\n",
       "      <th>木头消耗数量</th>\n",
       "      <th>石头获取数量</th>\n",
       "      <th>石头消耗数量</th>\n",
       "      <th>象牙获取数量</th>\n",
       "      <th>象牙消耗数量</th>\n",
       "      <th>肉获取数量</th>\n",
       "      <th>肉消耗数量</th>\n",
       "      <th>魔法获取数量</th>\n",
       "      <th>魔法消耗数量</th>\n",
       "      <th>...</th>\n",
       "      <th>玩家发育效率</th>\n",
       "      <th>氪金发育效率</th>\n",
       "      <th>玩家升级效率</th>\n",
       "      <th>氪金升级效率</th>\n",
       "      <th>潜力玩家</th>\n",
       "      <th>好战玩家</th>\n",
       "      <th>肝帝玩家</th>\n",
       "      <th>佛系玩家</th>\n",
       "      <th>菜鸡玩家</th>\n",
       "      <th>流失玩家</th>\n",
       "    </tr>\n",
       "  </thead>\n",
       "  <tbody>\n",
       "    <tr>\n",
       "      <th>1914412</th>\n",
       "      <td>0.000</td>\n",
       "      <td>0.000</td>\n",
       "      <td>0.000</td>\n",
       "      <td>0.000</td>\n",
       "      <td>0.000</td>\n",
       "      <td>0.000</td>\n",
       "      <td>0.000</td>\n",
       "      <td>0.000</td>\n",
       "      <td>0.000</td>\n",
       "      <td>0.000</td>\n",
       "      <td>...</td>\n",
       "      <td>0.000</td>\n",
       "      <td>0.000</td>\n",
       "      <td>0.000</td>\n",
       "      <td>0.000</td>\n",
       "      <td>0</td>\n",
       "      <td>0</td>\n",
       "      <td>1</td>\n",
       "      <td>0</td>\n",
       "      <td>1</td>\n",
       "      <td>0</td>\n",
       "    </tr>\n",
       "    <tr>\n",
       "      <th>188838</th>\n",
       "      <td>26375.000</td>\n",
       "      <td>4200.000</td>\n",
       "      <td>0.000</td>\n",
       "      <td>0.000</td>\n",
       "      <td>0.000</td>\n",
       "      <td>0.000</td>\n",
       "      <td>32000.000</td>\n",
       "      <td>2250.000</td>\n",
       "      <td>0.000</td>\n",
       "      <td>0.000</td>\n",
       "      <td>...</td>\n",
       "      <td>8996.154</td>\n",
       "      <td>0.000</td>\n",
       "      <td>1.536</td>\n",
       "      <td>0.000</td>\n",
       "      <td>0</td>\n",
       "      <td>0</td>\n",
       "      <td>1</td>\n",
       "      <td>0</td>\n",
       "      <td>1</td>\n",
       "      <td>0</td>\n",
       "    </tr>\n",
       "    <tr>\n",
       "      <th>1879427</th>\n",
       "      <td>2063.000</td>\n",
       "      <td>1350.000</td>\n",
       "      <td>0.000</td>\n",
       "      <td>0.000</td>\n",
       "      <td>0.000</td>\n",
       "      <td>0.000</td>\n",
       "      <td>1531.000</td>\n",
       "      <td>675.000</td>\n",
       "      <td>0.000</td>\n",
       "      <td>0.000</td>\n",
       "      <td>...</td>\n",
       "      <td>184.308</td>\n",
       "      <td>0.000</td>\n",
       "      <td>0.010</td>\n",
       "      <td>0.000</td>\n",
       "      <td>0</td>\n",
       "      <td>0</td>\n",
       "      <td>1</td>\n",
       "      <td>0</td>\n",
       "      <td>1</td>\n",
       "      <td>0</td>\n",
       "    </tr>\n",
       "    <tr>\n",
       "      <th>1616849</th>\n",
       "      <td>56314.000</td>\n",
       "      <td>17460.000</td>\n",
       "      <td>0.000</td>\n",
       "      <td>0.000</td>\n",
       "      <td>0.000</td>\n",
       "      <td>0.000</td>\n",
       "      <td>76717.000</td>\n",
       "      <td>10850.000</td>\n",
       "      <td>0.000</td>\n",
       "      <td>0.000</td>\n",
       "      <td>...</td>\n",
       "      <td>12294.005</td>\n",
       "      <td>0.000</td>\n",
       "      <td>1.026</td>\n",
       "      <td>0.000</td>\n",
       "      <td>0</td>\n",
       "      <td>0</td>\n",
       "      <td>1</td>\n",
       "      <td>0</td>\n",
       "      <td>1</td>\n",
       "      <td>0</td>\n",
       "    </tr>\n",
       "    <tr>\n",
       "      <th>2046255</th>\n",
       "      <td>220125.000</td>\n",
       "      <td>3700.000</td>\n",
       "      <td>200000.000</td>\n",
       "      <td>0.000</td>\n",
       "      <td>200000.000</td>\n",
       "      <td>0.000</td>\n",
       "      <td>616375.000</td>\n",
       "      <td>2000.000</td>\n",
       "      <td>60000.000</td>\n",
       "      <td>0.000</td>\n",
       "      <td>...</td>\n",
       "      <td>299367.992</td>\n",
       "      <td>0.000</td>\n",
       "      <td>2.261</td>\n",
       "      <td>0.000</td>\n",
       "      <td>0</td>\n",
       "      <td>0</td>\n",
       "      <td>1</td>\n",
       "      <td>0</td>\n",
       "      <td>1</td>\n",
       "      <td>0</td>\n",
       "    </tr>\n",
       "  </tbody>\n",
       "</table>\n",
       "<p>5 rows × 119 columns</p>\n",
       "</div>"
      ],
      "text/plain": [
       "字段解释        木头获取数量    木头消耗数量     石头获取数量  石头消耗数量     象牙获取数量  象牙消耗数量      肉获取数量  \\\n",
       "1914412      0.000     0.000      0.000   0.000      0.000   0.000      0.000   \n",
       "188838   26375.000  4200.000      0.000   0.000      0.000   0.000  32000.000   \n",
       "1879427   2063.000  1350.000      0.000   0.000      0.000   0.000   1531.000   \n",
       "1616849  56314.000 17460.000      0.000   0.000      0.000   0.000  76717.000   \n",
       "2046255 220125.000  3700.000 200000.000   0.000 200000.000   0.000 616375.000   \n",
       "\n",
       "字段解释        肉消耗数量    魔法获取数量  魔法消耗数量  ...     玩家发育效率  氪金发育效率  玩家升级效率  氪金升级效率  \\\n",
       "1914412     0.000     0.000   0.000  ...      0.000   0.000   0.000   0.000   \n",
       "188838   2250.000     0.000   0.000  ...   8996.154   0.000   1.536   0.000   \n",
       "1879427   675.000     0.000   0.000  ...    184.308   0.000   0.010   0.000   \n",
       "1616849 10850.000     0.000   0.000  ...  12294.005   0.000   1.026   0.000   \n",
       "2046255  2000.000 60000.000   0.000  ... 299367.992   0.000   2.261   0.000   \n",
       "\n",
       "字段解释     潜力玩家  好战玩家  肝帝玩家  佛系玩家  菜鸡玩家  流失玩家  \n",
       "1914412     0     0     1     0     1     0  \n",
       "188838      0     0     1     0     1     0  \n",
       "1879427     0     0     1     0     1     0  \n",
       "1616849     0     0     1     0     1     0  \n",
       "2046255     0     0     1     0     1     0  \n",
       "\n",
       "[5 rows x 119 columns]"
      ]
     },
     "execution_count": 323,
     "metadata": {},
     "output_type": "execute_result"
    }
   ],
   "source": [
    "Xtrain.head()"
   ]
  },
  {
   "cell_type": "code",
   "execution_count": 324,
   "metadata": {},
   "outputs": [],
   "source": [
    "Ytrain2 = y2[Xtrain.index] #以Xtrain,Xtest的分割方式来分割y2，这样y2就是与Ytrain相匹配的"
   ]
  },
  {
   "cell_type": "code",
   "execution_count": 325,
   "metadata": {},
   "outputs": [],
   "source": [
    "Ytest2 = y2[Xtest.index]"
   ]
  },
  {
   "cell_type": "code",
   "execution_count": 326,
   "metadata": {},
   "outputs": [
    {
     "data": {
      "text/plain": [
       "1914412    0\n",
       "188838     0\n",
       "1879427    0\n",
       "1616849    0\n",
       "2046255    0\n",
       "Name: 45日付费金额, dtype: int32"
      ]
     },
     "execution_count": 326,
     "metadata": {},
     "output_type": "execute_result"
    }
   ],
   "source": [
    "Ytrain2.head() #注意索引与原来相对"
   ]
  },
  {
   "cell_type": "markdown",
   "metadata": {},
   "source": [
    "- 使用逻辑回归进行建模并使用ROC进行评估"
   ]
  },
  {
   "cell_type": "code",
   "execution_count": 327,
   "metadata": {},
   "outputs": [],
   "source": [
    "from sklearn.linear_model import LogisticRegression as LogiR\n",
    "from sklearn.metrics import roc_auc_score as ROC #ROC\n",
    "from sklearn.metrics import recall_score as Recall #召回\n",
    "from sklearn.metrics import precision_score as Precision #精确度"
   ]
  },
  {
   "cell_type": "code",
   "execution_count": 328,
   "metadata": {},
   "outputs": [],
   "source": [
    "clf = LogiR(random_state=0) #逻辑回归的实例化"
   ]
  },
  {
   "cell_type": "code",
   "execution_count": 329,
   "metadata": {},
   "outputs": [
    {
     "data": {
      "text/plain": [
       "LogisticRegression(random_state=0)"
      ]
     },
     "execution_count": 329,
     "metadata": {},
     "output_type": "execute_result"
    }
   ],
   "source": [
    "clf.fit(xtrain,Ytrain2) #训练，使用经过一切特征工程的特征矩阵xtrain"
   ]
  },
  {
   "cell_type": "code",
   "execution_count": 330,
   "metadata": {},
   "outputs": [
    {
     "data": {
      "text/plain": [
       "0.9968087214198094"
      ]
     },
     "execution_count": 330,
     "metadata": {},
     "output_type": "execute_result"
    }
   ],
   "source": [
    "clf.score(xtrain,Ytrain2) #逻辑回归在训练集上的准确率"
   ]
  },
  {
   "cell_type": "code",
   "execution_count": 331,
   "metadata": {},
   "outputs": [
    {
     "data": {
      "text/plain": [
       "0.9968291187856683"
      ]
     },
     "execution_count": 331,
     "metadata": {},
     "output_type": "execute_result"
    }
   ],
   "source": [
    "clf.score(xtest,Ytest2) #逻辑回归在测试集上的准确率"
   ]
  },
  {
   "cell_type": "code",
   "execution_count": 332,
   "metadata": {},
   "outputs": [],
   "source": [
    "#测试集的拟合情况\n",
    "y2_proba = clf.predict_proba(xtest) #找出了逻辑回归在测试集上对每个样本预测的概率"
   ]
  },
  {
   "cell_type": "code",
   "execution_count": 333,
   "metadata": {},
   "outputs": [
    {
     "data": {
      "text/plain": [
       "array([[0.99492846, 0.00507154],\n",
       "       [0.99816595, 0.00183405],\n",
       "       [0.99823283, 0.00176717],\n",
       "       ...,\n",
       "       [0.99810544, 0.00189456],\n",
       "       [0.99754208, 0.00245792],\n",
       "       [0.99817304, 0.00182696]])"
      ]
     },
     "execution_count": 333,
     "metadata": {},
     "output_type": "execute_result"
    }
   ],
   "source": [
    "y2_proba"
   ]
  },
  {
   "cell_type": "code",
   "execution_count": 334,
   "metadata": {},
   "outputs": [
    {
     "data": {
      "text/plain": [
       "array([0.00507154, 0.00183405, 0.00176717, ..., 0.00189456, 0.00245792,\n",
       "       0.00182696])"
      ]
     },
     "execution_count": 334,
     "metadata": {},
     "output_type": "execute_result"
    }
   ],
   "source": [
    "y2_proba[:,1] #提取出为1的概率"
   ]
  },
  {
   "cell_type": "code",
   "execution_count": 335,
   "metadata": {},
   "outputs": [
    {
     "data": {
      "text/plain": [
       "0.971233910701792"
      ]
     },
     "execution_count": 335,
     "metadata": {},
     "output_type": "execute_result"
    }
   ],
   "source": [
    "ROC(Ytest2,y2_proba[:,1]) #越接近1越好（越接近0越好），最糟糕的情况是接近0.5"
   ]
  },
  {
   "cell_type": "markdown",
   "metadata": {},
   "source": [
    "- RECALL：全部真实的1中，被预测正确的1所占的比例"
   ]
  },
  {
   "cell_type": "code",
   "execution_count": 336,
   "metadata": {},
   "outputs": [
    {
     "data": {
      "text/plain": [
       "0.8420766216804527"
      ]
     },
     "execution_count": 336,
     "metadata": {},
     "output_type": "execute_result"
    }
   ],
   "source": [
    "Recall(Ytest2,clf.predict(xtest))"
   ]
  },
  {
   "cell_type": "code",
   "execution_count": 337,
   "metadata": {},
   "outputs": [
    {
     "data": {
      "text/plain": [
       "1.0"
      ]
     },
     "execution_count": 337,
     "metadata": {},
     "output_type": "execute_result"
    }
   ],
   "source": [
    "Precision(Ytest2,clf.predict(xtest))"
   ]
  },
  {
   "cell_type": "markdown",
   "metadata": {},
   "source": [
    "逻辑回归的结果出乎意料地好，能够在样本不均衡如此严重的情况下达到0.98的ROC，证明该数据与逻辑回归非常适配。"
   ]
  },
  {
   "cell_type": "markdown",
   "metadata": {},
   "source": [
    "- 调节阈值提升Recall"
   ]
  },
  {
   "cell_type": "markdown",
   "metadata": {},
   "source": [
    "recall和precision结合起来看说明，所有被预测为1的值都预测正确了，但是还有部分被预测为0的值，实际上真正的值是1。在该recall和precision下，测试集捕捉出的1类（付费用户）数为："
   ]
  },
  {
   "cell_type": "code",
   "execution_count": 338,
   "metadata": {},
   "outputs": [
    {
     "data": {
      "text/plain": [
       "15474"
      ]
     },
     "execution_count": 338,
     "metadata": {},
     "output_type": "execute_result"
    }
   ],
   "source": [
    "(y2_proba[:,1] > 0.5).sum()"
   ]
  },
  {
   "cell_type": "markdown",
   "metadata": {},
   "source": [
    "实际付费用户数为："
   ]
  },
  {
   "cell_type": "code",
   "execution_count": 340,
   "metadata": {},
   "outputs": [
    {
     "data": {
      "text/plain": [
       "45日付费金额    18376\n",
       "dtype: int64"
      ]
     },
     "execution_count": 340,
     "metadata": {},
     "output_type": "execute_result"
    }
   ],
   "source": [
    "(Ytest != 0).sum()"
   ]
  },
  {
   "cell_type": "markdown",
   "metadata": {},
   "source": [
    "也就是说，有许多氪金用户被逻辑回归分类到“不氪金”的范畴了，如果按照现在的结果建模，那RMSE的主要来源就是**没有被逻辑回归包括的氪金用户的氪金数额 + 被逻辑回归指向付费、受线性回归预测后的金额差异（状况A）**。\n",
    "\n",
    "如果我们希望逻辑回归能够捕捉到所有真实氪金的用户，为此即便误伤一些没有氪金的用户，那我们就要努力提升Recall，此时RMSE的主要来源就是**被逻辑回归误认为是氪金用户的非氪用户在线性回归中的预测值 + 全部真实氪金用户经过线性回归预测后的金额差异（状况B）**。注意该状况下需要线性回归预测的值会更多。\n",
    "\n",
    "为难的是，我们现在并不知道这两种状况中哪种会有整体更低的RMSE，但我们知道现状就是状况A，如果我们需要提升Recall的话就可以降低逻辑回归中用于分类的阈值。\n",
    "\n",
    "在逻辑回归中，当预测出概率后，一般我们认为阈值是0.5，当概率大于0.5时样本的标签为1，当概率小于0.5时样本的标签为0。如果想要提升Recall，可以降低模型的阈值。然而，sklearn中的逻辑回归并不提供该功能，因此我们需要自己计算调整阈值后的Recall。来看下面的代码："
   ]
  },
  {
   "cell_type": "code",
   "execution_count": 341,
   "metadata": {},
   "outputs": [],
   "source": [
    "#找出模型之前预测的1类概率\n",
    "prob = y2_proba[:,1]"
   ]
  },
  {
   "cell_type": "code",
   "execution_count": 342,
   "metadata": {},
   "outputs": [
    {
     "data": {
      "text/plain": [
       "array([0, 0, 0, ..., 0, 0, 0])"
      ]
     },
     "execution_count": 342,
     "metadata": {},
     "output_type": "execute_result"
    }
   ],
   "source": [
    "#尝试更换阈值\n",
    "(prob > 0.3).astype(int) #阈值为0.3下的预测标签"
   ]
  },
  {
   "cell_type": "code",
   "execution_count": 343,
   "metadata": {},
   "outputs": [
    {
     "name": "stdout",
     "output_type": "stream",
     "text": [
      "0.000 Recall:1.000\n",
      "0.026 Recall:0.890\n",
      "0.053 Recall:0.863\n",
      "0.079 Recall:0.854\n",
      "0.105 Recall:0.852\n",
      "0.132 Recall:0.852\n",
      "0.158 Recall:0.851\n",
      "0.184 Recall:0.850\n",
      "0.211 Recall:0.850\n",
      "0.237 Recall:0.849\n",
      "0.263 Recall:0.848\n",
      "0.289 Recall:0.848\n",
      "0.316 Recall:0.847\n",
      "0.342 Recall:0.847\n",
      "0.368 Recall:0.846\n",
      "0.395 Recall:0.846\n",
      "0.421 Recall:0.845\n",
      "0.447 Recall:0.844\n",
      "0.474 Recall:0.843\n",
      "0.500 Recall:0.842\n"
     ]
    }
   ],
   "source": [
    "#在0~0.5中循环20个阈值备选数，会发现阈值越低，recall越高\n",
    "for tol in np.linspace(0,0.5,20):\n",
    "    pred = (prob >= tol).astype(int)\n",
    "    recall = Recall(Ytest2,pred)\n",
    "    print(\"{:.3f} Recall:{:.3f}\".format(tol,recall))"
   ]
  },
  {
   "cell_type": "code",
   "execution_count": 344,
   "metadata": {},
   "outputs": [
    {
     "name": "stdout",
     "output_type": "stream",
     "text": [
      "0.000 Recall:1.000\n",
      "0.001 Recall:0.996\n",
      "0.003 Recall:0.958\n",
      "0.004 Recall:0.938\n",
      "0.005 Recall:0.927\n",
      "0.007 Recall:0.921\n",
      "0.008 Recall:0.915\n",
      "0.010 Recall:0.911\n",
      "0.011 Recall:0.907\n",
      "0.012 Recall:0.904\n",
      "0.014 Recall:0.902\n",
      "0.015 Recall:0.901\n",
      "0.016 Recall:0.899\n",
      "0.018 Recall:0.898\n",
      "0.019 Recall:0.896\n",
      "0.021 Recall:0.895\n",
      "0.022 Recall:0.894\n",
      "0.023 Recall:0.894\n",
      "0.025 Recall:0.892\n",
      "0.026 Recall:0.890\n"
     ]
    }
   ],
   "source": [
    "for tol in np.linspace(0,0.026,20): #在0~0.026之间再选择一个更小的阈值\n",
    "    pred = (prob >= tol).astype(int)\n",
    "    recall = Recall(Ytest2,pred)\n",
    "    print(\"{:.3f} Recall:{:.3f}\".format(tol,recall))"
   ]
  },
  {
   "cell_type": "code",
   "execution_count": 345,
   "metadata": {},
   "outputs": [],
   "source": [
    "#预设阈值\n",
    "#现状：0.5\n",
    "#可能的让recall升高并且降低RMSE的值：尝试0.026\n",
    "#可能让recall升高但或许会误伤太多0类导致RMSE升高的值：尝试0.014\n",
    "\n",
    "tol_ = 0.02 #多次实验之后，确认了阈值0.02可能是一个比较合适的值"
   ]
  },
  {
   "cell_type": "code",
   "execution_count": 346,
   "metadata": {},
   "outputs": [
    {
     "data": {
      "text/plain": [
       "31350"
      ]
     },
     "execution_count": 346,
     "metadata": {},
     "output_type": "execute_result"
    }
   ],
   "source": [
    "#在0.02阈值下，逻辑回归预测了测试集中的多少样本为1\n",
    "(y2_proba[:,1] >= tol_).sum()"
   ]
  },
  {
   "cell_type": "code",
   "execution_count": 347,
   "metadata": {},
   "outputs": [
    {
     "data": {
      "text/plain": [
       "46947"
      ]
     },
     "execution_count": 347,
     "metadata": {},
     "output_type": "execute_result"
    }
   ],
   "source": [
    "#训练集中的多少样本被预测为1\n",
    "(clf.predict_proba(xtrain)[:,1] >= tol_).sum()"
   ]
  },
  {
   "cell_type": "markdown",
   "metadata": {},
   "source": [
    "以上就是我们需要带入线性回归进行建模的数据量。"
   ]
  },
  {
   "cell_type": "markdown",
   "metadata": {},
   "source": [
    "- 保留逻辑回归按阈值为0.02时的预测结果"
   ]
  },
  {
   "cell_type": "code",
   "execution_count": 348,
   "metadata": {},
   "outputs": [],
   "source": [
    "#对于所有不氪金的样本而言，预测已经到此结束了 - 标签y为0\n",
    "#测试集，千万别忘记将Xtest的索引导入\n",
    "result = pd.DataFrame(y2_proba[:,1],index=Xtest.index)\n",
    "result.columns = [\"logi_proba\"]\n",
    "result[\"logi_y_pred\"] = (result[\"logi_proba\"] >= tol_).astype(int)"
   ]
  },
  {
   "cell_type": "code",
   "execution_count": 349,
   "metadata": {},
   "outputs": [
    {
     "data": {
      "text/html": [
       "<div>\n",
       "<style scoped>\n",
       "    .dataframe tbody tr th:only-of-type {\n",
       "        vertical-align: middle;\n",
       "    }\n",
       "\n",
       "    .dataframe tbody tr th {\n",
       "        vertical-align: top;\n",
       "    }\n",
       "\n",
       "    .dataframe thead th {\n",
       "        text-align: right;\n",
       "    }\n",
       "</style>\n",
       "<table border=\"1\" class=\"dataframe\">\n",
       "  <thead>\n",
       "    <tr style=\"text-align: right;\">\n",
       "      <th></th>\n",
       "      <th>logi_proba</th>\n",
       "      <th>logi_y_pred</th>\n",
       "    </tr>\n",
       "  </thead>\n",
       "  <tbody>\n",
       "    <tr>\n",
       "      <th>660869</th>\n",
       "      <td>0.005</td>\n",
       "      <td>0</td>\n",
       "    </tr>\n",
       "    <tr>\n",
       "      <th>1002543</th>\n",
       "      <td>0.002</td>\n",
       "      <td>0</td>\n",
       "    </tr>\n",
       "    <tr>\n",
       "      <th>2044898</th>\n",
       "      <td>0.002</td>\n",
       "      <td>0</td>\n",
       "    </tr>\n",
       "    <tr>\n",
       "      <th>961802</th>\n",
       "      <td>0.001</td>\n",
       "      <td>0</td>\n",
       "    </tr>\n",
       "    <tr>\n",
       "      <th>793236</th>\n",
       "      <td>0.005</td>\n",
       "      <td>0</td>\n",
       "    </tr>\n",
       "  </tbody>\n",
       "</table>\n",
       "</div>"
      ],
      "text/plain": [
       "         logi_proba  logi_y_pred\n",
       "660869        0.005            0\n",
       "1002543       0.002            0\n",
       "2044898       0.002            0\n",
       "961802        0.001            0\n",
       "793236        0.005            0"
      ]
     },
     "execution_count": 349,
     "metadata": {},
     "output_type": "execute_result"
    }
   ],
   "source": [
    "result.head()"
   ]
  },
  {
   "cell_type": "code",
   "execution_count": 350,
   "metadata": {},
   "outputs": [],
   "source": [
    "#训练集，同样索引需要导入\n",
    "logi_train_result = pd.DataFrame(clf.predict_proba(xtrain)[:,1],index=Xtrain.index)\n",
    "logi_train_result.columns = [\"logi_train_proba\"]\n",
    "logi_train_result[\"logi_y_pred_train\"] = (logi_train_result[\"logi_train_proba\"] >= tol_).astype(int)"
   ]
  },
  {
   "cell_type": "code",
   "execution_count": 351,
   "metadata": {},
   "outputs": [
    {
     "data": {
      "text/html": [
       "<div>\n",
       "<style scoped>\n",
       "    .dataframe tbody tr th:only-of-type {\n",
       "        vertical-align: middle;\n",
       "    }\n",
       "\n",
       "    .dataframe tbody tr th {\n",
       "        vertical-align: top;\n",
       "    }\n",
       "\n",
       "    .dataframe thead th {\n",
       "        text-align: right;\n",
       "    }\n",
       "</style>\n",
       "<table border=\"1\" class=\"dataframe\">\n",
       "  <thead>\n",
       "    <tr style=\"text-align: right;\">\n",
       "      <th></th>\n",
       "      <th>logi_train_proba</th>\n",
       "      <th>logi_y_pred_train</th>\n",
       "    </tr>\n",
       "  </thead>\n",
       "  <tbody>\n",
       "    <tr>\n",
       "      <th>1914412</th>\n",
       "      <td>0.002</td>\n",
       "      <td>0</td>\n",
       "    </tr>\n",
       "    <tr>\n",
       "      <th>188838</th>\n",
       "      <td>0.002</td>\n",
       "      <td>0</td>\n",
       "    </tr>\n",
       "    <tr>\n",
       "      <th>1879427</th>\n",
       "      <td>0.001</td>\n",
       "      <td>0</td>\n",
       "    </tr>\n",
       "    <tr>\n",
       "      <th>1616849</th>\n",
       "      <td>0.002</td>\n",
       "      <td>0</td>\n",
       "    </tr>\n",
       "    <tr>\n",
       "      <th>2046255</th>\n",
       "      <td>0.002</td>\n",
       "      <td>0</td>\n",
       "    </tr>\n",
       "  </tbody>\n",
       "</table>\n",
       "</div>"
      ],
      "text/plain": [
       "         logi_train_proba  logi_y_pred_train\n",
       "1914412             0.002                  0\n",
       "188838              0.002                  0\n",
       "1879427             0.001                  0\n",
       "1616849             0.002                  0\n",
       "2046255             0.002                  0"
      ]
     },
     "execution_count": 351,
     "metadata": {},
     "output_type": "execute_result"
    }
   ],
   "source": [
    "logi_train_result.head()"
   ]
  },
  {
   "cell_type": "markdown",
   "metadata": {},
   "source": [
    "- 选出应该放出线性回归中的训练集与测试集"
   ]
  },
  {
   "cell_type": "code",
   "execution_count": 352,
   "metadata": {},
   "outputs": [],
   "source": [
    "#训练集：逻辑回归的预测标签为1的部分\n",
    "xtrain_linear_reg = xtrain[logi_train_result[\"logi_y_pred_train\"] == 1]\n",
    "ytrain_linear_reg = Ytrain[logi_train_result[\"logi_y_pred_train\"] == 1]"
   ]
  },
  {
   "cell_type": "code",
   "execution_count": 353,
   "metadata": {},
   "outputs": [
    {
     "data": {
      "text/plain": [
       "(46947, 119)"
      ]
     },
     "execution_count": 353,
     "metadata": {},
     "output_type": "execute_result"
    }
   ],
   "source": [
    "xtrain_linear_reg.shape #确认与训练集中被预测为1的样本数一致"
   ]
  },
  {
   "cell_type": "code",
   "execution_count": 354,
   "metadata": {},
   "outputs": [],
   "source": [
    "#测试集\n",
    "xtest_linear_reg = xtest[result[\"logi_y_pred\"] == 1]\n",
    "ytest_linear_reg = Ytest[result[\"logi_y_pred\"] == 1]"
   ]
  },
  {
   "cell_type": "code",
   "execution_count": 355,
   "metadata": {},
   "outputs": [
    {
     "data": {
      "text/plain": [
       "(31350, 119)"
      ]
     },
     "execution_count": 355,
     "metadata": {},
     "output_type": "execute_result"
    }
   ],
   "source": [
    "xtest_linear_reg.shape"
   ]
  },
  {
   "cell_type": "markdown",
   "metadata": {},
   "source": [
    "- 开始回归预测"
   ]
  },
  {
   "cell_type": "code",
   "execution_count": 356,
   "metadata": {},
   "outputs": [],
   "source": [
    "def reg_predict(model):\n",
    "    reg = model.fit(xtrain_linear_reg, ytrain_linear_reg) #训练\n",
    "    y_linear_pred = reg.predict(xtest_linear_reg) #对测试集进行预测\n",
    "    print(\"训练集R2:{:.3f}\".format(reg.score(xtrain_linear_reg, ytrain_linear_reg)))\n",
    "    print(\"测试集R2:{:.3f}\".format(reg.score(xtest_linear_reg, ytest_linear_reg)))\n",
    "    print(\"测试集RMSE:{:.3f}\".format(np.sqrt(MSE(ytest_linear_reg,y_linear_pred))))\n",
    "    return y_linear_pred #融合模型预测出的结果中的 - 回归部分"
   ]
  },
  {
   "cell_type": "code",
   "execution_count": 357,
   "metadata": {},
   "outputs": [],
   "source": [
    "#线性回归\n",
    "reg0 = LR()"
   ]
  },
  {
   "cell_type": "code",
   "execution_count": 358,
   "metadata": {},
   "outputs": [
    {
     "name": "stdout",
     "output_type": "stream",
     "text": [
      "训练集R2:0.581\n",
      "测试集R2:0.537\n",
      "测试集RMSE:306.399\n"
     ]
    }
   ],
   "source": [
    "y_linear_pred0 = reg_predict(reg0) #没有什么参数可以调整的"
   ]
  },
  {
   "cell_type": "code",
   "execution_count": 359,
   "metadata": {},
   "outputs": [],
   "source": [
    "from sklearn.ensemble import RandomForestRegressor as RFR\n",
    "from sklearn.ensemble import GradientBoostingRegressor as GBR"
   ]
  },
  {
   "cell_type": "code",
   "execution_count": 360,
   "metadata": {},
   "outputs": [],
   "source": [
    "reg1 = RFR(n_estimators=100,max_depth=2,max_features=20,random_state=1412)\n",
    "reg2 = GBR(n_estimators=100,max_depth=2,max_features=20,random_state=1412)"
   ]
  },
  {
   "cell_type": "code",
   "execution_count": 361,
   "metadata": {},
   "outputs": [
    {
     "name": "stdout",
     "output_type": "stream",
     "text": [
      "训练集R2:0.517\n",
      "测试集R2:0.433\n",
      "测试集RMSE:338.961\n"
     ]
    }
   ],
   "source": [
    "y_linear_pred1 = reg_predict(reg1) #随机森林这个算法就是不太适合现在的数据"
   ]
  },
  {
   "cell_type": "code",
   "execution_count": 362,
   "metadata": {},
   "outputs": [
    {
     "name": "stdout",
     "output_type": "stream",
     "text": [
      "训练集R2:0.734\n",
      "测试集R2:0.529\n",
      "测试集RMSE:308.837\n"
     ]
    }
   ],
   "source": [
    "y_linear_pred2 = reg_predict(reg2)"
   ]
  },
  {
   "cell_type": "markdown",
   "metadata": {},
   "source": [
    "### 7. 模型调优"
   ]
  },
  {
   "cell_type": "code",
   "execution_count": 363,
   "metadata": {},
   "outputs": [],
   "source": [
    "#学习曲线、交叉验证、网格搜索 - 通通靠边"
   ]
  },
  {
   "cell_type": "markdown",
   "metadata": {},
   "source": [
    "- 经验调参"
   ]
  },
  {
   "cell_type": "code",
   "execution_count": 364,
   "metadata": {},
   "outputs": [],
   "source": [
    "reg2 = GBR(n_estimators = 490 #首先考虑的是增大模型的树的数量，来提升整体拟合能力\n",
    "           ,max_depth= 2 #但又很容易过拟合，因此控制住树的深度\n",
    "           ,learning_rate= 0.05 #当n_estimators和max_depth调不出好结果时，有限考虑降低学习率，学习率对树模型的效果影响很大\n",
    "           ,max_features = 50 #max_features的存在一开始主要是为了控制建模速度的，但是也可以控制过拟合，可以使用学习曲线找适合的阶段和位置\n",
    "           ,min_samples_split = 25 #如果模型仍然过拟合，可以试着增加min_samples_split，增大允许分叶子的样本数量，以此来减少树的拟合程度\n",
    "           ,random_state= 1412)"
   ]
  },
  {
   "cell_type": "code",
   "execution_count": 365,
   "metadata": {},
   "outputs": [],
   "source": [
    "y_linear_pred2 = reg_predict(reg2)"
   ]
  },
  {
   "cell_type": "markdown",
   "metadata": {},
   "source": [
    "- 将线性回归与逻辑回归的预测值合并"
   ]
  },
  {
   "cell_type": "code",
   "execution_count": null,
   "metadata": {},
   "outputs": [],
   "source": [
    "result[\"reg_result\"] = 0 #创建新列，全部为0"
   ]
  },
  {
   "cell_type": "code",
   "execution_count": null,
   "metadata": {},
   "outputs": [],
   "source": [
    "#将逻辑回归的预测标签为1的样本提出来，对所有这些样本的“reg_result”回归结果列填入回归的预测结果y_linear_pred\n",
    "result.loc[result[\"logi_y_pred\"] == 1,\"reg_result\"] = y_linear_pred2"
   ]
  },
  {
   "cell_type": "code",
   "execution_count": null,
   "metadata": {},
   "outputs": [],
   "source": [
    "result.head()"
   ]
  },
  {
   "cell_type": "code",
   "execution_count": null,
   "metadata": {},
   "outputs": [],
   "source": [
    "Ytest.head() #确认索引一致"
   ]
  },
  {
   "cell_type": "code",
   "execution_count": null,
   "metadata": {},
   "outputs": [],
   "source": [
    "np.sqrt(MSE(Ytest,result[\"reg_result\"]))"
   ]
  },
  {
   "cell_type": "code",
   "execution_count": null,
   "metadata": {},
   "outputs": [],
   "source": [
    "FeatureImportance = pd.concat([pd.DataFrame(Xtrain.columns),pd.DataFrame(reg2.feature_importances_)],axis=1)"
   ]
  },
  {
   "cell_type": "code",
   "execution_count": null,
   "metadata": {},
   "outputs": [],
   "source": [
    "FeatureImportance.sort_values(0,ascending=False) #特征重要性"
   ]
  },
  {
   "cell_type": "markdown",
   "metadata": {},
   "source": [
    "- **改进空间**\n",
    "> 1. 使用聚合方式创造特征\n",
    "> 2. 使用分箱处理连续型特征（对线性回归有异常好的效果）\n",
    "> 3. 更换更强大的算法（如神经网络/LGBM）"
   ]
  },
  {
   "cell_type": "code",
   "execution_count": null,
   "metadata": {},
   "outputs": [],
   "source": []
  }
 ],
 "metadata": {
  "kernelspec": {
   "display_name": "Python 3.9.7 ('base')",
   "language": "python",
   "name": "python3"
  },
  "language_info": {
   "codemirror_mode": {
    "name": "ipython",
    "version": 3
   },
   "file_extension": ".py",
   "mimetype": "text/x-python",
   "name": "python",
   "nbconvert_exporter": "python",
   "pygments_lexer": "ipython3",
   "version": "3.9.7"
  },
  "orig_nbformat": 4,
  "vscode": {
   "interpreter": {
    "hash": "88279d2366fe020547cde40dd65aa0e3aa662a6ec1f3ca12d88834876c85e1a6"
   }
  }
 },
 "nbformat": 4,
 "nbformat_minor": 2
}
